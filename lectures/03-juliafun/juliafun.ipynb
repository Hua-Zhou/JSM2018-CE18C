{
 "cells": [
  {
   "cell_type": "markdown",
   "metadata": {
    "toc": "true"
   },
   "source": [
    "# Table of Contents\n",
    " <p><div class=\"lev1 toc-item\"><a href=\"#Julia:-Functions,-Type-System,-Multiple-Dispatch,-JIT,-and-Profiling\" data-toc-modified-id=\"Julia:-Functions,-Type-System,-Multiple-Dispatch,-JIT,-and-Profiling-1\"><span class=\"toc-item-num\">1&nbsp;&nbsp;</span>Julia: Functions, Type System, Multiple Dispatch, JIT, and Profiling</a></div><div class=\"lev2 toc-item\"><a href=\"#Control-flow-and-loops\" data-toc-modified-id=\"Control-flow-and-loops-11\"><span class=\"toc-item-num\">1.1&nbsp;&nbsp;</span>Control flow and loops</a></div><div class=\"lev2 toc-item\"><a href=\"#Functions\" data-toc-modified-id=\"Functions-12\"><span class=\"toc-item-num\">1.2&nbsp;&nbsp;</span>Functions</a></div><div class=\"lev2 toc-item\"><a href=\"#Type-system\" data-toc-modified-id=\"Type-system-13\"><span class=\"toc-item-num\">1.3&nbsp;&nbsp;</span>Type system</a></div><div class=\"lev2 toc-item\"><a href=\"#Multiple-dispatch\" data-toc-modified-id=\"Multiple-dispatch-14\"><span class=\"toc-item-num\">1.4&nbsp;&nbsp;</span>Multiple dispatch</a></div><div class=\"lev2 toc-item\"><a href=\"#Just-in-time-compilation-(JIT)\" data-toc-modified-id=\"Just-in-time-compilation-(JIT)-15\"><span class=\"toc-item-num\">1.5&nbsp;&nbsp;</span>Just-in-time compilation (JIT)</a></div><div class=\"lev2 toc-item\"><a href=\"#Profiling-Julia-code\" data-toc-modified-id=\"Profiling-Julia-code-16\"><span class=\"toc-item-num\">1.6&nbsp;&nbsp;</span>Profiling Julia code</a></div><div class=\"lev2 toc-item\"><a href=\"#Memory-profiling\" data-toc-modified-id=\"Memory-profiling-17\"><span class=\"toc-item-num\">1.7&nbsp;&nbsp;</span>Memory profiling</a></div><div class=\"lev2 toc-item\"><a href=\"#Type-stability\" data-toc-modified-id=\"Type-stability-18\"><span class=\"toc-item-num\">1.8&nbsp;&nbsp;</span>Type stability</a></div>"
   ]
  },
  {
   "cell_type": "markdown",
   "metadata": {
    "slideshow": {
     "slide_type": "slide"
    }
   },
   "source": [
    "# Julia: Functions, Type System, Multiple Dispatch, JIT, and Profiling\n",
    "\n",
    "In this lecture, we try to understand why Julia is fast. \n",
    "\n",
    "Machine information"
   ]
  },
  {
   "cell_type": "code",
   "execution_count": null,
   "metadata": {},
   "outputs": [],
   "source": [
    "versioninfo()"
   ]
  },
  {
   "cell_type": "markdown",
   "metadata": {},
   "source": [
    "## Control flow and loops\n",
    "\n",
    "Building blocks of a function:"
   ]
  },
  {
   "cell_type": "markdown",
   "metadata": {},
   "source": [
    "* if-elseif-else-end\n",
    "```julia\n",
    "if condition1\n",
    "    # do something\n",
    "elseif condition2\n",
    "    # do something\n",
    "else\n",
    "    # do something\n",
    "end\n",
    "```\n",
    "\n",
    "* `for` loop\n",
    "```julia\n",
    "for i in 1:10\n",
    "    println(i)\n",
    "end\n",
    "```\n",
    "\n",
    "* Nested `for` loop:\n",
    "```julia\n",
    "for i in 1:10\n",
    "    for j in 1:5\n",
    "        println(i * j)\n",
    "    end\n",
    "end\n",
    "```\n",
    "Same as\n",
    "```julia\n",
    "for i in 1:10, j in 1:5\n",
    "    println(i * j)\n",
    "end\n",
    "```\n",
    "\n",
    "* Break loop:\n",
    "```julia\n",
    "for i in 1:10\n",
    "    # do something\n",
    "    if condition1\n",
    "        break # skip remaining loop\n",
    "    end\n",
    "end\n",
    "```\n",
    "\n",
    "* Exit iteration:  \n",
    "```julia\n",
    "for i in 1:10\n",
    "    # do something\n",
    "    if condition1\n",
    "        continue # skip to next iteration\n",
    "    end\n",
    "    # do something\n",
    "end\n",
    "```"
   ]
  },
  {
   "cell_type": "markdown",
   "metadata": {
    "slideshow": {
     "slide_type": "slide"
    }
   },
   "source": [
    "## Functions "
   ]
  },
  {
   "cell_type": "markdown",
   "metadata": {},
   "source": [
    "* Function definition\n",
    "```julia\n",
    "function func(req1, req2; key1=dflt1, key2=dflt2)\n",
    "    # do stuff\n",
    "    return out1, out2, out3\n",
    "end\n",
    "```\n",
    "**Required arguments** are separated with a comma and use the positional notation.  \n",
    "**Optional arguments** need a default value in the signature.  \n",
    "**Semicolon** is not required in function call.  \n",
    "**return** statement is optional.  \n",
    "Multiple outputs can be returned as a **tuple**, e.g., `return out1, out2, out3`.  \n",
    "\n",
    "* Function names ending with `!` indicates that function mutates at least one argument, typically the first.\n",
    "```julia\n",
    "sort!(x) # vs sort(x)\n",
    "```\n",
    "\n",
    "* In Julia, all arguments to functions are **passed by reference**, in contrast to R and Matlab.\n",
    "\n",
    "* Anonymous functions, e.g., `x -> x^2`, is commonly used in collection function or list comprehensions.\n",
    "```julia\n",
    "map(x -> x^2, y) # square each element in x\n",
    "```\n",
    "\n",
    "* Functions can be nested:\n",
    "```julia\n",
    "function outerfunction()\n",
    "    # do some outer stuff\n",
    "    function innerfunction()\n",
    "        # do inner stuff\n",
    "        # can access prior outer definitions\n",
    "    end\n",
    "    # do more outer stuff\n",
    "end\n",
    "```\n",
    "\n",
    "* Functions can be vectorized using the **dot syntax**:"
   ]
  },
  {
   "cell_type": "code",
   "execution_count": null,
   "metadata": {},
   "outputs": [],
   "source": [
    "function myfunc(x)\n",
    "    return sin(x^2)\n",
    "end\n",
    "\n",
    "x = randn(5, 3)\n",
    "myfunc.(x)"
   ]
  },
  {
   "cell_type": "markdown",
   "metadata": {},
   "source": [
    "Multiple dot operations are fused into a single loop:"
   ]
  },
  {
   "cell_type": "code",
   "execution_count": null,
   "metadata": {},
   "outputs": [],
   "source": [
    "myfunc.(x .+ 1)"
   ]
  },
  {
   "cell_type": "code",
   "execution_count": null,
   "metadata": {},
   "outputs": [],
   "source": [
    "using BenchmarkTools\n",
    "\n",
    "# allocate new array for z\n",
    "@benchmark z = myfunc.(x .+ 1) # sin((x + 1)^2)"
   ]
  },
  {
   "cell_type": "code",
   "execution_count": null,
   "metadata": {},
   "outputs": [],
   "source": [
    "# pre-allocate array of same type and size as x\n",
    "z = similar(x)\n",
    "# use same z\n",
    "@benchmark z .= myfunc.(x .+ 1) # sin(x^2) + 1"
   ]
  },
  {
   "cell_type": "markdown",
   "metadata": {},
   "source": [
    "* **Collection function** (think this as the `apply` series in R).\n",
    "\n",
    "    Apply a function to each element of a collection:\n",
    "```julia\n",
    "map(f, coll) # or\n",
    "map(coll) do elem\n",
    "    # do stuff with elem\n",
    "    # must contain return\n",
    "end\n",
    "```"
   ]
  },
  {
   "cell_type": "code",
   "execution_count": null,
   "metadata": {},
   "outputs": [],
   "source": [
    "map(x -> sin(x^2), x)"
   ]
  },
  {
   "cell_type": "code",
   "execution_count": null,
   "metadata": {},
   "outputs": [],
   "source": [
    "map(x) do elem\n",
    "    elem = elem^2\n",
    "    return sin(elem)\n",
    "end"
   ]
  },
  {
   "cell_type": "code",
   "execution_count": null,
   "metadata": {},
   "outputs": [],
   "source": [
    "# Mapreduce\n",
    "mapreduce(x -> sin(x^2), +, x)"
   ]
  },
  {
   "cell_type": "code",
   "execution_count": null,
   "metadata": {},
   "outputs": [],
   "source": [
    "# same as\n",
    "sum(x -> sin(x^2), x)"
   ]
  },
  {
   "cell_type": "markdown",
   "metadata": {},
   "source": [
    "* List **comprehension**"
   ]
  },
  {
   "cell_type": "code",
   "execution_count": null,
   "metadata": {},
   "outputs": [],
   "source": [
    "[sin(2i + j) for i in 1:5, j in 1:3] # similar to Python"
   ]
  },
  {
   "cell_type": "markdown",
   "metadata": {
    "slideshow": {
     "slide_type": "slide"
    }
   },
   "source": [
    "## Type system\n",
    "\n",
    "* When thinking about types, think about sets.\n",
    "\n",
    "* Everything is a subtype of the abstract type `Any`.\n",
    "\n",
    "* An abstract type defines a set of types\n",
    "    - Consider types in Julia that are a `Number`:\n",
    "\n",
    "<img src=\"tree.png\" width=\"600\" align=\"center\"/>\n",
    "\n",
    "* You can explore type hierarchy with `typeof()`, `supertype()`, and `subtypes()`."
   ]
  },
  {
   "cell_type": "code",
   "execution_count": null,
   "metadata": {},
   "outputs": [],
   "source": [
    "typeof(1.0), typeof(1)"
   ]
  },
  {
   "cell_type": "code",
   "execution_count": null,
   "metadata": {},
   "outputs": [],
   "source": [
    "supertype(Float64)"
   ]
  },
  {
   "cell_type": "code",
   "execution_count": null,
   "metadata": {
    "scrolled": true
   },
   "outputs": [],
   "source": [
    "subtypes(AbstractFloat)"
   ]
  },
  {
   "cell_type": "code",
   "execution_count": null,
   "metadata": {},
   "outputs": [],
   "source": [
    "# Is Float64 a subtype of AbstractFloat?\n",
    "Float64 <: AbstractFloat"
   ]
  },
  {
   "cell_type": "code",
   "execution_count": null,
   "metadata": {},
   "outputs": [],
   "source": [
    "# On 64bit machine, Int == Int64\n",
    "Int == Int64"
   ]
  },
  {
   "cell_type": "code",
   "execution_count": null,
   "metadata": {},
   "outputs": [],
   "source": [
    "convert(Float64, 1) # same as Float64(1)"
   ]
  },
  {
   "cell_type": "code",
   "execution_count": null,
   "metadata": {},
   "outputs": [],
   "source": [
    "x = randn(Float32, 5) # vector of 5 single precision numbers"
   ]
  },
  {
   "cell_type": "code",
   "execution_count": null,
   "metadata": {},
   "outputs": [],
   "source": [
    "convert(Vector{Float64}, x) # same as Float64.(x)"
   ]
  },
  {
   "cell_type": "code",
   "execution_count": null,
   "metadata": {},
   "outputs": [],
   "source": [
    "convert(Int, 1.0) # exact conversion"
   ]
  },
  {
   "cell_type": "code",
   "execution_count": null,
   "metadata": {},
   "outputs": [],
   "source": [
    "convert(Int, 1.5) # should use round(1.5)"
   ]
  },
  {
   "cell_type": "code",
   "execution_count": null,
   "metadata": {},
   "outputs": [],
   "source": [
    "round(Int, 1.5)"
   ]
  },
  {
   "cell_type": "markdown",
   "metadata": {},
   "source": [
    "## Multiple dispatch"
   ]
  },
  {
   "cell_type": "markdown",
   "metadata": {},
   "source": [
    "* Multiple dispatch lies in the core of Julia design. It allows built-in and user-defined functions to be overloaded for different combinations of argument types.\n",
    "\n",
    "* Let's consider a simple \"doubling\" function:"
   ]
  },
  {
   "cell_type": "code",
   "execution_count": null,
   "metadata": {},
   "outputs": [],
   "source": [
    "g(x) = x + x"
   ]
  },
  {
   "cell_type": "code",
   "execution_count": null,
   "metadata": {},
   "outputs": [],
   "source": [
    "g(1.5)"
   ]
  },
  {
   "cell_type": "markdown",
   "metadata": {},
   "source": [
    "This definition is too broad, since some things can't be added "
   ]
  },
  {
   "cell_type": "code",
   "execution_count": null,
   "metadata": {},
   "outputs": [],
   "source": [
    "g(\"hello world\")"
   ]
  },
  {
   "cell_type": "markdown",
   "metadata": {},
   "source": [
    "* This definition is correct but too restrictive, since any `Number` can be added."
   ]
  },
  {
   "cell_type": "code",
   "execution_count": null,
   "metadata": {},
   "outputs": [],
   "source": [
    "g(x::Float64) = x + x"
   ]
  },
  {
   "cell_type": "markdown",
   "metadata": {},
   "source": [
    "* This will automatically work on the entire type tree above!"
   ]
  },
  {
   "cell_type": "code",
   "execution_count": null,
   "metadata": {},
   "outputs": [],
   "source": [
    "g(x::Number) = x + x"
   ]
  },
  {
   "cell_type": "markdown",
   "metadata": {},
   "source": [
    "This is a lot nicer than \n",
    "```julia\n",
    "function g(x)\n",
    "    if isa(x, Number)\n",
    "        return x + x\n",
    "    else\n",
    "        throw(ArgumentError(\"x should be a number\"))\n",
    "    end\n",
    "end\n",
    "```"
   ]
  },
  {
   "cell_type": "markdown",
   "metadata": {},
   "source": [
    "* `methods(func)` function display all methods defined for `func`."
   ]
  },
  {
   "cell_type": "code",
   "execution_count": null,
   "metadata": {},
   "outputs": [],
   "source": [
    "methods(g)"
   ]
  },
  {
   "cell_type": "markdown",
   "metadata": {},
   "source": [
    "* `@which func(x)` marco tells which method is being used for argument signature `x`."
   ]
  },
  {
   "cell_type": "code",
   "execution_count": null,
   "metadata": {},
   "outputs": [],
   "source": [
    "x = 1\n",
    "typeof(x)"
   ]
  },
  {
   "cell_type": "code",
   "execution_count": null,
   "metadata": {},
   "outputs": [],
   "source": [
    "g(x)"
   ]
  },
  {
   "cell_type": "code",
   "execution_count": null,
   "metadata": {},
   "outputs": [],
   "source": [
    "@which g(x)"
   ]
  },
  {
   "cell_type": "code",
   "execution_count": null,
   "metadata": {},
   "outputs": [],
   "source": [
    "x = randn(5)\n",
    "@which g(x)"
   ]
  },
  {
   "cell_type": "code",
   "execution_count": null,
   "metadata": {},
   "outputs": [],
   "source": [
    "g(x)"
   ]
  },
  {
   "cell_type": "markdown",
   "metadata": {
    "slideshow": {
     "slide_type": "slide"
    }
   },
   "source": [
    "## Just-in-time compilation (JIT)\n",
    "\n",
    "Following figures and some examples are taken from Arch D. Robinson's slides [Introduction to Writing High Performance Julia](https://docs.google.com/viewer?a=v&pid=sites&srcid=ZGVmYXVsdGRvbWFpbnxibG9uem9uaWNzfGd4OjMwZjI2YTYzNDNmY2UzMmE).\n",
    "\n",
    "| <img src=\"./julia_toolchain.png\" alt=\"Julia toolchain\" style=\"width: 400px;\"/> | <img src=\"./julia_introspect.png\" alt=\"Julia toolchain\" style=\"width: 500px;\"/> |\n",
    "|----------------------------------|------------------------------------|\n",
    "|||"
   ]
  },
  {
   "cell_type": "markdown",
   "metadata": {},
   "source": [
    "* `Julia`'s efficiency results from its capabilities to infer the types of **all** variables within a function and then call LLVM to generate optimized machine code at run-time. "
   ]
  },
  {
   "cell_type": "code",
   "execution_count": null,
   "metadata": {},
   "outputs": [],
   "source": [
    "workspace() # clear previous definition of g\n",
    "g(x::Number) = x + x"
   ]
  },
  {
   "cell_type": "markdown",
   "metadata": {},
   "source": [
    "This function will work on **any** type which has a method for `+`."
   ]
  },
  {
   "cell_type": "code",
   "execution_count": null,
   "metadata": {},
   "outputs": [],
   "source": [
    "@show g(2)\n",
    "@show g(2.0);"
   ]
  },
  {
   "cell_type": "markdown",
   "metadata": {},
   "source": [
    "This is the [abstract syntax tree (AST)](https://en.wikipedia.org/wiki/Abstract_syntax_tree)."
   ]
  },
  {
   "cell_type": "code",
   "execution_count": null,
   "metadata": {},
   "outputs": [],
   "source": [
    "@code_lowered g(2)"
   ]
  },
  {
   "cell_type": "markdown",
   "metadata": {},
   "source": [
    "Type inference:"
   ]
  },
  {
   "cell_type": "code",
   "execution_count": null,
   "metadata": {},
   "outputs": [],
   "source": [
    "@code_warntype g(2)"
   ]
  },
  {
   "cell_type": "code",
   "execution_count": null,
   "metadata": {},
   "outputs": [],
   "source": [
    "@code_warntype g(2.0)"
   ]
  },
  {
   "cell_type": "markdown",
   "metadata": {},
   "source": [
    "Peek at the compiled **LLVM bitcode** with `@code_llvm`"
   ]
  },
  {
   "cell_type": "code",
   "execution_count": null,
   "metadata": {},
   "outputs": [],
   "source": [
    "@code_llvm g(2)"
   ]
  },
  {
   "cell_type": "code",
   "execution_count": null,
   "metadata": {},
   "outputs": [],
   "source": [
    "@code_llvm g(2.0)"
   ]
  },
  {
   "cell_type": "markdown",
   "metadata": {},
   "source": [
    "We didn't provide a type annotation. But different LLVM code is generated according to the argument type!\n",
    "\n",
    "* In R or Python, `g(2)` and `g(2.0)` would use the same code for both.\n",
    " \n",
    "* In Julia, `g(2)` and `g(2.0)` dispatches to optimized code for `Int64` and `Float64`, respectively.\n",
    "\n",
    "* For integer input `x`, LLVM compiler is smart enough to know `x + x` is shifting `x` by 1 bit, which is faster than addition.\n",
    " \n",
    "Lowest level is the **assembly code**, which is machine dependent."
   ]
  },
  {
   "cell_type": "code",
   "execution_count": null,
   "metadata": {},
   "outputs": [],
   "source": [
    "@code_native g(2)"
   ]
  },
  {
   "cell_type": "code",
   "execution_count": null,
   "metadata": {},
   "outputs": [],
   "source": [
    "@code_native g(2.0)"
   ]
  },
  {
   "cell_type": "markdown",
   "metadata": {
    "slideshow": {
     "slide_type": "slide"
    }
   },
   "source": [
    "## Profiling Julia code\n",
    "\n",
    "Julia has several built-in tools for profiling. Let's go through an example function `tally`, which sums all elements in a vector."
   ]
  },
  {
   "cell_type": "code",
   "execution_count": null,
   "metadata": {},
   "outputs": [],
   "source": [
    "function tally(x)\n",
    "    s = 0\n",
    "    for v in x\n",
    "        s += v\n",
    "    end\n",
    "    s\n",
    "end"
   ]
  },
  {
   "cell_type": "markdown",
   "metadata": {},
   "source": [
    "The `@time` marco outputs run time and heap allocation."
   ]
  },
  {
   "cell_type": "code",
   "execution_count": null,
   "metadata": {},
   "outputs": [],
   "source": [
    "srand(123)\n",
    "a = rand(10000)\n",
    "@time tally(a) # first run: include compile time"
   ]
  },
  {
   "cell_type": "code",
   "execution_count": null,
   "metadata": {},
   "outputs": [],
   "source": [
    "@time tally(a)"
   ]
  },
  {
   "cell_type": "markdown",
   "metadata": {},
   "source": [
    "For more robust benchmarking, the [BenchmarkTools.jl](https://github.com/JuliaCI/BenchmarkTools.jl) package is highly recommended."
   ]
  },
  {
   "cell_type": "code",
   "execution_count": null,
   "metadata": {},
   "outputs": [],
   "source": [
    "using BenchmarkTools\n",
    "\n",
    "@benchmark tally(a)"
   ]
  },
  {
   "cell_type": "markdown",
   "metadata": {},
   "source": [
    "We see the memory allocation (468.75 KiB, average 10.73% GC) is suspiciously high.\n",
    "\n",
    "The `Profile` module gives line by line profile results."
   ]
  },
  {
   "cell_type": "code",
   "execution_count": null,
   "metadata": {
    "scrolled": true
   },
   "outputs": [],
   "source": [
    "srand(123)\n",
    "a = rand(10_000_000) # larger problem\n",
    "Profile.clear()\n",
    "@profile tally(a)\n",
    "Profile.print(format=:flat)"
   ]
  },
  {
   "cell_type": "markdown",
   "metadata": {},
   "source": [
    "One can use [`ProfileView`](https://github.com/timholy/ProfileView.jl) package for better visualization of profile data:\n",
    "\n",
    "```julia\n",
    "using ProfileView\n",
    "\n",
    "ProfileView.view()\n",
    "```"
   ]
  },
  {
   "cell_type": "code",
   "execution_count": null,
   "metadata": {},
   "outputs": [],
   "source": [
    "@code_warntype tally(a)"
   ]
  },
  {
   "cell_type": "markdown",
   "metadata": {},
   "source": [
    "## Memory profiling\n",
    "\n",
    "Detailed memory profiling requires a detour. First let's write a script [`bar.jl`](./bar.jl), which contains the workload function `tally` and a wrapper for profiling."
   ]
  },
  {
   "cell_type": "code",
   "execution_count": null,
   "metadata": {},
   "outputs": [],
   "source": [
    ";cat bar.jl"
   ]
  },
  {
   "cell_type": "markdown",
   "metadata": {},
   "source": [
    "Next, in terminal, we run the script with `--track-allocation=user` option."
   ]
  },
  {
   "cell_type": "code",
   "execution_count": null,
   "metadata": {},
   "outputs": [],
   "source": [
    ";julia --track-allocation=user bar.jl"
   ]
  },
  {
   "cell_type": "markdown",
   "metadata": {},
   "source": [
    "The profiler outputs a file `bar.jl.mem`."
   ]
  },
  {
   "cell_type": "code",
   "execution_count": null,
   "metadata": {},
   "outputs": [],
   "source": [
    ";cat bar.jl.mem"
   ]
  },
  {
   "cell_type": "markdown",
   "metadata": {},
   "source": [
    "We see line 4 is allocating suspicious amount of heap memory. "
   ]
  },
  {
   "cell_type": "markdown",
   "metadata": {},
   "source": [
    "## Type stability\n",
    "\n",
    "The key to writing performant Julia code is to be [**type stable**](https://docs.julialang.org/en/stable/manual/performance-tips/#Write-\"type-stable\"-functions-1), such that `Julia` is able to infer types of all variables and output of a function from the types of input arguments. \n",
    "\n",
    "Is the `tally` function type stable? How to diagnose and fix it?"
   ]
  },
  {
   "cell_type": "code",
   "execution_count": null,
   "metadata": {},
   "outputs": [],
   "source": [
    "@code_warntype tally(rand(100))"
   ]
  },
  {
   "cell_type": "markdown",
   "metadata": {},
   "source": [
    "In this case, Julia fails to infer the type of the reduction variable `s`, which has to be **boxed** in heap memory at run time.\n",
    "\n",
    "<img src=\"https://www.codeproject.com/KB/dotnet/6importentStepsDotNet/14.jpg\" width=\"400\" align=\"center\"/>\n",
    "\n",
    "<img src=\"https://i-msdn.sec.s-msft.com/dynimg/IC97798.jpeg\" width=\"300\" align=\"center\"/>\n",
    "\n",
    "This is the generated LLVM bitcode, which is unsually long and contains lots of _box_:"
   ]
  },
  {
   "cell_type": "code",
   "execution_count": null,
   "metadata": {},
   "outputs": [],
   "source": [
    "@code_llvm tally(rand(100))"
   ]
  },
  {
   "cell_type": "markdown",
   "metadata": {},
   "source": [
    "What's the fix?"
   ]
  },
  {
   "cell_type": "code",
   "execution_count": null,
   "metadata": {},
   "outputs": [],
   "source": [
    "function tally2(x)\n",
    "    s = zero(eltype(x))\n",
    "    for v in x\n",
    "        s += v\n",
    "    end\n",
    "    s\n",
    "end"
   ]
  },
  {
   "cell_type": "code",
   "execution_count": null,
   "metadata": {},
   "outputs": [],
   "source": [
    "@benchmark tally2(a)"
   ]
  },
  {
   "cell_type": "markdown",
   "metadata": {},
   "source": [
    "Much shorter LLVM bitcode:"
   ]
  },
  {
   "cell_type": "code",
   "execution_count": null,
   "metadata": {},
   "outputs": [],
   "source": [
    "@code_llvm tally2(a)"
   ]
  },
  {
   "cell_type": "markdown",
   "metadata": {},
   "source": [
    "Let's add further performance boost by `@simd`"
   ]
  },
  {
   "cell_type": "code",
   "execution_count": null,
   "metadata": {},
   "outputs": [],
   "source": [
    "function tally3(x)\n",
    "    s = zero(eltype(x))\n",
    "    @simd for v in x\n",
    "        s += v\n",
    "    end\n",
    "    s\n",
    "end"
   ]
  },
  {
   "cell_type": "code",
   "execution_count": null,
   "metadata": {},
   "outputs": [],
   "source": [
    "@benchmark tally3(a)"
   ]
  }
 ],
 "metadata": {
  "kernelspec": {
   "display_name": "Julia 0.6.4",
   "language": "julia",
   "name": "julia-0.6"
  },
  "language_info": {
   "file_extension": ".jl",
   "mimetype": "application/julia",
   "name": "julia",
   "version": "0.6.4"
  },
  "livereveal": {
   "scroll": true,
   "start_slideshow_at": "selected"
  },
  "toc": {
   "colors": {
    "hover_highlight": "#DAA520",
    "running_highlight": "#FF0000",
    "selected_highlight": "#FFD700"
   },
   "moveMenuLeft": true,
   "nav_menu": {
    "height": "512px",
    "width": "252px"
   },
   "navigate_menu": true,
   "number_sections": true,
   "sideBar": true,
   "threshold": 4,
   "toc_cell": true,
   "toc_section_display": "block",
   "toc_window_display": true,
   "widenNotebook": false
  }
 },
 "nbformat": 4,
 "nbformat_minor": 2
}
