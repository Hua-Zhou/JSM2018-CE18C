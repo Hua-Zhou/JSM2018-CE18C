{
 "cells": [
  {
   "cell_type": "markdown",
   "metadata": {},
   "source": [
    "# Estimating Heritability and Testing SNP Association using Maximum Likelihoods of Variance Component Models"
   ]
  },
  {
   "cell_type": "markdown",
   "metadata": {},
   "source": [
    "Authors: Sarah Ji, Janet Sinsheimer and Hua Zhou"
   ]
  },
  {
   "cell_type": "markdown",
   "metadata": {},
   "source": [
    "We will use a variance component model (also called a linear mixed model) to estimate heritability of a trait and then test for association to specified markers. We are conducting here the equivalent of a replication or a candidate SNP approach.  Normally if we had no prior hypothesis regarding particular loci (candidate gene approach), we would be first be testing markers genomewide using a GWAS approach that can handle pedigree data appropriately (see later lesson).  In that case, we would probably be using a fast score test approach rather than by maximum likelihood. However, maximum likelihood provides more accurate inference and parameters estimates and can be used to refine interference after screening.  We will also use the variance component frame work with maximum likelihood tests when conducting Mendelian randomization with families so it's useful for us to understand how the Julia package, VarianceComponentModels.jl, works and how to load in large data sets into Julia using the package, SnpArrays.jl. \n",
    "\n"
   ]
  },
  {
   "cell_type": "markdown",
   "metadata": {},
   "source": [
    "## Data files\n",
    "\n",
    "In the GAW19 dataset there are 849 individuals in 20 families and 8,348,674 loci located on the odd chromosomes. All of these individuals were genotyped and a fraction of them also have sequence data. The majority of the sequenced loci are imputed for the remaining individuals. The largest family contains 107 individuals, the smallest, 27.\n",
    "\n",
    "For illustration purposes, we changed the names of the loci to fit Julia's style guide Julia Style Guide.\n",
    "\n",
    "Genetic Analysis Workshop 19: methods and strategies for analyzing human sequence and gene expression data in extended families and unrelated individuals, Corinne D. EngelmanEmail author, Celia M. T. Greenwood, Julia N. Bailey, Rita M. Cantor, Jack W. KentJr, Inke R. König, Justo Lorenzo Bermejo, Phillip E. Melton, Stephanie A. Santorico, Arne Schillert, Ellen M. Wijsman, Jean W. MacCluer and Laura Almasy, BMC Proceedings201610(Suppl 7):19 https://doi.org/10.1186/s12919-016-0007-z\n",
    "\n",
    "Genome-wide QTL and eQTL analyses using Mendel, Hua Zhou, Jin Zhou, Tao Hu, Eric M. Sobel, Kenneth Lange https://www.ncbi.nlm.nih.gov/pmc/articles/PMC5133530/\n",
    "\n",
    "Typing \";\" brings lets us use unix commands. Before starting the analysis we first use the unix command \"ls\" to check that the files are in our working directory.   \n"
   ]
  },
  {
   "cell_type": "code",
   "execution_count": 1,
   "metadata": {
    "collapsed": true
   },
   "outputs": [],
   "source": [
    "# if on the server, we create symbolic links to the actual data in current folder\n",
    "if !(isfile(\"PEDdataLMM.txt\") && isfile(\"SNPnamesLMM.txt\") && isfile(\"SNPdataLMM.bed\"))\n",
    "    run(`ln -s /home/jsmdata/gaw18-chr1-chr13/SNPdataLMM.bed ./SNPdataLMM.bed`)\n",
    "    run(`ln -s /home/jsmdata/gaw18-chr1-chr13/PEDdataLMM.txt ./PEDdataLMM.txt`)\n",
    "    run(`ln -s /home/jsmdata/gaw18-chr1-chr13/SNPnamesLMM.txt ./SNPnamesLMM.txt`)\n",
    "end"
   ]
  },
  {
   "cell_type": "code",
   "execution_count": 3,
   "metadata": {},
   "outputs": [
    {
     "name": "stdout",
     "output_type": "stream",
     "text": [
      "-rw-r--r--@ 1 huazhou  staff      34398 Jul 23 09:37 PEDdataLMM.txt\n",
      "-rw-r--r--@ 1 huazhou  staff  407279007 Jul 23 06:33 SNPdataLMM.bed\n",
      "-rw-r--r--@ 1 huazhou  staff   24316376 Jul 23 09:48 SNPnamesLMM.txt\n"
     ]
    }
   ],
   "source": [
    ";ls -l PEDdataLMM.txt SNPnamesLMM.txt SNPdataLMM.bed"
   ]
  },
  {
   "cell_type": "markdown",
   "metadata": {},
   "source": [
    "## Read in the data\n",
    "\n",
    "Take a look at the first 10 lines of the pedigree file, pedLMM07052918.fam. The columns are comma separated. This file is in the classic Mendel format, Family Id, Person ID, Father ID, Mother Id, sex as F (female) or M (male), monozygotic twin indicator, simtrait1 and simtrait2.  The traits were simulated using the Julia program TraitSimulation.jl using genotyped and imputed variants to have a main effect from two snps, one on chromosome 1 and the other on chromosome 13 as well as an interaction between these two SNPs.  If you look at the file carefully you will note that we don't know how individuals within a pedigree are related.  That is o.k. when using variant component models because we can use the GRM as a proxy for the Kinship matrix. "
   ]
  },
  {
   "cell_type": "code",
   "execution_count": 4,
   "metadata": {},
   "outputs": [
    {
     "name": "stdout",
     "output_type": "stream",
     "text": [
      "2,200001,,,M,,0.870472967,1.245755458\r\n",
      "2,200002,,,F,,-1.686156772,0.435395909\r\n",
      "2,200003,,,F,,0.666343843,-0.150266906\r\n",
      "2,200004,,,F,,0.083925361,-0.724815477\r\n",
      "2,200005,,,M,,0.786505745,0.830477935\r\n",
      "2,200006,,,M,,1.563371074,0.172045237\r\n",
      "2,200007,,,F,,1.088919384,-0.395792086\r\n",
      "2,200008,,,F,,-1.151107782,2.11290715\r\n",
      "2,200009,,,F,,-0.36535092,0.759092316\r\n",
      "2,200012,,,M,,-0.630388002,1.81987199\r\n"
     ]
    }
   ],
   "source": [
    ";head PEDdataLMM.txt"
   ]
  },
  {
   "cell_type": "markdown",
   "metadata": {},
   "source": [
    "Read in the pedigree file into an array."
   ]
  },
  {
   "cell_type": "code",
   "execution_count": 5,
   "metadata": {},
   "outputs": [
    {
     "data": {
      "text/plain": [
       "849×8 Array{Any,2}:\n",
       "  2   200001  \"\"  \"\"  \"M\"  \"\"   0.870473    1.24576 \n",
       "  2   200002  \"\"  \"\"  \"F\"  \"\"  -1.68616     0.435396\n",
       "  2   200003  \"\"  \"\"  \"F\"  \"\"   0.666344   -0.150267\n",
       "  2   200004  \"\"  \"\"  \"F\"  \"\"   0.0839254  -0.724815\n",
       "  2   200005  \"\"  \"\"  \"M\"  \"\"   0.786506    0.830478\n",
       "  2   200006  \"\"  \"\"  \"M\"  \"\"   1.56337     0.172045\n",
       "  2   200007  \"\"  \"\"  \"F\"  \"\"   1.08892    -0.395792\n",
       "  2   200008  \"\"  \"\"  \"F\"  \"\"  -1.15111     2.11291 \n",
       "  2   200009  \"\"  \"\"  \"F\"  \"\"  -0.365351    0.759092\n",
       "  2   200012  \"\"  \"\"  \"M\"  \"\"  -0.630388    1.81987 \n",
       "  2   200013  \"\"  \"\"  \"M\"  \"\"  -0.277382    1.46866 \n",
       "  2   200018  \"\"  \"\"  \"M\"  \"\"   1.34288     0.417684\n",
       "  2   200023  \"\"  \"\"  \"F\"  \"\"   1.88722    -0.819818\n",
       "  ⋮                        ⋮                        \n",
       " 47  4701128  \"\"  \"\"  \"F\"  \"\"   1.76189     2.17118 \n",
       " 47  4701129  \"\"  \"\"  \"M\"  \"\"   1.35565     0.151142\n",
       " 47  4701130  \"\"  \"\"  \"M\"  \"\"  -0.0690388   2.2869  \n",
       " 47  4701131  \"\"  \"\"  \"F\"  \"\"   0.419444    2.81945 \n",
       " 47  4701132  \"\"  \"\"  \"F\"  \"\"   1.47836    -0.276582\n",
       " 47  4701133  \"\"  \"\"  \"F\"  \"\"  -0.274552   -0.453944\n",
       " 47  4701134  \"\"  \"\"  \"F\"  \"\"   0.177762   -0.350015\n",
       " 47  4701135  \"\"  \"\"  \"F\"  \"\"  -0.464458    5.33595 \n",
       " 47  4701136  \"\"  \"\"  \"M\"  \"\"   0.0336769   0.11002 \n",
       " 47  4701137  \"\"  \"\"  \"M\"  \"\"   1.26861    -0.2     \n",
       " 47  4701138  \"\"  \"\"  \"M\"  \"\"  -0.319195    1.37059 \n",
       " 47  4701139  \"\"  \"\"  \"F\"  \"\"   0.114271    6.70812 "
      ]
     },
     "execution_count": 5,
     "metadata": {},
     "output_type": "execute_result"
    }
   ],
   "source": [
    "# columns are: :famid, :id, :moid, :faid, :sex, :twin, :simtrait1,:simtrait2\n",
    "pedLMM = readcsv(\"PEDdataLMM.txt\", Any; header = false)"
   ]
  },
  {
   "cell_type": "markdown",
   "metadata": {},
   "source": [
    "We don't need to retain the ids so we retrieve the two phenotype data and put them in an array Y."
   ]
  },
  {
   "cell_type": "code",
   "execution_count": 6,
   "metadata": {},
   "outputs": [
    {
     "data": {
      "text/plain": [
       "849×2 Array{Float64,2}:\n",
       "  0.870473    1.24576 \n",
       " -1.68616     0.435396\n",
       "  0.666344   -0.150267\n",
       "  0.0839254  -0.724815\n",
       "  0.786506    0.830478\n",
       "  1.56337     0.172045\n",
       "  1.08892    -0.395792\n",
       " -1.15111     2.11291 \n",
       " -0.365351    0.759092\n",
       " -0.630388    1.81987 \n",
       " -0.277382    1.46866 \n",
       "  1.34288     0.417684\n",
       "  1.88722    -0.819818\n",
       "  ⋮                   \n",
       "  1.76189     2.17118 \n",
       "  1.35565     0.151142\n",
       " -0.0690388   2.2869  \n",
       "  0.419444    2.81945 \n",
       "  1.47836    -0.276582\n",
       " -0.274552   -0.453944\n",
       "  0.177762   -0.350015\n",
       " -0.464458    5.33595 \n",
       "  0.0336769   0.11002 \n",
       "  1.26861    -0.2     \n",
       " -0.319195    1.37059 \n",
       "  0.114271    6.70812 "
      ]
     },
     "execution_count": 6,
     "metadata": {},
     "output_type": "execute_result"
    }
   ],
   "source": [
    "simtrait1 = convert(Vector{Float64}, pedLMM[:, 7])\n",
    "simtrait2 = convert(Vector{Float64}, pedLMM[:, 8])\n",
    "Y = [simtrait1 simtrait2]"
   ]
  },
  {
   "cell_type": "markdown",
   "metadata": {},
   "source": [
    "We retrieve sex data coded as 0 (male) or 1 (female), which means male is the reference group.  You can change the \n",
    "code to sex = map(x -> strip(x) == \"M\"? 1.0 : 0.0,  pedLMM[:, 5]) if you want female to be the reference group. "
   ]
  },
  {
   "cell_type": "code",
   "execution_count": 7,
   "metadata": {},
   "outputs": [
    {
     "data": {
      "text/plain": [
       "849-element Array{Float64,1}:\n",
       " 0.0\n",
       " 1.0\n",
       " 1.0\n",
       " 1.0\n",
       " 0.0\n",
       " 0.0\n",
       " 1.0\n",
       " 1.0\n",
       " 1.0\n",
       " 0.0\n",
       " 0.0\n",
       " 0.0\n",
       " 1.0\n",
       " ⋮  \n",
       " 1.0\n",
       " 0.0\n",
       " 0.0\n",
       " 1.0\n",
       " 1.0\n",
       " 1.0\n",
       " 1.0\n",
       " 1.0\n",
       " 0.0\n",
       " 0.0\n",
       " 0.0\n",
       " 1.0"
      ]
     },
     "execution_count": 7,
     "metadata": {},
     "output_type": "execute_result"
    }
   ],
   "source": [
    "sex = map(x -> strip(x) == \"F\"? 1.0 : 0.0,  pedLMM[:, 5])"
   ]
  },
  {
   "cell_type": "markdown",
   "metadata": {},
   "source": [
    "Take a look at the first 10 lines of the SNP definition file before we read in into an array using a unix command."
   ]
  },
  {
   "cell_type": "code",
   "execution_count": 8,
   "metadata": {},
   "outputs": [
    {
     "name": "stdout",
     "output_type": "stream",
     "text": [
      "c1_54490\n",
      "c1_55550\n",
      "c1_57033\n",
      "c1_57064\n",
      "c1_57818\n",
      "c1_58432\n",
      "c1_58448\n",
      "c1_58814\n",
      "c1_59492\n",
      "c1_60829\n"
     ]
    }
   ],
   "source": [
    ";head SNPnamesLMM.txt"
   ]
  },
  {
   "cell_type": "markdown",
   "metadata": {},
   "source": [
    "Read in the SNP definition file into a Julia array, skipping the first 2 lines."
   ]
  },
  {
   "cell_type": "code",
   "execution_count": 9,
   "metadata": {},
   "outputs": [
    {
     "data": {
      "text/plain": [
       "1912108×1 Array{Any,2}:\n",
       " \"c1_54490\"     \n",
       " \"c1_55550\"     \n",
       " \"c1_57033\"     \n",
       " \"c1_57064\"     \n",
       " \"c1_57818\"     \n",
       " \"c1_58432\"     \n",
       " \"c1_58448\"     \n",
       " \"c1_58814\"     \n",
       " \"c1_59492\"     \n",
       " \"c1_60829\"     \n",
       " \"c1_61462\"     \n",
       " \"c1_61920\"     \n",
       " \"c1_62162\"     \n",
       " ⋮              \n",
       " \"c13_115108268\"\n",
       " \"c13_115108306\"\n",
       " \"c13_115108610\"\n",
       " \"c13_115108793\"\n",
       " \"c13_115108796\"\n",
       " \"c13_115108812\"\n",
       " \"c13_115108856\"\n",
       " \"c13_115108859\"\n",
       " \"c13_115108993\"\n",
       " \"c13_115109775\"\n",
       " \"c13_115109781\"\n",
       " \"c13_115109787\""
      ]
     },
     "execution_count": 9,
     "metadata": {},
     "output_type": "execute_result"
    }
   ],
   "source": [
    "# columns are: :snpid, :chrom, :pos, :allele1, :allele2, :groupname\n",
    "snpLMM = readcsv(\"SNPnamesLMM.txt\", Any; header = false)"
   ]
  },
  {
   "cell_type": "markdown",
   "metadata": {},
   "source": [
    "We don't need the relative position of the snps in this case so we just retrieve SNP IDs."
   ]
  },
  {
   "cell_type": "code",
   "execution_count": 10,
   "metadata": {},
   "outputs": [
    {
     "data": {
      "text/plain": [
       "1912108-element Array{SubString{String},1}:\n",
       " \"c1_54490\"     \n",
       " \"c1_55550\"     \n",
       " \"c1_57033\"     \n",
       " \"c1_57064\"     \n",
       " \"c1_57818\"     \n",
       " \"c1_58432\"     \n",
       " \"c1_58448\"     \n",
       " \"c1_58814\"     \n",
       " \"c1_59492\"     \n",
       " \"c1_60829\"     \n",
       " \"c1_61462\"     \n",
       " \"c1_61920\"     \n",
       " \"c1_62162\"     \n",
       " ⋮              \n",
       " \"c13_115108268\"\n",
       " \"c13_115108306\"\n",
       " \"c13_115108610\"\n",
       " \"c13_115108793\"\n",
       " \"c13_115108796\"\n",
       " \"c13_115108812\"\n",
       " \"c13_115108856\"\n",
       " \"c13_115108859\"\n",
       " \"c13_115108993\"\n",
       " \"c13_115109775\"\n",
       " \"c13_115109781\"\n",
       " \"c13_115109787\""
      ]
     },
     "execution_count": 10,
     "metadata": {},
     "output_type": "execute_result"
    }
   ],
   "source": [
    "snpid = map(x -> strip(string(x)), snpLMM[:, 1])"
   ]
  },
  {
   "cell_type": "markdown",
   "metadata": {},
   "source": [
    "Read in the SNP binary file using the SnpArray.jl package."
   ]
  },
  {
   "cell_type": "code",
   "execution_count": 11,
   "metadata": {},
   "outputs": [
    {
     "data": {
      "text/plain": [
       "849×1912108 SnpArrays.SnpArray{2}:\n",
       " (true, true)   (false, true)   …  (true, true)   (true, true) \n",
       " (true, true)   (false, true)      (true, true)   (true, true) \n",
       " (true, true)   (false, true)      (true, true)   (true, true) \n",
       " (true, true)   (true, true)       (true, true)   (true, true) \n",
       " (true, true)   (true, true)       (true, true)   (true, true) \n",
       " (true, true)   (true, false)   …  (true, true)   (true, true) \n",
       " (true, true)   (true, true)       (true, true)   (true, true) \n",
       " (true, true)   (true, true)       (true, true)   (true, true) \n",
       " (true, true)   (false, true)      (true, true)   (true, true) \n",
       " (true, true)   (true, true)       (true, true)   (true, true) \n",
       " (true, true)   (false, false)  …  (false, true)  (false, true)\n",
       " (true, true)   (true, true)       (true, true)   (true, true) \n",
       " (true, true)   (true, false)      (false, true)  (false, true)\n",
       " ⋮                              ⋱                              \n",
       " (true, true)   (true, false)      (true, true)   (true, true) \n",
       " (true, true)   (false, true)      (true, true)   (true, true) \n",
       " (true, true)   (false, true)      (true, true)   (true, true) \n",
       " (true, true)   (false, true)   …  (true, true)   (true, true) \n",
       " (true, true)   (false, true)      (true, true)   (true, true) \n",
       " (true, true)   (false, true)      (true, true)   (true, true) \n",
       " (true, true)   (false, true)      (true, true)   (true, true) \n",
       " (true, true)   (false, true)      (true, true)   (true, true) \n",
       " (true, false)  (true, true)    …  (true, true)   (true, true) \n",
       " (true, false)  (true, true)       (true, true)   (true, true) \n",
       " (true, true)   (false, true)      (true, true)   (true, true) \n",
       " (true, true)   (false, false)     (true, true)   (true, true) "
      ]
     },
     "execution_count": 11,
     "metadata": {},
     "output_type": "execute_result"
    },
    {
     "name": "stderr",
     "output_type": "stream",
     "text": [
      "\u001b[1m\u001b[36mINFO: \u001b[39m\u001b[22m\u001b[36mv1.0 BED file detected\n",
      "\u001b[39m"
     ]
    }
   ],
   "source": [
    "using SnpArrays\n",
    "snpbinLMM = SnpArray(\"SNPdataLMM\"; people = size(pedLMM, 1), snps = size(snpLMM, 1))"
   ]
  },
  {
   "cell_type": "markdown",
   "metadata": {},
   "source": [
    "### Filtering the variant data to improve the quality of the GRM"
   ]
  },
  {
   "cell_type": "markdown",
   "metadata": {},
   "source": [
    "First we check what the minor allele frequencies are. We can see by checking the quantiles that many of the loci are invariant or rather rare. By default the GRM function uses only variants with minor allele frequencies greater than 0.01 but we want to impose additional restrictions so that the MAF >0.05 and the percent success rate is >98% to avoid potential biases"
   ]
  },
  {
   "cell_type": "code",
   "execution_count": 12,
   "metadata": {},
   "outputs": [
    {
     "data": {
      "text/plain": [
       "([0.0142012, 0.403226, 0.0711679, 0.0709951, 0.0777643, 0.0511084, 0.0517241, 0.000589623, 0.00117786, 0.0733496  …  0.0200946, 0.00117925, 0.00117925, 0.00117925, 0.0125149, 0.0125149, 0.0560191, 0.00593824, 0.00593824, 0.00475059], Bool[true, true, true, true, true, true, true, true, true, true  …  true, true, true, true, true, true, true, true, true, true], [4, 43, 27, 25, 26, 37, 37, 1, 0, 31  …  3, 1, 1, 1, 10, 10, 10, 7, 7, 7], [317, 317, 487, 3460, 407, 210, 483, 488, 413, 1100  …  588, 824, 667, 1352, 1183, 3403, 3411, 3473, 138, 2328])"
      ]
     },
     "execution_count": 12,
     "metadata": {},
     "output_type": "execute_result"
    }
   ],
   "source": [
    "maf, minor_allele, missings_by_snp, missings_by_person = summarize(snpbinLMM)"
   ]
  },
  {
   "cell_type": "code",
   "execution_count": 13,
   "metadata": {},
   "outputs": [
    {
     "data": {
      "text/plain": [
       "1×5 Array{Float64,2}:\n",
       " 0.0  0.00294464  0.0100118  0.115566  0.5"
      ]
     },
     "execution_count": 13,
     "metadata": {},
     "output_type": "execute_result"
    }
   ],
   "source": [
    "quantile(maf, [0.0 .25 .5 .75 1.0])"
   ]
  },
  {
   "cell_type": "code",
   "execution_count": 14,
   "metadata": {},
   "outputs": [
    {
     "data": {
      "text/plain": [
       "(Bool[true, false, false, false, false, false, false, true, true, false  …  true, true, true, true, true, true, true, true, true, true], Bool[true, true, true, true, true, true, true, true, true, true  …  true, true, true, true, true, true, true, true, true, true])"
      ]
     },
     "execution_count": 14,
     "metadata": {},
     "output_type": "execute_result"
    }
   ],
   "source": [
    "#first we filter out snps with genotype success rates < 98% and get the snp id's of snps with MAF>0.98\n",
    "snp_idx, _ = filter(snpbinLMM, 0.98)"
   ]
  },
  {
   "cell_type": "code",
   "execution_count": 15,
   "metadata": {
    "collapsed": true
   },
   "outputs": [],
   "source": [
    "#now we find the index of the common snps (MAF greater than or equal to 0.05) with success rates >0.98\n",
    "common_index = snp_idx .& (0.05 .≤ maf);"
   ]
  },
  {
   "cell_type": "code",
   "execution_count": 16,
   "metadata": {},
   "outputs": [
    {
     "data": {
      "text/plain": [
       "849×635166 SnpArrays.SnpArray{2}:\n",
       " (true, true)   (true, true)  (true, true)  …  (true, true)    (true, true) \n",
       " (true, true)   (true, true)  (true, true)     (true, true)    (true, true) \n",
       " (true, true)   (true, true)  (true, true)     (true, true)    (true, true) \n",
       " (true, false)  (true, true)  (true, true)     (true, true)    (true, true) \n",
       " (true, true)   (true, true)  (true, true)     (true, true)    (true, true) \n",
       " (false, true)  (true, true)  (true, true)  …  (false, true)   (false, true)\n",
       " (true, true)   (true, true)  (true, true)     (true, true)    (true, true) \n",
       " (false, true)  (true, true)  (true, true)     (true, true)    (true, true) \n",
       " (true, true)   (true, true)  (true, true)     (false, true)   (true, true) \n",
       " (false, true)  (true, true)  (true, true)     (true, true)    (true, true) \n",
       " (true, true)   (true, true)  (true, true)  …  (true, true)    (true, true) \n",
       " (true, true)   (true, true)  (true, true)     (false, true)   (true, true) \n",
       " (false, true)  (true, true)  (true, true)     (true, true)    (true, true) \n",
       " ⋮                                          ⋱                  ⋮            \n",
       " (true, true)   (true, true)  (true, true)     (true, true)    (true, true) \n",
       " (true, true)   (true, true)  (true, true)     (true, true)    (true, true) \n",
       " (true, true)   (true, true)  (true, true)     (true, true)    (true, true) \n",
       " (true, true)   (true, true)  (true, true)  …  (true, true)    (true, true) \n",
       " (true, true)   (true, true)  (true, true)     (true, true)    (true, true) \n",
       " (true, true)   (true, true)  (true, true)     (true, true)    (true, true) \n",
       " (true, true)   (true, true)  (true, true)     (false, true)   (true, true) \n",
       " (false, true)  (true, true)  (true, true)     (false, true)   (true, true) \n",
       " (false, true)  (true, true)  (true, true)  …  (true, true)    (true, true) \n",
       " (false, true)  (true, true)  (true, true)     (false, true)   (false, true)\n",
       " (true, true)   (true, true)  (true, true)     (false, true)   (true, true) \n",
       " (false, true)  (true, true)  (true, true)     (false, false)  (true, false)"
      ]
     },
     "execution_count": 16,
     "metadata": {},
     "output_type": "execute_result"
    }
   ],
   "source": [
    "# now we put these snps into an array for use with the GRM function. \n",
    "data_common = snpbinLMM[ : , common_index]"
   ]
  },
  {
   "cell_type": "markdown",
   "metadata": {},
   "source": [
    "## Kinship via Genetic Relationship Matrix (GRM)\n",
    "\n",
    "Recall that in using variance components (linear mixed models) we need a measure of the relatedness among individuals. Under the GRM formulation, the estimate of the global kinship coefficient of individuals $i$ and $j$ is\n",
    "$$ \\widehat\\Phi_{GRMij}^  = \\frac{1}{2S} \\sum_{k=1}^S \\frac{(x_{ik} -2p_k)(x_{jk} - 2p_k)}{2 p_k (1-p_k)}$$,\n",
    "where $k$ ranges over the selected $S$ SNPs, $p_k$ is the minor allele frequency of SNP $k$, and $x_{ik}$ is the number of minor alleles in individual $i$s genotype at SNP $k$."
   ]
  },
  {
   "cell_type": "markdown",
   "metadata": {},
   "source": [
    "## Calculate the GRM matrix\n",
    "\n",
    "By default, `grm` excludes SNPs with maf < 0.01 but we will use only the common snps with good success rates. "
   ]
  },
  {
   "cell_type": "code",
   "execution_count": 17,
   "metadata": {},
   "outputs": [
    {
     "data": {
      "text/plain": [
       "849×849 Array{Float64,2}:\n",
       "  0.491392      0.00459472   -0.0103735   …  -0.0225547    -0.0127283  \n",
       "  0.00459472    0.500652      0.00993115      0.0068817     0.00967119 \n",
       " -0.0103735     0.00993115    0.506954        0.0255708     0.00607559 \n",
       "  0.0168716     0.00996551   -0.00516524     -0.012727     -0.00295819 \n",
       " -0.0191581     0.0109871     0.00293376      0.0178821     0.004559   \n",
       "  0.0192688     0.0185449    -0.00111927  …  -0.0120271    -0.000526727\n",
       " -0.00254853   -0.000830856   0.00685967     -0.00452714    0.000533043\n",
       " -0.0477185    -0.00525981    0.0222129       0.0424068     0.00935023 \n",
       " -0.0240338    -0.00327511    0.0223792       0.0230544     0.0218116  \n",
       "  0.000385893   0.00657127    0.00521743     -0.000500503   0.000277666\n",
       " -0.00394476    0.0054108     0.00015929  …   0.00790859    0.0163665  \n",
       " -0.00147462    0.00466637    0.00365234      0.00413579   -0.00129428 \n",
       " -0.0131411    -0.00201507    0.00271812      0.00357805    0.00471774 \n",
       "  ⋮                                       ⋱                            \n",
       "  0.0158828    -0.000633172  -0.00270957      0.116974      0.0129684  \n",
       "  0.0077361    -0.00519141   -0.00779596      0.13035       0.0378271  \n",
       " -0.00278825    0.000940684  -0.0068805       0.107376      0.0264149  \n",
       " -0.0017801     0.00578846   -0.00407599  …   0.0858784     0.0172277  \n",
       "  0.00976434   -0.0104875    -0.00859808      0.120218      0.0538364  \n",
       "  0.000106041   0.0118154    -0.00351325      0.0404341     0.110767   \n",
       "  0.00397557    0.00235796   -0.00244756      0.0637792     0.126104   \n",
       " -0.00720784    0.0106461    -0.0036736       0.0452425     0.2546     \n",
       "  0.0185888     0.00355666    0.00493317  …   0.0797679     0.10992    \n",
       "  0.02467       0.00613812    0.00825192      0.0303019     0.122765   \n",
       " -0.0225547     0.0068817     0.0255708       0.507418      0.0657789  \n",
       " -0.0127283     0.00967119    0.00607559      0.0657789     0.497298   "
      ]
     },
     "execution_count": 17,
     "metadata": {},
     "output_type": "execute_result"
    }
   ],
   "source": [
    "Φgrm = grm(data_common)"
   ]
  },
  {
   "cell_type": "markdown",
   "metadata": {},
   "source": [
    "## Fit the null variance component model\n",
    "\n",
    "Recall that we are using a variance component model with simtrait1 as the outcome. Under the null hypothesis simtrait1 is associated with sex (as a fixed effect).  We also need to account for the relatedness among individuals.  To do that we include a random effect and use the GRM matrix to describe the covariation structure. \n",
    "    $$ Y_{2i} = \\mu +\\beta_{sex} sex_i + A_i + e_i$$ \n",
    "    $$ A_i \\sim N(0,\\sigma^2_a)$$ $$e_i \\sim N(0,\\sigma^2_e)$$\n",
    "    $$ Cov(Y_{2i},Y_{2j})=2\\Phi_{ij} \\sigma^2_a + 1_{i = j}\\sigma^2_e$$"
   ]
  },
  {
   "cell_type": "code",
   "execution_count": 18,
   "metadata": {},
   "outputs": [
    {
     "data": {
      "text/plain": [
       "VarianceComponentModels.VarianceComponentVariate{Float64,2,Array{Float64,1},Array{Float64,2},Array{Float64,2}}([0.870473, -1.68616, 0.666344, 0.0839254, 0.786506, 1.56337, 1.08892, -1.15111, -0.365351, -0.630388  …  -0.0690388, 0.419444, 1.47836, -0.274552, 0.177762, -0.464458, 0.0336769, 1.26861, -0.319195, 0.114271], [1.0 0.0; 1.0 1.0; … ; 1.0 0.0; 1.0 1.0], ([0.982784 0.00918943 … -0.0451094 -0.0254565; 0.00918943 1.0013 … 0.0137634 0.0193424; … ; -0.0451094 0.0137634 … 1.01484 0.131558; -0.0254565 0.0193424 … 0.131558 0.994595], [1.0 0.0 … 0.0 0.0; 0.0 1.0 … 0.0 0.0; … ; 0.0 0.0 … 1.0 0.0; 0.0 0.0 … 0.0 1.0]))"
      ]
     },
     "execution_count": 18,
     "metadata": {},
     "output_type": "execute_result"
    }
   ],
   "source": [
    "using VarianceComponentModels\n",
    "# Null data model has two variance components but no SNP fixed effects\n",
    "\n",
    "# form data as VarianceComponentVariate matrix \n",
    "#change the next commands if you want to run trait 2 or both traits (Y)\n",
    "X = [ones(length(simtrait1)) sex]\n",
    "#X = [ones(length(simtrait2)) sex]\n",
    "nulldata = VarianceComponentVariate(Y[:,1], X, (2Φgrm, eye(length(simtrait1))))\n",
    "#nulldata = VarianceComponentVariate(Y[:,2], X, (2Φgrm, eye(length(simtrait2))))"
   ]
  },
  {
   "cell_type": "markdown",
   "metadata": {},
   "source": [
    "When we run an alternative model with the additional effects of the SNPs, it can be helpful to start from our best estimates from the null model. Initialize the variance component model parameters."
   ]
  },
  {
   "cell_type": "code",
   "execution_count": 19,
   "metadata": {},
   "outputs": [
    {
     "data": {
      "text/plain": [
       "VarianceComponentModels.VarianceComponentModel{Float64,2,Array{Float64,2},Array{Float64,2}}([0.0; 0.0], ([1.0], [1.0]), Array{Float64}(0,2), Char[], Float64[], -Inf, Inf)"
      ]
     },
     "execution_count": 19,
     "metadata": {},
     "output_type": "execute_result"
    }
   ],
   "source": [
    "nullmodel = VarianceComponentModel(nulldata)"
   ]
  },
  {
   "cell_type": "code",
   "execution_count": 20,
   "metadata": {},
   "outputs": [
    {
     "data": {
      "text/plain": [
       "(-1234.4161934338194, VarianceComponentModels.VarianceComponentModel{Float64,2,Array{Float64,2},Array{Float64,2}}([0.375435; 0.127781], ([0.545733], [0.658928]), Array{Float64}(0,2), Char[], Float64[], -Inf, Inf), ([0.0890036], [0.0620838]), [0.00792164 -0.00367441; -0.00367441 0.0038544], [0.0488514; 0.0692372], [0.00238645 -0.0027781; -0.0027781 0.00479379])"
      ]
     },
     "execution_count": 20,
     "metadata": {},
     "output_type": "execute_result"
    },
    {
     "name": "stdout",
     "output_type": "stream",
     "text": [
      "\n",
      "******************************************************************************\n",
      "This program contains Ipopt, a library for large-scale nonlinear optimization.\n",
      " Ipopt is released as open source code under the Eclipse Public License (EPL).\n",
      "         For more information visit http://projects.coin-or.org/Ipopt\n",
      "******************************************************************************\n",
      "\n",
      "This is Ipopt version 3.12.8, running with linear solver mumps.\n",
      "NOTE: Other linear solvers might be more efficient (see Ipopt documentation).\n",
      "\n",
      "Number of nonzeros in equality constraint Jacobian...:        0\n",
      "Number of nonzeros in inequality constraint Jacobian.:        0\n",
      "Number of nonzeros in Lagrangian Hessian.............:        3\n",
      "\n",
      "Total number of variables............................:        2\n",
      "                     variables with only lower bounds:        0\n",
      "                variables with lower and upper bounds:        0\n",
      "                     variables with only upper bounds:        0\n",
      "Total number of equality constraints.................:        0\n",
      "Total number of inequality constraints...............:        0\n",
      "        inequality constraints with only lower bounds:        0\n",
      "   inequality constraints with lower and upper bounds:        0\n",
      "        inequality constraints with only upper bounds:        0\n",
      "\n",
      "iter    objective    inf_pr   inf_du lg(mu)  ||d||  lg(rg) alpha_du alpha_pr  ls\n",
      "   0  1.2773294e+03 0.00e+00 1.00e+02   0.0 0.00e+00    -  0.00e+00 0.00e+00   0 \n",
      "   5  1.2344162e+03 0.00e+00 6.40e-09 -11.0 5.54e-08    -  1.00e+00 1.00e+00f  1 MaxS\n",
      "\n",
      "Number of Iterations....: 5\n",
      "\n",
      "                                   (scaled)                 (unscaled)\n",
      "Objective...............:   6.2094144512441801e+02    1.2344161934338194e+03\n",
      "Dual infeasibility......:   6.4035985270091436e-09    1.2730195061154559e-08\n",
      "Constraint violation....:   0.0000000000000000e+00    0.0000000000000000e+00\n",
      "Complementarity.........:   0.0000000000000000e+00    0.0000000000000000e+00\n",
      "Overall NLP error.......:   6.4035985270091436e-09    1.2730195061154559e-08\n",
      "\n",
      "\n",
      "Number of objective function evaluations             = 6\n",
      "Number of objective gradient evaluations             = 6\n",
      "Number of equality constraint evaluations            = 0\n",
      "Number of inequality constraint evaluations          = 0\n",
      "Number of equality constraint Jacobian evaluations   = 0\n",
      "Number of inequality constraint Jacobian evaluations = 0\n",
      "Number of Lagrangian Hessian evaluations             = 5\n",
      "Total CPU secs in IPOPT (w/o function evaluations)   =      1.809\n",
      "Total CPU secs in NLP function evaluations           =      0.222\n",
      "\n",
      "EXIT: Optimal Solution Found.\n",
      "  5.746317 seconds (3.88 M allocations: 198.240 MiB)\n"
     ]
    }
   ],
   "source": [
    "@time nulllogl, nullmodel, = fit_mle!(nullmodel, nulldata; algo = :FS)"
   ]
  },
  {
   "cell_type": "code",
   "execution_count": 21,
   "metadata": {},
   "outputs": [
    {
     "data": {
      "text/plain": [
       "-1234.4161934338194"
      ]
     },
     "execution_count": 21,
     "metadata": {},
     "output_type": "execute_result"
    }
   ],
   "source": [
    "# null model log-likelihood for no SNP effects\n",
    "nulllogl"
   ]
  },
  {
   "cell_type": "code",
   "execution_count": 22,
   "metadata": {},
   "outputs": [
    {
     "data": {
      "text/plain": [
       "2×1 Array{Float64,2}:\n",
       " 0.375435\n",
       " 0.127781"
      ]
     },
     "execution_count": 22,
     "metadata": {},
     "output_type": "execute_result"
    }
   ],
   "source": [
    "# null model mean effects - in this case a grand mean and a sex effect\n",
    "nullmodel.B"
   ]
  },
  {
   "cell_type": "code",
   "execution_count": 23,
   "metadata": {},
   "outputs": [
    {
     "data": {
      "text/plain": [
       "1×1 Array{Float64,2}:\n",
       " 0.545733"
      ]
     },
     "execution_count": 23,
     "metadata": {},
     "output_type": "execute_result"
    }
   ],
   "source": [
    "# null model additive genetic variance\n",
    "nullmodel.Σ[1]"
   ]
  },
  {
   "cell_type": "code",
   "execution_count": 24,
   "metadata": {},
   "outputs": [
    {
     "data": {
      "text/plain": [
       "1×1 Array{Float64,2}:\n",
       " 0.658928"
      ]
     },
     "execution_count": 24,
     "metadata": {},
     "output_type": "execute_result"
    }
   ],
   "source": [
    "# null model environmental variance\n",
    "nullmodel.Σ[2]"
   ]
  },
  {
   "cell_type": "markdown",
   "metadata": {},
   "source": [
    "### Heritability \n",
    "Calculate the proportion of the variance that can be attributed to additive genetic effects, the narrow sense heritability.  We calculate it here without any SNPs included. "
   ]
  },
  {
   "cell_type": "code",
   "execution_count": 25,
   "metadata": {},
   "outputs": [
    {
     "data": {
      "text/plain": [
       "1×1 Array{Float64,2}:\n",
       " 0.453018"
      ]
     },
     "execution_count": 25,
     "metadata": {},
     "output_type": "execute_result"
    }
   ],
   "source": [
    "her_null = nullmodel.Σ[1]/(nullmodel.Σ[1]+nullmodel.Σ[2])"
   ]
  },
  {
   "cell_type": "markdown",
   "metadata": {},
   "source": [
    "# Fit variance component model with the causal SNPs\n",
    "\n",
    "## Processing the SNP data\n",
    "These data were simulated under a scenario in which two snps have large main effects and they interact. First we find the indexes of the two SNPs. "
   ]
  },
  {
   "cell_type": "code",
   "execution_count": 26,
   "metadata": {},
   "outputs": [
    {
     "data": {
      "text/plain": [
       "1542838"
      ]
     },
     "execution_count": 26,
     "metadata": {},
     "output_type": "execute_result"
    }
   ],
   "source": [
    "#ind_c1_1360580 = find(x -> x == \"c1_1360580\", snpid)[1]\n",
    "# Use can change this SNP if you would like to assess another's snps effect on the trait, e.g.:\n",
    "#ind_c13_56233373 = find(x -> x == \"c13_56233373\", snpid)[1]\n",
    "#ind_c1_754121 = find(x -> x == \"c1_754121\", snpid)[1]\n",
    "ind_c1_1235710 = find(x -> x == \"c1_1235710\", snpid)[1]\n",
    "ind_c13_56233373 = find(x -> x == \"c13_56233373\", snpid)[1]\n"
   ]
  },
  {
   "cell_type": "markdown",
   "metadata": {},
   "source": [
    "Now we convert the SNP data into 0, 1, or 2 copies of the minor allele and form the data for the interaction of the two SNPs. "
   ]
  },
  {
   "cell_type": "code",
   "execution_count": 27,
   "metadata": {},
   "outputs": [
    {
     "data": {
      "text/plain": [
       "849-element Array{Float64,1}:\n",
       " 0.0\n",
       " 0.0\n",
       " 1.0\n",
       " 0.0\n",
       " 0.0\n",
       " 0.0\n",
       " 0.0\n",
       " 0.0\n",
       " 1.0\n",
       " 0.0\n",
       " 0.0\n",
       " 0.0\n",
       " 0.0\n",
       " ⋮  \n",
       " 0.0\n",
       " 0.0\n",
       " 0.0\n",
       " 0.0\n",
       " 0.0\n",
       " 0.0\n",
       " 0.0\n",
       " 0.0\n",
       " 0.0\n",
       " 0.0\n",
       " 0.0\n",
       " 0.0"
      ]
     },
     "execution_count": 27,
     "metadata": {},
     "output_type": "execute_result"
    }
   ],
   "source": [
    "#snp_c1_1360580 = convert(Vector{Float64}, snpbinLMM[:, ind_c1_1360580])\n",
    "#snp_c13_56233373 = convert(Vector{Float64}, snpbinLMM[:, ind_c13_56233373])\n",
    "#snp_c1_754121 = convert(Vector{Float64}, snpbinLMM[:, ind_c1_754121])\n",
    "snp_c1_1235710 = convert(Vector{Float64}, snpbinLMM[:, ind_c1_1235710])\n",
    "snp_c13_56233373 = convert(Vector{Float64}, snpbinLMM[:, ind_c13_56233373])\n",
    "interact = snp_c1_1235710 .* snp_c13_56233373"
   ]
  },
  {
   "cell_type": "markdown",
   "metadata": {},
   "source": [
    "## Look at the effect of a Single SNP snp_c1_1235710"
   ]
  },
  {
   "cell_type": "code",
   "execution_count": 28,
   "metadata": {},
   "outputs": [
    {
     "data": {
      "text/plain": [
       "VarianceComponentModels.VarianceComponentVariate{Float64,2,Array{Float64,1},Array{Float64,2},Array{Float64,2}}([0.870473, -1.68616, 0.666344, 0.0839254, 0.786506, 1.56337, 1.08892, -1.15111, -0.365351, -0.630388  …  -0.0690388, 0.419444, 1.47836, -0.274552, 0.177762, -0.464458, 0.0336769, 1.26861, -0.319195, 0.114271], [1.0 0.0 2.0; 1.0 1.0 0.0; … ; 1.0 0.0 0.0; 1.0 1.0 0.0], ([0.982784 0.00918943 … -0.0451094 -0.0254565; 0.00918943 1.0013 … 0.0137634 0.0193424; … ; -0.0451094 0.0137634 … 1.01484 0.131558; -0.0254565 0.0193424 … 0.131558 0.994595], [1.0 0.0 … 0.0 0.0; 0.0 1.0 … 0.0 0.0; … ; 0.0 0.0 … 1.0 0.0; 0.0 0.0 … 0.0 1.0]))"
      ]
     },
     "execution_count": 28,
     "metadata": {},
     "output_type": "execute_result"
    }
   ],
   "source": [
    "# form data as VarianceComponentVariate - put the data in a form that VarianceComponentModels can use\n",
    "Xalt = [ones(length(simtrait1)) sex snp_c1_1235710]\n",
    "#Xalt = [ones(length(simtrait1)) sex snp_c13_56233373]\n",
    "altdata = VarianceComponentVariate(Y[:,1], Xalt, (2Φgrm, eye(length(simtrait1))))\n",
    "#altdata = VarianceComponentVariate(Y[:,2], Xalt, (2Φgrm, eye(length(simtrait2))))"
   ]
  },
  {
   "cell_type": "code",
   "execution_count": 29,
   "metadata": {},
   "outputs": [
    {
     "data": {
      "text/plain": [
       "VarianceComponentModels.VarianceComponentModel{Float64,2,Array{Float64,2},Array{Float64,2}}([0.0; 0.0; 0.0], ([1.0], [1.0]), Array{Float64}(0,3), Char[], Float64[], -Inf, Inf)"
      ]
     },
     "execution_count": 29,
     "metadata": {},
     "output_type": "execute_result"
    }
   ],
   "source": [
    "altmodel = VarianceComponentModel(altdata)"
   ]
  },
  {
   "cell_type": "markdown",
   "metadata": {},
   "source": [
    "### Set the starting values for the maximum likelihood estimation\n",
    "Use the null model estimates as start values for the alternative model."
   ]
  },
  {
   "cell_type": "code",
   "execution_count": 30,
   "metadata": {},
   "outputs": [
    {
     "data": {
      "text/plain": [
       "3×1 Array{Float64,2}:\n",
       " 0.375435\n",
       " 0.127781\n",
       " 0.0     "
      ]
     },
     "execution_count": 30,
     "metadata": {},
     "output_type": "execute_result"
    }
   ],
   "source": [
    "altmodel.B[1:2, :] = nullmodel.B\n",
    "altmodel.B"
   ]
  },
  {
   "cell_type": "code",
   "execution_count": 31,
   "metadata": {},
   "outputs": [
    {
     "data": {
      "text/plain": [
       "([0.545733], [0.658928])"
      ]
     },
     "execution_count": 31,
     "metadata": {},
     "output_type": "execute_result"
    }
   ],
   "source": [
    "copy!(altmodel.Σ[1], nullmodel.Σ[1])\n",
    "copy!(altmodel.Σ[2], nullmodel.Σ[2])\n",
    "altmodel.Σ"
   ]
  },
  {
   "cell_type": "code",
   "execution_count": 32,
   "metadata": {},
   "outputs": [
    {
     "data": {
      "text/plain": [
       "(-1181.9536281052985, VarianceComponentModels.VarianceComponentModel{Float64,2,Array{Float64,2},Array{Float64,2}}([-0.0702014; 0.158022; 0.597808], ([0.409866], [0.628686]), Array{Float64}(0,3), Char[], Float64[], -Inf, Inf), ([0.0739826], [0.0557404]), [0.00547343 -0.00271693; -0.00271693 0.00310699], [0.0628492; 0.06562; 0.0562849], [0.00395002 -0.00261483 -0.00236535; -0.00261483 0.00430598 0.000166773; -0.00236535 0.000166773 0.003168])"
      ]
     },
     "execution_count": 32,
     "metadata": {},
     "output_type": "execute_result"
    },
    {
     "name": "stdout",
     "output_type": "stream",
     "text": [
      "This is Ipopt version 3.12.8, running with linear solver mumps.\n",
      "NOTE: Other linear solvers might be more efficient (see Ipopt documentation).\n",
      "\n",
      "Number of nonzeros in equality constraint Jacobian...:        0\n",
      "Number of nonzeros in inequality constraint Jacobian.:        0\n",
      "Number of nonzeros in Lagrangian Hessian.............:        3\n",
      "\n",
      "Total number of variables............................:        2\n",
      "                     variables with only lower bounds:        0\n",
      "                variables with lower and upper bounds:        0\n",
      "                     variables with only upper bounds:        0\n",
      "Total number of equality constraints.................:        0\n",
      "Total number of inequality constraints...............:        0\n",
      "        inequality constraints with only lower bounds:        0\n",
      "   inequality constraints with lower and upper bounds:        0\n",
      "        inequality constraints with only upper bounds:        0\n",
      "\n",
      "iter    objective    inf_pr   inf_du lg(mu)  ||d||  lg(rg) alpha_du alpha_pr  ls\n",
      "   0  1.2476162e+03 0.00e+00 2.32e+02   0.0 0.00e+00    -  0.00e+00 0.00e+00   0 \n",
      "   5  1.1819536e+03 0.00e+00 1.62e-06 -11.0 9.86e-07    -  1.00e+00 1.00e+00f  1 MaxSA\n",
      "\n",
      "Number of Iterations....: 7\n",
      "\n",
      "                                   (scaled)                 (unscaled)\n",
      "Objective...............:   1.1819536281052985e+03    1.1819536281052985e+03\n",
      "Dual infeasibility......:   4.9101345211965963e-10    4.9101345211965963e-10\n",
      "Constraint violation....:   0.0000000000000000e+00    0.0000000000000000e+00\n",
      "Complementarity.........:   0.0000000000000000e+00    0.0000000000000000e+00\n",
      "Overall NLP error.......:   4.9101345211965963e-10    4.9101345211965963e-10\n",
      "\n",
      "\n",
      "Number of objective function evaluations             = 8\n",
      "Number of objective gradient evaluations             = 8\n",
      "Number of equality constraint evaluations            = 0\n",
      "Number of inequality constraint evaluations          = 0\n",
      "Number of equality constraint Jacobian evaluations   = 0\n",
      "Number of inequality constraint Jacobian evaluations = 0\n",
      "Number of Lagrangian Hessian evaluations             = 7\n",
      "Total CPU secs in IPOPT (w/o function evaluations)   =      0.013\n",
      "Total CPU secs in NLP function evaluations           =      0.104\n",
      "\n",
      "EXIT: Optimal Solution Found.\n",
      "  0.169484 seconds (12.87 k allocations: 17.802 MiB)\n"
     ]
    }
   ],
   "source": [
    "@time altlogl1, altmodel, = fit_mle!(altmodel, altdata; algo = :FS)"
   ]
  },
  {
   "cell_type": "code",
   "execution_count": 33,
   "metadata": {},
   "outputs": [
    {
     "data": {
      "text/plain": [
       "-1181.9536281052985"
      ]
     },
     "execution_count": 33,
     "metadata": {},
     "output_type": "execute_result"
    }
   ],
   "source": [
    "# alt model log-likelihood for the single SNP, snp_c1_1235710\n",
    "altlogl1"
   ]
  },
  {
   "cell_type": "code",
   "execution_count": 34,
   "metadata": {},
   "outputs": [
    {
     "data": {
      "text/plain": [
       "3×1 Array{Float64,2}:\n",
       " -0.0702014\n",
       "  0.158022 \n",
       "  0.597808 "
      ]
     },
     "execution_count": 34,
     "metadata": {},
     "output_type": "execute_result"
    }
   ],
   "source": [
    "# alt model mean effects\n",
    "altmodel.B"
   ]
  },
  {
   "cell_type": "code",
   "execution_count": 35,
   "metadata": {},
   "outputs": [
    {
     "data": {
      "text/plain": [
       "1×1 Array{Float64,2}:\n",
       " 0.409866"
      ]
     },
     "execution_count": 35,
     "metadata": {},
     "output_type": "execute_result"
    }
   ],
   "source": [
    "# alt model additive genetic variance\n",
    "altmodel.Σ[1]"
   ]
  },
  {
   "cell_type": "code",
   "execution_count": 36,
   "metadata": {},
   "outputs": [
    {
     "data": {
      "text/plain": [
       "1×1 Array{Float64,2}:\n",
       " 0.628686"
      ]
     },
     "execution_count": 36,
     "metadata": {},
     "output_type": "execute_result"
    }
   ],
   "source": [
    "# alt model environmental variance\n",
    "altmodel.Σ[2]"
   ]
  },
  {
   "cell_type": "markdown",
   "metadata": {},
   "source": [
    "Notice that the additive genetic variance and the environmental variance have both decreased."
   ]
  },
  {
   "cell_type": "markdown",
   "metadata": {},
   "source": [
    "To test the significance of the SNP, we use LRT"
   ]
  },
  {
   "cell_type": "code",
   "execution_count": 37,
   "metadata": {},
   "outputs": [
    {
     "data": {
      "text/plain": [
       "104.92513065704179"
      ]
     },
     "execution_count": 37,
     "metadata": {},
     "output_type": "execute_result"
    }
   ],
   "source": [
    "using Distributions\n",
    "LRT1=2(altlogl1 - nulllogl)"
   ]
  },
  {
   "cell_type": "code",
   "execution_count": 38,
   "metadata": {},
   "outputs": [
    {
     "data": {
      "text/plain": [
       "1.2683901431398707e-24"
      ]
     },
     "execution_count": 38,
     "metadata": {},
     "output_type": "execute_result"
    }
   ],
   "source": [
    "#change the degrees of freedom if running a bivariate outcome\n",
    "pval_snp_c1_1235710 = ccdf(Chisq(1), LRT1)"
   ]
  },
  {
   "cell_type": "markdown",
   "metadata": {},
   "source": [
    "SNP, c1_1235710, has a significant effect. "
   ]
  },
  {
   "cell_type": "markdown",
   "metadata": {},
   "source": [
    "## Check for an interaction.  \n",
    "### First calculate the log likelihood for additive effects of the two snps c1_1235710 and c13_56233373 without the interaction\n",
    "Repeat the steps we took above:"
   ]
  },
  {
   "cell_type": "code",
   "execution_count": 39,
   "metadata": {},
   "outputs": [
    {
     "data": {
      "text/plain": [
       "VarianceComponentModels.VarianceComponentVariate{Float64,2,Array{Float64,1},Array{Float64,2},Array{Float64,2}}([0.870473, -1.68616, 0.666344, 0.0839254, 0.786506, 1.56337, 1.08892, -1.15111, -0.365351, -0.630388  …  -0.0690388, 0.419444, 1.47836, -0.274552, 0.177762, -0.464458, 0.0336769, 1.26861, -0.319195, 0.114271], [1.0 0.0 2.0 0.0; 1.0 1.0 0.0 0.0; … ; 1.0 0.0 0.0 0.0; 1.0 1.0 0.0 0.0], ([0.982784 0.00918943 … -0.0451094 -0.0254565; 0.00918943 1.0013 … 0.0137634 0.0193424; … ; -0.0451094 0.0137634 … 1.01484 0.131558; -0.0254565 0.0193424 … 0.131558 0.994595], [1.0 0.0 … 0.0 0.0; 0.0 1.0 … 0.0 0.0; … ; 0.0 0.0 … 1.0 0.0; 0.0 0.0 … 0.0 1.0]))"
      ]
     },
     "execution_count": 39,
     "metadata": {},
     "output_type": "execute_result"
    }
   ],
   "source": [
    "# form data as VarianceComponentVariate\n",
    "Xalt2 = [ones(length(simtrait1)) sex snp_c1_1235710 snp_c13_56233373]\n",
    "altdata2 = VarianceComponentVariate(Y[:,1], Xalt2, (2Φgrm, eye(length(simtrait1))))"
   ]
  },
  {
   "cell_type": "code",
   "execution_count": 40,
   "metadata": {},
   "outputs": [
    {
     "data": {
      "text/plain": [
       "VarianceComponentModels.VarianceComponentModel{Float64,2,Array{Float64,2},Array{Float64,2}}([0.0; 0.0; 0.0; 0.0], ([1.0], [1.0]), Array{Float64}(0,4), Char[], Float64[], -Inf, Inf)"
      ]
     },
     "execution_count": 40,
     "metadata": {},
     "output_type": "execute_result"
    }
   ],
   "source": [
    "altmodel2 = VarianceComponentModel(altdata2)"
   ]
  },
  {
   "cell_type": "code",
   "execution_count": 41,
   "metadata": {},
   "outputs": [
    {
     "data": {
      "text/plain": [
       "4×1 Array{Float64,2}:\n",
       " 0.375435\n",
       " 0.127781\n",
       " 0.0     \n",
       " 0.0     "
      ]
     },
     "execution_count": 41,
     "metadata": {},
     "output_type": "execute_result"
    }
   ],
   "source": [
    "altmodel2.B[1:2, :] = nullmodel.B\n",
    "altmodel2.B"
   ]
  },
  {
   "cell_type": "code",
   "execution_count": 42,
   "metadata": {},
   "outputs": [
    {
     "data": {
      "text/plain": [
       "([0.545733], [0.658928])"
      ]
     },
     "execution_count": 42,
     "metadata": {},
     "output_type": "execute_result"
    }
   ],
   "source": [
    "copy!(altmodel2.Σ[1], nullmodel.Σ[1])\n",
    "copy!(altmodel2.Σ[2], nullmodel.Σ[2])\n",
    "altmodel2.Σ"
   ]
  },
  {
   "cell_type": "code",
   "execution_count": 43,
   "metadata": {},
   "outputs": [
    {
     "data": {
      "text/plain": [
       "(-1175.347072731107, VarianceComponentModels.VarianceComponentModel{Float64,2,Array{Float64,2},Array{Float64,2}}([-0.156858; 0.16176; 0.607078; 0.391102], ([0.373105], [0.639098]), Array{Float64}(0,4), Char[], Float64[], -Inf, Inf), ([0.0707492], [0.0552127]), [0.00500545 -0.00256215; -0.00256215 0.00304845], [0.066827; 0.0653129; 0.0555974; 0.106377], [0.00446585 -0.00261422 -0.00236734 -0.00252455; -0.00261422 0.00426578 0.000166618 0.000114563; -0.00236734 0.000166618 0.00309107 0.00028717; -0.00252455 0.000114563 0.00028717 0.011316])"
      ]
     },
     "execution_count": 43,
     "metadata": {},
     "output_type": "execute_result"
    },
    {
     "name": "stdout",
     "output_type": "stream",
     "text": [
      "This is Ipopt version 3.12.8, running with linear solver mumps.\n",
      "NOTE: Other linear solvers might be more efficient (see Ipopt documentation).\n",
      "\n",
      "Number of nonzeros in equality constraint Jacobian...:        0\n",
      "Number of nonzeros in inequality constraint Jacobian.:        0\n",
      "Number of nonzeros in Lagrangian Hessian.............:        3\n",
      "\n",
      "Total number of variables............................:        2\n",
      "                     variables with only lower bounds:        0\n",
      "                variables with lower and upper bounds:        0\n",
      "                     variables with only upper bounds:        0\n",
      "Total number of equality constraints.................:        0\n",
      "Total number of inequality constraints...............:        0\n",
      "        inequality constraints with only lower bounds:        0\n",
      "   inequality constraints with lower and upper bounds:        0\n",
      "        inequality constraints with only upper bounds:        0\n",
      "\n",
      "iter    objective    inf_pr   inf_du lg(mu)  ||d||  lg(rg) alpha_du alpha_pr  ls\n",
      "   0  1.2444676e+03 0.00e+00 2.34e+02   0.0 0.00e+00    -  0.00e+00 0.00e+00   0 \n",
      "   5  1.1753471e+03 0.00e+00 1.27e-05 -11.0 1.19e-05    -  1.00e+00 1.00e+00f  1 MaxS\n",
      "\n",
      "Number of Iterations....: 7\n",
      "\n",
      "                                   (scaled)                 (unscaled)\n",
      "Objective...............:   1.1753470727311069e+03    1.1753470727311069e+03\n",
      "Dual infeasibility......:   2.0771722120116465e-09    2.0771722120116465e-09\n",
      "Constraint violation....:   0.0000000000000000e+00    0.0000000000000000e+00\n",
      "Complementarity.........:   0.0000000000000000e+00    0.0000000000000000e+00\n",
      "Overall NLP error.......:   2.0771722120116465e-09    2.0771722120116465e-09\n",
      "\n",
      "\n",
      "Number of objective function evaluations             = 8\n",
      "Number of objective gradient evaluations             = 8\n",
      "Number of equality constraint evaluations            = 0\n",
      "Number of inequality constraint evaluations          = 0\n",
      "Number of equality constraint Jacobian evaluations   = 0\n",
      "Number of inequality constraint Jacobian evaluations = 0\n",
      "Number of Lagrangian Hessian evaluations             = 7\n",
      "Total CPU secs in IPOPT (w/o function evaluations)   =      0.259\n",
      "Total CPU secs in NLP function evaluations           =      0.102\n",
      "\n",
      "EXIT: Optimal Solution Found.\n",
      "  0.747563 seconds (544.13 k allocations: 44.209 MiB, 1.81% gc time)\n"
     ]
    }
   ],
   "source": [
    "@time altlogl2, altmodel2, = fit_mle!(altmodel2, altdata2; algo = :FS)"
   ]
  },
  {
   "cell_type": "code",
   "execution_count": 44,
   "metadata": {},
   "outputs": [
    {
     "data": {
      "text/plain": [
       "-1175.347072731107"
      ]
     },
     "execution_count": 44,
     "metadata": {},
     "output_type": "execute_result"
    }
   ],
   "source": [
    "altlogl2"
   ]
  },
  {
   "cell_type": "code",
   "execution_count": 45,
   "metadata": {},
   "outputs": [
    {
     "data": {
      "text/plain": [
       "4×1 Array{Float64,2}:\n",
       " -0.156858\n",
       "  0.16176 \n",
       "  0.607078\n",
       "  0.391102"
      ]
     },
     "execution_count": 45,
     "metadata": {},
     "output_type": "execute_result"
    }
   ],
   "source": [
    "# alt model mean effects\n",
    "altmodel2.B"
   ]
  },
  {
   "cell_type": "code",
   "execution_count": 46,
   "metadata": {},
   "outputs": [
    {
     "data": {
      "text/plain": [
       "1×1 Array{Float64,2}:\n",
       " 0.373105"
      ]
     },
     "execution_count": 46,
     "metadata": {},
     "output_type": "execute_result"
    }
   ],
   "source": [
    "# alt model additive variance\n",
    "altmodel2.Σ[1]"
   ]
  },
  {
   "cell_type": "code",
   "execution_count": 47,
   "metadata": {},
   "outputs": [
    {
     "data": {
      "text/plain": [
       "1×1 Array{Float64,2}:\n",
       " 0.639098"
      ]
     },
     "execution_count": 47,
     "metadata": {},
     "output_type": "execute_result"
    }
   ],
   "source": [
    "# alt model environmental variance\n",
    "altmodel2.Σ[2]"
   ]
  },
  {
   "cell_type": "markdown",
   "metadata": {},
   "source": [
    "### Test whether the addition of the second SNP improves the model fit by comparing the loglikelihood with just snp c1_1235710 to the loglikelihood with both snp_c1_1235710 and snp_c13_56233373s"
   ]
  },
  {
   "cell_type": "code",
   "execution_count": 48,
   "metadata": {},
   "outputs": [
    {
     "data": {
      "text/plain": [
       "13.213110748383315"
      ]
     },
     "execution_count": 48,
     "metadata": {},
     "output_type": "execute_result"
    }
   ],
   "source": [
    "using Distributions\n",
    "LRT2=2(altlogl2 - altlogl1)"
   ]
  },
  {
   "cell_type": "code",
   "execution_count": 49,
   "metadata": {},
   "outputs": [
    {
     "data": {
      "text/plain": [
       "0.0013514794817585925"
      ]
     },
     "execution_count": 49,
     "metadata": {},
     "output_type": "execute_result"
    }
   ],
   "source": [
    "#change the degrees of freedom if running a bivariate outcome\n",
    "pval_snp_c13_56233373 = ccdf(Chisq(2), LRT2)"
   ]
  },
  {
   "cell_type": "markdown",
   "metadata": {},
   "source": [
    "## Check for evidence of an interaction between the two SNPs"
   ]
  },
  {
   "cell_type": "code",
   "execution_count": 50,
   "metadata": {},
   "outputs": [
    {
     "data": {
      "text/plain": [
       "VarianceComponentModels.VarianceComponentVariate{Float64,2,Array{Float64,1},Array{Float64,2},Array{Float64,2}}([0.870473, -1.68616, 0.666344, 0.0839254, 0.786506, 1.56337, 1.08892, -1.15111, -0.365351, -0.630388  …  -0.0690388, 0.419444, 1.47836, -0.274552, 0.177762, -0.464458, 0.0336769, 1.26861, -0.319195, 0.114271], [1.0 0.0 … 2.0 0.0; 1.0 1.0 … 0.0 0.0; … ; 1.0 0.0 … 0.0 0.0; 1.0 1.0 … 0.0 0.0], ([0.982784 0.00918943 … -0.0451094 -0.0254565; 0.00918943 1.0013 … 0.0137634 0.0193424; … ; -0.0451094 0.0137634 … 1.01484 0.131558; -0.0254565 0.0193424 … 0.131558 0.994595], [1.0 0.0 … 0.0 0.0; 0.0 1.0 … 0.0 0.0; … ; 0.0 0.0 … 1.0 0.0; 0.0 0.0 … 0.0 1.0]))"
      ]
     },
     "execution_count": 50,
     "metadata": {},
     "output_type": "execute_result"
    }
   ],
   "source": [
    "# form data as VarianceComponentVariate\n",
    "Xalt3 = [ones(length(simtrait1)) sex snp_c13_56233373 snp_c1_1235710 interact]\n",
    "altdata3 = VarianceComponentVariate(Y[:,1], Xalt3, (2Φgrm, eye(length(simtrait1))))"
   ]
  },
  {
   "cell_type": "markdown",
   "metadata": {},
   "source": [
    "Use the results of the two snp additive model as the starting point for the interaction model"
   ]
  },
  {
   "cell_type": "code",
   "execution_count": 51,
   "metadata": {},
   "outputs": [
    {
     "data": {
      "text/plain": [
       "VarianceComponentModels.VarianceComponentModel{Float64,2,Array{Float64,2},Array{Float64,2}}([0.0; 0.0; … ; 0.0; 0.0], ([1.0], [1.0]), Array{Float64}(0,5), Char[], Float64[], -Inf, Inf)"
      ]
     },
     "execution_count": 51,
     "metadata": {},
     "output_type": "execute_result"
    }
   ],
   "source": [
    "altmodel3 = VarianceComponentModel(altdata3)"
   ]
  },
  {
   "cell_type": "code",
   "execution_count": 52,
   "metadata": {},
   "outputs": [
    {
     "data": {
      "text/plain": [
       "5×1 Array{Float64,2}:\n",
       " -0.156858\n",
       "  0.16176 \n",
       "  0.607078\n",
       "  0.391102\n",
       "  0.0     "
      ]
     },
     "execution_count": 52,
     "metadata": {},
     "output_type": "execute_result"
    }
   ],
   "source": [
    "altmodel3.B[1:4, :] = altmodel2.B\n",
    "altmodel3.B"
   ]
  },
  {
   "cell_type": "code",
   "execution_count": 53,
   "metadata": {},
   "outputs": [
    {
     "data": {
      "text/plain": [
       "([0.373105], [0.639098])"
      ]
     },
     "execution_count": 53,
     "metadata": {},
     "output_type": "execute_result"
    }
   ],
   "source": [
    "copy!(altmodel3.Σ[1], altmodel2.Σ[1])\n",
    "copy!(altmodel3.Σ[2], altmodel2.Σ[2])\n",
    "altmodel3.Σ"
   ]
  },
  {
   "cell_type": "code",
   "execution_count": 54,
   "metadata": {},
   "outputs": [
    {
     "data": {
      "text/plain": [
       "(-1170.5669963336966, VarianceComponentModels.VarianceComponentModel{Float64,2,Array{Float64,2},Array{Float64,2}}([-0.0979883; 0.151745; … ; 0.539129; 0.390367], ([0.380276], [0.624391]), Array{Float64}(0,5), Char[], Float64[], -Inf, Inf), ([0.0707463], [0.0544729]), [0.00500504 -0.00253206; -0.00253206 0.00296729], [0.0690825; 0.0649542; … ; 0.0595761; 0.125716], [0.00477239 -0.00264052 … -0.00276467 0.00238124; -0.00264052 0.00421905 … 0.000235547 -0.00040567; … ; -0.00276467 0.000235547 … 0.00354931 -0.00275334; 0.00238124 -0.00040567 … -0.00275334 0.0158045])"
      ]
     },
     "execution_count": 54,
     "metadata": {},
     "output_type": "execute_result"
    },
    {
     "name": "stdout",
     "output_type": "stream",
     "text": [
      "This is Ipopt version 3.12.8, running with linear solver mumps.\n",
      "NOTE: Other linear solvers might be more efficient (see Ipopt documentation).\n",
      "\n",
      "Number of nonzeros in equality constraint Jacobian...:        0\n",
      "Number of nonzeros in inequality constraint Jacobian.:        0\n",
      "Number of nonzeros in Lagrangian Hessian.............:        3\n",
      "\n",
      "Total number of variables............................:        2\n",
      "                     variables with only lower bounds:        0\n",
      "                variables with lower and upper bounds:        0\n",
      "                     variables with only upper bounds:        0\n",
      "Total number of equality constraints.................:        0\n",
      "Total number of inequality constraints...............:        0\n",
      "        inequality constraints with only lower bounds:        0\n",
      "   inequality constraints with lower and upper bounds:        0\n",
      "        inequality constraints with only upper bounds:        0\n",
      "\n",
      "iter    objective    inf_pr   inf_du lg(mu)  ||d||  lg(rg) alpha_du alpha_pr  ls\n",
      "   0  1.2417255e+03 0.00e+00 2.38e+02   0.0 0.00e+00    -  0.00e+00 0.00e+00   0 \n",
      "   5  1.1705670e+03 0.00e+00 1.47e-05 -11.0 1.18e-05    -  1.00e+00 1.00e+00f  1 MaxS\n",
      "\n",
      "Number of Iterations....: 7\n",
      "\n",
      "                                   (scaled)                 (unscaled)\n",
      "Objective...............:   1.1705669963336966e+03    1.1705669963336966e+03\n",
      "Dual infeasibility......:   3.0335058909258801e-09    3.0335058909258801e-09\n",
      "Constraint violation....:   0.0000000000000000e+00    0.0000000000000000e+00\n",
      "Complementarity.........:   0.0000000000000000e+00    0.0000000000000000e+00\n",
      "Overall NLP error.......:   3.0335058909258801e-09    3.0335058909258801e-09\n",
      "\n",
      "\n",
      "Number of objective function evaluations             = 8\n",
      "Number of objective gradient evaluations             = 8\n",
      "Number of equality constraint evaluations            = 0\n",
      "Number of inequality constraint evaluations          = 0\n",
      "Number of equality constraint Jacobian evaluations   = 0\n",
      "Number of inequality constraint Jacobian evaluations = 0\n",
      "Number of Lagrangian Hessian evaluations             = 7\n",
      "Total CPU secs in IPOPT (w/o function evaluations)   =      0.013\n",
      "Total CPU secs in NLP function evaluations           =      0.115\n",
      "\n",
      "EXIT: Optimal Solution Found.\n",
      "  0.168813 seconds (13.10 k allocations: 17.878 MiB, 2.33% gc time)\n"
     ]
    }
   ],
   "source": [
    "@time altlogl3, altmodel3, = fit_mle!(altmodel3, altdata3; algo = :FS)"
   ]
  },
  {
   "cell_type": "code",
   "execution_count": 55,
   "metadata": {},
   "outputs": [
    {
     "data": {
      "text/plain": [
       "-1170.5669963336966"
      ]
     },
     "execution_count": 55,
     "metadata": {},
     "output_type": "execute_result"
    }
   ],
   "source": [
    "altlogl3"
   ]
  },
  {
   "cell_type": "code",
   "execution_count": 56,
   "metadata": {},
   "outputs": [
    {
     "data": {
      "text/plain": [
       "5×1 Array{Float64,2}:\n",
       " -0.0979883\n",
       "  0.151745 \n",
       "  0.161075 \n",
       "  0.539129 \n",
       "  0.390367 "
      ]
     },
     "execution_count": 56,
     "metadata": {},
     "output_type": "execute_result"
    }
   ],
   "source": [
    "# alt model mean effects\n",
    "altmodel3.B"
   ]
  },
  {
   "cell_type": "code",
   "execution_count": 57,
   "metadata": {},
   "outputs": [
    {
     "data": {
      "text/plain": [
       "1×1 Array{Float64,2}:\n",
       " 0.380276"
      ]
     },
     "execution_count": 57,
     "metadata": {},
     "output_type": "execute_result"
    }
   ],
   "source": [
    "# alt model additive variance\n",
    "altmodel3.Σ[1]"
   ]
  },
  {
   "cell_type": "code",
   "execution_count": 58,
   "metadata": {},
   "outputs": [
    {
     "data": {
      "text/plain": [
       "1×1 Array{Float64,2}:\n",
       " 0.624391"
      ]
     },
     "execution_count": 58,
     "metadata": {},
     "output_type": "execute_result"
    }
   ],
   "source": [
    "# alt model environmental variance\n",
    "altmodel3.Σ[2]"
   ]
  },
  {
   "cell_type": "markdown",
   "metadata": {},
   "source": [
    "Test whether the interaction improves the model fit over the effects of the two SNPs alone"
   ]
  },
  {
   "cell_type": "code",
   "execution_count": 59,
   "metadata": {},
   "outputs": [
    {
     "data": {
      "text/plain": [
       "9.560152794820624"
      ]
     },
     "execution_count": 59,
     "metadata": {},
     "output_type": "execute_result"
    }
   ],
   "source": [
    "using Distributions\n",
    "LRT3=2(altlogl3 - altlogl2)"
   ]
  },
  {
   "cell_type": "code",
   "execution_count": 60,
   "metadata": {},
   "outputs": [
    {
     "data": {
      "text/plain": [
       "0.0019884655663902845"
      ]
     },
     "execution_count": 60,
     "metadata": {},
     "output_type": "execute_result"
    }
   ],
   "source": [
    "#change the degrees of freedom if running a bivariate outcome\n",
    "pval_snp_interact = ccdf(Chisq(1), LRT3)"
   ]
  },
  {
   "cell_type": "markdown",
   "metadata": {},
   "source": [
    "Residual Heritability. The proportion of additive genetic variation remaining after including the SNPs and their interaction in the model.  "
   ]
  },
  {
   "cell_type": "code",
   "execution_count": 61,
   "metadata": {},
   "outputs": [
    {
     "data": {
      "text/plain": [
       "1×1 Array{Float64,2}:\n",
       " 0.378509"
      ]
     },
     "execution_count": 61,
     "metadata": {},
     "output_type": "execute_result"
    }
   ],
   "source": [
    "# ignore if running a bivariate outcome\n",
    "her_alt=altmodel3.Σ[1]/(altmodel3.Σ[1]+altmodel3.Σ[2])"
   ]
  },
  {
   "cell_type": "markdown",
   "metadata": {},
   "source": [
    "Portion of the genetic variation explained by the snp is a measure of the effect of the snp on a signal trait. Note that in this simulated example the SNP effect is very large indeed. "
   ]
  },
  {
   "cell_type": "code",
   "execution_count": 62,
   "metadata": {},
   "outputs": [
    {
     "data": {
      "text/plain": [
       "1×1 Array{Float64,2}:\n",
       " 0.303183"
      ]
     },
     "execution_count": 62,
     "metadata": {},
     "output_type": "execute_result"
    }
   ],
   "source": [
    "add_proport=(nullmodel.Σ[1]-altmodel3.Σ[1])/nullmodel.Σ[1]"
   ]
  },
  {
   "cell_type": "markdown",
   "metadata": {},
   "source": [
    "Portion of total variation explained by the snp is an alterative to the above. Again, typically the effects are not nearly so large.  "
   ]
  },
  {
   "cell_type": "code",
   "execution_count": 63,
   "metadata": {},
   "outputs": [
    {
     "data": {
      "text/plain": [
       "1×1 Array{Float64,2}:\n",
       " 0.166017"
      ]
     },
     "execution_count": 63,
     "metadata": {},
     "output_type": "execute_result"
    }
   ],
   "source": [
    "pheno_proport=(nullmodel.Σ[1]+nullmodel.Σ[2]-altmodel3.Σ[1]-altmodel3.Σ[2])/(nullmodel.Σ[1]+nullmodel.Σ[2])"
   ]
  }
 ],
 "metadata": {
  "kernelspec": {
   "display_name": "Julia 0.6.4",
   "language": "julia",
   "name": "julia-0.6"
  },
  "language_info": {
   "file_extension": ".jl",
   "mimetype": "application/julia",
   "name": "julia",
   "version": "0.6.4"
  },
  "toc": {
   "colors": {
    "hover_highlight": "#DAA520",
    "running_highlight": "#FF0000",
    "selected_highlight": "#FFD700"
   },
   "moveMenuLeft": true,
   "nav_menu": {
    "height": "30px",
    "width": "252px"
   },
   "navigate_menu": true,
   "number_sections": true,
   "sideBar": true,
   "threshold": 4,
   "toc_cell": false,
   "toc_section_display": "block",
   "toc_window_display": false,
   "widenNotebook": false
  }
 },
 "nbformat": 4,
 "nbformat_minor": 2
}
