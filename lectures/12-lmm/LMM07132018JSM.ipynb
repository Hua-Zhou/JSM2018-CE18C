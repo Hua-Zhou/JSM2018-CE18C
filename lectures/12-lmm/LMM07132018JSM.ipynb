{
 "cells": [
  {
   "cell_type": "markdown",
   "metadata": {},
   "source": [
    "# Estimating Heritability and Testing SNP Association using Maximum Likelihoods of Variance Component Models"
   ]
  },
  {
   "cell_type": "markdown",
   "metadata": {},
   "source": [
    "Authors: Sarah Ji, Janet Sinsheimer and Hua Zhou"
   ]
  },
  {
   "cell_type": "markdown",
   "metadata": {},
   "source": [
    "We will use a variance component model (also called a linear mixed model) to estimate heritability of a trait and then test for association to specified markers. We are conducting here the equivalent of a replication or a candidate SNP approach.  Normally if we had no prior hypothesis regarding particular loci (candidate gene approach), we would be first be testing markers genomewide using a GWAS approach that can handle pedigree data appropriately (see later lesson).  In that case, we would probably be using a fast score test approach rather than by maximum likelihood. However, maximum likelihood provides more accurate inference and parameters estimates and can be used to refine interference after screening.  We will also use the variance component frame work with maximum likelihood tests when conducting Mendelian randomization with families so it's useful for us to understand how the Julia package, VarianceComponentModels.jl, works and how to load in large data sets into Julia using the package, SnpArrays.jl. \n",
    "\n"
   ]
  },
  {
   "cell_type": "markdown",
   "metadata": {},
   "source": [
    "## Data files\n",
    "\n",
    "In the GAW19 dataset there are 849 individuals in 20 families and 8,348,674 loci located on the odd chromosomes. All of these individuals were genotyped and a fraction of them also have sequence data. The majority of the sequenced loci are imputed for the remaining individuals. The largest family contains 107 individuals, the smallest, 27.\n",
    "\n",
    "For illustration purposes, we changed the names of the loci to fit Julia's style guide Julia Style Guide.\n",
    "\n",
    "Genetic Analysis Workshop 19: methods and strategies for analyzing human sequence and gene expression data in extended families and unrelated individuals, Corinne D. EngelmanEmail author, Celia M. T. Greenwood, Julia N. Bailey, Rita M. Cantor, Jack W. KentJr, Inke R. König, Justo Lorenzo Bermejo, Phillip E. Melton, Stephanie A. Santorico, Arne Schillert, Ellen M. Wijsman, Jean W. MacCluer and Laura Almasy, BMC Proceedings201610(Suppl 7):19 https://doi.org/10.1186/s12919-016-0007-z\n",
    "\n",
    "Genome-wide QTL and eQTL analyses using Mendel, Hua Zhou, Jin Zhou, Tao Hu, Eric M. Sobel, Kenneth Lange https://www.ncbi.nlm.nih.gov/pmc/articles/PMC5133530/\n",
    "\n",
    "Typing \";\" brings lets us use unix commands. Before starting the analysis we first use the unix command \"ls\" to check that the files are in our working directory.   \n"
   ]
  },
  {
   "cell_type": "code",
   "execution_count": 1,
   "metadata": {},
   "outputs": [
    {
     "name": "stdout",
     "output_type": "stream",
     "text": [
      "-rw-------@ 1 huazhou  staff  1778267565 Mar 11 22:14 SNPdata.bed\n",
      "-rw-------@ 1 huazhou  staff   252411294 Jul  6 04:52 SNPnamesLMM.in\n",
      "-rw-------@ 1 huazhou  staff       34398 Jul  6 04:41 pedLMM07052018.fam\n"
     ]
    }
   ],
   "source": [
    ";ls -l pedLMM07052018.fam SNPnamesLMM.in SNPdata.bed"
   ]
  },
  {
   "cell_type": "markdown",
   "metadata": {},
   "source": [
    "## Read in the data\n",
    "\n",
    "Take a look at the first 10 lines of the pedigree file, pedLMM07052918.fam. The columns are comma separated. This file is in the classic Mendel format, Family Id, Person ID, Father ID, Mother Id, sex as F (female) or M (male), monozygotic twin indicator, simtrait1 and simtrait2.  The traits were simulated using the Julia program TraitSimulation.jl using genotyped and imputed variants to have a main effect from two snps, one on chromosome 1 and the other on chromosome 13 as well as an interaction between these two SNPs.  If you look at the file carefully you will note that we don't know how individuals within a pedigree are related.  That is o.k. when using variant component models because we can use the GRM as a proxy for the Kinship matrix. "
   ]
  },
  {
   "cell_type": "code",
   "execution_count": 2,
   "metadata": {},
   "outputs": [
    {
     "name": "stdout",
     "output_type": "stream",
     "text": [
      "2,200001,,,M,,0.870472967,1.245755458\r\n",
      "2,200002,,,F,,-1.686156772,0.435395909\r\n",
      "2,200003,,,F,,0.666343843,-0.150266906\r\n",
      "2,200004,,,F,,0.083925361,-0.724815477\r\n",
      "2,200005,,,M,,0.786505745,0.830477935\r\n",
      "2,200006,,,M,,1.563371074,0.172045237\r\n",
      "2,200007,,,F,,1.088919384,-0.395792086\r\n",
      "2,200008,,,F,,-1.151107782,2.11290715\r\n",
      "2,200009,,,F,,-0.36535092,0.759092316\r\n",
      "2,200012,,,M,,-0.630388002,1.81987199\r\n"
     ]
    }
   ],
   "source": [
    ";head pedLMM07052018.fam"
   ]
  },
  {
   "cell_type": "markdown",
   "metadata": {},
   "source": [
    "Read in the pedigree file into an array."
   ]
  },
  {
   "cell_type": "code",
   "execution_count": 3,
   "metadata": {},
   "outputs": [
    {
     "data": {
      "text/plain": [
       "849×8 Array{Any,2}:\n",
       "  2   200001  \"\"  \"\"  \"M\"  \"\"   0.870473    1.24576 \n",
       "  2   200002  \"\"  \"\"  \"F\"  \"\"  -1.68616     0.435396\n",
       "  2   200003  \"\"  \"\"  \"F\"  \"\"   0.666344   -0.150267\n",
       "  2   200004  \"\"  \"\"  \"F\"  \"\"   0.0839254  -0.724815\n",
       "  2   200005  \"\"  \"\"  \"M\"  \"\"   0.786506    0.830478\n",
       "  2   200006  \"\"  \"\"  \"M\"  \"\"   1.56337     0.172045\n",
       "  2   200007  \"\"  \"\"  \"F\"  \"\"   1.08892    -0.395792\n",
       "  2   200008  \"\"  \"\"  \"F\"  \"\"  -1.15111     2.11291 \n",
       "  2   200009  \"\"  \"\"  \"F\"  \"\"  -0.365351    0.759092\n",
       "  2   200012  \"\"  \"\"  \"M\"  \"\"  -0.630388    1.81987 \n",
       "  2   200013  \"\"  \"\"  \"M\"  \"\"  -0.277382    1.46866 \n",
       "  2   200018  \"\"  \"\"  \"M\"  \"\"   1.34288     0.417684\n",
       "  2   200023  \"\"  \"\"  \"F\"  \"\"   1.88722    -0.819818\n",
       "  ⋮                        ⋮                        \n",
       " 47  4701128  \"\"  \"\"  \"F\"  \"\"   1.76189     2.17118 \n",
       " 47  4701129  \"\"  \"\"  \"M\"  \"\"   1.35565     0.151142\n",
       " 47  4701130  \"\"  \"\"  \"M\"  \"\"  -0.0690388   2.2869  \n",
       " 47  4701131  \"\"  \"\"  \"F\"  \"\"   0.419444    2.81945 \n",
       " 47  4701132  \"\"  \"\"  \"F\"  \"\"   1.47836    -0.276582\n",
       " 47  4701133  \"\"  \"\"  \"F\"  \"\"  -0.274552   -0.453944\n",
       " 47  4701134  \"\"  \"\"  \"F\"  \"\"   0.177762   -0.350015\n",
       " 47  4701135  \"\"  \"\"  \"F\"  \"\"  -0.464458    5.33595 \n",
       " 47  4701136  \"\"  \"\"  \"M\"  \"\"   0.0336769   0.11002 \n",
       " 47  4701137  \"\"  \"\"  \"M\"  \"\"   1.26861    -0.2     \n",
       " 47  4701138  \"\"  \"\"  \"M\"  \"\"  -0.319195    1.37059 \n",
       " 47  4701139  \"\"  \"\"  \"F\"  \"\"   0.114271    6.70812 "
      ]
     },
     "execution_count": 3,
     "metadata": {},
     "output_type": "execute_result"
    }
   ],
   "source": [
    "# columns are: :famid, :id, :moid, :faid, :sex, :twin, :simtrait1,:simtrait2\n",
    "pedLMM = readcsv(\"pedLMM07052018.fam\", Any; header = false)"
   ]
  },
  {
   "cell_type": "markdown",
   "metadata": {},
   "source": [
    "We don't need to retain the ids so we retrieve the two phenotype data and put them in an array Y."
   ]
  },
  {
   "cell_type": "code",
   "execution_count": 4,
   "metadata": {},
   "outputs": [
    {
     "data": {
      "text/plain": [
       "849×2 Array{Float64,2}:\n",
       "  0.870473    1.24576 \n",
       " -1.68616     0.435396\n",
       "  0.666344   -0.150267\n",
       "  0.0839254  -0.724815\n",
       "  0.786506    0.830478\n",
       "  1.56337     0.172045\n",
       "  1.08892    -0.395792\n",
       " -1.15111     2.11291 \n",
       " -0.365351    0.759092\n",
       " -0.630388    1.81987 \n",
       " -0.277382    1.46866 \n",
       "  1.34288     0.417684\n",
       "  1.88722    -0.819818\n",
       "  ⋮                   \n",
       "  1.76189     2.17118 \n",
       "  1.35565     0.151142\n",
       " -0.0690388   2.2869  \n",
       "  0.419444    2.81945 \n",
       "  1.47836    -0.276582\n",
       " -0.274552   -0.453944\n",
       "  0.177762   -0.350015\n",
       " -0.464458    5.33595 \n",
       "  0.0336769   0.11002 \n",
       "  1.26861    -0.2     \n",
       " -0.319195    1.37059 \n",
       "  0.114271    6.70812 "
      ]
     },
     "execution_count": 4,
     "metadata": {},
     "output_type": "execute_result"
    }
   ],
   "source": [
    "simtrait1 = convert(Vector{Float64}, pedLMM[:, 7])\n",
    "simtrait2 = convert(Vector{Float64}, pedLMM[:, 8])\n",
    "Y = [simtrait1 simtrait2]"
   ]
  },
  {
   "cell_type": "markdown",
   "metadata": {},
   "source": [
    "We retrieve sex data coded as 0 (male) or 1 (female), which means male is the reference group.  You can change the \n",
    "code to sex = map(x -> strip(x) == \"M\"? 1.0 : 0.0,  pedLMM[:, 5]) if you want female to be the reference group. "
   ]
  },
  {
   "cell_type": "code",
   "execution_count": 5,
   "metadata": {},
   "outputs": [
    {
     "data": {
      "text/plain": [
       "849-element Array{Float64,1}:\n",
       " 0.0\n",
       " 1.0\n",
       " 1.0\n",
       " 1.0\n",
       " 0.0\n",
       " 0.0\n",
       " 1.0\n",
       " 1.0\n",
       " 1.0\n",
       " 0.0\n",
       " 0.0\n",
       " 0.0\n",
       " 1.0\n",
       " ⋮  \n",
       " 1.0\n",
       " 0.0\n",
       " 0.0\n",
       " 1.0\n",
       " 1.0\n",
       " 1.0\n",
       " 1.0\n",
       " 1.0\n",
       " 0.0\n",
       " 0.0\n",
       " 0.0\n",
       " 1.0"
      ]
     },
     "execution_count": 5,
     "metadata": {},
     "output_type": "execute_result"
    }
   ],
   "source": [
    "sex = map(x -> strip(x) == \"F\"? 1.0 : 0.0,  pedLMM[:, 5])"
   ]
  },
  {
   "cell_type": "markdown",
   "metadata": {},
   "source": [
    "Take a look at the first 10 lines of the SNP definition file before we read in into an array using a unix command."
   ]
  },
  {
   "cell_type": "code",
   "execution_count": 6,
   "metadata": {},
   "outputs": [
    {
     "name": "stdout",
     "output_type": "stream",
     "text": [
      "1,c1_54490,0,54490,A,G\n",
      "1,c1_55550,0,55550,T,A\n",
      "1,c1_57033,0,57033,C,T\n",
      "1,c1_57064,0,57064,A,G\n",
      "1,c1_57818,0,57818,A,C\n",
      "1,c1_58432,0,58432,C,T\n",
      "1,c1_58448,0,58448,A,G\n",
      "1,c1_58814,0,58814,A,G\n",
      "1,c1_59492,0,59492,G,A\n",
      "1,c1_60829,0,60829,T,C\n"
     ]
    }
   ],
   "source": [
    ";head SNPnamesLMM.in"
   ]
  },
  {
   "cell_type": "markdown",
   "metadata": {},
   "source": [
    "Read in the SNP definition file into a Julia array, skipping the first 2 lines."
   ]
  },
  {
   "cell_type": "code",
   "execution_count": 7,
   "metadata": {},
   "outputs": [
    {
     "data": {
      "text/plain": [
       "8348674×6 Array{Any,2}:\n",
       "  1  \"c1_54490\"      0     54490  \"A\"  \"G\"\n",
       "  1  \"c1_55550\"      0     55550  \"T\"  \"A\"\n",
       "  1  \"c1_57033\"      0     57033  \"C\"  \"T\"\n",
       "  1  \"c1_57064\"      0     57064  \"A\"  \"G\"\n",
       "  1  \"c1_57818\"      0     57818  \"A\"  \"C\"\n",
       "  1  \"c1_58432\"      0     58432  \"C\"  \"T\"\n",
       "  1  \"c1_58448\"      0     58448  \"A\"  \"G\"\n",
       "  1  \"c1_58814\"      0     58814  \"A\"  \"G\"\n",
       "  1  \"c1_59492\"      0     59492  \"G\"  \"A\"\n",
       "  1  \"c1_60829\"      0     60829  \"T\"  \"C\"\n",
       "  1  \"c1_61462\"      0     61462  \"A\"  \"T\"\n",
       "  1  \"c1_61920\"      0     61920  \"A\"  \"G\"\n",
       "  1  \"c1_62162\"      0     62162  \"A\"  \"G\"\n",
       "  ⋮                                    ⋮  \n",
       " 21  \"c21_48098508\"  0  48098508  \"T\"  \"C\"\n",
       " 21  \"c21_48098650\"  0  48098650  \"C\"  \"T\"\n",
       " 21  \"c21_48099610\"  0  48099610  \"C\"  \"T\"\n",
       " 21  \"c21_48099701\"  0  48099701  \"C\"  \"T\"\n",
       " 21  \"c21_48099782\"  0  48099782  \"C\"  \"G\"\n",
       " 21  \"c21_48099931\"  0  48099931  \"T\"  \"C\"\n",
       " 21  \"c21_48100155\"  0  48100155  \"T\"  \"C\"\n",
       " 21  \"c21_48100388\"  0  48100388  \"T\"  \"C\"\n",
       " 21  \"c21_48100711\"  0  48100711  \"T\"  \"G\"\n",
       " 21  \"c21_48100861\"  0  48100861  \"T\"  \"C\"\n",
       " 21  \"c21_48101335\"  0  48101335  \"G\"  \"T\"\n",
       " 21  \"c21_48101690\"  0  48101690  \"T\"  \"A\""
      ]
     },
     "execution_count": 7,
     "metadata": {},
     "output_type": "execute_result"
    }
   ],
   "source": [
    "# columns are: :snpid, :chrom, :pos, :allele1, :allele2, :groupname\n",
    "snpLMM = readcsv(\"SNPnamesLMM.in\", Any; header = false)"
   ]
  },
  {
   "cell_type": "markdown",
   "metadata": {},
   "source": [
    "We don't need the relative position of the snps in this case so we just retrieve SNP IDs."
   ]
  },
  {
   "cell_type": "code",
   "execution_count": 8,
   "metadata": {},
   "outputs": [
    {
     "data": {
      "text/plain": [
       "8348674-element Array{SubString{String},1}:\n",
       " \"c1_54490\"    \n",
       " \"c1_55550\"    \n",
       " \"c1_57033\"    \n",
       " \"c1_57064\"    \n",
       " \"c1_57818\"    \n",
       " \"c1_58432\"    \n",
       " \"c1_58448\"    \n",
       " \"c1_58814\"    \n",
       " \"c1_59492\"    \n",
       " \"c1_60829\"    \n",
       " \"c1_61462\"    \n",
       " \"c1_61920\"    \n",
       " \"c1_62162\"    \n",
       " ⋮             \n",
       " \"c21_48098508\"\n",
       " \"c21_48098650\"\n",
       " \"c21_48099610\"\n",
       " \"c21_48099701\"\n",
       " \"c21_48099782\"\n",
       " \"c21_48099931\"\n",
       " \"c21_48100155\"\n",
       " \"c21_48100388\"\n",
       " \"c21_48100711\"\n",
       " \"c21_48100861\"\n",
       " \"c21_48101335\"\n",
       " \"c21_48101690\""
      ]
     },
     "execution_count": 8,
     "metadata": {},
     "output_type": "execute_result"
    }
   ],
   "source": [
    "snpid = map(x -> strip(string(x)), snpLMM[:, 2])"
   ]
  },
  {
   "cell_type": "markdown",
   "metadata": {},
   "source": [
    "Read in the SNP binary file using the SnpArray.jl package."
   ]
  },
  {
   "cell_type": "code",
   "execution_count": 9,
   "metadata": {},
   "outputs": [
    {
     "data": {
      "text/plain": [
       "849×8348674 SnpArrays.SnpArray{2}:\n",
       " (true, true)   (false, true)   …  (false, true)   (true, true)\n",
       " (true, true)   (false, true)      (true, true)    (true, true)\n",
       " (true, true)   (false, true)      (true, true)    (true, true)\n",
       " (true, true)   (true, true)       (true, true)    (true, true)\n",
       " (true, true)   (true, true)       (false, true)   (true, true)\n",
       " (true, true)   (true, false)   …  (false, true)   (true, true)\n",
       " (true, true)   (true, true)       (false, true)   (true, true)\n",
       " (true, true)   (true, true)       (true, true)    (true, true)\n",
       " (true, true)   (false, true)      (true, true)    (true, true)\n",
       " (true, true)   (true, true)       (true, true)    (true, true)\n",
       " (true, true)   (false, false)  …  (false, true)   (true, true)\n",
       " (true, true)   (true, true)       (false, true)   (true, true)\n",
       " (true, true)   (true, false)      (true, true)    (true, true)\n",
       " ⋮                              ⋱                              \n",
       " (true, true)   (true, false)      (true, true)    (true, true)\n",
       " (true, true)   (false, true)      (false, true)   (true, true)\n",
       " (true, true)   (false, true)      (false, true)   (true, true)\n",
       " (true, true)   (false, true)   …  (false, true)   (true, true)\n",
       " (true, true)   (false, true)      (false, true)   (true, true)\n",
       " (true, true)   (false, true)      (true, true)    (true, true)\n",
       " (true, true)   (false, true)      (false, true)   (true, true)\n",
       " (true, true)   (false, true)      (false, false)  (true, true)\n",
       " (true, false)  (true, true)    …  (false, true)   (true, true)\n",
       " (true, false)  (true, true)       (false, false)  (true, true)\n",
       " (true, true)   (false, true)      (false, true)   (true, true)\n",
       " (true, true)   (false, false)     (false, false)  (true, true)"
      ]
     },
     "execution_count": 9,
     "metadata": {},
     "output_type": "execute_result"
    },
    {
     "name": "stderr",
     "output_type": "stream",
     "text": [
      "\u001b[1m\u001b[36mINFO: \u001b[39m\u001b[22m\u001b[36mv1.0 BED file detected\n",
      "\u001b[39m"
     ]
    }
   ],
   "source": [
    "using SnpArrays\n",
    "\n",
    "snpbinLMM = SnpArray(\"SNPdata\"; people = size(pedLMM, 1), snps = size(snpLMM, 1))"
   ]
  },
  {
   "cell_type": "markdown",
   "metadata": {},
   "source": [
    "### Filtering the variant data to improve the quality of the GRM"
   ]
  },
  {
   "cell_type": "markdown",
   "metadata": {},
   "source": [
    "First we check what the minor allele frequencies are. We can see by checking the quantiles that many of the loci are invariant or rather rare. By default the GRM function uses only variants with minor allele frequencies greater than 0.01 but we want to impose additional restrictions so that the MAF >0.05 and the percent success rate is >98% to avoid potential biases"
   ]
  },
  {
   "cell_type": "code",
   "execution_count": 10,
   "metadata": {},
   "outputs": [
    {
     "data": {
      "text/plain": [
       "([0.0142012, 0.403226, 0.0711679, 0.0709951, 0.0777643, 0.0511084, 0.0517241, 0.000589623, 0.00117786, 0.0733496  …  0.00647821, 0.00176678, 0.00471143, 0.000588928, 0.0241461, 0.0153121, 0.0223793, 0.00294464, 0.494693, 0.00176678], Bool[true, true, true, true, true, true, true, true, true, true  …  true, true, true, true, true, true, true, true, true, true], [4, 43, 27, 25, 26, 37, 37, 1, 0, 31  …  0, 0, 0, 0, 0, 0, 0, 0, 1, 0], [1192, 1428, 2284, 16264, 1917, 1224, 2342, 2909, 1569, 4783  …  2898, 3139, 3349, 5221, 6088, 15218, 10806, 11987, 588, 10930])"
      ]
     },
     "execution_count": 10,
     "metadata": {},
     "output_type": "execute_result"
    }
   ],
   "source": [
    "maf, minor_allele, missings_by_snp, missings_by_person = summarize(snpbinLMM)"
   ]
  },
  {
   "cell_type": "code",
   "execution_count": 11,
   "metadata": {},
   "outputs": [
    {
     "data": {
      "text/plain": [
       "1×5 Array{Float64,2}:\n",
       " 0.0  0.00294464  0.0100118  0.114252  0.5"
      ]
     },
     "execution_count": 11,
     "metadata": {},
     "output_type": "execute_result"
    }
   ],
   "source": [
    "quantile(maf, [0.0 .25 .5 .75 1.0])"
   ]
  },
  {
   "cell_type": "code",
   "execution_count": 12,
   "metadata": {},
   "outputs": [
    {
     "data": {
      "text/plain": [
       "(Bool[true, false, false, false, false, false, false, true, true, false  …  true, true, true, true, true, true, true, true, true, true], Bool[true, true, true, true, true, true, true, true, true, true  …  true, true, true, true, true, true, true, true, true, true])"
      ]
     },
     "execution_count": 12,
     "metadata": {},
     "output_type": "execute_result"
    }
   ],
   "source": [
    "#first we filter out snps with genotype success rates < 98% and get the snp id's of snps with MAF>0.98\n",
    "snp_idx, _ = filter(snpbinLMM, 0.98)"
   ]
  },
  {
   "cell_type": "code",
   "execution_count": 13,
   "metadata": {
    "collapsed": true
   },
   "outputs": [],
   "source": [
    "#now we find the index of the common snps (MAF greater than or equal to 0.05) with success rates >0.98\n",
    "common_index = snp_idx .& (0.05 .≤ maf);"
   ]
  },
  {
   "cell_type": "code",
   "execution_count": 14,
   "metadata": {},
   "outputs": [
    {
     "data": {
      "text/plain": [
       "849×2757072 SnpArrays.SnpArray{2}:\n",
       " (true, true)   (true, true)  (true, true)  …  (true, true)    (false, true) \n",
       " (true, true)   (true, true)  (true, true)     (false, true)   (true, true)  \n",
       " (true, true)   (true, true)  (true, true)     (false, true)   (true, true)  \n",
       " (true, false)  (true, true)  (true, true)     (false, true)   (true, true)  \n",
       " (true, true)   (true, true)  (true, true)     (false, true)   (false, true) \n",
       " (false, true)  (true, true)  (true, true)  …  (false, true)   (false, true) \n",
       " (true, true)   (true, true)  (true, true)     (true, true)    (false, true) \n",
       " (false, true)  (true, true)  (true, true)     (false, true)   (true, true)  \n",
       " (true, true)   (true, true)  (true, true)     (false, false)  (true, true)  \n",
       " (false, true)  (true, true)  (true, true)     (true, true)    (true, true)  \n",
       " (true, true)   (true, true)  (true, true)  …  (true, true)    (false, true) \n",
       " (true, true)   (true, true)  (true, true)     (true, true)    (false, true) \n",
       " (false, true)  (true, true)  (true, true)     (true, true)    (true, true)  \n",
       " ⋮                                          ⋱  ⋮                             \n",
       " (true, true)   (true, true)  (true, true)     (false, false)  (true, true)  \n",
       " (true, true)   (true, true)  (true, true)     (true, false)   (false, true) \n",
       " (true, true)   (true, true)  (true, true)     (false, true)   (false, true) \n",
       " (true, true)   (true, true)  (true, true)  …  (false, true)   (false, true) \n",
       " (true, true)   (true, true)  (true, true)     (false, true)   (false, true) \n",
       " (true, true)   (true, true)  (true, true)     (false, false)  (true, true)  \n",
       " (true, true)   (true, true)  (true, true)     (false, true)   (false, true) \n",
       " (false, true)  (true, true)  (true, true)     (true, true)    (false, false)\n",
       " (false, true)  (true, true)  (true, true)  …  (false, true)   (false, true) \n",
       " (false, true)  (true, true)  (true, true)     (true, true)    (false, false)\n",
       " (true, true)   (true, true)  (true, true)     (false, true)   (false, true) \n",
       " (false, true)  (true, true)  (true, true)     (true, true)    (false, false)"
      ]
     },
     "execution_count": 14,
     "metadata": {},
     "output_type": "execute_result"
    }
   ],
   "source": [
    "# now we put these snps into an array for use with the GRM function. \n",
    "data_common = snpbinLMM[ : , common_index]"
   ]
  },
  {
   "cell_type": "markdown",
   "metadata": {},
   "source": [
    "## Kinship via Genetic Relationship Matrix (GRM)\n",
    "\n",
    "Recall that in using variance components (linear mixed models) we need a measure of the relatedness among individuals. Under the GRM formulation, the estimate of the global kinship coefficient of individuals $i$ and $j$ is\n",
    "$$ \\widehat\\Phi_{GRMij}^  = \\frac{1}{2S} \\sum_{k=1}^S \\frac{(x_{ik} -2p_k)(x_{jk} - 2p_k)}{2 p_k (1-p_k)}$$,\n",
    "where $k$ ranges over the selected $S$ SNPs, $p_k$ is the minor allele frequency of SNP $k$, and $x_{ik}$ is the number of minor alleles in individual $i$s genotype at SNP $k$."
   ]
  },
  {
   "cell_type": "markdown",
   "metadata": {},
   "source": [
    "## Calculate the GRM matrix\n",
    "\n",
    "By default, `grm` excludes SNPs with maf < 0.01 but we will use only the common snps with good success rates. "
   ]
  },
  {
   "cell_type": "code",
   "execution_count": 15,
   "metadata": {},
   "outputs": [
    {
     "data": {
      "text/plain": [
       "849×849 Array{Float64,2}:\n",
       "  0.481911      0.00738618   -0.00761969   …  -0.0134622    -0.00824202 \n",
       "  0.00738618    0.496348      0.00112594       8.40893e-5    0.00663853 \n",
       " -0.00761969    0.00112594    0.489401         0.0094265    -0.000608303\n",
       "  0.00732816    0.00836948   -0.0016404       -0.00695838   -0.00392229 \n",
       " -0.0134106     0.00797252    0.00166333       0.016533      0.00667759 \n",
       "  0.0184094     0.00926725    0.0031459    …  -0.00382417   -0.000760924\n",
       "  0.000637105  -0.000872816   0.0119925       -0.00305508   -0.00106326 \n",
       " -0.0250148     0.000824629   0.00668872       0.014293      0.0112914  \n",
       " -0.011422     -0.00382575   -0.0014202        0.00974001    0.00882354 \n",
       " -0.00526456    0.000503694   0.00646038      -0.000112577  -0.00367339 \n",
       " -0.00593591   -0.00147094    0.00404083   …  -0.000272617  -0.00578835 \n",
       " -0.010822     -0.00621223    0.00487296       0.00734693    0.00505043 \n",
       " -0.00749813    0.00238692    0.00475381      -0.00257178    0.00267197 \n",
       "  ⋮                                        ⋱                            \n",
       "  0.00543217   -0.000382959   0.00650884       0.114502      0.00821435 \n",
       "  0.00302973    0.00502618    0.000395908      0.133874      0.0241476  \n",
       " -0.000433439   0.00145723    0.00502926       0.115725      0.026258   \n",
       " -0.0047783     0.00541306    0.00351011   …   0.107563      0.0188314  \n",
       "  0.00345863    0.00371821    0.000875758      0.125218      0.0131569  \n",
       " -0.000688605   0.00380041    0.00101758       0.0242371     0.136281   \n",
       " -0.00232197    0.00501461    0.00156609       0.0352248     0.11824    \n",
       " -0.00306832    0.00527401    0.000427821      0.0292964     0.244678   \n",
       " -0.00094964   -0.000389829   0.00288559   …   0.034575      0.160171   \n",
       " -0.00262845   -0.00110736    0.004352         0.0228114     0.128851   \n",
       " -0.0134622     8.40893e-5    0.0094265        0.499963      0.0158183  \n",
       " -0.00824202    0.00663853   -0.000608303      0.0158183     0.505079   "
      ]
     },
     "execution_count": 15,
     "metadata": {},
     "output_type": "execute_result"
    }
   ],
   "source": [
    "Φgrm = grm(data_common)"
   ]
  },
  {
   "cell_type": "markdown",
   "metadata": {},
   "source": [
    "## Fit the null variance component model\n",
    "\n",
    "Recall that we are using a variance component model with simtrait1 as the outcome. Under the null hypothesis simtrait1 is associated with sex (as a fixed effect).  We also need to account for the relatedness among individuals.  To do that we include a random effect and use the GRM matrix to describe the covariation structure. \n",
    "    $$ Y_{2i} = \\mu +\\beta_{sex} sex_i + A_i + e_i$$ \n",
    "    $$ A_i \\sim N(0,\\sigma^2_a)$$ $$e_i \\sim N(0,\\sigma^2_e)$$\n",
    "    $$ Cov(Y_{2i},Y_{2j})=2\\Phi_{ij} \\sigma^2_a + 1_{i = j}\\sigma^2_e$$"
   ]
  },
  {
   "cell_type": "code",
   "execution_count": 16,
   "metadata": {},
   "outputs": [
    {
     "name": "stderr",
     "output_type": "stream",
     "text": [
      "\u001b[1m\u001b[36mINFO: \u001b[39m\u001b[22m\u001b[36mRecompiling stale cache file /Users/huazhou/.julia/lib/v0.6/Ipopt.ji for module Ipopt.\n",
      "\u001b[39m"
     ]
    },
    {
     "data": {
      "text/plain": [
       "VarianceComponentModels.VarianceComponentVariate{Float64,2,Array{Float64,1},Array{Float64,2},Array{Float64,2}}([0.870473, -1.68616, 0.666344, 0.0839254, 0.786506, 1.56337, 1.08892, -1.15111, -0.365351, -0.630388  …  -0.0690388, 0.419444, 1.47836, -0.274552, 0.177762, -0.464458, 0.0336769, 1.26861, -0.319195, 0.114271], [1.0 0.0; 1.0 1.0; … ; 1.0 0.0; 1.0 1.0], ([0.963822 0.0147724 … -0.0269244 -0.016484; 0.0147724 0.992695 … 0.000168179 0.0132771; … ; -0.0269244 0.000168179 … 0.999926 0.0316366; -0.016484 0.0132771 … 0.0316366 1.01016], [1.0 0.0 … 0.0 0.0; 0.0 1.0 … 0.0 0.0; … ; 0.0 0.0 … 1.0 0.0; 0.0 0.0 … 0.0 1.0]))"
      ]
     },
     "execution_count": 16,
     "metadata": {},
     "output_type": "execute_result"
    }
   ],
   "source": [
    "using VarianceComponentModels\n",
    "# Null data model has two variance components but no SNP fixed effects\n",
    "\n",
    "# form data as VarianceComponentVariate matrix \n",
    "#change the next commands if you want to run trait 2 or both traits (Y)\n",
    "X = [ones(length(simtrait1)) sex]\n",
    "#X = [ones(length(simtrait2)) sex]\n",
    "nulldata = VarianceComponentVariate(Y[:,1], X, (2Φgrm, eye(length(simtrait1))))\n",
    "#nulldata = VarianceComponentVariate(Y[:,2], X, (2Φgrm, eye(length(simtrait2))))"
   ]
  },
  {
   "cell_type": "markdown",
   "metadata": {},
   "source": [
    "When we run an alternative model with the additional effects of the SNPs, it can be helpful to start from our best estimates from the null model. Initialize the variance component model parameters."
   ]
  },
  {
   "cell_type": "code",
   "execution_count": 17,
   "metadata": {},
   "outputs": [
    {
     "data": {
      "text/plain": [
       "VarianceComponentModels.VarianceComponentModel{Float64,2,Array{Float64,2},Array{Float64,2}}([0.0; 0.0], ([1.0], [1.0]), Array{Float64}(0,2), Char[], Float64[], -Inf, Inf)"
      ]
     },
     "execution_count": 17,
     "metadata": {},
     "output_type": "execute_result"
    }
   ],
   "source": [
    "nullmodel = VarianceComponentModel(nulldata)"
   ]
  },
  {
   "cell_type": "code",
   "execution_count": 18,
   "metadata": {},
   "outputs": [
    {
     "data": {
      "text/plain": [
       "(-1233.713328747652, VarianceComponentModels.VarianceComponentModel{Float64,2,Array{Float64,2},Array{Float64,2}}([0.371876; 0.133857], ([0.546329], [0.640098]), Array{Float64}(0,2), Char[], Float64[], -Inf, Inf), ([0.095306], [0.0690717]), [0.00908324 -0.00482352; -0.00482352 0.0047709], [0.0489772; 0.0699751], [0.00239877 -0.0028376; -0.0028376 0.00489651])"
      ]
     },
     "execution_count": 18,
     "metadata": {},
     "output_type": "execute_result"
    },
    {
     "name": "stdout",
     "output_type": "stream",
     "text": [
      "\n",
      "******************************************************************************\n",
      "This program contains Ipopt, a library for large-scale nonlinear optimization.\n",
      " Ipopt is released as open source code under the Eclipse Public License (EPL).\n",
      "         For more information visit http://projects.coin-or.org/Ipopt\n",
      "******************************************************************************\n",
      "\n",
      "This is Ipopt version 3.12.8, running with linear solver mumps.\n",
      "NOTE: Other linear solvers might be more efficient (see Ipopt documentation).\n",
      "\n",
      "Number of nonzeros in equality constraint Jacobian...:        0\n",
      "Number of nonzeros in inequality constraint Jacobian.:        0\n",
      "Number of nonzeros in Lagrangian Hessian.............:        3\n",
      "\n",
      "Total number of variables............................:        2\n",
      "                     variables with only lower bounds:        0\n",
      "                variables with lower and upper bounds:        0\n",
      "                     variables with only upper bounds:        0\n",
      "Total number of equality constraints.................:        0\n",
      "Total number of inequality constraints...............:        0\n",
      "        inequality constraints with only lower bounds:        0\n",
      "   inequality constraints with lower and upper bounds:        0\n",
      "        inequality constraints with only upper bounds:        0\n",
      "\n",
      "iter    objective    inf_pr   inf_du lg(mu)  ||d||  lg(rg) alpha_du alpha_pr  ls\n",
      "   0  1.2801440e+03 0.00e+00 1.00e+02   0.0 0.00e+00    -  0.00e+00 0.00e+00   0 \n",
      "   5  1.2337133e+03 0.00e+00 2.04e-05 -11.0 4.63e-06    -  1.00e+00 1.00e+00f  1 MaxS\n",
      "\n",
      "Number of Iterations....: 9\n",
      "\n",
      "                                   (scaled)                 (unscaled)\n",
      "Objective...............:   6.1605970738134022e+02    1.2337133287476520e+03\n",
      "Dual infeasibility......:   1.8336703273253909e-09    3.6720848584081978e-09\n",
      "Constraint violation....:   0.0000000000000000e+00    0.0000000000000000e+00\n",
      "Complementarity.........:   0.0000000000000000e+00    0.0000000000000000e+00\n",
      "Overall NLP error.......:   1.8336703273253909e-09    3.6720848584081978e-09\n",
      "\n",
      "\n",
      "Number of objective function evaluations             = 10\n",
      "Number of objective gradient evaluations             = 10\n",
      "Number of equality constraint evaluations            = 0\n",
      "Number of inequality constraint evaluations          = 0\n",
      "Number of equality constraint Jacobian evaluations   = 0\n",
      "Number of inequality constraint Jacobian evaluations = 0\n",
      "Number of Lagrangian Hessian evaluations             = 9\n",
      "Total CPU secs in IPOPT (w/o function evaluations)   =      1.808\n",
      "Total CPU secs in NLP function evaluations           =      0.242\n",
      "\n",
      "EXIT: Optimal Solution Found.\n",
      "  5.705884 seconds (3.89 M allocations: 198.574 MiB, 1.65% gc time)\n"
     ]
    }
   ],
   "source": [
    "@time nulllogl, nullmodel, = fit_mle!(nullmodel, nulldata; algo = :FS)"
   ]
  },
  {
   "cell_type": "code",
   "execution_count": 19,
   "metadata": {},
   "outputs": [
    {
     "data": {
      "text/plain": [
       "-1233.713328747652"
      ]
     },
     "execution_count": 19,
     "metadata": {},
     "output_type": "execute_result"
    }
   ],
   "source": [
    "# null model log-likelihood for no SNP effects\n",
    "nulllogl"
   ]
  },
  {
   "cell_type": "code",
   "execution_count": 20,
   "metadata": {},
   "outputs": [
    {
     "data": {
      "text/plain": [
       "2×1 Array{Float64,2}:\n",
       " 0.371876\n",
       " 0.133857"
      ]
     },
     "execution_count": 20,
     "metadata": {},
     "output_type": "execute_result"
    }
   ],
   "source": [
    "# null model mean effects - in this case a grand mean and a sex effect\n",
    "nullmodel.B"
   ]
  },
  {
   "cell_type": "code",
   "execution_count": 21,
   "metadata": {},
   "outputs": [
    {
     "data": {
      "text/plain": [
       "1×1 Array{Float64,2}:\n",
       " 0.546329"
      ]
     },
     "execution_count": 21,
     "metadata": {},
     "output_type": "execute_result"
    }
   ],
   "source": [
    "# null model additive genetic variance\n",
    "nullmodel.Σ[1]"
   ]
  },
  {
   "cell_type": "code",
   "execution_count": 22,
   "metadata": {},
   "outputs": [
    {
     "data": {
      "text/plain": [
       "1×1 Array{Float64,2}:\n",
       " 0.640098"
      ]
     },
     "execution_count": 22,
     "metadata": {},
     "output_type": "execute_result"
    }
   ],
   "source": [
    "# null model environmental variance\n",
    "nullmodel.Σ[2]"
   ]
  },
  {
   "cell_type": "markdown",
   "metadata": {},
   "source": [
    "### Heritability \n",
    "Calculate the proportion of the variance that can be attributed to additive genetic effects, the narrow sense heritability.  We calculate it here without any SNPs included. "
   ]
  },
  {
   "cell_type": "code",
   "execution_count": 23,
   "metadata": {},
   "outputs": [
    {
     "data": {
      "text/plain": [
       "1×1 Array{Float64,2}:\n",
       " 0.460483"
      ]
     },
     "execution_count": 23,
     "metadata": {},
     "output_type": "execute_result"
    }
   ],
   "source": [
    "her_null = nullmodel.Σ[1]/(nullmodel.Σ[1]+nullmodel.Σ[2])"
   ]
  },
  {
   "cell_type": "markdown",
   "metadata": {},
   "source": [
    "# Fit variance component model with the causal SNPs\n",
    "\n",
    "## Processing the SNP data\n",
    "These data were simulated under a scenario in which two snps have large main effects and they interact. First we find the indexes of the two SNPs. "
   ]
  },
  {
   "cell_type": "code",
   "execution_count": 24,
   "metadata": {},
   "outputs": [
    {
     "data": {
      "text/plain": [
       "6377239"
      ]
     },
     "execution_count": 24,
     "metadata": {},
     "output_type": "execute_result"
    }
   ],
   "source": [
    "#ind_c1_1360580 = find(x -> x == \"c1_1360580\", snpid)[1]\n",
    "# Use can change this SNP if you would like to assess another's snps effect on the trait, e.g.:\n",
    "#ind_c13_56233373 = find(x -> x == \"c13_56233373\", snpid)[1]\n",
    "#ind_c1_754121 = find(x -> x == \"c1_754121\", snpid)[1]\n",
    "ind_c1_1235710 = find(x -> x == \"c1_1235710\", snpid)[1]\n",
    "ind_c13_56233373 = find(x -> x == \"c13_56233373\", snpid)[1]\n"
   ]
  },
  {
   "cell_type": "markdown",
   "metadata": {},
   "source": [
    "Now we convert the SNP data into 0, 1, or 2 copies of the minor allele and form the data for the interaction of the two SNPs. "
   ]
  },
  {
   "cell_type": "code",
   "execution_count": 25,
   "metadata": {},
   "outputs": [
    {
     "data": {
      "text/plain": [
       "849-element Array{Float64,1}:\n",
       " 0.0\n",
       " 0.0\n",
       " 1.0\n",
       " 0.0\n",
       " 0.0\n",
       " 0.0\n",
       " 0.0\n",
       " 0.0\n",
       " 1.0\n",
       " 0.0\n",
       " 0.0\n",
       " 0.0\n",
       " 0.0\n",
       " ⋮  \n",
       " 0.0\n",
       " 0.0\n",
       " 0.0\n",
       " 0.0\n",
       " 0.0\n",
       " 0.0\n",
       " 0.0\n",
       " 0.0\n",
       " 0.0\n",
       " 0.0\n",
       " 0.0\n",
       " 0.0"
      ]
     },
     "execution_count": 25,
     "metadata": {},
     "output_type": "execute_result"
    }
   ],
   "source": [
    "#snp_c1_1360580 = convert(Vector{Float64}, snpbinLMM[:, ind_c1_1360580])\n",
    "#snp_c13_56233373 = convert(Vector{Float64}, snpbinLMM[:, ind_c13_56233373])\n",
    "#snp_c1_754121 = convert(Vector{Float64}, snpbinLMM[:, ind_c1_754121])\n",
    "snp_c1_1235710 = convert(Vector{Float64}, snpbinLMM[:, ind_c1_1235710])\n",
    "snp_c13_56233373 = convert(Vector{Float64}, snpbinLMM[:, ind_c13_56233373])\n",
    "interact = snp_c1_1235710 .* snp_c13_56233373"
   ]
  },
  {
   "cell_type": "markdown",
   "metadata": {},
   "source": [
    "## Look at the effect of a Single SNP snp_c1_1235710"
   ]
  },
  {
   "cell_type": "code",
   "execution_count": 26,
   "metadata": {},
   "outputs": [
    {
     "data": {
      "text/plain": [
       "VarianceComponentModels.VarianceComponentVariate{Float64,2,Array{Float64,1},Array{Float64,2},Array{Float64,2}}([0.870473, -1.68616, 0.666344, 0.0839254, 0.786506, 1.56337, 1.08892, -1.15111, -0.365351, -0.630388  …  -0.0690388, 0.419444, 1.47836, -0.274552, 0.177762, -0.464458, 0.0336769, 1.26861, -0.319195, 0.114271], [1.0 0.0 2.0; 1.0 1.0 0.0; … ; 1.0 0.0 0.0; 1.0 1.0 0.0], ([0.963822 0.0147724 … -0.0269244 -0.016484; 0.0147724 0.992695 … 0.000168179 0.0132771; … ; -0.0269244 0.000168179 … 0.999926 0.0316366; -0.016484 0.0132771 … 0.0316366 1.01016], [1.0 0.0 … 0.0 0.0; 0.0 1.0 … 0.0 0.0; … ; 0.0 0.0 … 1.0 0.0; 0.0 0.0 … 0.0 1.0]))"
      ]
     },
     "execution_count": 26,
     "metadata": {},
     "output_type": "execute_result"
    }
   ],
   "source": [
    "# form data as VarianceComponentVariate - put the data in a form that VarianceComponentModels can use\n",
    "Xalt = [ones(length(simtrait1)) sex snp_c1_1235710]\n",
    "#Xalt = [ones(length(simtrait1)) sex snp_c13_56233373]\n",
    "altdata = VarianceComponentVariate(Y[:,1], Xalt, (2Φgrm, eye(length(simtrait1))))\n",
    "#altdata = VarianceComponentVariate(Y[:,2], Xalt, (2Φgrm, eye(length(simtrait2))))"
   ]
  },
  {
   "cell_type": "code",
   "execution_count": 27,
   "metadata": {},
   "outputs": [
    {
     "data": {
      "text/plain": [
       "VarianceComponentModels.VarianceComponentModel{Float64,2,Array{Float64,2},Array{Float64,2}}([0.0; 0.0; 0.0], ([1.0], [1.0]), Array{Float64}(0,3), Char[], Float64[], -Inf, Inf)"
      ]
     },
     "execution_count": 27,
     "metadata": {},
     "output_type": "execute_result"
    }
   ],
   "source": [
    "altmodel = VarianceComponentModel(altdata)"
   ]
  },
  {
   "cell_type": "markdown",
   "metadata": {},
   "source": [
    "### Set the starting values for the maximum likelihood estimation\n",
    "Use the null model estimates as start values for the alternative model."
   ]
  },
  {
   "cell_type": "code",
   "execution_count": 28,
   "metadata": {},
   "outputs": [
    {
     "data": {
      "text/plain": [
       "3×1 Array{Float64,2}:\n",
       " 0.371876\n",
       " 0.133857\n",
       " 0.0     "
      ]
     },
     "execution_count": 28,
     "metadata": {},
     "output_type": "execute_result"
    }
   ],
   "source": [
    "altmodel.B[1:2, :] = nullmodel.B\n",
    "altmodel.B"
   ]
  },
  {
   "cell_type": "code",
   "execution_count": 29,
   "metadata": {},
   "outputs": [
    {
     "data": {
      "text/plain": [
       "([0.546329], [0.640098])"
      ]
     },
     "execution_count": 29,
     "metadata": {},
     "output_type": "execute_result"
    }
   ],
   "source": [
    "copy!(altmodel.Σ[1], nullmodel.Σ[1])\n",
    "copy!(altmodel.Σ[2], nullmodel.Σ[2])\n",
    "altmodel.Σ"
   ]
  },
  {
   "cell_type": "code",
   "execution_count": 30,
   "metadata": {},
   "outputs": [
    {
     "data": {
      "text/plain": [
       "(-1180.0477802327648, VarianceComponentModels.VarianceComponentModel{Float64,2,Array{Float64,2},Array{Float64,2}}([-0.065253; 0.162041; 0.587593], ([0.431819], [0.597935]), Array{Float64}(0,3), Char[], Float64[], -Inf, Inf), ([0.0806371], [0.0610984]), [0.00650235 -0.00357829; -0.00357829 0.00373301], [0.0619169; 0.0659945; 0.0548158], [0.00383371 -0.00263217 -0.00223942; -0.00263217 0.00435528 0.00015113; -0.00223942 0.00015113 0.00300477])"
      ]
     },
     "execution_count": 30,
     "metadata": {},
     "output_type": "execute_result"
    },
    {
     "name": "stdout",
     "output_type": "stream",
     "text": [
      "This is Ipopt version 3.12.8, running with linear solver mumps.\n",
      "NOTE: Other linear solvers might be more efficient (see Ipopt documentation).\n",
      "\n",
      "Number of nonzeros in equality constraint Jacobian...:        0\n",
      "Number of nonzeros in inequality constraint Jacobian.:        0\n",
      "Number of nonzeros in Lagrangian Hessian.............:        3\n",
      "\n",
      "Total number of variables............................:        2\n",
      "                     variables with only lower bounds:        0\n",
      "                variables with lower and upper bounds:        0\n",
      "                     variables with only upper bounds:        0\n",
      "Total number of equality constraints.................:        0\n",
      "Total number of inequality constraints...............:        0\n",
      "        inequality constraints with only lower bounds:        0\n",
      "   inequality constraints with lower and upper bounds:        0\n",
      "        inequality constraints with only upper bounds:        0\n",
      "\n",
      "iter    objective    inf_pr   inf_du lg(mu)  ||d||  lg(rg) alpha_du alpha_pr  ls\n",
      "   0  1.2500662e+03 0.00e+00 2.34e+02   0.0 0.00e+00    -  0.00e+00 0.00e+00   0 \n",
      "   5  1.1800478e+03 0.00e+00 1.21e-04 -11.0 2.14e-05    -  1.00e+00 1.00e+00f  1 MaxS\n",
      "\n",
      "Number of Iterations....: 9\n",
      "\n",
      "                                   (scaled)                 (unscaled)\n",
      "Objective...............:   1.1800477802327648e+03    1.1800477802327648e+03\n",
      "Dual infeasibility......:   2.6579964122665928e-09    2.6579964122665928e-09\n",
      "Constraint violation....:   0.0000000000000000e+00    0.0000000000000000e+00\n",
      "Complementarity.........:   0.0000000000000000e+00    0.0000000000000000e+00\n",
      "Overall NLP error.......:   2.6579964122665928e-09    2.6579964122665928e-09\n",
      "\n",
      "\n",
      "Number of objective function evaluations             = 10\n",
      "Number of objective gradient evaluations             = 10\n",
      "Number of equality constraint evaluations            = 0\n",
      "Number of inequality constraint evaluations          = 0\n",
      "Number of equality constraint Jacobian evaluations   = 0\n",
      "Number of inequality constraint Jacobian evaluations = 0\n",
      "Number of Lagrangian Hessian evaluations             = 9\n",
      "Total CPU secs in IPOPT (w/o function evaluations)   =      0.015\n",
      "Total CPU secs in NLP function evaluations           =      0.127\n",
      "\n",
      "EXIT: Optimal Solution Found.\n",
      "  0.197044 seconds (15.37 k allocations: 17.990 MiB, 3.67% gc time)\n"
     ]
    }
   ],
   "source": [
    "@time altlogl1, altmodel, = fit_mle!(altmodel, altdata; algo = :FS)"
   ]
  },
  {
   "cell_type": "code",
   "execution_count": 31,
   "metadata": {},
   "outputs": [
    {
     "data": {
      "text/plain": [
       "-1180.0477802327648"
      ]
     },
     "execution_count": 31,
     "metadata": {},
     "output_type": "execute_result"
    }
   ],
   "source": [
    "# alt model log-likelihood for the single SNP, snp_c1_1235710\n",
    "altlogl1"
   ]
  },
  {
   "cell_type": "code",
   "execution_count": 32,
   "metadata": {},
   "outputs": [
    {
     "data": {
      "text/plain": [
       "3×1 Array{Float64,2}:\n",
       " -0.065253\n",
       "  0.162041\n",
       "  0.587593"
      ]
     },
     "execution_count": 32,
     "metadata": {},
     "output_type": "execute_result"
    }
   ],
   "source": [
    "# alt model mean effects\n",
    "altmodel.B"
   ]
  },
  {
   "cell_type": "code",
   "execution_count": 33,
   "metadata": {},
   "outputs": [
    {
     "data": {
      "text/plain": [
       "1×1 Array{Float64,2}:\n",
       " 0.431819"
      ]
     },
     "execution_count": 33,
     "metadata": {},
     "output_type": "execute_result"
    }
   ],
   "source": [
    "# alt model additive genetic variance\n",
    "altmodel.Σ[1]"
   ]
  },
  {
   "cell_type": "code",
   "execution_count": 34,
   "metadata": {},
   "outputs": [
    {
     "data": {
      "text/plain": [
       "1×1 Array{Float64,2}:\n",
       " 0.597935"
      ]
     },
     "execution_count": 34,
     "metadata": {},
     "output_type": "execute_result"
    }
   ],
   "source": [
    "# alt model environmental variance\n",
    "altmodel.Σ[2]"
   ]
  },
  {
   "cell_type": "markdown",
   "metadata": {},
   "source": [
    "Notice that the additive genetic variance and the environmental variance have both decreased."
   ]
  },
  {
   "cell_type": "markdown",
   "metadata": {},
   "source": [
    "To test the significance of the SNP, we use LRT"
   ]
  },
  {
   "cell_type": "code",
   "execution_count": 35,
   "metadata": {},
   "outputs": [
    {
     "data": {
      "text/plain": [
       "107.33109702977436"
      ]
     },
     "execution_count": 35,
     "metadata": {},
     "output_type": "execute_result"
    }
   ],
   "source": [
    "using Distributions\n",
    "LRT1=2(altlogl1 - nulllogl)"
   ]
  },
  {
   "cell_type": "code",
   "execution_count": 36,
   "metadata": {},
   "outputs": [
    {
     "data": {
      "text/plain": [
       "3.7667740107217424e-25"
      ]
     },
     "execution_count": 36,
     "metadata": {},
     "output_type": "execute_result"
    }
   ],
   "source": [
    "#change the degrees of freedom if running a bivariate outcome\n",
    "pval_snp_c1_1235710 = ccdf(Chisq(1), LRT1)"
   ]
  },
  {
   "cell_type": "markdown",
   "metadata": {},
   "source": [
    "SNP, c1_1235710, has a significant effect. "
   ]
  },
  {
   "cell_type": "markdown",
   "metadata": {},
   "source": [
    "## Check for an interaction.  \n",
    "### First calculate the log likelihood for additive effects of the two snps c1_1235710 and c13_56233373 without the interaction\n",
    "Repeat the steps we took above:"
   ]
  },
  {
   "cell_type": "code",
   "execution_count": 37,
   "metadata": {},
   "outputs": [
    {
     "data": {
      "text/plain": [
       "VarianceComponentModels.VarianceComponentVariate{Float64,2,Array{Float64,1},Array{Float64,2},Array{Float64,2}}([0.870473, -1.68616, 0.666344, 0.0839254, 0.786506, 1.56337, 1.08892, -1.15111, -0.365351, -0.630388  …  -0.0690388, 0.419444, 1.47836, -0.274552, 0.177762, -0.464458, 0.0336769, 1.26861, -0.319195, 0.114271], [1.0 0.0 2.0 0.0; 1.0 1.0 0.0 0.0; … ; 1.0 0.0 0.0 0.0; 1.0 1.0 0.0 0.0], ([0.963822 0.0147724 … -0.0269244 -0.016484; 0.0147724 0.992695 … 0.000168179 0.0132771; … ; -0.0269244 0.000168179 … 0.999926 0.0316366; -0.016484 0.0132771 … 0.0316366 1.01016], [1.0 0.0 … 0.0 0.0; 0.0 1.0 … 0.0 0.0; … ; 0.0 0.0 … 1.0 0.0; 0.0 0.0 … 0.0 1.0]))"
      ]
     },
     "execution_count": 37,
     "metadata": {},
     "output_type": "execute_result"
    }
   ],
   "source": [
    "# form data as VarianceComponentVariate\n",
    "Xalt2 = [ones(length(simtrait1)) sex snp_c1_1235710 snp_c13_56233373]\n",
    "altdata2 = VarianceComponentVariate(Y[:,1], Xalt2, (2Φgrm, eye(length(simtrait1))))"
   ]
  },
  {
   "cell_type": "code",
   "execution_count": 38,
   "metadata": {},
   "outputs": [
    {
     "data": {
      "text/plain": [
       "VarianceComponentModels.VarianceComponentModel{Float64,2,Array{Float64,2},Array{Float64,2}}([0.0; 0.0; 0.0; 0.0], ([1.0], [1.0]), Array{Float64}(0,4), Char[], Float64[], -Inf, Inf)"
      ]
     },
     "execution_count": 38,
     "metadata": {},
     "output_type": "execute_result"
    }
   ],
   "source": [
    "altmodel2 = VarianceComponentModel(altdata2)"
   ]
  },
  {
   "cell_type": "code",
   "execution_count": 39,
   "metadata": {},
   "outputs": [
    {
     "data": {
      "text/plain": [
       "4×1 Array{Float64,2}:\n",
       " 0.371876\n",
       " 0.133857\n",
       " 0.0     \n",
       " 0.0     "
      ]
     },
     "execution_count": 39,
     "metadata": {},
     "output_type": "execute_result"
    }
   ],
   "source": [
    "altmodel2.B[1:2, :] = nullmodel.B\n",
    "altmodel2.B"
   ]
  },
  {
   "cell_type": "code",
   "execution_count": 40,
   "metadata": {},
   "outputs": [
    {
     "data": {
      "text/plain": [
       "([0.546329], [0.640098])"
      ]
     },
     "execution_count": 40,
     "metadata": {},
     "output_type": "execute_result"
    }
   ],
   "source": [
    "copy!(altmodel2.Σ[1], nullmodel.Σ[1])\n",
    "copy!(altmodel2.Σ[2], nullmodel.Σ[2])\n",
    "altmodel2.Σ"
   ]
  },
  {
   "cell_type": "code",
   "execution_count": 41,
   "metadata": {},
   "outputs": [
    {
     "data": {
      "text/plain": [
       "(-1172.3348087930935, VarianceComponentModels.VarianceComponentModel{Float64,2,Array{Float64,2},Array{Float64,2}}([-0.153326; 0.166454; 0.598326; 0.390986], ([0.3982], [0.605134]), Array{Float64}(0,4), Char[], Float64[], -Inf, Inf), ([0.0773512], [0.0600862]), [0.00598321 -0.0033584; -0.0033584 0.00361035], [0.0654447; 0.0655376; 0.0542119; 0.0986926], [0.00428301 -0.00262229 -0.00224891 -0.00220929; -0.00262229 0.00429518 0.000152568 0.00012016; -0.00224891 0.000152568 0.00293893 0.000280351; -0.00220929 0.00012016 0.000280351 0.00974023])"
      ]
     },
     "execution_count": 41,
     "metadata": {},
     "output_type": "execute_result"
    },
    {
     "name": "stdout",
     "output_type": "stream",
     "text": [
      "This is Ipopt version 3.12.8, running with linear solver mumps.\n",
      "NOTE: Other linear solvers might be more efficient (see Ipopt documentation).\n",
      "\n",
      "Number of nonzeros in equality constraint Jacobian...:        0\n",
      "Number of nonzeros in inequality constraint Jacobian.:        0\n",
      "Number of nonzeros in Lagrangian Hessian.............:        3\n",
      "\n",
      "Total number of variables............................:        2\n",
      "                     variables with only lower bounds:        0\n",
      "                variables with lower and upper bounds:        0\n",
      "                     variables with only upper bounds:        0\n",
      "Total number of equality constraints.................:        0\n",
      "Total number of inequality constraints...............:        0\n",
      "        inequality constraints with only lower bounds:        0\n",
      "   inequality constraints with lower and upper bounds:        0\n",
      "        inequality constraints with only upper bounds:        0\n",
      "\n",
      "iter    objective    inf_pr   inf_du lg(mu)  ||d||  lg(rg) alpha_du alpha_pr  ls\n",
      "   0  1.2462485e+03 0.00e+00 2.38e+02   0.0 0.00e+00    -  0.00e+00 0.00e+00   0 \n",
      "   5  1.1723348e+03 0.00e+00 6.21e-05 -11.0 1.54e-05    -  1.00e+00 1.00e+00f  1 MaxS\n",
      "\n",
      "Number of Iterations....: 8\n",
      "\n",
      "                                   (scaled)                 (unscaled)\n",
      "Objective...............:   1.1723348087930935e+03    1.1723348087930935e+03\n",
      "Dual infeasibility......:   8.8377873908029869e-09    8.8377873908029869e-09\n",
      "Constraint violation....:   0.0000000000000000e+00    0.0000000000000000e+00\n",
      "Complementarity.........:   0.0000000000000000e+00    0.0000000000000000e+00\n",
      "Overall NLP error.......:   8.8377873908029869e-09    8.8377873908029869e-09\n",
      "\n",
      "\n",
      "Number of objective function evaluations             = 9\n",
      "Number of objective gradient evaluations             = 9\n",
      "Number of equality constraint evaluations            = 0\n",
      "Number of inequality constraint evaluations          = 0\n",
      "Number of equality constraint Jacobian evaluations   = 0\n",
      "Number of inequality constraint Jacobian evaluations = 0\n",
      "Number of Lagrangian Hessian evaluations             = 8\n",
      "Total CPU secs in IPOPT (w/o function evaluations)   =      0.272\n",
      "Total CPU secs in NLP function evaluations           =      0.113\n",
      "\n",
      "EXIT: Optimal Solution Found.\n",
      "  0.788640 seconds (545.39 k allocations: 44.308 MiB, 2.18% gc time)\n"
     ]
    }
   ],
   "source": [
    "@time altlogl2, altmodel2, = fit_mle!(altmodel2, altdata2; algo = :FS)"
   ]
  },
  {
   "cell_type": "code",
   "execution_count": 42,
   "metadata": {},
   "outputs": [
    {
     "data": {
      "text/plain": [
       "-1172.3348087930935"
      ]
     },
     "execution_count": 42,
     "metadata": {},
     "output_type": "execute_result"
    }
   ],
   "source": [
    "altlogl2"
   ]
  },
  {
   "cell_type": "code",
   "execution_count": 43,
   "metadata": {},
   "outputs": [
    {
     "data": {
      "text/plain": [
       "4×1 Array{Float64,2}:\n",
       " -0.153326\n",
       "  0.166454\n",
       "  0.598326\n",
       "  0.390986"
      ]
     },
     "execution_count": 43,
     "metadata": {},
     "output_type": "execute_result"
    }
   ],
   "source": [
    "# alt model mean effects\n",
    "altmodel2.B"
   ]
  },
  {
   "cell_type": "code",
   "execution_count": 44,
   "metadata": {},
   "outputs": [
    {
     "data": {
      "text/plain": [
       "1×1 Array{Float64,2}:\n",
       " 0.3982"
      ]
     },
     "execution_count": 44,
     "metadata": {},
     "output_type": "execute_result"
    }
   ],
   "source": [
    "# alt model additive variance\n",
    "altmodel2.Σ[1]"
   ]
  },
  {
   "cell_type": "code",
   "execution_count": 45,
   "metadata": {},
   "outputs": [
    {
     "data": {
      "text/plain": [
       "1×1 Array{Float64,2}:\n",
       " 0.605134"
      ]
     },
     "execution_count": 45,
     "metadata": {},
     "output_type": "execute_result"
    }
   ],
   "source": [
    "# alt model environmental variance\n",
    "altmodel2.Σ[2]"
   ]
  },
  {
   "cell_type": "markdown",
   "metadata": {},
   "source": [
    "### Test whether the addition of the second SNP improves the model fit by comparing the loglikelihood with just snp c1_1235710 to the loglikelihood with both snp_c1_1235710 and snp_c13_56233373s"
   ]
  },
  {
   "cell_type": "code",
   "execution_count": 46,
   "metadata": {},
   "outputs": [
    {
     "data": {
      "text/plain": [
       "15.425942879342529"
      ]
     },
     "execution_count": 46,
     "metadata": {},
     "output_type": "execute_result"
    }
   ],
   "source": [
    "using Distributions\n",
    "LRT2=2(altlogl2 - altlogl1)"
   ]
  },
  {
   "cell_type": "code",
   "execution_count": 47,
   "metadata": {},
   "outputs": [
    {
     "data": {
      "text/plain": [
       "0.00044699129416948916"
      ]
     },
     "execution_count": 47,
     "metadata": {},
     "output_type": "execute_result"
    }
   ],
   "source": [
    "#change the degrees of freedom if running a bivariate outcome\n",
    "pval_snp_c13_56233373 = ccdf(Chisq(2), LRT2)"
   ]
  },
  {
   "cell_type": "markdown",
   "metadata": {},
   "source": [
    "## Check for evidence of an interaction between the two SNPs"
   ]
  },
  {
   "cell_type": "code",
   "execution_count": 48,
   "metadata": {},
   "outputs": [
    {
     "data": {
      "text/plain": [
       "VarianceComponentModels.VarianceComponentVariate{Float64,2,Array{Float64,1},Array{Float64,2},Array{Float64,2}}([0.870473, -1.68616, 0.666344, 0.0839254, 0.786506, 1.56337, 1.08892, -1.15111, -0.365351, -0.630388  …  -0.0690388, 0.419444, 1.47836, -0.274552, 0.177762, -0.464458, 0.0336769, 1.26861, -0.319195, 0.114271], [1.0 0.0 … 2.0 0.0; 1.0 1.0 … 0.0 0.0; … ; 1.0 0.0 … 0.0 0.0; 1.0 1.0 … 0.0 0.0], ([0.963822 0.0147724 … -0.0269244 -0.016484; 0.0147724 0.992695 … 0.000168179 0.0132771; … ; -0.0269244 0.000168179 … 0.999926 0.0316366; -0.016484 0.0132771 … 0.0316366 1.01016], [1.0 0.0 … 0.0 0.0; 0.0 1.0 … 0.0 0.0; … ; 0.0 0.0 … 1.0 0.0; 0.0 0.0 … 0.0 1.0]))"
      ]
     },
     "execution_count": 48,
     "metadata": {},
     "output_type": "execute_result"
    }
   ],
   "source": [
    "# form data as VarianceComponentVariate\n",
    "Xalt3 = [ones(length(simtrait1)) sex snp_c13_56233373 snp_c1_1235710 interact]\n",
    "altdata3 = VarianceComponentVariate(Y[:,1], Xalt3, (2Φgrm, eye(length(simtrait1))))"
   ]
  },
  {
   "cell_type": "markdown",
   "metadata": {},
   "source": [
    "Use the results of the two snp additive model as the starting point for the interaction model"
   ]
  },
  {
   "cell_type": "code",
   "execution_count": 49,
   "metadata": {},
   "outputs": [
    {
     "data": {
      "text/plain": [
       "VarianceComponentModels.VarianceComponentModel{Float64,2,Array{Float64,2},Array{Float64,2}}([0.0; 0.0; … ; 0.0; 0.0], ([1.0], [1.0]), Array{Float64}(0,5), Char[], Float64[], -Inf, Inf)"
      ]
     },
     "execution_count": 49,
     "metadata": {},
     "output_type": "execute_result"
    }
   ],
   "source": [
    "altmodel3 = VarianceComponentModel(altdata3)"
   ]
  },
  {
   "cell_type": "code",
   "execution_count": 50,
   "metadata": {},
   "outputs": [
    {
     "data": {
      "text/plain": [
       "5×1 Array{Float64,2}:\n",
       " -0.153326\n",
       "  0.166454\n",
       "  0.598326\n",
       "  0.390986\n",
       "  0.0     "
      ]
     },
     "execution_count": 50,
     "metadata": {},
     "output_type": "execute_result"
    }
   ],
   "source": [
    "altmodel3.B[1:4, :] = altmodel2.B\n",
    "altmodel3.B"
   ]
  },
  {
   "cell_type": "code",
   "execution_count": 51,
   "metadata": {},
   "outputs": [
    {
     "data": {
      "text/plain": [
       "([0.3982], [0.605134])"
      ]
     },
     "execution_count": 51,
     "metadata": {},
     "output_type": "execute_result"
    }
   ],
   "source": [
    "copy!(altmodel3.Σ[1], altmodel2.Σ[1])\n",
    "copy!(altmodel3.Σ[2], altmodel2.Σ[2])\n",
    "altmodel3.Σ"
   ]
  },
  {
   "cell_type": "code",
   "execution_count": 52,
   "metadata": {},
   "outputs": [
    {
     "data": {
      "text/plain": [
       "(-1167.9571457027407, VarianceComponentModels.VarianceComponentModel{Float64,2,Array{Float64,2},Array{Float64,2}}([-0.0989004; 0.157861; … ; 0.534164; 0.370651], ([0.402279], [0.593224]), Array{Float64}(0,5), Char[], Float64[], -Inf, Inf), ([0.0771439], [0.0594444]), [0.00595119 -0.00331915; -0.00331915 0.00353363], [0.0676099; 0.0652252; … ; 0.0581619; 0.124851], [0.00457109 -0.00264555 … -0.00262662 0.00229045; -0.00264555 0.00425432 … 0.000213904 -0.000364664; … ; -0.00262662 0.000213904 … 0.00338281 -0.0027003; 0.00229045 -0.000364664 … -0.0027003 0.0155878])"
      ]
     },
     "execution_count": 52,
     "metadata": {},
     "output_type": "execute_result"
    },
    {
     "name": "stdout",
     "output_type": "stream",
     "text": [
      "This is Ipopt version 3.12.8, running with linear solver mumps.\n",
      "NOTE: Other linear solvers might be more efficient (see Ipopt documentation).\n",
      "\n",
      "Number of nonzeros in equality constraint Jacobian...:        0\n",
      "Number of nonzeros in inequality constraint Jacobian.:        0\n",
      "Number of nonzeros in Lagrangian Hessian.............:        3\n",
      "\n",
      "Total number of variables............................:        2\n",
      "                     variables with only lower bounds:        0\n",
      "                variables with lower and upper bounds:        0\n",
      "                     variables with only upper bounds:        0\n",
      "Total number of equality constraints.................:        0\n",
      "Total number of inequality constraints...............:        0\n",
      "        inequality constraints with only lower bounds:        0\n",
      "   inequality constraints with lower and upper bounds:        0\n",
      "        inequality constraints with only upper bounds:        0\n",
      "\n",
      "iter    objective    inf_pr   inf_du lg(mu)  ||d||  lg(rg) alpha_du alpha_pr  ls\n",
      "   0  1.2438808e+03 0.00e+00 2.41e+02   0.0 0.00e+00    -  0.00e+00 0.00e+00   0 \n",
      "   5  1.1679571e+03 0.00e+00 3.68e-05 -11.0 1.02e-05    -  1.00e+00 1.00e+00f  1 MaxS\n",
      "\n",
      "Number of Iterations....: 8\n",
      "\n",
      "                                   (scaled)                 (unscaled)\n",
      "Objective...............:   1.1679571457027407e+03    1.1679571457027407e+03\n",
      "Dual infeasibility......:   3.5837501854985009e-09    3.5837501854985009e-09\n",
      "Constraint violation....:   0.0000000000000000e+00    0.0000000000000000e+00\n",
      "Complementarity.........:   0.0000000000000000e+00    0.0000000000000000e+00\n",
      "Overall NLP error.......:   3.5837501854985009e-09    3.5837501854985009e-09\n",
      "\n",
      "\n",
      "Number of objective function evaluations             = 9\n",
      "Number of objective gradient evaluations             = 9\n",
      "Number of equality constraint evaluations            = 0\n",
      "Number of inequality constraint evaluations          = 0\n",
      "Number of equality constraint Jacobian evaluations   = 0\n",
      "Number of inequality constraint Jacobian evaluations = 0\n",
      "Number of Lagrangian Hessian evaluations             = 8\n",
      "Total CPU secs in IPOPT (w/o function evaluations)   =      0.020\n",
      "Total CPU secs in NLP function evaluations           =      0.157\n",
      "\n",
      "EXIT: Optimal Solution Found.\n",
      "  0.222188 seconds (14.37 k allocations: 17.977 MiB, 3.82% gc time)\n"
     ]
    }
   ],
   "source": [
    "@time altlogl3, altmodel3, = fit_mle!(altmodel3, altdata3; algo = :FS)"
   ]
  },
  {
   "cell_type": "code",
   "execution_count": 53,
   "metadata": {},
   "outputs": [
    {
     "data": {
      "text/plain": [
       "-1167.9571457027407"
      ]
     },
     "execution_count": 53,
     "metadata": {},
     "output_type": "execute_result"
    }
   ],
   "source": [
    "altlogl3"
   ]
  },
  {
   "cell_type": "code",
   "execution_count": 54,
   "metadata": {},
   "outputs": [
    {
     "data": {
      "text/plain": [
       "5×1 Array{Float64,2}:\n",
       " -0.0989004\n",
       "  0.157861 \n",
       "  0.176031 \n",
       "  0.534164 \n",
       "  0.370651 "
      ]
     },
     "execution_count": 54,
     "metadata": {},
     "output_type": "execute_result"
    }
   ],
   "source": [
    "# alt model mean effects\n",
    "altmodel3.B"
   ]
  },
  {
   "cell_type": "code",
   "execution_count": 55,
   "metadata": {},
   "outputs": [
    {
     "data": {
      "text/plain": [
       "1×1 Array{Float64,2}:\n",
       " 0.402279"
      ]
     },
     "execution_count": 55,
     "metadata": {},
     "output_type": "execute_result"
    }
   ],
   "source": [
    "# alt model additive variance\n",
    "altmodel3.Σ[1]"
   ]
  },
  {
   "cell_type": "code",
   "execution_count": 56,
   "metadata": {},
   "outputs": [
    {
     "data": {
      "text/plain": [
       "1×1 Array{Float64,2}:\n",
       " 0.593224"
      ]
     },
     "execution_count": 56,
     "metadata": {},
     "output_type": "execute_result"
    }
   ],
   "source": [
    "# alt model environmental variance\n",
    "altmodel3.Σ[2]"
   ]
  },
  {
   "cell_type": "markdown",
   "metadata": {},
   "source": [
    "Test whether the interaction improves the model fit over the effects of the two SNPs alone"
   ]
  },
  {
   "cell_type": "code",
   "execution_count": 57,
   "metadata": {},
   "outputs": [
    {
     "data": {
      "text/plain": [
       "8.755326180705651"
      ]
     },
     "execution_count": 57,
     "metadata": {},
     "output_type": "execute_result"
    }
   ],
   "source": [
    "using Distributions\n",
    "LRT3=2(altlogl3 - altlogl2)"
   ]
  },
  {
   "cell_type": "code",
   "execution_count": 58,
   "metadata": {},
   "outputs": [
    {
     "data": {
      "text/plain": [
       "0.0030869915556650997"
      ]
     },
     "execution_count": 58,
     "metadata": {},
     "output_type": "execute_result"
    }
   ],
   "source": [
    "#change the degrees of freedom if running a bivariate outcome\n",
    "pval_snp_interact = ccdf(Chisq(1), LRT3)"
   ]
  },
  {
   "cell_type": "markdown",
   "metadata": {},
   "source": [
    "Residual Heritability. The proportion of additive genetic variation remaining after including the SNPs and their interaction in the model.  "
   ]
  },
  {
   "cell_type": "code",
   "execution_count": 59,
   "metadata": {},
   "outputs": [
    {
     "data": {
      "text/plain": [
       "1×1 Array{Float64,2}:\n",
       " 0.404096"
      ]
     },
     "execution_count": 59,
     "metadata": {},
     "output_type": "execute_result"
    }
   ],
   "source": [
    "# ignore if running a bivariate outcome\n",
    "her_alt=altmodel3.Σ[1]/(altmodel3.Σ[1]+altmodel3.Σ[2])"
   ]
  },
  {
   "cell_type": "markdown",
   "metadata": {},
   "source": [
    "Portion of the genetic variation explained by the snp is a measure of the effect of the snp on a signal trait. Note that in this simulated example the SNP effect is very large indeed. "
   ]
  },
  {
   "cell_type": "code",
   "execution_count": 60,
   "metadata": {},
   "outputs": [
    {
     "data": {
      "text/plain": [
       "1×1 Array{Float64,2}:\n",
       " 0.263668"
      ]
     },
     "execution_count": 60,
     "metadata": {},
     "output_type": "execute_result"
    }
   ],
   "source": [
    "add_proport=(nullmodel.Σ[1]-altmodel3.Σ[1])/nullmodel.Σ[1]"
   ]
  },
  {
   "cell_type": "markdown",
   "metadata": {},
   "source": [
    "Portion of total variation explained by the snp is an alterative to the above. Again, typically the effects are not nearly so large.  "
   ]
  },
  {
   "cell_type": "code",
   "execution_count": 61,
   "metadata": {},
   "outputs": [
    {
     "data": {
      "text/plain": [
       "1×1 Array{Float64,2}:\n",
       " 0.160923"
      ]
     },
     "execution_count": 61,
     "metadata": {},
     "output_type": "execute_result"
    }
   ],
   "source": [
    "pheno_proport=(nullmodel.Σ[1]+nullmodel.Σ[2]-altmodel3.Σ[1]-altmodel3.Σ[2])/(nullmodel.Σ[1]+nullmodel.Σ[2])"
   ]
  }
 ],
 "metadata": {
  "kernelspec": {
   "display_name": "Julia 0.6.4",
   "language": "julia",
   "name": "julia-0.6"
  },
  "language_info": {
   "file_extension": ".jl",
   "mimetype": "application/julia",
   "name": "julia",
   "version": "0.6.4"
  },
  "toc": {
   "colors": {
    "hover_highlight": "#DAA520",
    "running_highlight": "#FF0000",
    "selected_highlight": "#FFD700"
   },
   "moveMenuLeft": true,
   "nav_menu": {
    "height": "30px",
    "width": "252px"
   },
   "navigate_menu": true,
   "number_sections": true,
   "sideBar": true,
   "threshold": 4,
   "toc_cell": false,
   "toc_section_display": "block",
   "toc_window_display": false,
   "widenNotebook": false
  }
 },
 "nbformat": 4,
 "nbformat_minor": 2
}
