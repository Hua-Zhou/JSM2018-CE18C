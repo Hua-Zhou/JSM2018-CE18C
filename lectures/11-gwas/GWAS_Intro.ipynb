{
 "cells": [
  {
   "cell_type": "markdown",
   "metadata": {},
   "source": [
    "# GWAS Example"
   ]
  },
  {
   "cell_type": "markdown",
   "metadata": {},
   "source": [
    "Authors: Eric Sobel, Janet Sinsheimer, Hua Zhou"
   ]
  },
  {
   "cell_type": "markdown",
   "metadata": {},
   "source": [
    "Genome-Wide Association Studies (GWAS) have been the main method of gene-mapping since roughly the turn of the millenium. (Before that the Linkage method was predominant, and is still very useful, particularly for rare variants.)\n",
    "\n",
    "In this notebook, we provide two examples of how to use an OpenMendel package to perform a population-based GWAS, one for a quantitative trait and the other for a qualitative. (For a family-based GWAS, see the Linear Mixed Models lecture.) Both the examples here use simulated data that includes 2200 unrelated people and genotypes on 10,000 SNPs spread across the genome.\n",
    "\n",
    "The trait in this data set was simulated as influenced by two of the SNPs and their interaction.\n"
   ]
  },
  {
   "cell_type": "markdown",
   "metadata": {},
   "source": [
    "## Example 1: Quantitative Traits\n",
    "\n",
    "When using an OpenMendel package, usually a text file is used to specify the parameters of the analysis, including the names of the input and output files. This so-called control file for our first example is called \"gwas_1_Control.txt\". First, lets examine this Control file."
   ]
  },
  {
   "cell_type": "code",
   "execution_count": null,
   "metadata": {
    "collapsed": true,
    "scrolled": true
   },
   "outputs": [],
   "source": [
    "# if on the server, we create symbolic links to the actual data in current folder\n",
    "if !(isfile(\"gwas_1_Control.txt\") && isfile(\"gwas_1_data.bed\") && isfile(\"gwas_1_data.bim\") && isfile(\"gwas_1_data.fam\"))\n",
    "    run(`ln -s /home/jsmdata/GWAS_data/gwas_1_Control.txt ./gwas_1_Control.txt`)\n",
    "    run(`ln -s /home/jsmdata/GWAS_data/gwas_1_data.bed ./gwas_1_data.bed`)\n",
    "    run(`ln -s /home/jsmdata/GWAS_data/gwas_1_data.bim ./gwas_1_data.bim`)\n",
    "    run(`ln -s /home/jsmdata/GWAS_data/gwas_1_data.fam ./gwas_1_data.fam`)\n",
    "end"
   ]
  },
  {
   "cell_type": "code",
   "execution_count": null,
   "metadata": {},
   "outputs": [],
   "source": [
    ";cat \"gwas_1_Control.txt\""
   ]
  },
  {
   "cell_type": "markdown",
   "metadata": {},
   "source": [
    "Obviously, the hash indicates comment lines in the Control file. Ignoring the comments, each line assigns a value to a keyword via the equal sign. We see that the input and out files are named, and then the analysis parameters are listed. (The order is arbitrary, except if a keyword only takes one value, then only the last listing is in effect.)"
   ]
  },
  {
   "cell_type": "markdown",
   "metadata": {},
   "source": [
    "The first keyword assignment \"plink_input_basename = gwas_1_data\" implies the existence of three files: \"gwas_1_data.fam\", \"gwas_1_data.bim\", and \"gwas_1_data.bed\" containing data in Plink format that will be used as the data input files.\n",
    "\n",
    "All information on the individuals except their genotypes can be found in the .fam text file. Similarly, information on the SNPs is in the .bim text file. Finally, the actual genotypes are in the .bed file, which is a binary file that includes each genotype as a two-bit entry. The order of the genotypes in the .bed file is inferred from the .fam file (for the order of the individuals) and the .bim file (for the order of the SNPs). Therefore, no changes to these files should be made except by a program that will write a new triplet of corresponding files."
   ]
  },
  {
   "cell_type": "markdown",
   "metadata": {},
   "source": [
    "Lets take a look at the top of the text input files."
   ]
  },
  {
   "cell_type": "code",
   "execution_count": null,
   "metadata": {},
   "outputs": [],
   "source": [
    ";head \"gwas_1_data.bim\""
   ]
  },
  {
   "cell_type": "code",
   "execution_count": null,
   "metadata": {},
   "outputs": [],
   "source": [
    ";head \"gwas_1_data.fam\""
   ]
  },
  {
   "cell_type": "markdown",
   "metadata": {},
   "source": [
    "The first analysis parameter listed the Control file \"regression = linear\" informs the package to perform a linear regression (that is, treat the trait as a quantitiative measure). The second parameter \"regression_formula = Trait ~ Sex\" lists the regression model. The left hand side of the formula (left of the tilde) lists the name of the trait value to use (since more than one quantitative trait may be in the input files). The right hand side lists any covariates to include in the Null model of no SNP involvement. An alternative model is automatically generated for each SNP including that SNP as a predictor along with the listed covariates."
   ]
  },
  {
   "cell_type": "markdown",
   "metadata": {},
   "source": [
    "Now to run a GWAS using this Control file, one first informs Julia to use the MendelGWAS package (only once per sesion). And then use the function call GWAS(\"name-of-control-file\")."
   ]
  },
  {
   "cell_type": "code",
   "execution_count": null,
   "metadata": {
    "scrolled": false
   },
   "outputs": [],
   "source": [
    "using MendelGWAS\n",
    "GWAS(\"gwas_1_Control.txt\")"
   ]
  },
  {
   "cell_type": "markdown",
   "metadata": {},
   "source": [
    "Now that the GWAS has completed, there is also a text output file that lists the Null model results, any SNPs found to be significant, and the False Discovery Rates (FDR)."
   ]
  },
  {
   "cell_type": "code",
   "execution_count": null,
   "metadata": {},
   "outputs": [],
   "source": [
    ";cat \"gwas_1_Output.txt\""
   ]
  },
  {
   "cell_type": "markdown",
   "metadata": {},
   "source": [
    "The so-called Manhattan plot has also been saved as a file to \"gwas_1_Output_Manhattan_Plot.png\"."
   ]
  },
  {
   "cell_type": "code",
   "execution_count": null,
   "metadata": {},
   "outputs": [],
   "source": [
    ";ls -l"
   ]
  },
  {
   "cell_type": "markdown",
   "metadata": {},
   "source": [
    "## Example 2: Qualitative Traits\n",
    "\n",
    "The second example uses the same data as the first example except that the Trait has been thresholded and a BMI covariate has been added. To threshold the quantitative trait from example 1, any individual with a value above 0.75 has been converted to a case (an affected) and individuals with values below that threshold are now a control. Missing data is still missing data.\n",
    "\n",
    "Lets examine the Control file for this second example."
   ]
  },
  {
   "cell_type": "code",
   "execution_count": null,
   "metadata": {
    "collapsed": true,
    "scrolled": true
   },
   "outputs": [],
   "source": [
    "# if on the server, we create symbolic links to the actual data in current folder\n",
    "if !(isfile(\"gwas_2_Control.txt\") && isfile(\"gwas_2_ped.txt\") && isfile(\"gwas_2_snpdef.txt\"))\n",
    "    run(`ln -s /home/jsmdata/GWAS_data/gwas_2_Control.txt ./gwas_2_Control.txt`)\n",
    "    run(`ln -s /home/jsmdata/GWAS_data/gwas_2_snpdef.txt ./gwas_2_snpdef.txt`)\n",
    "    run(`ln -s /home/jsmdata/GWAS_data/gwas_2_ped.txt ./gwas_2_ped.txt`)\n",
    "end"
   ]
  },
  {
   "cell_type": "code",
   "execution_count": null,
   "metadata": {},
   "outputs": [],
   "source": [
    ";cat \"gwas_2_Control.txt\""
   ]
  },
  {
   "cell_type": "markdown",
   "metadata": {},
   "source": [
    "In the first section of keyword assignments the input and output files are explicitly named.\n",
    "\n",
    "All information on the individuals except their genotypes can be found in the gwas_2_ped.txt file. Similarly, information on the SNPs is in the gwas_2_snpdef.txt file. Finally, the actual genotypes are in the gwas_2_data.bed file, which is a binary file that includes each genotype as a two-bit entry. The order of the genotypes in the .bed file is inferred from the pedigree file (for the order of the individuals) and the SNP definition file (for the order of the SNPs). Therefore, no changes to these files should be made except by a program that will write a new triplet of corresponding files."
   ]
  },
  {
   "cell_type": "markdown",
   "metadata": {},
   "source": [
    "Lets take a look at the top of the text input files."
   ]
  },
  {
   "cell_type": "code",
   "execution_count": null,
   "metadata": {},
   "outputs": [],
   "source": [
    ";head \"gwas_2_snpdef.txt\""
   ]
  },
  {
   "cell_type": "code",
   "execution_count": null,
   "metadata": {},
   "outputs": [],
   "source": [
    ";head \"gwas_2_ped.txt\""
   ]
  },
  {
   "cell_type": "markdown",
   "metadata": {},
   "source": [
    "The first analysis parameter listed the Control file \"regression = logistic\" informs the package to perform a logistic regression (that is, treat the trait as a qualitative measure).\n",
    "\n",
    "The second parameter \"Case_Control ~ Sex + BMI\" lists the regression model. The left hand side of the formula (left of the tilde) lists the name of the trait value to use (since more than one qualitiative trait may be in the input files). The right hand side lists any covariates to include in the Null model of no SNP involvement. An alternative model is automatically generated for each SNP including that SNP as a predictor along with the listed covariates.\n",
    "\n",
    "Finally, the third keyword assignment \"affected_designator = 1\" informs the program what the label is that designates the cases."
   ]
  },
  {
   "cell_type": "markdown",
   "metadata": {},
   "source": [
    "Now to run a GWAS using this Control file, one uses the function call GWAS(\"name-of-control-file\")."
   ]
  },
  {
   "cell_type": "code",
   "execution_count": null,
   "metadata": {
    "scrolled": false
   },
   "outputs": [],
   "source": [
    "using MendelGWAS\n",
    "GWAS(\"gwas_2_Control.txt\")"
   ]
  },
  {
   "cell_type": "markdown",
   "metadata": {},
   "source": [
    "Now that the GWAS has completed, there is also a text output file that lists the Null model results, any SNPs found to be significant, and the False Discovery Rates (FDR)."
   ]
  },
  {
   "cell_type": "code",
   "execution_count": null,
   "metadata": {},
   "outputs": [],
   "source": [
    ";cat \"gwas_2_Output.txt\""
   ]
  },
  {
   "cell_type": "markdown",
   "metadata": {},
   "source": [
    "The Manhattan plot has also been saved as a file to \"gwas_2_Output_Manhattan_Plot.png\".\n",
    "\n",
    "Note that thresholding the quantitative trait information has reduced the significance of the two correctly found SNPs that influence the trait."
   ]
  }
 ],
 "metadata": {
  "kernelspec": {
   "display_name": "Julia 0.6.3",
   "language": "julia",
   "name": "julia-0.6"
  },
  "language_info": {
   "file_extension": ".jl",
   "mimetype": "application/julia",
   "name": "julia",
   "version": "0.6.3"
  },
  "toc": {
   "base_numbering": 1,
   "nav_menu": {},
   "number_sections": true,
   "sideBar": true,
   "skip_h1_title": false,
   "title_cell": "Table of Contents",
   "title_sidebar": "Contents",
   "toc_cell": false,
   "toc_position": {},
   "toc_section_display": true,
   "toc_window_display": false
  }
 },
 "nbformat": 4,
 "nbformat_minor": 2
}
