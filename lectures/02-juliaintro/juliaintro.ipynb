{
 "cells": [
  {
   "cell_type": "markdown",
   "metadata": {
    "toc": "true"
   },
   "source": [
    "# Table of Contents\n",
    " <p><div class=\"lev1 toc-item\"><a href=\"#Introduction-to\" data-toc-modified-id=\"Introduction-to-1\"><span class=\"toc-item-num\">1&nbsp;&nbsp;</span>Introduction to</a></div><div class=\"lev2 toc-item\"><a href=\"#What's-Julia?\" data-toc-modified-id=\"What's-Julia?-11\"><span class=\"toc-item-num\">1.1&nbsp;&nbsp;</span>What's Julia?</a></div><div class=\"lev2 toc-item\"><a href=\"#R-is-great,-but...\" data-toc-modified-id=\"R-is-great,-but...-12\"><span class=\"toc-item-num\">1.2&nbsp;&nbsp;</span>R is great, but...</a></div><div class=\"lev2 toc-item\"><a href=\"#Gibbs-sampler-example-by-Doug-Bates\" data-toc-modified-id=\"Gibbs-sampler-example-by-Doug-Bates-13\"><span class=\"toc-item-num\">1.3&nbsp;&nbsp;</span>Gibbs sampler example by Doug Bates</a></div><div class=\"lev2 toc-item\"><a href=\"#Julia-REPL-(Read-Evaluation-Print-Loop)\" data-toc-modified-id=\"Julia-REPL-(Read-Evaluation-Print-Loop)-14\"><span class=\"toc-item-num\">1.4&nbsp;&nbsp;</span>Julia REPL (Read-Evaluation-Print-Loop)</a></div><div class=\"lev2 toc-item\"><a href=\"#Which-Editor/IDE?\" data-toc-modified-id=\"Which-Editor/IDE?-15\"><span class=\"toc-item-num\">1.5&nbsp;&nbsp;</span>Which Editor/IDE?</a></div><div class=\"lev2 toc-item\"><a href=\"#Julia-package-system\" data-toc-modified-id=\"Julia-package-system-16\"><span class=\"toc-item-num\">1.6&nbsp;&nbsp;</span>Julia package system</a></div><div class=\"lev2 toc-item\"><a href=\"#Calling-R-from-Julia\" data-toc-modified-id=\"Calling-R-from-Julia-17\"><span class=\"toc-item-num\">1.7&nbsp;&nbsp;</span>Calling R from Julia</a></div><div class=\"lev2 toc-item\"><a href=\"#Some-basic-Julia-code\" data-toc-modified-id=\"Some-basic-Julia-code-18\"><span class=\"toc-item-num\">1.8&nbsp;&nbsp;</span>Some basic Julia code</a></div><div class=\"lev2 toc-item\"><a href=\"#Random-numbers\" data-toc-modified-id=\"Random-numbers-19\"><span class=\"toc-item-num\">1.9&nbsp;&nbsp;</span>Random numbers</a></div><div class=\"lev2 toc-item\"><a href=\"#Timing-and-benchmark\" data-toc-modified-id=\"Timing-and-benchmark-110\"><span class=\"toc-item-num\">1.10&nbsp;&nbsp;</span>Timing and benchmark</a></div><div class=\"lev3 toc-item\"><a href=\"#Julia\" data-toc-modified-id=\"Julia-1101\"><span class=\"toc-item-num\">1.10.1&nbsp;&nbsp;</span>Julia</a></div><div class=\"lev3 toc-item\"><a href=\"#R\" data-toc-modified-id=\"R-1102\"><span class=\"toc-item-num\">1.10.2&nbsp;&nbsp;</span>R</a></div><div class=\"lev3 toc-item\"><a href=\"#C\" data-toc-modified-id=\"C-1103\"><span class=\"toc-item-num\">1.10.3&nbsp;&nbsp;</span>C</a></div><div class=\"lev3 toc-item\"><a href=\"#Python,-builtin-sum\" data-toc-modified-id=\"Python,-builtin-sum-1104\"><span class=\"toc-item-num\">1.10.4&nbsp;&nbsp;</span>Python, builtin <code>sum</code></a></div><div class=\"lev3 toc-item\"><a href=\"#Python,-numpy\" data-toc-modified-id=\"Python,-numpy-1105\"><span class=\"toc-item-num\">1.10.5&nbsp;&nbsp;</span>Python, numpy</a></div><div class=\"lev3 toc-item\"><a href=\"#Python,-handwritten\" data-toc-modified-id=\"Python,-handwritten-1106\"><span class=\"toc-item-num\">1.10.6&nbsp;&nbsp;</span>Python, handwritten</a></div>"
   ]
  },
  {
   "cell_type": "markdown",
   "metadata": {
    "slideshow": {
     "slide_type": "slide"
    }
   },
   "source": [
    "# Introduction to\n",
    "\n",
    "<img src=\"./julia_logo.png\" alt=\"Julia toolchain\" style=\"width: 400px;\"/>"
   ]
  },
  {
   "cell_type": "code",
   "execution_count": 1,
   "metadata": {},
   "outputs": [
    {
     "name": "stdout",
     "output_type": "stream",
     "text": [
      "Julia Version 0.6.4\n",
      "Commit 9d11f62bcb (2018-07-09 19:09 UTC)\n",
      "Platform Info:\n",
      "  OS: macOS (x86_64-apple-darwin14.5.0)\n",
      "  CPU: Intel(R) Core(TM) i7-6920HQ CPU @ 2.90GHz\n",
      "  WORD_SIZE: 64\n",
      "  BLAS: libopenblas (USE64BITINT DYNAMIC_ARCH NO_AFFINITY Haswell MAX_THREADS=16)\n",
      "  LAPACK: libopenblas64_\n",
      "  LIBM: libopenlibm\n",
      "  LLVM: libLLVM-3.9.1 (ORCJIT, skylake)\n"
     ]
    }
   ],
   "source": [
    "# machine information\n",
    "versioninfo()"
   ]
  },
  {
   "cell_type": "markdown",
   "metadata": {
    "slideshow": {
     "slide_type": "slide"
    }
   },
   "source": [
    "## What's Julia?\n",
    "\n",
    "> Julia is a high-level, high-performance dynamic programming language for technical computing, with syntax that is familiar to users of other technical computing environments\n",
    "\n",
    "* Started in 2009. First public release in 2012. \n",
    "  - Creators: Jeff Bezanson, Alan Edelman, Stefan Karpinski, Viral Shah\n",
    "  - Current release v0.6.4\n",
    "  - v1.0 is staged to release in 2018\n",
    "\n",
    "* Aim to solve the notorious **two language problem**:\n",
    "    - Prototype code goes into high-level languages like R/Python, production code goes into low-level language like C/C++\n",
    "> Walks like Python. Runs like C.\n",
    "\n",
    "* Write high-level, abstract code that closely resembles mathematical formulas\n",
    "    - yet produces fast, low-level machine code that has traditionally only been generated by static languages.\n",
    "    \n",
    "<img src=\"./julia_vs_otherlang.png\" align=\"center\" width=\"600\"/>    \n",
    "\n",
    "* Julia is more than just \"Fast R\" or \"Fast Matlab\"\n",
    "    - Performance comes from features that work well together.  \n",
    "    - You can't just take the magic dust that makes Julia fast and sprinkle it on [language of choice]"
   ]
  },
  {
   "cell_type": "markdown",
   "metadata": {
    "slideshow": {
     "slide_type": "slide"
    }
   },
   "source": [
    "## R is great, but...\n",
    "\n",
    "* It's not meant for high performance computing\n",
    "  - http://adv-r.had.co.nz/Performance.html\n",
    "    - Section on performance starts with \"Why is R slow?\" \n",
    "\n",
    "* Deficiencies in the core language \n",
    "  - Many fixed with packages (`devtools`, `roxygen2`, `Matrix`, `tidyverse`)\n",
    "  - Others harder to fix (R uses an old version of BLAS)\n",
    "  - Some impossible to fix (clunky syntax, poor design choices)\n",
    "\n",
    "* Only 6 active developers left (out of 20 R-Core members)\n",
    "  - JuliaLang organization has 74 members, with 567 total contributors (as of 3/3/17)\n",
    "    - https://github.com/JuliaLang/julia/graphs/contributors\n",
    "\n",
    "* Doug Bates (member of R-Core, `Matrix` and `lme4`)\n",
    "    - Getting Doug on board was a big win for statistics with Julia, as he brought a lot of knowledge about the history of R development and design choices\n",
    "    \n",
    "    > As some of you may know, I have had a (rather late) mid-life crisis and run off with another language called Julia.   \n",
    "    >\n",
    "    > -- <cite>Doug Bates (on the `knitr` Google Group)</cite>"
   ]
  },
  {
   "cell_type": "markdown",
   "metadata": {
    "slideshow": {
     "slide_type": "slide"
    }
   },
   "source": [
    "## Gibbs sampler example by Doug Bates\n",
    "\n",
    "* An example from Dr. Doug Bates's slides [Julia for R Programmers](http://www.stat.wisc.edu/~bates/JuliaForRProgrammers.pdf).\n",
    "\n",
    "* The task is to create a Gibbs sampler for the density  \n",
    "$$\n",
    "f(x, y) = k x^2 exp(- x y^2 - y^2 + 2y - 4x), x > 0\n",
    "$$\n",
    "using the conditional distributions\n",
    "$$\n",
    "\\begin{eqnarray*}\n",
    "  X | Y &\\sim& \\Gamma \\left( 3, \\frac{1}{y^2 + 4} \\right) \\\\\n",
    "  Y | X &\\sim& N \\left(\\frac{1}{1+x}, \\frac{1}{2(1+x)} \\right).\n",
    "\\end{eqnarray*}\n",
    "$$"
   ]
  },
  {
   "cell_type": "markdown",
   "metadata": {},
   "source": [
    "* **R solution**. The `RCall.jl` package allows us to execute R code without leaving the `Julia` environment. We first define an R function `Rgibbs()`."
   ]
  },
  {
   "cell_type": "code",
   "execution_count": 2,
   "metadata": {},
   "outputs": [
    {
     "data": {
      "text/plain": [
       "RCall.RObject{RCall.ClosSxp}\n",
       "function (N, thin) \n",
       "{\n",
       "    mat <- matrix(0, nrow = N, ncol = 2)\n",
       "    x <- y <- 0\n",
       "    for (i in 1:N) {\n",
       "        for (j in 1:thin) {\n",
       "            x <- rgamma(1, 3, y * y + 4)\n",
       "            y <- rnorm(1, 1/(x + 1), 1/sqrt(2 * (x + 1)))\n",
       "        }\n",
       "        mat[i, ] <- c(x, y)\n",
       "    }\n",
       "    mat\n",
       "}\n"
      ]
     },
     "execution_count": 2,
     "metadata": {},
     "output_type": "execute_result"
    }
   ],
   "source": [
    "# Pkg.add(\"RCall\")\n",
    "using RCall\n",
    "\n",
    "R\"\"\"\n",
    "library(Matrix)\n",
    "Rgibbs <- function(N, thin) {\n",
    "  mat <- matrix(0, nrow=N, ncol=2)\n",
    "  x <- y <- 0\n",
    "  for (i in 1:N) {\n",
    "    for (j in 1:thin) {\n",
    "      x <- rgamma(1, 3, y * y + 4) # 3rd arg is rate\n",
    "      y <- rnorm(1, 1 / (x + 1), 1 / sqrt(2 * (x + 1)))\n",
    "    }\n",
    "    mat[i,] <- c(x, y)\n",
    "  }\n",
    "  mat\n",
    "}\n",
    "\"\"\""
   ]
  },
  {
   "cell_type": "markdown",
   "metadata": {},
   "source": [
    "and then generate a sample of size 10,000 with a thinning of 500"
   ]
  },
  {
   "cell_type": "code",
   "execution_count": 3,
   "metadata": {},
   "outputs": [
    {
     "data": {
      "text/plain": [
       "RCall.RObject{RCall.RealSxp}\n",
       "   user  system elapsed \n",
       " 20.824   3.527  24.428 \n"
      ]
     },
     "execution_count": 3,
     "metadata": {},
     "output_type": "execute_result"
    }
   ],
   "source": [
    "R\"\"\"\n",
    "Rgibbs(100, 5); # warm-up\n",
    "system.time(Rgibbs(10000, 500))\n",
    "\"\"\""
   ]
  },
  {
   "cell_type": "markdown",
   "metadata": {},
   "source": [
    "* **Julia solution**. This is a Julia function for the same Gibbs sampler:"
   ]
  },
  {
   "cell_type": "code",
   "execution_count": 4,
   "metadata": {},
   "outputs": [
    {
     "data": {
      "text/plain": [
       "jgibbs (generic function with 1 method)"
      ]
     },
     "execution_count": 4,
     "metadata": {},
     "output_type": "execute_result"
    }
   ],
   "source": [
    "using Distributions\n",
    "\n",
    "function jgibbs(N, thin)\n",
    "    mat = zeros(N, 2)\n",
    "    x = y = 0.0\n",
    "    for i in 1:N\n",
    "        for j in 1:thin\n",
    "            x = rand(Gamma(3, 1 / (y * y + 4)))\n",
    "            y = rand(Normal(1 / (x + 1), 1 / sqrt(2(x + 1))))\n",
    "        end\n",
    "        mat[i, 1] = x\n",
    "        mat[i, 2] = y\n",
    "    end\n",
    "    mat\n",
    "end"
   ]
  },
  {
   "cell_type": "markdown",
   "metadata": {},
   "source": [
    "Generate the same sample. How long does it take?"
   ]
  },
  {
   "cell_type": "code",
   "execution_count": 5,
   "metadata": {},
   "outputs": [
    {
     "data": {
      "text/plain": [
       "0.356441601"
      ]
     },
     "execution_count": 5,
     "metadata": {},
     "output_type": "execute_result"
    }
   ],
   "source": [
    "jgibbs(100, 5); # warm-up\n",
    "@elapsed jgibbs(10000, 500)"
   ]
  },
  {
   "cell_type": "markdown",
   "metadata": {},
   "source": [
    "We see ~50 fold speed up of `Julia` over `R` on this example, **without extra coding effort**!"
   ]
  },
  {
   "cell_type": "markdown",
   "metadata": {
    "slideshow": {
     "slide_type": "slide"
    }
   },
   "source": [
    "## Julia REPL (Read-Evaluation-Print-Loop)\n",
    "\n",
    "The `Julia` REPL, or `Julia` shell, has four main modes.\n",
    "\n",
    "0. **Default mode** is the Julian prompt `julia>`. Type backspace in other modes to enter default mode.    \n",
    "\n",
    "0. **Help mode** `help?>`. Type `?` to enter help mode. `?search_term` does a fuzzy search for `search_term`. \n",
    "\n",
    "0. **Shell mode** `shell>`. Type `;` to enter shell mode.  \n",
    "\n",
    "0. **Search mode** `(reverse-i-search)`. Press `ctrl+R` to enter search model. \n",
    "\n",
    "0. With `RCall.jl` package installed, we can enter the **R mode** by typing `$` (shift+4) at Julia REPL.\n",
    "\n",
    "Some survival commands in Julia REPL:  \n",
    "0. `quit()` or `Ctrl+D`: exit Julia.\n",
    "\n",
    "0. `Ctrl+C`: interrupt execution.\n",
    "\n",
    "0. `Ctrl+L`: clear screen.\n",
    "\n",
    "0. `whos()`: list all variables in current workspace.\n",
    "\n",
    "0. `workspace()`: clear all variables and reset session.\n",
    "\n",
    "0. Append `;` (semi-colon) to suppress displaying output from a command.\n",
    "\n",
    "0. `include(\"filename.jl\")` to source a Julia code file.\n",
    "\n",
    "0. One very useful command to display the machine information is `versioninfo()`. `versioninfo(true)` gives detailed system information."
   ]
  },
  {
   "cell_type": "code",
   "execution_count": 6,
   "metadata": {},
   "outputs": [
    {
     "name": "stdout",
     "output_type": "stream",
     "text": [
      "Julia Version 0.6.4\n",
      "Commit 9d11f62bcb (2018-07-09 19:09 UTC)\n",
      "Platform Info:\n",
      "  OS: macOS (x86_64-apple-darwin14.5.0)\n",
      "  CPU: Intel(R) Core(TM) i7-6920HQ CPU @ 2.90GHz\n",
      "  WORD_SIZE: 64\n",
      "  BLAS: libopenblas (USE64BITINT DYNAMIC_ARCH NO_AFFINITY Haswell MAX_THREADS=16)\n",
      "  LAPACK: libopenblas64_\n",
      "  LIBM: libopenlibm\n",
      "  LLVM: libLLVM-3.9.1 (ORCJIT, skylake)\n"
     ]
    }
   ],
   "source": [
    "versioninfo()"
   ]
  },
  {
   "cell_type": "markdown",
   "metadata": {
    "slideshow": {
     "slide_type": "slide"
    }
   },
   "source": [
    "## Which Editor/IDE?\n",
    "\n",
    "* I highly recommend  \n",
    "    * Editor [Visual Studio Code](https://code.visualstudio.com) with the Julia extension installed, or  \n",
    "    * Editor [Atom](https://atom.io) with packages `julia-client`, `language-julia`, and `latex-completions` installed. \n",
    "\n",
    "* If you want RStudio- or Matlab-like IDE, you can try \n",
    "    * [JupyterLab](https://github.com/jupyterlab/jupyterlab), or \n",
    "    * install the `uber-juno` package in Atom. Follow instructions at [https://github.com/JunoLab/uber-juno/blob/master/setup.md](https://github.com/JunoLab/uber-juno/blob/master/setup.md).\n",
    "\n",
    "* [**JuliaPro**](https://juliacomputing.com/products/juliapro.html) bundles Julia, Atom, Juno, and many commonly used packages. It has an option to use Intel MKL (Mathematical Kernel Library) instead of OpenBLAS for linear algebra."
   ]
  },
  {
   "cell_type": "markdown",
   "metadata": {
    "slideshow": {
     "slide_type": "slide"
    }
   },
   "source": [
    "## Julia package system\n",
    "\n",
    "<img src=\"http://pkg.julialang.org/img/allver.svg\" width=\"500\" align=\"center\"/>\n",
    "\n",
    "* Each Julia package is a Git repository. Each Julia package name ends with `.jl`. E.g., `Distributions.jl` package lives at <https://github.com/JuliaStats/Distributions.jl>.   \n",
    "Google search with `PackageName.jl` usually leads to the package on github.com. \n",
    "\n",
    "* The package ecosystem is rapidly maturing; a complete list of **registered** packages (which are required to have a certain level of testing and documentation) is at [http://pkg.julialang.org/](http://pkg.julialang.org/).\n",
    "\n",
    "* For example, the package called `Distributions.jl` is added with\n",
    "```julia\n",
    "Pkg.add(\"Distributions\")   # no .jl \n",
    "```\n",
    "and \"removed\" (although not completely deleted) with\n",
    "```julia\n",
    "Pkg.rm(\"Distributions\")\n",
    "```\n",
    "* The package manager provides a dependency solver that determines which packages are actually required to be installed.\n",
    "\n",
    "* **Non-registered** packages are added by cloning the relevant Git repository. E.g.,\n",
    "```julia\n",
    "Pkg.clone(\"git@github.com:OpenMendel/SnpArrays.jl.git\")\n",
    "```\n",
    "\n",
    "* A package needs only be added once, at which point it is downloaded into your local `.julia/vx.x` directory in your home directory. "
   ]
  },
  {
   "cell_type": "markdown",
   "metadata": {},
   "source": [
    "* Directory of a specific package can be queried by `Pkg.dir()`:"
   ]
  },
  {
   "cell_type": "code",
   "execution_count": 7,
   "metadata": {},
   "outputs": [
    {
     "data": {
      "text/plain": [
       "\"/Users/huazhou/.julia/v0.6/Distributions\""
      ]
     },
     "execution_count": 7,
     "metadata": {},
     "output_type": "execute_result"
    }
   ],
   "source": [
    "Pkg.dir(\"Distributions\")"
   ]
  },
  {
   "cell_type": "markdown",
   "metadata": {},
   "source": [
    "* If you start having problems with packages that seem to be unsolvable, you can try just deleting your .julia directory and reinstalling all your packages. \n",
    "\n",
    "* For **JuliaPro**, the packages are downloaed to directory `/Applications/JuliaPro-0.6.2.2.app/Contents/Resources/pkgs-0.6.2.2/v0.6/`.\n",
    "\n",
    "* Periodically, one should run `Pkg.update()`, which checks for, downloads and installs updated versions of all the packages you currently have installed.\n",
    "\n",
    "* `Pkg.status()` lists the status of all installed packages.\n",
    "\n",
    "* Using functions in package.\n",
    "```julia\n",
    "using Distributions\n",
    "```\n",
    "This pulls all of the *exported* functions in the module into your local namespace, as you can check using the `whos()` command. An alternative is\n",
    "```julia\n",
    "import Distributions\n",
    "```\n",
    "Now, the functions from the Distributions package are available only using \n",
    "```julia\n",
    "Distributions.<FUNNAME>\n",
    "```\n",
    "All functions, not only exported functions, are always available like this."
   ]
  },
  {
   "cell_type": "markdown",
   "metadata": {
    "slideshow": {
     "slide_type": "slide"
    }
   },
   "source": [
    "## Calling R from Julia\n",
    "\n",
    "* The [`RCall.jl`](https://github.com/JuliaInterop/RCall.jl) package allows you to embed R code inside of Julia. Internally it calls the R installed on the same computer.\n",
    "\n",
    "* For other languages, check [JuliaInterop](https://github.com/JuliaInterop): `PyCall`, `MATLAB`, `JavaCall`, `CxxWrap`, ... "
   ]
  },
  {
   "cell_type": "code",
   "execution_count": 8,
   "metadata": {},
   "outputs": [
    {
     "data": {
      "image/png": "[encoded data removed]"
     },
     "metadata": {},
     "output_type": "display_data"
    },
    {
     "data": {
      "text/plain": [
       "RCall.RObject{RCall.VecSxp}\n",
       "$breaks\n",
       " [1] -3.0 -2.5 -2.0 -1.5 -1.0 -0.5  0.0  0.5  1.0  1.5  2.0  2.5  3.0\n",
       "\n",
       "$counts\n",
       " [1]  13  21  52 101 140 197 185 137  91  45  15   3\n",
       "\n",
       "$density\n",
       " [1] 0.026 0.042 0.104 0.202 0.280 0.394 0.370 0.274 0.182 0.090 0.030 0.006\n",
       "\n",
       "$mids\n",
       " [1] -2.75 -2.25 -1.75 -1.25 -0.75 -0.25  0.25  0.75  1.25  1.75  2.25  2.75\n",
       "\n",
       "$xname\n",
       "[1] \"`#JL`$x\"\n",
       "\n",
       "$equidist\n",
       "[1] TRUE\n",
       "\n",
       "attr(,\"class\")\n",
       "[1] \"histogram\"\n"
      ]
     },
     "execution_count": 8,
     "metadata": {},
     "output_type": "execute_result"
    }
   ],
   "source": [
    "# Pkg.add(\"RCall\")\n",
    "using RCall\n",
    "\n",
    "# Julia vector x is interpolated into R workspace\n",
    "x = randn(1000)\n",
    "R\"\"\"\n",
    "hist($x, main=\"I'm plotting a Julia vector\")\n",
    "\"\"\""
   ]
  },
  {
   "cell_type": "code",
   "execution_count": 9,
   "metadata": {},
   "outputs": [
    {
     "data": {
      "image/png": "[encoded data removed]"
     },
     "metadata": {},
     "output_type": "display_data"
    },
    {
     "data": {
      "text/plain": [
       "RCall.RObject{RCall.VecSxp}\n"
      ]
     },
     "execution_count": 9,
     "metadata": {},
     "output_type": "execute_result"
    },
    {
     "name": "stderr",
     "output_type": "stream",
     "text": [
      "\u001b[1m\u001b[33mWARNING: \u001b[39m\u001b[22m\u001b[33mRCall.jl: `stat_bin()` using `bins = 30`. Pick better value with `binwidth`.\u001b[39m\n"
     ]
    }
   ],
   "source": [
    "R\"\"\"\n",
    "library(ggplot2)\n",
    "qplot($x)\n",
    "\"\"\""
   ]
  },
  {
   "cell_type": "code",
   "execution_count": 10,
   "metadata": {},
   "outputs": [
    {
     "data": {
      "text/plain": [
       "RCall.RObject{RCall.RealSxp}\n",
       " [1]  0.84112708 -0.31987073  0.01606729 -2.38312612 -1.95506213  0.59494239\n",
       " [7] -0.85099823 -0.60422724  0.40716350  1.10809499\n"
      ]
     },
     "execution_count": 10,
     "metadata": {},
     "output_type": "execute_result"
    }
   ],
   "source": [
    "# wrapper of R variable(s)\n",
    "x = R\"\"\"\n",
    "rnorm(10)\n",
    "\"\"\""
   ]
  },
  {
   "cell_type": "code",
   "execution_count": 11,
   "metadata": {},
   "outputs": [
    {
     "data": {
      "text/plain": [
       "10-element Array{Float64,1}:\n",
       "  0.841127 \n",
       " -0.319871 \n",
       "  0.0160673\n",
       " -2.38313  \n",
       " -1.95506  \n",
       "  0.594942 \n",
       " -0.850998 \n",
       " -0.604227 \n",
       "  0.407164 \n",
       "  1.10809  "
      ]
     },
     "execution_count": 11,
     "metadata": {},
     "output_type": "execute_result"
    }
   ],
   "source": [
    "# convert it into Julia variable\n",
    "y = collect(x)"
   ]
  },
  {
   "cell_type": "markdown",
   "metadata": {},
   "source": [
    "* Access Julia variables in R REPL mode:\n",
    "```julia\n",
    "julia> x = rand(5) # Julia variable\n",
    "R> y <- $x\n",
    "```\n",
    "\n",
    "* Pass Julia expression in R REPL mode:\n",
    "```julia\n",
    "R> y <- $(rand(5))\n",
    "```\n",
    "\n",
    "* Put Julia variable into R environment:\n",
    "```julia\n",
    "julia> @rput x\n",
    "R> x\n",
    "```\n",
    "\n",
    "* Get R variable into Julia environment:\n",
    "```julia\n",
    "R> r <- 2\n",
    "Julia> @rget r\n",
    "```\n",
    "\n",
    "* If you want to call Julia within R, check out the [`XRJulia`](https://cran.r-project.org/web/packages/XRJulia/) package by John Chambers."
   ]
  },
  {
   "cell_type": "markdown",
   "metadata": {
    "slideshow": {
     "slide_type": "slide"
    }
   },
   "source": [
    "## Some basic Julia code"
   ]
  },
  {
   "cell_type": "code",
   "execution_count": 12,
   "metadata": {},
   "outputs": [
    {
     "data": {
      "text/plain": [
       "Int64"
      ]
     },
     "execution_count": 12,
     "metadata": {},
     "output_type": "execute_result"
    }
   ],
   "source": [
    "y = 1\n",
    "typeof(y) # same as int in R"
   ]
  },
  {
   "cell_type": "code",
   "execution_count": 13,
   "metadata": {},
   "outputs": [
    {
     "data": {
      "text/plain": [
       "Float64"
      ]
     },
     "execution_count": 13,
     "metadata": {},
     "output_type": "execute_result"
    }
   ],
   "source": [
    "y = 1.0\n",
    "typeof(y) # same as double in R"
   ]
  },
  {
   "cell_type": "code",
   "execution_count": 14,
   "metadata": {},
   "outputs": [
    {
     "data": {
      "text/plain": [
       "π = 3.1415926535897..."
      ]
     },
     "execution_count": 14,
     "metadata": {},
     "output_type": "execute_result"
    }
   ],
   "source": [
    "# Greek letters:  `\\pi<tab>`\n",
    "π"
   ]
  },
  {
   "cell_type": "code",
   "execution_count": 15,
   "metadata": {},
   "outputs": [
    {
     "data": {
      "text/plain": [
       "4.141592653589793"
      ]
     },
     "execution_count": 15,
     "metadata": {},
     "output_type": "execute_result"
    }
   ],
   "source": [
    "# Greek letters:  `\\theta<tab>`\n",
    "θ = y + π"
   ]
  },
  {
   "cell_type": "code",
   "execution_count": 16,
   "metadata": {},
   "outputs": [
    {
     "data": {
      "text/plain": [
       "5.0"
      ]
     },
     "execution_count": 16,
     "metadata": {},
     "output_type": "execute_result"
    }
   ],
   "source": [
    "# emoji! `\\:kissing_cat:<tab>`\n",
    "😽 = 5.0"
   ]
  },
  {
   "cell_type": "code",
   "execution_count": 17,
   "metadata": {},
   "outputs": [
    {
     "data": {
      "text/plain": [
       "π = 3.1415926535897..."
      ]
     },
     "execution_count": 17,
     "metadata": {},
     "output_type": "execute_result"
    }
   ],
   "source": [
    "# wear a hat: `\\alpha<tab>\\hat<tab>`\n",
    "α̂ = π"
   ]
  },
  {
   "cell_type": "code",
   "execution_count": 18,
   "metadata": {},
   "outputs": [
    {
     "data": {
      "text/plain": [
       "5-element Array{Float64,1}:\n",
       " 0.0\n",
       " 0.0\n",
       " 0.0\n",
       " 0.0\n",
       " 0.0"
      ]
     },
     "execution_count": 18,
     "metadata": {},
     "output_type": "execute_result"
    }
   ],
   "source": [
    "# vector of Float64 0s\n",
    "x = zeros(5)"
   ]
  },
  {
   "cell_type": "code",
   "execution_count": 19,
   "metadata": {},
   "outputs": [
    {
     "data": {
      "text/plain": [
       "5-element Array{Int64,1}:\n",
       " 0\n",
       " 0\n",
       " 0\n",
       " 0\n",
       " 0"
      ]
     },
     "execution_count": 19,
     "metadata": {},
     "output_type": "execute_result"
    }
   ],
   "source": [
    "# vector of Int64 0s\n",
    "x = zeros(Int, 5)"
   ]
  },
  {
   "cell_type": "code",
   "execution_count": 20,
   "metadata": {},
   "outputs": [
    {
     "data": {
      "text/plain": [
       "5×3 Array{Float64,2}:\n",
       " 0.0  0.0  0.0\n",
       " 0.0  0.0  0.0\n",
       " 0.0  0.0  0.0\n",
       " 0.0  0.0  0.0\n",
       " 0.0  0.0  0.0"
      ]
     },
     "execution_count": 20,
     "metadata": {},
     "output_type": "execute_result"
    }
   ],
   "source": [
    "# matrix of Float64 0s\n",
    "x = zeros(5, 3)"
   ]
  },
  {
   "cell_type": "code",
   "execution_count": 21,
   "metadata": {},
   "outputs": [
    {
     "data": {
      "text/plain": [
       "5×3 Array{Float64,2}:\n",
       " 1.0  1.0  1.0\n",
       " 1.0  1.0  1.0\n",
       " 1.0  1.0  1.0\n",
       " 1.0  1.0  1.0\n",
       " 1.0  1.0  1.0"
      ]
     },
     "execution_count": 21,
     "metadata": {},
     "output_type": "execute_result"
    }
   ],
   "source": [
    "# matrix of Float64 1s\n",
    "x = ones(5, 3)"
   ]
  },
  {
   "cell_type": "code",
   "execution_count": 22,
   "metadata": {},
   "outputs": [
    {
     "data": {
      "text/plain": [
       "5×3 Array{Float64,2}:\n",
       " 0.0           0.0           0.0         \n",
       " 0.0           0.0           2.23563e-314\n",
       " 0.0           0.0           0.0         \n",
       " 2.37723e-314  2.37275e-314  2.37283e-314\n",
       " 0.0           2.38477e-314  0.0         "
      ]
     },
     "execution_count": 22,
     "metadata": {},
     "output_type": "execute_result"
    }
   ],
   "source": [
    "# define array without initialization\n",
    "x = Array{Float64}(5, 3)"
   ]
  },
  {
   "cell_type": "code",
   "execution_count": 23,
   "metadata": {},
   "outputs": [
    {
     "data": {
      "text/plain": [
       "5×3 Array{Float64,2}:\n",
       " 0.0  0.0  0.0\n",
       " 0.0  0.0  0.0\n",
       " 0.0  0.0  0.0\n",
       " 0.0  0.0  0.0\n",
       " 0.0  0.0  0.0"
      ]
     },
     "execution_count": 23,
     "metadata": {},
     "output_type": "execute_result"
    }
   ],
   "source": [
    "# fill an array by 0s\n",
    "fill!(x, 0)"
   ]
  },
  {
   "cell_type": "code",
   "execution_count": 24,
   "metadata": {},
   "outputs": [
    {
     "data": {
      "text/plain": [
       "5×3 Array{Float64,2}:\n",
       " 2.5  2.5  2.5\n",
       " 2.5  2.5  2.5\n",
       " 2.5  2.5  2.5\n",
       " 2.5  2.5  2.5\n",
       " 2.5  2.5  2.5"
      ]
     },
     "execution_count": 24,
     "metadata": {},
     "output_type": "execute_result"
    }
   ],
   "source": [
    "# initialize an array to be 2.5\n",
    "fill(2.5, (5, 3))"
   ]
  },
  {
   "cell_type": "code",
   "execution_count": 25,
   "metadata": {},
   "outputs": [
    {
     "data": {
      "text/plain": [
       "3//5"
      ]
     },
     "execution_count": 25,
     "metadata": {},
     "output_type": "execute_result"
    }
   ],
   "source": [
    "a = 3//5"
   ]
  },
  {
   "cell_type": "code",
   "execution_count": 26,
   "metadata": {},
   "outputs": [
    {
     "data": {
      "text/plain": [
       "Rational{Int64}"
      ]
     },
     "execution_count": 26,
     "metadata": {},
     "output_type": "execute_result"
    }
   ],
   "source": [
    "typeof(a)"
   ]
  },
  {
   "cell_type": "code",
   "execution_count": 27,
   "metadata": {},
   "outputs": [
    {
     "data": {
      "text/plain": [
       "36//35"
      ]
     },
     "execution_count": 27,
     "metadata": {},
     "output_type": "execute_result"
    }
   ],
   "source": [
    "b = 3//7\n",
    "a + b"
   ]
  },
  {
   "cell_type": "markdown",
   "metadata": {},
   "source": [
    "## Random numbers"
   ]
  },
  {
   "cell_type": "code",
   "execution_count": 28,
   "metadata": {},
   "outputs": [
    {
     "data": {
      "text/plain": [
       "MersenneTwister(UInt32[0x000007e2], Base.dSFMT.DSFMT_state(Int32[-202096972, 1073008071, 2126042476, 1072793678, -64266256, 1072791560, -862800465, 1073689841, -1825118558, 1073580158  …  1117634044, 1073654874, -1803952621, 1073214982, 870324007, 762330074, 800503355, 556564238, 382, 0]), [1.13398, 1.47522, 1.32981, 1.12859, 1.39857, 1.86132, 1.51023, 1.84741, 1.92563, 1.35764  …  1.46187, 1.07599, 1.10617, 1.43957, 1.37192, 1.75769, 1.33281, 1.65283, 1.43196, 1.15743], 382)"
      ]
     },
     "execution_count": 28,
     "metadata": {},
     "output_type": "execute_result"
    }
   ],
   "source": [
    "# set random seed\n",
    "srand(2018)"
   ]
  },
  {
   "cell_type": "code",
   "execution_count": 29,
   "metadata": {},
   "outputs": [
    {
     "data": {
      "text/plain": [
       "5×3 Array{Float64,2}:\n",
       " 0.654539  0.682842  0.356495\n",
       " 0.108906  0.151455  0.260692\n",
       " 0.723586  0.612651  0.970956\n",
       " 0.720367  0.982534  0.966637\n",
       " 0.262428  0.75867   0.34616 "
      ]
     },
     "execution_count": 29,
     "metadata": {},
     "output_type": "execute_result"
    }
   ],
   "source": [
    "# uniform [0, 1) random numbers\n",
    "x = rand(5, 3)"
   ]
  },
  {
   "cell_type": "code",
   "execution_count": 30,
   "metadata": {},
   "outputs": [
    {
     "data": {
      "text/plain": [
       "5×3 Array{Float32,2}:\n",
       " 0.608769  0.725878   0.0518984\n",
       " 0.771825  0.165383   0.9217   \n",
       " 0.185688  0.295632   0.260074 \n",
       " 0.243404  0.538624   0.861518 \n",
       " 0.196947  0.0133095  0.753027 "
      ]
     },
     "execution_count": 30,
     "metadata": {},
     "output_type": "execute_result"
    }
   ],
   "source": [
    "# uniform random numbers (in single precision)\n",
    "x = rand(Float32, 5, 3)"
   ]
  },
  {
   "cell_type": "code",
   "execution_count": 31,
   "metadata": {},
   "outputs": [
    {
     "data": {
      "text/plain": [
       "5×3 Array{Int64,2}:\n",
       " 5  2  1\n",
       " 5  1  4\n",
       " 3  2  2\n",
       " 5  3  2\n",
       " 3  5  1"
      ]
     },
     "execution_count": 31,
     "metadata": {},
     "output_type": "execute_result"
    }
   ],
   "source": [
    "# random numbers from {1,...,5}\n",
    "x = rand(1:5, 5, 3)"
   ]
  },
  {
   "cell_type": "code",
   "execution_count": 32,
   "metadata": {},
   "outputs": [
    {
     "data": {
      "text/plain": [
       "5×3 Array{Float64,2}:\n",
       "  0.56144     0.403827  -0.133275 \n",
       "  0.0981954  -0.665607   0.0685784\n",
       "  0.588447    1.01008    0.854076 \n",
       " -0.112509    0.898838  -0.837714 \n",
       " -0.120294    1.49929    0.27118  "
      ]
     },
     "execution_count": 32,
     "metadata": {},
     "output_type": "execute_result"
    }
   ],
   "source": [
    "# standard normal random numbers\n",
    "x = randn(5, 3)"
   ]
  },
  {
   "cell_type": "markdown",
   "metadata": {},
   "source": [
    "To generate random samples from a specific distribution, we use the Distributions.jl package."
   ]
  },
  {
   "cell_type": "code",
   "execution_count": 33,
   "metadata": {},
   "outputs": [
    {
     "data": {
      "text/plain": [
       "5×3 Array{Float64,2}:\n",
       " 0.585735    2.24753   0.794098 \n",
       " 0.906154    1.37461   3.32346  \n",
       " 0.311748    2.36775   0.147374 \n",
       " 0.0436434   0.919539  0.446208 \n",
       " 0.00157463  0.172398  0.0778576"
      ]
     },
     "execution_count": 33,
     "metadata": {},
     "output_type": "execute_result"
    }
   ],
   "source": [
    "using Distributions\n",
    "\n",
    "# iid Exp(1)\n",
    "rand(Exponential(1), 5, 3)"
   ]
  },
  {
   "cell_type": "markdown",
   "metadata": {},
   "source": [
    "## Timing and benchmark"
   ]
  },
  {
   "cell_type": "markdown",
   "metadata": {},
   "source": [
    "`@time`, `@elapsed`, `@allocated` macros:"
   ]
  },
  {
   "cell_type": "code",
   "execution_count": 34,
   "metadata": {},
   "outputs": [
    {
     "data": {
      "text/plain": [
       "-3272.922691520938"
      ]
     },
     "execution_count": 34,
     "metadata": {},
     "output_type": "execute_result"
    },
    {
     "name": "stdout",
     "output_type": "stream",
     "text": [
      "  0.035734 seconds (9.88 k allocations: 545.223 KiB)\n",
      "  0.004045 seconds (5 allocations: 176 bytes)\n"
     ]
    }
   ],
   "source": [
    "srand(123) # seed\n",
    "x = randn(10^7)\n",
    "@time sum(x) # first run includes compilation time\n",
    "@time sum(x) # no compilation time after first run"
   ]
  },
  {
   "cell_type": "code",
   "execution_count": 35,
   "metadata": {},
   "outputs": [
    {
     "data": {
      "text/plain": [
       "0.006489112"
      ]
     },
     "execution_count": 35,
     "metadata": {},
     "output_type": "execute_result"
    }
   ],
   "source": [
    "@elapsed sum(x)"
   ]
  },
  {
   "cell_type": "code",
   "execution_count": 36,
   "metadata": {},
   "outputs": [
    {
     "data": {
      "text/plain": [
       "16"
      ]
     },
     "execution_count": 36,
     "metadata": {},
     "output_type": "execute_result"
    }
   ],
   "source": [
    "@allocated sum(x)"
   ]
  },
  {
   "cell_type": "markdown",
   "metadata": {},
   "source": [
    "###  Julia\n",
    "\n",
    "Use `BenchmarkTools.jl` for more robust benchmarking. Analog to `microbenchmark` package in R."
   ]
  },
  {
   "cell_type": "code",
   "execution_count": 37,
   "metadata": {},
   "outputs": [
    {
     "data": {
      "text/plain": [
       "BenchmarkTools.Trial: \n",
       "  memory estimate:  0 bytes\n",
       "  allocs estimate:  0\n",
       "  --------------\n",
       "  minimum time:     4.720 ms (0.00% GC)\n",
       "  median time:      4.793 ms (0.00% GC)\n",
       "  mean time:        4.907 ms (0.00% GC)\n",
       "  maximum time:     6.589 ms (0.00% GC)\n",
       "  --------------\n",
       "  samples:          1018\n",
       "  evals/sample:     1"
      ]
     },
     "execution_count": 37,
     "metadata": {},
     "output_type": "execute_result"
    }
   ],
   "source": [
    "using BenchmarkTools\n",
    "\n",
    "@benchmark sum($x)"
   ]
  },
  {
   "cell_type": "markdown",
   "metadata": {},
   "source": [
    "### R"
   ]
  },
  {
   "cell_type": "code",
   "execution_count": 38,
   "metadata": {},
   "outputs": [
    {
     "data": {
      "text/plain": [
       "RCall.RObject{RCall.VecSxp}\n",
       "Unit: milliseconds\n",
       "         expr      min       lq     mean   median       uq      max neval\n",
       " sum(`#JL`$x) 8.650309 8.900707 9.226273 9.036881 9.383665 11.48902   100\n"
      ]
     },
     "execution_count": 38,
     "metadata": {},
     "output_type": "execute_result"
    }
   ],
   "source": [
    "using RCall\n",
    "\n",
    "R\"\"\"\n",
    "library(microbenchmark)\n",
    "microbenchmark(sum($x))\n",
    "\"\"\""
   ]
  },
  {
   "cell_type": "markdown",
   "metadata": {},
   "source": [
    "Why is R ~1.5-2 fold slower than Julia?"
   ]
  },
  {
   "cell_type": "markdown",
   "metadata": {},
   "source": [
    "### C"
   ]
  },
  {
   "cell_type": "code",
   "execution_count": 39,
   "metadata": {},
   "outputs": [
    {
     "data": {
      "text/plain": [
       "c_sum (generic function with 1 method)"
      ]
     },
     "execution_count": 39,
     "metadata": {},
     "output_type": "execute_result"
    }
   ],
   "source": [
    "C_code = \"\"\"\n",
    "#include <stddef.h>\n",
    "double c_sum(size_t n, double *X) {\n",
    "    double s = 0.0;\n",
    "    for (size_t i = 0; i < n; ++i) {\n",
    "        s += X[i];\n",
    "    }\n",
    "    return s;\n",
    "}\n",
    "\"\"\"\n",
    "\n",
    "const Clib = tempname()   # make a temporary file\n",
    "\n",
    "\n",
    "# compile to a shared library by piping C_code to gcc\n",
    "# (works only if you have gcc installed):\n",
    "\n",
    "open(`gcc -fPIC -O3 -msse3 -xc -shared -o $(Clib * \".\" * Libdl.dlext) -`, \"w\") do f\n",
    "    print(f, C_code) \n",
    "end\n",
    "\n",
    "# define a Julia function that calls the C function:\n",
    "c_sum(X::Array{Float64}) = ccall((\"c_sum\", Clib), Float64, (Csize_t, Ptr{Float64}), length(X), X)"
   ]
  },
  {
   "cell_type": "code",
   "execution_count": 40,
   "metadata": {},
   "outputs": [
    {
     "data": {
      "text/plain": [
       "BenchmarkTools.Trial: \n",
       "  memory estimate:  0 bytes\n",
       "  allocs estimate:  0\n",
       "  --------------\n",
       "  minimum time:     11.080 ms (0.00% GC)\n",
       "  median time:      11.703 ms (0.00% GC)\n",
       "  mean time:        11.810 ms (0.00% GC)\n",
       "  maximum time:     15.473 ms (0.00% GC)\n",
       "  --------------\n",
       "  samples:          424\n",
       "  evals/sample:     1"
      ]
     },
     "execution_count": 40,
     "metadata": {},
     "output_type": "execute_result"
    }
   ],
   "source": [
    "@benchmark c_sum($x)"
   ]
  },
  {
   "cell_type": "markdown",
   "metadata": {},
   "source": [
    "### Python, builtin `sum`"
   ]
  },
  {
   "cell_type": "code",
   "execution_count": 41,
   "metadata": {},
   "outputs": [
    {
     "data": {
      "text/plain": [
       "BenchmarkTools.Trial: \n",
       "  memory estimate:  152.60 MiB\n",
       "  allocs estimate:  10000068\n",
       "  --------------\n",
       "  minimum time:     1.633 s (26.07% GC)\n",
       "  median time:      1.762 s (28.22% GC)\n",
       "  mean time:        1.721 s (27.62% GC)\n",
       "  maximum time:     1.768 s (28.12% GC)\n",
       "  --------------\n",
       "  samples:          3\n",
       "  evals/sample:     1"
      ]
     },
     "execution_count": 41,
     "metadata": {},
     "output_type": "execute_result"
    }
   ],
   "source": [
    "using PyCall\n",
    "# get the Python built-in \"sum\" function:\n",
    "pysum = pybuiltin(\"sum\")\n",
    "@benchmark $pysum($x)"
   ]
  },
  {
   "cell_type": "markdown",
   "metadata": {},
   "source": [
    "### Python, numpy"
   ]
  },
  {
   "cell_type": "code",
   "execution_count": 42,
   "metadata": {},
   "outputs": [
    {
     "ename": "LoadError",
     "evalue": "\u001b[91mPyError (PyImport_ImportModule\n\nThe Python package numpy could not be found by pyimport. Usually this means\nthat you did not install numpy in the Python version being used by PyCall.\n\nPyCall is currently configured to use the Julia-specific Python distribution\ninstalled by the Conda.jl package.  To install the numpy module, you can\nuse `pyimport_conda(\"numpy\", PKG)`, where PKG is the Anaconda\npackage the contains the module numpy, or alternatively you can use the\nConda package directly (via `using Conda` followed by `Conda.add` etcetera).\n\nAlternatively, if you want to use a different Python distribution on your\nsystem, such as a system-wide Python (as opposed to the Julia-specific Python),\nyou can re-configure PyCall with that Python.   As explained in the PyCall\ndocumentation, set ENV[\"PYTHON\"] to the path/name of the python executable\nyou want to use, run Pkg.build(\"PyCall\"), and re-launch Julia.\n\n) <type 'exceptions.ImportError'>\nImportError('cannot import name add_newdocs',)\n  File \"/Users/huazhou/.julia/v0.6/Conda/deps/usr/lib/python2.7/site-packages/numpy/__init__.py\", line 142, in <module>\n    from . import add_newdocs\n\u001b[39m",
     "output_type": "error",
     "traceback": [
      "\u001b[91mPyError (PyImport_ImportModule\n\nThe Python package numpy could not be found by pyimport. Usually this means\nthat you did not install numpy in the Python version being used by PyCall.\n\nPyCall is currently configured to use the Julia-specific Python distribution\ninstalled by the Conda.jl package.  To install the numpy module, you can\nuse `pyimport_conda(\"numpy\", PKG)`, where PKG is the Anaconda\npackage the contains the module numpy, or alternatively you can use the\nConda package directly (via `using Conda` followed by `Conda.add` etcetera).\n\nAlternatively, if you want to use a different Python distribution on your\nsystem, such as a system-wide Python (as opposed to the Julia-specific Python),\nyou can re-configure PyCall with that Python.   As explained in the PyCall\ndocumentation, set ENV[\"PYTHON\"] to the path/name of the python executable\nyou want to use, run Pkg.build(\"PyCall\"), and re-launch Julia.\n\n) <type 'exceptions.ImportError'>\nImportError('cannot import name add_newdocs',)\n  File \"/Users/huazhou/.julia/v0.6/Conda/deps/usr/lib/python2.7/site-packages/numpy/__init__.py\", line 142, in <module>\n    from . import add_newdocs\n\u001b[39m",
      "",
      "Stacktrace:",
      " [1] \u001b[1mpyimport\u001b[22m\u001b[22m\u001b[1m(\u001b[22m\u001b[22m::String\u001b[1m)\u001b[22m\u001b[22m at \u001b[1m/Users/huazhou/.julia/v0.6/PyCall/src/PyCall.jl:473\u001b[22m\u001b[22m",
      " [2] \u001b[1minclude_string\u001b[22m\u001b[22m\u001b[1m(\u001b[22m\u001b[22m::String, ::String\u001b[1m)\u001b[22m\u001b[22m at \u001b[1m./loading.jl:522\u001b[22m\u001b[22m"
     ]
    }
   ],
   "source": [
    "using Conda\n",
    "\n",
    "numpy_sum = pyimport(\"numpy\")[\"sum\"]\n",
    "\n",
    "@benchmark $numpy_sum($x)"
   ]
  },
  {
   "cell_type": "markdown",
   "metadata": {},
   "source": [
    "### Python, handwritten"
   ]
  },
  {
   "cell_type": "code",
   "execution_count": 43,
   "metadata": {},
   "outputs": [
    {
     "data": {
      "text/plain": [
       "BenchmarkTools.Trial: \n",
       "  memory estimate:  152.60 MiB\n",
       "  allocs estimate:  10000068\n",
       "  --------------\n",
       "  minimum time:     2.013 s (21.44% GC)\n",
       "  median time:      2.088 s (23.70% GC)\n",
       "  mean time:        2.071 s (23.00% GC)\n",
       "  maximum time:     2.112 s (23.80% GC)\n",
       "  --------------\n",
       "  samples:          3\n",
       "  evals/sample:     1"
      ]
     },
     "execution_count": 43,
     "metadata": {},
     "output_type": "execute_result"
    }
   ],
   "source": [
    "py\"\"\"\n",
    "def py_sum(A):\n",
    "    s = 0.0\n",
    "    for a in A:\n",
    "        s += a\n",
    "    return s\n",
    "\"\"\"\n",
    "\n",
    "sum_py = py\"py_sum\"\n",
    "\n",
    "@benchmark $sum_py($x)"
   ]
  }
 ],
 "metadata": {
  "kernelspec": {
   "display_name": "Julia 0.6.4",
   "language": "julia",
   "name": "julia-0.6"
  },
  "language_info": {
   "file_extension": ".jl",
   "mimetype": "application/julia",
   "name": "julia",
   "version": "0.6.4"
  },
  "livereveal": {
   "scroll": true,
   "start_slideshow_at": "selected"
  },
  "toc": {
   "colors": {
    "hover_highlight": "#DAA520",
    "running_highlight": "#FF0000",
    "selected_highlight": "#FFD700"
   },
   "moveMenuLeft": true,
   "nav_menu": {
    "height": "512px",
    "width": "252px"
   },
   "navigate_menu": true,
   "number_sections": true,
   "sideBar": true,
   "threshold": 4,
   "toc_cell": true,
   "toc_position": {
    "height": "641px",
    "left": "0px",
    "right": "1171.48095703125px",
    "top": "105px",
    "width": "212px"
   },
   "toc_section_display": "block",
   "toc_window_display": true,
   "widenNotebook": false
  }
 },
 "nbformat": 4,
 "nbformat_minor": 2
}
