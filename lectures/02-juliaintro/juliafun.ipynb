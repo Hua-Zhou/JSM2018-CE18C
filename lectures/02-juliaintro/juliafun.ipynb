{
 "cells": [
  {
   "cell_type": "markdown",
   "metadata": {
    "toc": "true"
   },
   "source": [
    "# Table of Contents\n",
    " <p><div class=\"lev1 toc-item\"><a href=\"#Julia:-Functions,-Type-System,-Multiple-Dispatch,-JIT,-and-Profiling\" data-toc-modified-id=\"Julia:-Functions,-Type-System,-Multiple-Dispatch,-JIT,-and-Profiling-1\"><span class=\"toc-item-num\">1&nbsp;&nbsp;</span>Julia: Functions, Type System, Multiple Dispatch, JIT, and Profiling</a></div><div class=\"lev2 toc-item\"><a href=\"#Control-flow-and-loops\" data-toc-modified-id=\"Control-flow-and-loops-11\"><span class=\"toc-item-num\">1.1&nbsp;&nbsp;</span>Control flow and loops</a></div><div class=\"lev2 toc-item\"><a href=\"#Functions\" data-toc-modified-id=\"Functions-12\"><span class=\"toc-item-num\">1.2&nbsp;&nbsp;</span>Functions</a></div><div class=\"lev2 toc-item\"><a href=\"#Type-system\" data-toc-modified-id=\"Type-system-13\"><span class=\"toc-item-num\">1.3&nbsp;&nbsp;</span>Type system</a></div><div class=\"lev2 toc-item\"><a href=\"#Multiple-dispatch\" data-toc-modified-id=\"Multiple-dispatch-14\"><span class=\"toc-item-num\">1.4&nbsp;&nbsp;</span>Multiple dispatch</a></div><div class=\"lev2 toc-item\"><a href=\"#Just-in-time-compilation-(JIT)\" data-toc-modified-id=\"Just-in-time-compilation-(JIT)-15\"><span class=\"toc-item-num\">1.5&nbsp;&nbsp;</span>Just-in-time compilation (JIT)</a></div><div class=\"lev2 toc-item\"><a href=\"#Profiling-Julia-code\" data-toc-modified-id=\"Profiling-Julia-code-16\"><span class=\"toc-item-num\">1.6&nbsp;&nbsp;</span>Profiling Julia code</a></div><div class=\"lev2 toc-item\"><a href=\"#Memory-profiling\" data-toc-modified-id=\"Memory-profiling-17\"><span class=\"toc-item-num\">1.7&nbsp;&nbsp;</span>Memory profiling</a></div><div class=\"lev2 toc-item\"><a href=\"#Type-stability\" data-toc-modified-id=\"Type-stability-18\"><span class=\"toc-item-num\">1.8&nbsp;&nbsp;</span>Type stability</a></div>"
   ]
  },
  {
   "cell_type": "markdown",
   "metadata": {
    "slideshow": {
     "slide_type": "slide"
    }
   },
   "source": [
    "# Julia: Functions, Type System, Multiple Dispatch, JIT, and Profiling\n",
    "\n",
    "In this lecture, we try to understand why Julia is fast. \n",
    "\n",
    "Machine information"
   ]
  },
  {
   "cell_type": "code",
   "execution_count": 1,
   "metadata": {},
   "outputs": [
    {
     "name": "stdout",
     "output_type": "stream",
     "text": [
      "Julia Version 0.6.4\n",
      "Commit 9d11f62bcb (2018-07-09 19:09 UTC)\n",
      "Platform Info:\n",
      "  OS: macOS (x86_64-apple-darwin14.5.0)\n",
      "  CPU: Intel(R) Core(TM) i7-6920HQ CPU @ 2.90GHz\n",
      "  WORD_SIZE: 64\n",
      "  BLAS: libopenblas (USE64BITINT DYNAMIC_ARCH NO_AFFINITY Haswell MAX_THREADS=16)\n",
      "  LAPACK: libopenblas64_\n",
      "  LIBM: libopenlibm\n",
      "  LLVM: libLLVM-3.9.1 (ORCJIT, skylake)\n"
     ]
    }
   ],
   "source": [
    "versioninfo()"
   ]
  },
  {
   "cell_type": "markdown",
   "metadata": {},
   "source": [
    "## Control flow and loops\n",
    "\n",
    "Building blocks of a function:"
   ]
  },
  {
   "cell_type": "markdown",
   "metadata": {},
   "source": [
    "* if-elseif-else-end\n",
    "```julia\n",
    "if condition1\n",
    "    # do something\n",
    "elseif condition2\n",
    "    # do something\n",
    "else\n",
    "    # do something\n",
    "end\n",
    "```\n",
    "\n",
    "* `for` loop\n",
    "```julia\n",
    "for i in 1:10\n",
    "    println(i)\n",
    "end\n",
    "```\n",
    "\n",
    "* Nested `for` loop:\n",
    "```julia\n",
    "for i in 1:10\n",
    "    for j in 1:5\n",
    "        println(i * j)\n",
    "    end\n",
    "end\n",
    "```\n",
    "Same as\n",
    "```julia\n",
    "for i in 1:10, j in 1:5\n",
    "    println(i * j)\n",
    "end\n",
    "```\n",
    "\n",
    "* Exit loop:\n",
    "```julia\n",
    "for i in 1:10\n",
    "    # do something\n",
    "    if condition1\n",
    "        exit # skip remaining loop\n",
    "    end\n",
    "end\n",
    "```\n",
    "\n",
    "* Exit iteration:  \n",
    "```julia\n",
    "for i in 1:10\n",
    "    # do something\n",
    "    if condition1\n",
    "        continue # skip to next iteration\n",
    "    end\n",
    "    # do something\n",
    "end\n",
    "```"
   ]
  },
  {
   "cell_type": "markdown",
   "metadata": {
    "slideshow": {
     "slide_type": "slide"
    }
   },
   "source": [
    "## Functions "
   ]
  },
  {
   "cell_type": "markdown",
   "metadata": {},
   "source": [
    "* In Julia, all arguments to functions are **passed by reference**, in contrast to R and Matlab.\n",
    "\n",
    "* Function names ending with `!` indicates that function mutates at least one argument, typically the first.\n",
    "```julia\n",
    "sort!(x) # vs sort(x)\n",
    "```\n",
    "\n",
    "* Function definition\n",
    "```julia\n",
    "function func(req1, req2; key1=dflt1, key2=dflt2)\n",
    "    # do stuff\n",
    "    return out1, out2, out3\n",
    "end\n",
    "```\n",
    "**Required arguments** are separated with a comma and use the positional notation.  \n",
    "**Optional arguments** need a default value in the signature.  \n",
    "**Semicolon** is not required in function call.  \n",
    "**return** statement is optional.  \n",
    "Multiple outputs can be returned as a **tuple**, e.g., `return out1, out2, out3`.  \n",
    "\n",
    "* Anonymous functions, e.g., `x -> x^2`, is commonly used in collection function or list comprehensions.\n",
    "```julia\n",
    "map(x -> x^2, y) # square each element in x\n",
    "```\n",
    "\n",
    "* Functions can be nested:\n",
    "```julia\n",
    "function outerfunction()\n",
    "    # do some outer stuff\n",
    "    function innerfunction()\n",
    "        # do inner stuff\n",
    "        # can access prior outer definitions\n",
    "    end\n",
    "    # do more outer stuff\n",
    "end\n",
    "```\n",
    "\n",
    "* Functions can be vectorized using the **dot syntax**:"
   ]
  },
  {
   "cell_type": "code",
   "execution_count": 2,
   "metadata": {},
   "outputs": [
    {
     "data": {
      "text/plain": [
       "5×3 Array{Float64,2}:\n",
       "  0.698459    0.0332408   0.989591 \n",
       "  0.0610353   0.104825   -0.521194 \n",
       " -0.972617    0.716213    0.0618489\n",
       "  0.704725   -0.449746    0.896146 \n",
       "  0.886254    0.162349    0.0109776"
      ]
     },
     "execution_count": 2,
     "metadata": {},
     "output_type": "execute_result"
    }
   ],
   "source": [
    "function myfunc(x)\n",
    "    return sin(x^2)\n",
    "end\n",
    "\n",
    "x = randn(5, 3)\n",
    "myfunc.(x)"
   ]
  },
  {
   "cell_type": "markdown",
   "metadata": {},
   "source": [
    "Dot operations are fused into a single loop:"
   ]
  },
  {
   "cell_type": "code",
   "execution_count": 3,
   "metadata": {},
   "outputs": [
    {
     "data": {
      "text/plain": [
       "5×3 Array{Float64,2}:\n",
       " -0.380497    0.619866   0.0377494\n",
       "  0.99988     0.98342    0.779047 \n",
       "  0.947605    0.0113398  0.534859 \n",
       "  0.0133797   0.723658   0.179633 \n",
       "  0.00190486  0.921095   0.939281 "
      ]
     },
     "execution_count": 3,
     "metadata": {},
     "output_type": "execute_result"
    }
   ],
   "source": [
    "myfunc.(x .+ 1)"
   ]
  },
  {
   "cell_type": "code",
   "execution_count": 4,
   "metadata": {},
   "outputs": [
    {
     "data": {
      "text/plain": [
       "BenchmarkTools.Trial: \n",
       "  memory estimate:  1.30 KiB\n",
       "  allocs estimate:  25\n",
       "  --------------\n",
       "  minimum time:     4.248 μs (0.00% GC)\n",
       "  median time:      4.471 μs (0.00% GC)\n",
       "  mean time:        4.779 μs (2.91% GC)\n",
       "  maximum time:     405.425 μs (95.57% GC)\n",
       "  --------------\n",
       "  samples:          10000\n",
       "  evals/sample:     7"
      ]
     },
     "execution_count": 4,
     "metadata": {},
     "output_type": "execute_result"
    }
   ],
   "source": [
    "using BenchmarkTools\n",
    "\n",
    "# allocate new array for z\n",
    "@benchmark z = myfunc.(x .+ 1) # sin((x + 1)^2)"
   ]
  },
  {
   "cell_type": "code",
   "execution_count": 5,
   "metadata": {},
   "outputs": [
    {
     "ename": "LoadError",
     "evalue": "\u001b[91mUndefVarError: z not defined\u001b[39m",
     "output_type": "error",
     "traceback": [
      "\u001b[91mUndefVarError: z not defined\u001b[39m",
      "",
      "Stacktrace:",
      " [1] \u001b[1m##core#679\u001b[22m\u001b[22m\u001b[1m(\u001b[22m\u001b[22m\u001b[1m)\u001b[22m\u001b[22m at \u001b[1m/Users/huazhou/.julia/v0.6/BenchmarkTools/src/execution.jl:316\u001b[22m\u001b[22m",
      " [2] \u001b[1m##sample#680\u001b[22m\u001b[22m\u001b[1m(\u001b[22m\u001b[22m::BenchmarkTools.Parameters\u001b[1m)\u001b[22m\u001b[22m at \u001b[1m/Users/huazhou/.julia/v0.6/BenchmarkTools/src/execution.jl:322\u001b[22m\u001b[22m",
      " [3] \u001b[1m#_run#7\u001b[22m\u001b[22m\u001b[1m(\u001b[22m\u001b[22m::Bool, ::String, ::Array{Any,1}, ::Function, ::BenchmarkTools.Benchmark{Symbol(\"##benchmark#678\")}, ::BenchmarkTools.Parameters\u001b[1m)\u001b[22m\u001b[22m at \u001b[1m/Users/huazhou/.julia/v0.6/BenchmarkTools/src/execution.jl:350\u001b[22m\u001b[22m",
      " [4] \u001b[1m(::BenchmarkTools.#kw##_run)\u001b[22m\u001b[22m\u001b[1m(\u001b[22m\u001b[22m::Array{Any,1}, ::BenchmarkTools.#_run, ::BenchmarkTools.Benchmark{Symbol(\"##benchmark#678\")}, ::BenchmarkTools.Parameters\u001b[1m)\u001b[22m\u001b[22m at \u001b[1m./<missing>:0\u001b[22m\u001b[22m",
      " [5] \u001b[1manonymous\u001b[22m\u001b[22m at \u001b[1m./<missing>:?\u001b[22m\u001b[22m",
      " [6] \u001b[1m#run_result#19\u001b[22m\u001b[22m\u001b[1m(\u001b[22m\u001b[22m::Array{Any,1}, ::Function, ::BenchmarkTools.Benchmark{Symbol(\"##benchmark#678\")}, ::BenchmarkTools.Parameters\u001b[1m)\u001b[22m\u001b[22m at \u001b[1m/Users/huazhou/.julia/v0.6/BenchmarkTools/src/execution.jl:44\u001b[22m\u001b[22m",
      " [7] \u001b[1m(::BenchmarkTools.#kw##run_result)\u001b[22m\u001b[22m\u001b[1m(\u001b[22m\u001b[22m::Array{Any,1}, ::BenchmarkTools.#run_result, ::BenchmarkTools.Benchmark{Symbol(\"##benchmark#678\")}, ::BenchmarkTools.Parameters\u001b[1m)\u001b[22m\u001b[22m at \u001b[1m./<missing>:0\u001b[22m\u001b[22m",
      " [8] \u001b[1m#run#21\u001b[22m\u001b[22m\u001b[1m(\u001b[22m\u001b[22m::Array{Any,1}, ::Function, ::BenchmarkTools.Benchmark{Symbol(\"##benchmark#678\")}, ::BenchmarkTools.Parameters\u001b[1m)\u001b[22m\u001b[22m at \u001b[1m/Users/huazhou/.julia/v0.6/BenchmarkTools/src/execution.jl:67\u001b[22m\u001b[22m",
      " [9] \u001b[1m(::Base.#kw##run)\u001b[22m\u001b[22m\u001b[1m(\u001b[22m\u001b[22m::Array{Any,1}, ::Base.#run, ::BenchmarkTools.Benchmark{Symbol(\"##benchmark#678\")}, ::BenchmarkTools.Parameters\u001b[1m)\u001b[22m\u001b[22m at \u001b[1m./<missing>:0\u001b[22m\u001b[22m",
      " [10] \u001b[1mwarmup\u001b[22m\u001b[22m\u001b[1m(\u001b[22m\u001b[22m::BenchmarkTools.Benchmark{Symbol(\"##benchmark#678\")}\u001b[1m)\u001b[22m\u001b[22m at \u001b[1m/Users/huazhou/.julia/v0.6/BenchmarkTools/src/execution.jl:100\u001b[22m\u001b[22m"
     ]
    }
   ],
   "source": [
    "# use same z\n",
    "@benchmark z .= myfunc.(x .+ 1) # sin(x^2) + 1"
   ]
  },
  {
   "cell_type": "markdown",
   "metadata": {},
   "source": [
    "* **Collection function** (think this as the `apply` series in R).\n",
    "\n",
    "    Apply a function to each element of a collection:\n",
    "```julia\n",
    "map(f, coll) # or\n",
    "map(coll) do elem\n",
    "    # do stuff with elem\n",
    "    # must contain return\n",
    "end\n",
    "```"
   ]
  },
  {
   "cell_type": "code",
   "execution_count": 6,
   "metadata": {},
   "outputs": [
    {
     "data": {
      "text/plain": [
       "5×3 Array{Float64,2}:\n",
       "  0.698459    0.0332408   0.989591 \n",
       "  0.0610353   0.104825   -0.521194 \n",
       " -0.972617    0.716213    0.0618489\n",
       "  0.704725   -0.449746    0.896146 \n",
       "  0.886254    0.162349    0.0109776"
      ]
     },
     "execution_count": 6,
     "metadata": {},
     "output_type": "execute_result"
    }
   ],
   "source": [
    "map(x -> sin(x^2), x)"
   ]
  },
  {
   "cell_type": "code",
   "execution_count": 7,
   "metadata": {},
   "outputs": [
    {
     "data": {
      "text/plain": [
       "5×3 Array{Float64,2}:\n",
       "  0.698459    0.0332408   0.989591 \n",
       "  0.0610353   0.104825   -0.521194 \n",
       " -0.972617    0.716213    0.0618489\n",
       "  0.704725   -0.449746    0.896146 \n",
       "  0.886254    0.162349    0.0109776"
      ]
     },
     "execution_count": 7,
     "metadata": {},
     "output_type": "execute_result"
    }
   ],
   "source": [
    "map(x) do elem\n",
    "    elem = elem^2\n",
    "    return sin(elem)\n",
    "end"
   ]
  },
  {
   "cell_type": "code",
   "execution_count": 8,
   "metadata": {},
   "outputs": [
    {
     "data": {
      "text/plain": [
       "3.382108546293333"
      ]
     },
     "execution_count": 8,
     "metadata": {},
     "output_type": "execute_result"
    }
   ],
   "source": [
    "# Mapreduce\n",
    "mapreduce(x -> sin(x^2), +, x)"
   ]
  },
  {
   "cell_type": "code",
   "execution_count": 9,
   "metadata": {},
   "outputs": [
    {
     "data": {
      "text/plain": [
       "3.382108546293333"
      ]
     },
     "execution_count": 9,
     "metadata": {},
     "output_type": "execute_result"
    }
   ],
   "source": [
    "# same as\n",
    "sum(x -> sin(x^2), x)"
   ]
  },
  {
   "cell_type": "markdown",
   "metadata": {},
   "source": [
    "* List **comprehension**"
   ]
  },
  {
   "cell_type": "code",
   "execution_count": 10,
   "metadata": {},
   "outputs": [
    {
     "data": {
      "text/plain": [
       "5×3 Array{Float64,2}:\n",
       "  0.14112   -0.756802  -0.958924\n",
       " -0.958924  -0.279415   0.656987\n",
       "  0.656987   0.989358   0.412118\n",
       "  0.412118  -0.544021  -0.99999 \n",
       " -0.99999   -0.536573   0.420167"
      ]
     },
     "execution_count": 10,
     "metadata": {},
     "output_type": "execute_result"
    }
   ],
   "source": [
    "[sin(2i + j) for i in 1:5, j in 1:3] # similar to Python"
   ]
  },
  {
   "cell_type": "markdown",
   "metadata": {
    "slideshow": {
     "slide_type": "slide"
    }
   },
   "source": [
    "## Type system\n",
    "\n",
    "* When thinking about types, think about sets.\n",
    "\n",
    "* Everything is a subtype of the abstract type `Any`.\n",
    "\n",
    "* An abstract type defines a set of types\n",
    "    - Consider types in Julia that are a `Number`:\n",
    "\n",
    "<img src=\"tree.png\" width=\"600\" align=\"center\"/>\n",
    "\n",
    "* You can explore type hierarchy with `typeof()`, `supertype()`, and `subtypes()`."
   ]
  },
  {
   "cell_type": "code",
   "execution_count": 11,
   "metadata": {},
   "outputs": [
    {
     "data": {
      "text/plain": [
       "(Float64, Int64)"
      ]
     },
     "execution_count": 11,
     "metadata": {},
     "output_type": "execute_result"
    }
   ],
   "source": [
    "typeof(1.0), typeof(1)"
   ]
  },
  {
   "cell_type": "code",
   "execution_count": 12,
   "metadata": {},
   "outputs": [
    {
     "data": {
      "text/plain": [
       "AbstractFloat"
      ]
     },
     "execution_count": 12,
     "metadata": {},
     "output_type": "execute_result"
    }
   ],
   "source": [
    "supertype(Float64)"
   ]
  },
  {
   "cell_type": "code",
   "execution_count": 13,
   "metadata": {
    "scrolled": true
   },
   "outputs": [
    {
     "data": {
      "text/plain": [
       "4-element Array{Union{DataType, UnionAll},1}:\n",
       " BigFloat\n",
       " Float16 \n",
       " Float32 \n",
       " Float64 "
      ]
     },
     "execution_count": 13,
     "metadata": {},
     "output_type": "execute_result"
    }
   ],
   "source": [
    "subtypes(AbstractFloat)"
   ]
  },
  {
   "cell_type": "code",
   "execution_count": 14,
   "metadata": {},
   "outputs": [
    {
     "data": {
      "text/plain": [
       "true"
      ]
     },
     "execution_count": 14,
     "metadata": {},
     "output_type": "execute_result"
    }
   ],
   "source": [
    "# Is Float64 a subtype of AbstractFloat?\n",
    "Float64 <: AbstractFloat"
   ]
  },
  {
   "cell_type": "code",
   "execution_count": 15,
   "metadata": {},
   "outputs": [
    {
     "data": {
      "text/plain": [
       "true"
      ]
     },
     "execution_count": 15,
     "metadata": {},
     "output_type": "execute_result"
    }
   ],
   "source": [
    "# On 64bit machine, Int == Int64\n",
    "Int == Int64"
   ]
  },
  {
   "cell_type": "code",
   "execution_count": 16,
   "metadata": {},
   "outputs": [
    {
     "data": {
      "text/plain": [
       "1.0"
      ]
     },
     "execution_count": 16,
     "metadata": {},
     "output_type": "execute_result"
    }
   ],
   "source": [
    "convert(Float64, 1) # same as Float(64)"
   ]
  },
  {
   "cell_type": "code",
   "execution_count": 17,
   "metadata": {},
   "outputs": [
    {
     "data": {
      "text/plain": [
       "5-element Array{Float32,1}:\n",
       " -1.64933  \n",
       " -0.305266 \n",
       "  0.845376 \n",
       " -0.0670683\n",
       " -0.307917 "
      ]
     },
     "execution_count": 17,
     "metadata": {},
     "output_type": "execute_result"
    }
   ],
   "source": [
    "x = randn(Float32, 5)"
   ]
  },
  {
   "cell_type": "code",
   "execution_count": 18,
   "metadata": {},
   "outputs": [
    {
     "data": {
      "text/plain": [
       "5-element Array{Float64,1}:\n",
       " -1.64933  \n",
       " -0.305266 \n",
       "  0.845376 \n",
       " -0.0670683\n",
       " -0.307917 "
      ]
     },
     "execution_count": 18,
     "metadata": {},
     "output_type": "execute_result"
    }
   ],
   "source": [
    "convert(Vector{Float64}, x) # same as Float64.(x)"
   ]
  },
  {
   "cell_type": "code",
   "execution_count": 19,
   "metadata": {},
   "outputs": [
    {
     "data": {
      "text/plain": [
       "1"
      ]
     },
     "execution_count": 19,
     "metadata": {},
     "output_type": "execute_result"
    }
   ],
   "source": [
    "convert(Int, 1.0) # exact conversion"
   ]
  },
  {
   "cell_type": "code",
   "execution_count": 20,
   "metadata": {},
   "outputs": [
    {
     "ename": "LoadError",
     "evalue": "\u001b[91mInexactError()\u001b[39m",
     "output_type": "error",
     "traceback": [
      "\u001b[91mInexactError()\u001b[39m",
      "",
      "Stacktrace:",
      " [1] \u001b[1mconvert\u001b[22m\u001b[22m\u001b[1m(\u001b[22m\u001b[22m::Type{Int64}, ::Float64\u001b[1m)\u001b[22m\u001b[22m at \u001b[1m./float.jl:679\u001b[22m\u001b[22m"
     ]
    }
   ],
   "source": [
    "convert(Int, 1.5) # should use round(1.5)"
   ]
  },
  {
   "cell_type": "code",
   "execution_count": 21,
   "metadata": {},
   "outputs": [
    {
     "data": {
      "text/plain": [
       "2"
      ]
     },
     "execution_count": 21,
     "metadata": {},
     "output_type": "execute_result"
    }
   ],
   "source": [
    "round(Int, 1.5)"
   ]
  },
  {
   "cell_type": "markdown",
   "metadata": {},
   "source": [
    "## Multiple dispatch"
   ]
  },
  {
   "cell_type": "markdown",
   "metadata": {},
   "source": [
    "* Multiple dispatch lies in the core of Julia design. It allows built-in and user-defined functions to be overloaded for different combinations of argument types.\n",
    "\n",
    "* Let's consider a simple \"doubling\" function:"
   ]
  },
  {
   "cell_type": "code",
   "execution_count": 22,
   "metadata": {},
   "outputs": [
    {
     "data": {
      "text/plain": [
       "g (generic function with 1 method)"
      ]
     },
     "execution_count": 22,
     "metadata": {},
     "output_type": "execute_result"
    }
   ],
   "source": [
    "g(x) = x + x"
   ]
  },
  {
   "cell_type": "code",
   "execution_count": 23,
   "metadata": {},
   "outputs": [
    {
     "data": {
      "text/plain": [
       "3.0"
      ]
     },
     "execution_count": 23,
     "metadata": {},
     "output_type": "execute_result"
    }
   ],
   "source": [
    "g(1.5)"
   ]
  },
  {
   "cell_type": "markdown",
   "metadata": {},
   "source": [
    "This definition is too broad, since some things can't be added "
   ]
  },
  {
   "cell_type": "code",
   "execution_count": 24,
   "metadata": {},
   "outputs": [
    {
     "ename": "LoadError",
     "evalue": "\u001b[91mMethodError: no method matching +(::String, ::String)\u001b[0m\nClosest candidates are:\n  +(::Any, ::Any, \u001b[91m::Any\u001b[39m, \u001b[91m::Any...\u001b[39m) at operators.jl:424\u001b[39m",
     "output_type": "error",
     "traceback": [
      "\u001b[91mMethodError: no method matching +(::String, ::String)\u001b[0m\nClosest candidates are:\n  +(::Any, ::Any, \u001b[91m::Any\u001b[39m, \u001b[91m::Any...\u001b[39m) at operators.jl:424\u001b[39m",
      "",
      "Stacktrace:",
      " [1] \u001b[1mg\u001b[22m\u001b[22m\u001b[1m(\u001b[22m\u001b[22m::String\u001b[1m)\u001b[22m\u001b[22m at \u001b[1m./In[22]:1\u001b[22m\u001b[22m"
     ]
    }
   ],
   "source": [
    "g(\"hello world\")"
   ]
  },
  {
   "cell_type": "markdown",
   "metadata": {},
   "source": [
    "* This definition is correct but too restrictive, since any `Number` can be added."
   ]
  },
  {
   "cell_type": "code",
   "execution_count": 25,
   "metadata": {},
   "outputs": [
    {
     "data": {
      "text/plain": [
       "g (generic function with 2 methods)"
      ]
     },
     "execution_count": 25,
     "metadata": {},
     "output_type": "execute_result"
    }
   ],
   "source": [
    "g(x::Float64) = x + x"
   ]
  },
  {
   "cell_type": "markdown",
   "metadata": {},
   "source": [
    "* This will automatically work on the entire type tree above!"
   ]
  },
  {
   "cell_type": "code",
   "execution_count": 26,
   "metadata": {},
   "outputs": [
    {
     "data": {
      "text/plain": [
       "g (generic function with 3 methods)"
      ]
     },
     "execution_count": 26,
     "metadata": {},
     "output_type": "execute_result"
    }
   ],
   "source": [
    "g(x::Number) = x + x"
   ]
  },
  {
   "cell_type": "markdown",
   "metadata": {},
   "source": [
    "This is a lot nicer than \n",
    "```julia\n",
    "function g(x)\n",
    "    if isa(x, Number)\n",
    "        return x + x\n",
    "    else\n",
    "        throw(ArgumentError(\"x should be a number\"))\n",
    "    end\n",
    "end\n",
    "```"
   ]
  },
  {
   "cell_type": "markdown",
   "metadata": {},
   "source": [
    "* `methods(func)` function display all methods defined for `func`."
   ]
  },
  {
   "cell_type": "code",
   "execution_count": 27,
   "metadata": {},
   "outputs": [
    {
     "data": {
      "text/html": [
       "3 methods for generic function <b>g</b>:<ul><li> g(x::<b>Float64</b>) at In[25]:1</li> <li> g(x::<b>Number</b>) at In[26]:1</li> <li> g(x) at In[22]:1</li> </ul>"
      ],
      "text/plain": [
       "# 3 methods for generic function \"g\":\n",
       "g(x::Float64) in Main at In[25]:1\n",
       "g(x::Number) in Main at In[26]:1\n",
       "g(x) in Main at In[22]:1"
      ]
     },
     "execution_count": 27,
     "metadata": {},
     "output_type": "execute_result"
    }
   ],
   "source": [
    "methods(g)"
   ]
  },
  {
   "cell_type": "markdown",
   "metadata": {},
   "source": [
    "* `@which func(x)` marco tells which method is being used for argument signature `x`."
   ]
  },
  {
   "cell_type": "code",
   "execution_count": 28,
   "metadata": {},
   "outputs": [
    {
     "data": {
      "text/plain": [
       "Int64"
      ]
     },
     "execution_count": 28,
     "metadata": {},
     "output_type": "execute_result"
    }
   ],
   "source": [
    "x = 1\n",
    "typeof(x)"
   ]
  },
  {
   "cell_type": "code",
   "execution_count": 29,
   "metadata": {},
   "outputs": [
    {
     "data": {
      "text/plain": [
       "2"
      ]
     },
     "execution_count": 29,
     "metadata": {},
     "output_type": "execute_result"
    }
   ],
   "source": [
    "g(x)"
   ]
  },
  {
   "cell_type": "code",
   "execution_count": 30,
   "metadata": {},
   "outputs": [
    {
     "data": {
      "text/html": [
       "g(x::<b>Number</b>) at In[26]:1"
      ],
      "text/plain": [
       "g(x::Number) in Main at In[26]:1"
      ]
     },
     "execution_count": 30,
     "metadata": {},
     "output_type": "execute_result"
    }
   ],
   "source": [
    "@which g(x)"
   ]
  },
  {
   "cell_type": "code",
   "execution_count": 31,
   "metadata": {},
   "outputs": [
    {
     "data": {
      "text/html": [
       "g(x) at In[22]:1"
      ],
      "text/plain": [
       "g(x) in Main at In[22]:1"
      ]
     },
     "execution_count": 31,
     "metadata": {},
     "output_type": "execute_result"
    }
   ],
   "source": [
    "x = randn(5)\n",
    "@which g(x)"
   ]
  },
  {
   "cell_type": "code",
   "execution_count": 32,
   "metadata": {},
   "outputs": [
    {
     "data": {
      "text/plain": [
       "5-element Array{Float64,1}:\n",
       " -0.670831\n",
       " -0.222685\n",
       "  2.39433 \n",
       " -2.15139 \n",
       "  0.452496"
      ]
     },
     "execution_count": 32,
     "metadata": {},
     "output_type": "execute_result"
    }
   ],
   "source": [
    "g(x)"
   ]
  },
  {
   "cell_type": "markdown",
   "metadata": {
    "slideshow": {
     "slide_type": "slide"
    }
   },
   "source": [
    "## Just-in-time compilation (JIT)\n",
    "\n",
    "Following figures and some examples are taken from Arch D. Robinson's slides [Introduction to Writing High Performance Julia](https://docs.google.com/viewer?a=v&pid=sites&srcid=ZGVmYXVsdGRvbWFpbnxibG9uem9uaWNzfGd4OjMwZjI2YTYzNDNmY2UzMmE).\n",
    "\n",
    "| <img src=\"./julia_toolchain.png\" alt=\"Julia toolchain\" style=\"width: 400px;\"/> | <img src=\"./julia_introspect.png\" alt=\"Julia toolchain\" style=\"width: 500px;\"/> |\n",
    "|----------------------------------|------------------------------------|\n",
    "|||"
   ]
  },
  {
   "cell_type": "markdown",
   "metadata": {},
   "source": [
    "* `Julia`'s efficiency results from its capabilities to infer the types of **all** variables within a function and then call LLVM to generate optimized machine code at run-time. "
   ]
  },
  {
   "cell_type": "code",
   "execution_count": 33,
   "metadata": {},
   "outputs": [
    {
     "data": {
      "text/plain": [
       "g (generic function with 1 method)"
      ]
     },
     "execution_count": 33,
     "metadata": {},
     "output_type": "execute_result"
    }
   ],
   "source": [
    "workspace() # clear previous definition of g\n",
    "g(x::Number) = x + x"
   ]
  },
  {
   "cell_type": "markdown",
   "metadata": {},
   "source": [
    "This function will work on **any** type which has a method for `+`."
   ]
  },
  {
   "cell_type": "code",
   "execution_count": 34,
   "metadata": {},
   "outputs": [
    {
     "name": "stdout",
     "output_type": "stream",
     "text": [
      "g(2) = 4\n",
      "g(2.0) = 4.0\n"
     ]
    }
   ],
   "source": [
    "@show g(2)\n",
    "@show g(2.0);"
   ]
  },
  {
   "cell_type": "markdown",
   "metadata": {},
   "source": [
    "This is the [abstract syntax tree (AST)](https://en.wikipedia.org/wiki/Abstract_syntax_tree)."
   ]
  },
  {
   "cell_type": "code",
   "execution_count": 35,
   "metadata": {},
   "outputs": [
    {
     "data": {
      "text/plain": [
       "CodeInfo(:(begin \n",
       "        nothing\n",
       "        return x + x\n",
       "    end))"
      ]
     },
     "execution_count": 35,
     "metadata": {},
     "output_type": "execute_result"
    }
   ],
   "source": [
    "@code_lowered g(2)"
   ]
  },
  {
   "cell_type": "markdown",
   "metadata": {},
   "source": [
    "Type inference:"
   ]
  },
  {
   "cell_type": "code",
   "execution_count": 36,
   "metadata": {},
   "outputs": [
    {
     "name": "stdout",
     "output_type": "stream",
     "text": [
      "Variables:\n",
      "  #self# <optimized out>\n",
      "  x::Int64\n",
      "\n",
      "Body:\n",
      "  begin \n",
      "      return (Base.add_int)(x::Int64, x::Int64)::Int64\n",
      "  end::Int64\n"
     ]
    }
   ],
   "source": [
    "@code_warntype g(2)"
   ]
  },
  {
   "cell_type": "code",
   "execution_count": 37,
   "metadata": {},
   "outputs": [
    {
     "name": "stdout",
     "output_type": "stream",
     "text": [
      "Variables:\n",
      "  #self# <optimized out>\n",
      "  x::Float64\n",
      "\n",
      "Body:\n",
      "  begin \n",
      "      return (Base.add_float)(x::Float64, x::Float64)::Float64\n",
      "  end::Float64\n"
     ]
    }
   ],
   "source": [
    "@code_warntype g(2.0)"
   ]
  },
  {
   "cell_type": "markdown",
   "metadata": {},
   "source": [
    "Peek at the compiled **LLVM bitcode** with `@code_llvm`"
   ]
  },
  {
   "cell_type": "code",
   "execution_count": 38,
   "metadata": {},
   "outputs": [
    {
     "name": "stdout",
     "output_type": "stream",
     "text": [
      "\n",
      "define i64 @julia_g_63500(i64) #0 !dbg !5 {\n",
      "top:\n",
      "  %1 = shl i64 %0, 1\n",
      "  ret i64 %1\n",
      "}\n"
     ]
    }
   ],
   "source": [
    "@code_llvm g(2)"
   ]
  },
  {
   "cell_type": "code",
   "execution_count": 39,
   "metadata": {},
   "outputs": [
    {
     "name": "stdout",
     "output_type": "stream",
     "text": [
      "\n",
      "define double @julia_g_63557(double) #0 !dbg !5 {\n",
      "top:\n",
      "  %1 = fadd double %0, %0\n",
      "  ret double %1\n",
      "}\n"
     ]
    }
   ],
   "source": [
    "@code_llvm g(2.0)"
   ]
  },
  {
   "cell_type": "markdown",
   "metadata": {},
   "source": [
    "We didn't provide a type annotation. But different LLVM code is generated according to the argument type!\n",
    "\n",
    "* In R or Python, `g(2)` and `g(2.0)` would use the same code for both.\n",
    " \n",
    "* In Julia, `g(2)` and `g(2.0)` dispatches to optimized code for `Int64` and `Float64`, respectively.\n",
    "\n",
    "* For integer input `x`, LLVM compiler is smart enough to know `x + x` is simple shifting `x` by 1 bit, which is faster than addition.\n",
    " \n",
    "Lowest level is the **assembly code**, which is machine dependent."
   ]
  },
  {
   "cell_type": "code",
   "execution_count": 40,
   "metadata": {},
   "outputs": [
    {
     "name": "stdout",
     "output_type": "stream",
     "text": [
      "\t.section\t__TEXT,__text,regular,pure_instructions\n",
      "Filename: In[26]\n",
      "\tpushl\t%ebp\n",
      "\tdecl\t%eax\n",
      "\tmovl\t%esp, %ebp\n",
      "Source line: 1\n",
      "\tdecl\t%eax\n",
      "\tleal\t(%edi,%edi), %eax\n",
      "\tpopl\t%ebp\n",
      "\tretl\n",
      "\tnop\n",
      "\tnop\n",
      "\tnop\n",
      "\tnop\n",
      "\tnop\n",
      "\tnop\n"
     ]
    }
   ],
   "source": [
    "@code_native g(2)"
   ]
  },
  {
   "cell_type": "code",
   "execution_count": 41,
   "metadata": {},
   "outputs": [
    {
     "name": "stdout",
     "output_type": "stream",
     "text": [
      "\t.section\t__TEXT,__text,regular,pure_instructions\n",
      "Filename: In[25]\n",
      "\tpushl\t%ebp\n",
      "\tdecl\t%eax\n",
      "\tmovl\t%esp, %ebp\n",
      "Source line: 1\n",
      "\taddsd\t%xmm0, %xmm0\n",
      "\tpopl\t%ebp\n",
      "\tretl\n",
      "\tnop\n",
      "\tnop\n",
      "\tnop\n",
      "\tnop\n",
      "\tnop\n",
      "\tnop\n"
     ]
    }
   ],
   "source": [
    "@code_native g(2.0)"
   ]
  },
  {
   "cell_type": "markdown",
   "metadata": {
    "slideshow": {
     "slide_type": "slide"
    }
   },
   "source": [
    "## Profiling Julia code\n",
    "\n",
    "Julia has several built-in tools for profiling. The `@time` marco outputs run time and heap allocation."
   ]
  },
  {
   "cell_type": "code",
   "execution_count": 42,
   "metadata": {},
   "outputs": [
    {
     "data": {
      "text/plain": [
       "4997.572183650806"
      ]
     },
     "execution_count": 42,
     "metadata": {},
     "output_type": "execute_result"
    },
    {
     "name": "stdout",
     "output_type": "stream",
     "text": [
      "  0.012710 seconds (31.35 k allocations: 539.400 KiB)\n"
     ]
    }
   ],
   "source": [
    "function tally(x)\n",
    "    s = 0\n",
    "    for v in x\n",
    "        s += v\n",
    "    end\n",
    "    s\n",
    "end\n",
    "\n",
    "srand(123)\n",
    "a = rand(10000)\n",
    "@time tally(a) # first run: include compile time"
   ]
  },
  {
   "cell_type": "code",
   "execution_count": 43,
   "metadata": {},
   "outputs": [
    {
     "data": {
      "text/plain": [
       "4997.572183650806"
      ]
     },
     "execution_count": 43,
     "metadata": {},
     "output_type": "execute_result"
    },
    {
     "name": "stdout",
     "output_type": "stream",
     "text": [
      "  0.000287 seconds (30.00 k allocations: 468.906 KiB)\n"
     ]
    }
   ],
   "source": [
    "@time tally(a)"
   ]
  },
  {
   "cell_type": "markdown",
   "metadata": {},
   "source": [
    "For more robust benchmarking, the [BenchmarkTools.jl](https://github.com/JuliaCI/BenchmarkTools.jl) package is highly recommended."
   ]
  },
  {
   "cell_type": "code",
   "execution_count": 44,
   "metadata": {},
   "outputs": [
    {
     "data": {
      "text/plain": [
       "BenchmarkTools.Trial: \n",
       "  memory estimate:  468.75 KiB\n",
       "  allocs estimate:  30000\n",
       "  --------------\n",
       "  minimum time:     180.395 μs (0.00% GC)\n",
       "  median time:      187.535 μs (0.00% GC)\n",
       "  mean time:        209.668 μs (6.87% GC)\n",
       "  maximum time:     1.508 ms (83.81% GC)\n",
       "  --------------\n",
       "  samples:          10000\n",
       "  evals/sample:     1"
      ]
     },
     "execution_count": 44,
     "metadata": {},
     "output_type": "execute_result"
    },
    {
     "name": "stderr",
     "output_type": "stream",
     "text": [
      "WARNING: Method definition #mapslices(Array{Any, 1}, typeof(Main.Base.mapslices), Any, AbstractArray{T, N} where N where T) in module Compat overwritten in module Compat.\n",
      "WARNING: Method definition ==(Any) in module Compat at /Users/huazhou/.julia/v0.6/Compat/src/Compat.jl:900 overwritten in module Compat at /Users/huazhou/.julia/v0.6/Compat/src/Compat.jl:900.\n",
      "WARNING: Method definition endof(Main.Base.Cmd) in module Compat at /Users/huazhou/.julia/v0.6/Compat/src/Compat.jl:363 overwritten in module Compat at /Users/huazhou/.julia/v0.6/Compat/src/Compat.jl:363.\n",
      "WARNING: Method definition start(Main.Base.Cmd) in module Compat at /Users/huazhou/.julia/v0.6/Compat/src/Compat.jl:363 overwritten in module Compat at /Users/huazhou/.julia/v0.6/Compat/src/Compat.jl:363.\n",
      "WARNING: Method definition spdiagm(Main.Base.Pair{A, B} where B where A...) in module Compat at /Users/huazhou/.julia/v0.6/Compat/src/Compat.jl:962 overwritten in module Compat at /Users/huazhou/.julia/v0.6/Compat/src/Compat.jl:962.\n",
      "WARNING: Method definition #cov(Array{Any, 1}, typeof(Main.Base.cov), AbstractArray{T, 1} where T) in module Compat at /Users/huazhou/.julia/v0.6/Compat/src/Compat.jl:523 overwritten in module Compat at /Users/huazhou/.julia/v0.6/Compat/src/Compat.jl:523.\n",
      "WARNING: Method definition #cov(Array{Any, 1}, typeof(Main.Base.cov), AbstractArray{T, 1} where T, AbstractArray{T, 1} where T) in module Compat at /Users/huazhou/.julia/v0.6/Compat/src/Compat.jl:524 overwritten in module Compat at /Users/huazhou/.julia/v0.6/Compat/src/Compat.jl:524.\n",
      "WARNING: Method definition #cov(Array{Any, 1}, typeof(Main.Base.cov), AbstractArray{T, 2} where T, Int64) in module Compat at /Users/huazhou/.julia/v0.6/Compat/src/Compat.jl:527 overwritten in module Compat at /Users/huazhou/.julia/v0.6/Compat/src/Compat.jl:527.\n",
      "WARNING: Method definition #cov(Array{Any, 1}, typeof(Main.Base.cov), Union{AbstractArray{T, 1}, AbstractArray{T, 2}} where T, Union{AbstractArray{T, 1}, AbstractArray{T, 2}} where T, Int64) in module Compat at /Users/huazhou/.julia/v0.6/Compat/src/Compat.jl:530 overwritten in module Compat at /Users/huazhou/.julia/v0.6/Compat/src/Compat.jl:530.\n",
      "WARNING: Method definition expand(Module, ANY) in module Compat at /Users/huazhou/.julia/v0.6/Compat/src/Compat.jl:86 overwritten in module Compat at /Users/huazhou/.julia/v0.6/Compat/src/Compat.jl:86.\n",
      "WARNING: Method definition in(Any) in module Compat at /Users/huazhou/.julia/v0.6/Compat/src/Compat.jl:909 overwritten in module Compat at /Users/huazhou/.julia/v0.6/Compat/src/Compat.jl:909.\n",
      "WARNING: Method definition last(Main.Base.Cmd) in module Compat at /Users/huazhou/.julia/v0.6/Compat/src/Compat.jl:363 overwritten in module Compat at /Users/huazhou/.julia/v0.6/Compat/src/Compat.jl:363.\n",
      "WARNING: Method definition rtoldefault(Any, Any, Real) in module Compat at /Users/huazhou/.julia/v0.6/Compat/src/Compat.jl:618 overwritten in module Compat at /Users/huazhou/.julia/v0.6/Compat/src/Compat.jl:618.\n",
      "WARNING: Method definition get(Union{Function, Type{T} where T}, Main.Base.EnvHash, AbstractString) in module Compat at /Users/huazhou/.julia/v0.6/Compat/src/Compat.jl:1056 overwritten in module Compat at /Users/huazhou/.julia/v0.6/Compat/src/Compat.jl:1056.\n",
      "WARNING: Method definition read(AbstractString, Type{String}) in module Compat at /Users/huazhou/.julia/v0.6/Compat/src/Compat.jl:484 overwritten in module Compat at /Users/huazhou/.julia/v0.6/Compat/src/Compat.jl:484.\n",
      "WARNING: Method definition read(IO, Type{String}) in module Compat at /Users/huazhou/.julia/v0.6/Compat/src/Compat.jl:483 overwritten in module Compat at /Users/huazhou/.julia/v0.6/Compat/src/Compat.jl:483.\n",
      "WARNING: Method definition read(Main.Base.AbstractCmd, Type{String}) in module Compat at /Users/huazhou/.julia/v0.6/Compat/src/Compat.jl:485 overwritten in module Compat at /Users/huazhou/.julia/v0.6/Compat/src/Compat.jl:485.\n",
      "WARNING: Method definition findnext(Main.Base.Regex, AbstractString, Integer) in module Compat at /Users/huazhou/.julia/v0.6/Compat/src/Compat.jl:1540 overwritten in module Compat at /Users/huazhou/.julia/v0.6/Compat/src/Compat.jl:1540.\n",
      "WARNING: Method definition findnext(AbstractString, AbstractString, Integer) in module Compat at /Users/huazhou/.julia/v0.6/Compat/src/Compat.jl:1555 overwritten in module Compat at /Users/huazhou/.julia/v0.6/Compat/src/Compat.jl:1555.\n",
      "WARNING: Method definition *(Union{Char, AbstractString}, Union{Char, AbstractString}...) in module Compat at /Users/huazhou/.julia/v0.6/Compat/src/Compat.jl:949 overwritten in module Compat at /Users/huazhou/.julia/v0.6/Compat/src/Compat.jl:949.\n",
      "WARNING: Method definition getindex(Main.Base.Cmd, Any) in module Compat at /Users/huazhou/.julia/v0.6/Compat/src/Compat.jl:366 overwritten in module Compat at /Users/huazhou/.julia/v0.6/Compat/src/Compat.jl:366.\n",
      "WARNING: Method definition _redirect_stdout(IO) in module Compat at /Users/huazhou/.julia/v0.6/Compat/src/Compat.jl:35 overwritten in module Compat at /Users/huazhou/.julia/v0.6/Compat/src/Compat.jl:35.\n",
      "WARNING: Method definition done(Main.Base.Cmd, Any) in module Compat at /Users/huazhou/.julia/v0.6/Compat/src/Compat.jl:366 overwritten in module Compat at /Users/huazhou/.julia/v0.6/Compat/src/Compat.jl:366.\n",
      "WARNING: Method definition #replace(Array{Any, 1}, typeof(Main.Base.replace), AbstractString, Main.Base.Pair{A, B} where B where A) in module Compat overwritten in module Compat.\n",
      "WARNING: Method definition ceil(Union{Main.Base.Dates.TimePeriod, Main.Base.Dates.Week, Main.Base.Dates.Day}, Union{Main.Base.Dates.TimePeriod, Main.Base.Dates.Week, Main.Base.Dates.Day}) in module Compat at /Users/huazhou/.julia/v0.6/Compat/src/Compat.jl:727 overwritten in module Compat at /Users/huazhou/.julia/v0.6/Compat/src/Compat.jl:727.\n",
      "WARNING: Method definition ceil(Union{Main.Base.Dates.TimeType, Main.Base.Dates.TimePeriod, Main.Base.Dates.Week, Main.Base.Dates.Day}, Type{P<:Main.Base.Dates.Period}) in module Compat at /Users/huazhou/.julia/v0.6/Compat/src/Compat.jl:782 overwritten in module Compat at /Users/huazhou/.julia/v0.6/Compat/src/Compat.jl:782.\n",
      "WARNING: Method definition findprev(AbstractString, AbstractString, Integer) in module Compat at /Users/huazhou/.julia/v0.6/Compat/src/Compat.jl:1571 overwritten in module Compat at /Users/huazhou/.julia/v0.6/Compat/src/Compat.jl:1571.\n",
      "WARNING: Method definition mapslices(Any, AbstractArray{T, N} where N where T) in module Compat at /Users/huazhou/.julia/v0.6/Compat/src/Compat.jl:2000 overwritten in module Compat at /Users/huazhou/.julia/v0.6/Compat/src/Compat.jl:2000.\n",
      "WARNING: Method definition fetch(Task) in module Compat at /Users/huazhou/.julia/v0.6/Compat/src/Compat.jl:1882 overwritten in module Compat at /Users/huazhou/.julia/v0.6/Compat/src/Compat.jl:1882.\n",
      "WARNING: Method definition keys(AbstractArray{T, 1} where T) in module Compat at /Users/huazhou/.julia/v0.6/Compat/src/Compat.jl:604 overwritten in module Compat at /Users/huazhou/.julia/v0.6/Compat/src/Compat.jl:604.\n",
      "WARNING: Method definition keys(AbstractArray{T, N} where N where T) in module Compat at /Users/huazhou/.julia/v0.6/Compat/src/Compat.jl:603 overwritten in module Compat at /Users/huazhou/.julia/v0.6/Compat/src/Compat.jl:603.\n",
      "WARNING: Method definition keys(Main.Base.IndexStyle, AbstractArray{T, N} where N where T, AbstractArray{T, N} where N where T...) in module Compat at /Users/huazhou/.julia/v0.6/Compat/src/Compat.jl:605 overwritten in module Compat at /Users/huazhou/.julia/v0.6/Compat/src/Compat.jl:605.\n",
      "WARNING: Method definition codeunit(String) in module Compat at /Users/huazhou/.julia/v0.6/Compat/src/Compat.jl:1920 overwritten in module Compat at /Users/huazhou/.julia/v0.6/Compat/src/Compat.jl:1920.\n",
      "WARNING: Method definition codeunit(Main.Base.SubString{T} where T<:AbstractString) in module Compat at /Users/huazhou/.julia/v0.6/Compat/src/Compat.jl:1921 overwritten in module Compat at /Users/huazhou/.julia/v0.6/Compat/src/Compat.jl:1921.\n",
      "WARNING: Method definition first(Main.Base.Cmd) in module Compat at /Users/huazhou/.julia/v0.6/Compat/src/Compat.jl:363 overwritten in module Compat at /Users/huazhou/.julia/v0.6/Compat/src/Compat.jl:363.\n",
      "WARNING: Method definition prevind(AbstractString, Int64, Int64) in module Compat at /Users/huazhou/.julia/v0.6/Compat/src/Compat.jl:1950 overwritten in module Compat at /Users/huazhou/.julia/v0.6/Compat/src/Compat.jl:1950.\n",
      "WARNING: Method definition prevind(AbstractString, Integer, Integer) in module Compat at /Users/huazhou/.julia/v0.6/Compat/src/Compat.jl:1937 overwritten in module Compat at /Users/huazhou/.julia/v0.6/Compat/src/Compat.jl:1937.\n",
      "WARNING: Method definition include_string(Module, String, String) in module Compat at /Users/huazhou/.julia/v0.6/Compat/src/Compat.jl:88 overwritten in module Compat at /Users/huazhou/.julia/v0.6/Compat/src/Compat.jl:88.\n",
      "WARNING: Method definition include_string(Module, AbstractString) in module Compat at /Users/huazhou/.julia/v0.6/Compat/src/Compat.jl:90 overwritten in module Compat at /Users/huazhou/.julia/v0.6/Compat/src/Compat.jl:90.\n",
      "WARNING: Method definition include_string(Module, AbstractString, AbstractString) in module Compat at /Users/huazhou/.julia/v0.6/Compat/src/Compat.jl:90 overwritten in module Compat at /Users/huazhou/.julia/v0.6/Compat/src/Compat.jl:90.\n",
      "WARNING: Method definition macroexpand(Module, ANY) in module Compat at /Users/huazhou/.julia/v0.6/Compat/src/Compat.jl:87 overwritten in module Compat at /Users/huazhou/.julia/v0.6/Compat/src/Compat.jl:87.\n",
      "WARNING: Method definition atan(Real, Real) in module Compat at /Users/huazhou/.julia/v0.6/Compat/src/Compat.jl:1987 overwritten in module Compat at /Users/huazhou/.julia/v0.6/Compat/src/Compat.jl:1987.\n",
      "WARNING: Method definition next(Main.Base.Cmd, Any) in module Compat at /Users/huazhou/.julia/v0.6/Compat/src/Compat.jl:366 overwritten in module Compat at /Users/huazhou/.julia/v0.6/Compat/src/Compat.jl:366.\n",
      "WARNING: Method definition squeeze(Any) in module Compat at /Users/huazhou/.julia/v0.6/Compat/src/Compat.jl:1828 overwritten in module Compat at /Users/huazhou/.julia/v0.6/Compat/src/Compat.jl:1828.\n",
      "WARNING: Method definition ntuple(F, Main.Base.Val{N}) in module Compat at /Users/huazhou/.julia/v0.6/Compat/src/Compat.jl:378 overwritten in module Compat at /Users/huazhou/.julia/v0.6/Compat/src/Compat.jl:378.\n",
      "WARNING: Method definition #squeeze(Array{Any, 1}, typeof(Main.Base.squeeze), Any) in module Compat overwritten in module Compat.\n",
      "WARNING: Method definition length(Main.Base.Cmd) in module Compat at /Users/huazhou/.julia/v0.6/Compat/src/Compat.jl:363 overwritten in module Compat at /Users/huazhou/.julia/v0.6/Compat/src/Compat.jl:363.\n",
      "WARNING: Method definition length(AbstractString, Int64, Int64) in module Compat at /Users/huazhou/.julia/v0.6/Compat/src/Compat.jl:1910 overwritten in module Compat at /Users/huazhou/.julia/v0.6/Compat/src/Compat.jl:1910.\n",
      "WARNING: Method definition length(AbstractString, Integer, Integer) in module Compat at /Users/huazhou/.julia/v0.6/Compat/src/Compat.jl:1908 overwritten in module Compat at /Users/huazhou/.julia/v0.6/Compat/src/Compat.jl:1908.\n",
      "WARNING: Method definition contains(AbstractString, Main.Base.Regex) in module Compat at /Users/huazhou/.julia/v0.6/Compat/src/Compat.jl:1206 overwritten in module Compat at /Users/huazhou/.julia/v0.6/Compat/src/Compat.jl:1206.\n",
      "WARNING: Method definition findlast(AbstractString, AbstractString) in module Compat at /Users/huazhou/.julia/v0.6/Compat/src/Compat.jl:1572 overwritten in module Compat at /Users/huazhou/.julia/v0.6/Compat/src/Compat.jl:1572.\n",
      "WARNING: Method definition round(Union{Main.Base.Dates.TimePeriod, Main.Base.Dates.Week, Main.Base.Dates.Day}, Union{Main.Base.Dates.TimePeriod, Main.Base.Dates.Week, Main.Base.Dates.Day}, Main.Base.Rounding.RoundingMode{:NearestTiesUp}) in module Compat at /Users/huazhou/.julia/v0.6/Compat/src/Compat.jl:771 overwritten in module Compat at /Users/huazhou/.julia/v0.6/Compat/src/Compat.jl:771.\n",
      "WARNING: Method definition round(Union{Main.Base.Dates.TimeType, Main.Base.Dates.TimePeriod, Main.Base.Dates.Week, Main.Base.Dates.Day}, Main.Base.Dates.Period) in module Compat at /Users/huazhou/.julia/v0.6/Compat/src/Compat.jl:780 overwritten in module Compat at /Users/huazhou/.julia/v0.6/Compat/src/Compat.jl:780.\n",
      "WARNING: Method definition round(Union{Main.Base.Dates.TimeType, Main.Base.Dates.TimePeriod, Main.Base.Dates.Week, Main.Base.Dates.Day}, Main.Base.Dates.Period, Main.Base.Rounding.RoundingMode{:Down}) in module Compat at /Users/huazhou/.julia/v0.6/Compat/src/Compat.jl:776 overwritten in module Compat at /Users/huazhou/.julia/v0.6/Compat/src/Compat.jl:776.\n",
      "WARNING: Method definition round(Union{Main.Base.Dates.TimeType, Main.Base.Dates.TimePeriod, Main.Base.Dates.Week, Main.Base.Dates.Day}, Main.Base.Dates.Period, Main.Base.Rounding.RoundingMode{:Up}) in module Compat at /Users/huazhou/.julia/v0.6/Compat/src/Compat.jl:777 overwritten in module Compat at /Users/huazhou/.julia/v0.6/Compat/src/Compat.jl:777.\n",
      "WARNING: Method definition round(Union{Main.Base.Dates.TimeType, Main.Base.Dates.TimePeriod, Main.Base.Dates.Week, Main.Base.Dates.Day}, Main.Base.Dates.Period, Main.Base.Rounding.RoundingMode{T} where T) in module Compat at /Users/huazhou/.julia/v0.6/Compat/src/Compat.jl:779 overwritten in module Compat at /Users/huazhou/.julia/v0.6/Compat/src/Compat.jl:779.\n",
      "WARNING: Method definition round(Union{Main.Base.Dates.TimeType, Main.Base.Dates.TimePeriod, Main.Base.Dates.Week, Main.Base.Dates.Day}, Type{P<:Main.Base.Dates.Period}) in module Compat at /Users/huazhou/.julia/v0.6/Compat/src/Compat.jl:784 overwritten in module Compat at /Users/huazhou/.julia/v0.6/Compat/src/Compat.jl:784.\n",
      "WARNING: Method definition round(Union{Main.Base.Dates.TimeType, Main.Base.Dates.TimePeriod, Main.Base.Dates.Week, Main.Base.Dates.Day}, Type{P<:Main.Base.Dates.Period}, Main.Base.Rounding.RoundingMode{T} where T) in module Compat at /Users/huazhou/.julia/v0.6/Compat/src/Compat.jl:784 overwritten in module Compat at /Users/huazhou/.julia/v0.6/Compat/src/Compat.jl:784.\n",
      "WARNING: Method definition eltype(Main.Base.Cmd) in module Compat at /Users/huazhou/.julia/v0.6/Compat/src/Compat.jl:363 overwritten in module Compat at /Users/huazhou/.julia/v0.6/Compat/src/Compat.jl:363.\n",
      "WARNING: Method definition _redirect_stdin(IO) in module Compat at /Users/huazhou/.julia/v0.6/Compat/src/Compat.jl:35 overwritten in module Compat at /Users/huazhou/.julia/v0.6/Compat/src/Compat.jl:35.\n",
      "WARNING: Method definition isequal(Any) in module Compat at /Users/huazhou/.julia/v0.6/Compat/src/Compat.jl:904 overwritten in module Compat at /Users/huazhou/.julia/v0.6/Compat/src/Compat.jl:904.\n",
      "WARNING: Method definition values(Any) in module Compat at /Users/huazhou/.julia/v0.6/Compat/src/Compat.jl:607 overwritten in module Compat at /Users/huazhou/.julia/v0.6/Compat/src/Compat.jl:607.\n",
      "WARNING: Method definition floor(Union{Main.Base.Dates.TimePeriod, Main.Base.Dates.Week, Main.Base.Dates.Day}, T<:Union{Main.Base.Dates.TimePeriod, Main.Base.Dates.Week, Main.Base.Dates.Day}) in module Compat at /Users/huazhou/.julia/v0.6/Compat/src/Compat.jl:698 overwritten in module Compat at /Users/huazhou/.julia/v0.6/Compat/src/Compat.jl:698.\n",
      "WARNING: Method definition floor(Union{Main.Base.Dates.TimeType, Main.Base.Dates.TimePeriod, Main.Base.Dates.Week, Main.Base.Dates.Day}, Type{P<:Main.Base.Dates.Period}) in module Compat at /Users/huazhou/.julia/v0.6/Compat/src/Compat.jl:781 overwritten in module Compat at /Users/huazhou/.julia/v0.6/Compat/src/Compat.jl:781.\n",
      "WARNING: Method definition repr(Union{AbstractString, Main.Base.MIME{mime} where mime}, Any) in module Compat at /Users/huazhou/.julia/v0.6/Compat/src/Compat.jl:1585 overwritten in module Compat at /Users/huazhou/.julia/v0.6/Compat/src/Compat.jl:1585.\n",
      "WARNING: Method definition convert(Type{Void}, Void) in module Compat at /Users/huazhou/.julia/v0.6/Compat/src/Compat.jl:1157 overwritten in module Compat at /Users/huazhou/.julia/v0.6/Compat/src/Compat.jl:1157.\n",
      "WARNING: Method definition convert(Type{Void}, Any) in module Compat at /Users/huazhou/.julia/v0.6/Compat/src/Compat.jl:1156 overwritten in module Compat at /Users/huazhou/.julia/v0.6/Compat/src/Compat.jl:1156.\n",
      "WARNING: Method definition convert(Type{Union{T, Void}}, Any) in module Compat at /Users/huazhou/.julia/v0.6/Compat/src/Compat.jl:1155 overwritten in module Compat at /Users/huazhou/.julia/v0.6/Compat/src/Compat.jl:1155.\n",
      "WARNING: Method definition nextind(AbstractString, Int64, Int64) in module Compat at /Users/huazhou/.julia/v0.6/Compat/src/Compat.jl:1940 overwritten in module Compat at /Users/huazhou/.julia/v0.6/Compat/src/Compat.jl:1940.\n",
      "WARNING: Method definition nextind(AbstractString, Integer, Integer) in module Compat at /Users/huazhou/.julia/v0.6/Compat/src/Compat.jl:1938 overwritten in module Compat at /Users/huazhou/.julia/v0.6/Compat/src/Compat.jl:1938.\n",
      "WARNING: Method definition _redirect_stderr(IO) in module Compat at /Users/huazhou/.julia/v0.6/Compat/src/Compat.jl:35 overwritten in module Compat at /Users/huazhou/.julia/v0.6/Compat/src/Compat.jl:35.\n",
      "WARNING: Method definition eachindex(Main.Base.Cmd) in module Compat at /Users/huazhou/.julia/v0.6/Compat/src/Compat.jl:363 overwritten in module Compat at /Users/huazhou/.julia/v0.6/Compat/src/Compat.jl:363.\n",
      "WARNING: Method definition findfirst(Main.Base.Regex, AbstractString) in module Compat at /Users/huazhou/.julia/v0.6/Compat/src/Compat.jl:1541 overwritten in module Compat at /Users/huazhou/.julia/v0.6/Compat/src/Compat.jl:1541.\n",
      "WARNING: Method definition findfirst(AbstractString, AbstractString) in module Compat at /Users/huazhou/.julia/v0.6/Compat/src/Compat.jl:1556 overwritten in module Compat at /Users/huazhou/.julia/v0.6/Compat/src/Compat.jl:1556.\n",
      "WARNING: Method definition replace(AbstractString, Main.Base.Pair{A, B} where B where A) in module Compat at /Users/huazhou/.julia/v0.6/Compat/src/Compat.jl:1193 overwritten in module Compat at /Users/huazhou/.julia/v0.6/Compat/src/Compat.jl:1193.\n",
      "WARNING: Method definition reshape(AbstractArray{T, N} where N where T, Main.Base.Val{N}) in module Compat at /Users/huazhou/.julia/v0.6/Compat/src/Compat.jl:376 overwritten in module Compat at /Users/huazhou/.julia/v0.6/Compat/src/Compat.jl:376.\n",
      "WARNING: Method definition diagm(Main.Base.Pair{A, B} where B where A...) in module Compat at /Users/huazhou/.julia/v0.6/Compat/src/Compat.jl:972 overwritten in module Compat at /Users/huazhou/.julia/v0.6/Compat/src/Compat.jl:972.\n",
      "WARNING: Method definition chol!(Main.Base.LinAlg.UniformScaling{T} where T<:Number, Any) in module Compat at /Users/huazhou/.julia/v0.6/Compat/src/Compat.jl:392 overwritten in module Compat at /Users/huazhou/.julia/v0.6/Compat/src/Compat.jl:392.\n",
      "WARNING: Method definition logdet(Any) in module Compat at /Users/huazhou/.julia/v0.6/Compat/src/Compat.jl:384 overwritten in module Compat at /Users/huazhou/.julia/v0.6/Compat/src/Compat.jl:384.\n",
      "WARNING: Method definition chol(Main.Base.LinAlg.UniformScaling{T} where T<:Number, Any...) in module Compat at /Users/huazhou/.julia/v0.6/Compat/src/Compat.jl:393 overwritten in module Compat at /Users/huazhou/.julia/v0.6/Compat/src/Compat.jl:393.\n",
      "WARNING: Method definition permutedims(AbstractArray{T, 2} where T) in module Compat at /Users/huazhou/.julia/v0.6/Compat/src/Compat.jl:1981 overwritten in module Compat at /Users/huazhou/.julia/v0.6/Compat/src/Compat.jl:1981.\n",
      "WARNING: Method definition permutedims(AbstractArray{T, 1} where T) in module Compat at /Users/huazhou/.julia/v0.6/Compat/src/Compat.jl:1982 overwritten in module Compat at /Users/huazhou/.julia/v0.6/Compat/src/Compat.jl:1982.\n",
      "WARNING: Method definition (::Type{DomainError})(Any) in module Compat at /Users/huazhou/.julia/v0.6/Compat/src/Compat.jl:495 overwritten in module Compat at /Users/huazhou/.julia/v0.6/Compat/src/Compat.jl:495.\n",
      "WARNING: Method definition (::Type{DomainError})(Any, Any) in module Compat at /Users/huazhou/.julia/v0.6/Compat/src/Compat.jl:496 overwritten in module Compat at /Users/huazhou/.julia/v0.6/Compat/src/Compat.jl:496.\n",
      "WARNING: Method definition (::Type{OverflowError})(Any) in module Compat at /Users/huazhou/.julia/v0.6/Compat/src/Compat.jl:501 overwritten in module Compat at /Users/huazhou/.julia/v0.6/Compat/src/Compat.jl:501.\n",
      "WARNING: Method definition (::Type{InexactError})(Symbol, Any, Any) in module Compat at /Users/huazhou/.julia/v0.6/Compat/src/Compat.jl:490 overwritten in module Compat at /Users/huazhou/.julia/v0.6/Compat/src/Compat.jl:490.\n",
      "WARNING: Method definition (::Type{Main.Base.IOContext{IO_t} where IO_t<:IO})(Main.Base.IOContext{IO_t} where IO_t<:IO, Main.Base.Pair{A, B} where B where A, Main.Base.Pair{A, B} where B where A) in module Compat at /Users/huazhou/.julia/v0.6/Compat/src/Compat.jl:1023 overwritten in module Compat at /Users/huazhou/.julia/v0.6/Compat/src/Compat.jl:1023.\n",
      "WARNING: Method definition (::Type{Main.Base.IOContext{IO_t} where IO_t<:IO})(IO, Main.Base.Pair{A, B} where B where A, Main.Base.Pair{A, B} where B where A, Main.Base.Pair{A, B} where B where A...) in module Compat at /Users/huazhou/.julia/v0.6/Compat/src/Compat.jl:1021 overwritten in module Compat at /Users/huazhou/.julia/v0.6/Compat/src/Compat.jl:1021.\n",
      "WARNING: Method definition (::Type{Main.Base.Val{T} where T})(Any) in module Compat at /Users/huazhou/.julia/v0.6/Compat/src/Compat.jl:373 overwritten in module Compat at /Users/huazhou/.julia/v0.6/Compat/src/Compat.jl:373.\n",
      "WARNING: Method definition (::Type{Array{T, 2}})(Main.Base.LinAlg.UniformScaling{T} where T<:Number, Tuple{Int64, Int64}) in module Compat at /Users/huazhou/.julia/v0.6/Compat/src/Compat.jl:993 overwritten in module Compat at /Users/huazhou/.julia/v0.6/Compat/src/Compat.jl:993.\n",
      "WARNING: Method definition (::Type{Array{T, 2}})(Main.Base.LinAlg.UniformScaling{T} where T<:Number, Integer, Integer) in module Compat at /Users/huazhou/.julia/v0.6/Compat/src/Compat.jl:994 overwritten in module Compat at /Users/huazhou/.julia/v0.6/Compat/src/Compat.jl:994.\n",
      "WARNING: Method definition (::Type{Main.Base.SparseArrays.SparseMatrixCSC{Tv, Ti} where Ti<:Integer})(Main.Base.LinAlg.UniformScaling{T} where T<:Number, Integer, Integer) in module Compat at /Users/huazhou/.julia/v0.6/Compat/src/Compat.jl:997 overwritten in module Compat at /Users/huazhou/.julia/v0.6/Compat/src/Compat.jl:997.\n",
      "WARNING: Method definition (::Type{Main.Base.SparseArrays.SparseMatrixCSC{Tv, Ti}})(Main.Base.LinAlg.UniformScaling{T} where T<:Number, Integer, Integer) in module Compat at /Users/huazhou/.julia/v0.6/Compat/src/Compat.jl:996 overwritten in module Compat at /Users/huazhou/.julia/v0.6/Compat/src/Compat.jl:996.\n",
      "WARNING: Method definition (::Type{Main.Base.SparseArrays.SparseMatrixCSC{Tv, Ti} where Ti<:Integer})(Main.Base.LinAlg.UniformScaling{T} where T<:Number, Tuple{Int64, Int64}) in module Compat at /Users/huazhou/.julia/v0.6/Compat/src/Compat.jl:998 overwritten in module Compat at /Users/huazhou/.julia/v0.6/Compat/src/Compat.jl:998.\n",
      "WARNING: Method definition (::Type{Main.Base.SparseArrays.SparseMatrixCSC{Tv, Ti}})(Main.Base.LinAlg.UniformScaling{T} where T<:Number, Tuple{Int64, Int64}) in module Compat at /Users/huazhou/.julia/v0.6/Compat/src/Compat.jl:1000 overwritten in module Compat at /Users/huazhou/.julia/v0.6/Compat/src/Compat.jl:1000.\n",
      "WARNING: Method definition (::Type{Array{T, N} where N})(Main.Base.LinAlg.UniformScaling{T} where T<:Number, Tuple{Int64, Int64}) in module Compat at /Users/huazhou/.julia/v0.6/Compat/src/Compat.jl:1012 overwritten in module Compat at /Users/huazhou/.julia/v0.6/Compat/src/Compat.jl:1012.\n",
      "WARNING: Method definition (::Type{Array{T, N} where N})(Main.Base.LinAlg.UniformScaling{T} where T<:Number, Integer, Integer) in module Compat at /Users/huazhou/.julia/v0.6/Compat/src/Compat.jl:1013 overwritten in module Compat at /Users/huazhou/.julia/v0.6/Compat/src/Compat.jl:1013.\n",
      "WARNING: Method definition (::Type{Array{T, 2} where T})(Main.Base.LinAlg.UniformScaling{T}, Any...) in module Compat at /Users/huazhou/.julia/v0.6/Compat/src/Compat.jl:1016 overwritten in module Compat at /Users/huazhou/.julia/v0.6/Compat/src/Compat.jl:1016.\n",
      "WARNING: using BenchmarkTools.BenchmarkTools in module Main conflicts with an existing identifier.\n",
      "WARNING: using BenchmarkTools.@benchmark in module Main conflicts with an existing identifier.\n"
     ]
    }
   ],
   "source": [
    "using BenchmarkTools\n",
    "\n",
    "@benchmark tally(a)"
   ]
  },
  {
   "cell_type": "markdown",
   "metadata": {},
   "source": [
    "We see the memory allocation (468.75 KiB, average 10.73% GC) is suspiciously high.\n",
    "\n",
    "The `Profile` module gives line by line profile results."
   ]
  },
  {
   "cell_type": "code",
   "execution_count": 45,
   "metadata": {
    "scrolled": true
   },
   "outputs": [
    {
     "name": "stdout",
     "output_type": "stream",
     "text": [
      " Count File                        Line Function                               \n",
      "   291 ./<missing>                   -1 anonymous                              \n",
      "     4 ./In[42]                       3 tally(::Array{Float64,1})              \n",
      "   287 ./In[42]                       4 tally(::Array{Float64,1})              \n",
      "     1 ./abstractarray.jl           573 copy!(::Array{Any,1}, ::Core.Infere... \n",
      "     1 ./array.jl                   391 _collect(::Type{Any}, ::Core.Infere... \n",
      "     1 ./array.jl                   388 collect(::Type{Any}, ::Core.Inferen... \n",
      "     5 ./float.jl                   375 +(::Float64, ::Float64)                \n",
      "     1 ./generator.jl                45 next(::Core.Inference.Generator{Arr... \n",
      "     1 ./inference.jl               291 Core.Inference.InferenceState(::Cor... \n",
      "     2 ./inference.jl              1897 abstract_call(::Any, ::Array{Any,1}... \n",
      "     2 ./inference.jl              1420 abstract_call_gf_by_type(::Any, ::A... \n",
      "     3 ./inference.jl              1950 abstract_eval(::Any, ::Array{Any,1}... \n",
      "     1 ./inference.jl              1901 abstract_eval_call(::Expr, ::Array{... \n",
      "     2 ./inference.jl              1927 abstract_eval_call(::Expr, ::Array{... \n",
      "     1 ./inference.jl              2084 abstract_interpret(::Any, ::Array{A... \n",
      "     2 ./inference.jl              2787 typeinf(::Core.Inference.InferenceS... \n",
      "     1 ./inference.jl              2583 typeinf_code(::Core.MethodInstance,... \n",
      "     1 ./inference.jl              2534 typeinf_edge(::Method, ::Any, ::Sim... \n",
      "     1 ./inference.jl              2535 typeinf_edge(::Method, ::Any, ::Sim... \n",
      "     1 ./inference.jl              2622 typeinf_ext(::Core.MethodInstance, ... \n",
      "     1 ./inference.jl              2504 typeinf_frame(::Core.MethodInstance... \n",
      "     1 ./inference.jl              2669 typeinf_work(::Core.Inference.Infer... \n",
      "     1 ./inference.jl              2722 typeinf_work(::Core.Inference.Infer... \n",
      "   292 ./loading.jl                 522 include_string(::String, ::String)     \n",
      "   291 ./profile.jl                  23 macro expansion                        \n",
      "   292 ./task.jl                    335 (::LastMain.IJulia.##15#18)()          \n",
      "   292 ....6/Compat/src/Compat.jl   332 (::LastMain.Compat.#inner#14{Array{... \n",
      "   292 ...IJulia/src/eventloop.jl     8 eventloop(::LastMain.ZMQ.Socket)       \n",
      "   292 .../src/execute_request.jl   180 execute_request(::LastMain.ZMQ.Sock... \n"
     ]
    }
   ],
   "source": [
    "srand(123)\n",
    "a = rand(10_000_000)\n",
    "Profile.clear()\n",
    "@profile tally(a)\n",
    "Profile.print(format=:flat)"
   ]
  },
  {
   "cell_type": "markdown",
   "metadata": {},
   "source": [
    "One can use [`ProfileView`](https://github.com/timholy/ProfileView.jl) package for better visualization of profile data:\n",
    "\n",
    "```julia\n",
    "using ProfileView\n",
    "\n",
    "ProfileView.view()\n",
    "```"
   ]
  },
  {
   "cell_type": "code",
   "execution_count": 46,
   "metadata": {},
   "outputs": [
    {
     "name": "stdout",
     "output_type": "stream",
     "text": [
      "Variables:\n",
      "  #self# <optimized out>\n",
      "  x::Array{Float64,1}\n",
      "  v::Float64\n",
      "  #temp#@_4::Int64\n",
      "  s\u001b[1m\u001b[91m::Union{Float64, Int64}\u001b[39m\u001b[22m\n",
      "  #temp#@_6::Core.MethodInstance\n",
      "  #temp#@_7::Float64\n",
      "\n",
      "Body:\n",
      "  begin \n",
      "      s\u001b[1m\u001b[91m::Union{Float64, Int64}\u001b[39m\u001b[22m = 0 # line 3:\n",
      "      #temp#@_4::Int64 = 1\n",
      "      4: \n",
      "      unless (Base.not_int)((#temp#@_4::Int64 === (Base.add_int)((Base.arraylen)(x::Array{Float64,1})::Int64, 1)::Int64)::Bool)::Bool goto 29\n",
      "      SSAValue(2) = (Base.arrayref)(x::Array{Float64,1}, #temp#@_4::Int64)::Float64\n",
      "      SSAValue(3) = (Base.add_int)(#temp#@_4::Int64, 1)::Int64\n",
      "      v::Float64 = SSAValue(2)\n",
      "      #temp#@_4::Int64 = SSAValue(3) # line 4:\n",
      "      unless (s\u001b[1m\u001b[91m::Union{Float64, Int64}\u001b[39m\u001b[22m isa Int64)::Bool goto 14\n",
      "      #temp#@_6::Core.MethodInstance = MethodInstance for +(::Int64, ::Float64)\n",
      "      goto 23\n",
      "      14: \n",
      "      unless (s\u001b[1m\u001b[91m::Union{Float64, Int64}\u001b[39m\u001b[22m isa Float64)::Bool goto 18\n",
      "      #temp#@_6::Core.MethodInstance = MethodInstance for +(::Float64, ::Float64)\n",
      "      goto 23\n",
      "      18: \n",
      "      goto 20\n",
      "      20: \n",
      "      #temp#@_7::Float64 = (s\u001b[1m\u001b[91m::Union{Float64, Int64}\u001b[39m\u001b[22m + v::Float64)::Float64\n",
      "      goto 25\n",
      "      23: \n",
      "      #temp#@_7::Float64 = $(Expr(:invoke, :(#temp#@_6), :(LastMain.+), :(s), :(v)))\n",
      "      25: \n",
      "      s\u001b[1m\u001b[91m::Union{Float64, Int64}\u001b[39m\u001b[22m = #temp#@_7::Float64\n",
      "      27: \n",
      "      goto 4\n",
      "      29:  # line 6:\n",
      "      return s\u001b[1m\u001b[91m::Union{Float64, Int64}\u001b[39m\u001b[22m\n",
      "  end\u001b[1m\u001b[91m::Union{Float64, Int64}\u001b[39m\u001b[22m\n"
     ]
    }
   ],
   "source": [
    "@code_warntype tally(a)"
   ]
  },
  {
   "cell_type": "markdown",
   "metadata": {},
   "source": [
    "## Memory profiling\n",
    "\n",
    "Detailed memory profiling requires a detour. First let's write a script [`bar.jl`](./bar.jl), which contains the workload function `tally` and a wrapper for profiling."
   ]
  },
  {
   "cell_type": "code",
   "execution_count": 47,
   "metadata": {},
   "outputs": [
    {
     "name": "stdout",
     "output_type": "stream",
     "text": [
      "function tally(x)\n",
      "    s = 0\n",
      "    for v in x\n",
      "        s += v\n",
      "    end\n",
      "    s\n",
      "end\n",
      "\n",
      "# call workload from wrapper to avoid misattribution bug\n",
      "function wrapper()\n",
      "    y = rand(10000)\n",
      "    # force compilation\n",
      "    println(tally(y))\n",
      "    # clear allocation counters\n",
      "    Profile.clear_malloc_data()\n",
      "    # run compiled workload\n",
      "    println(tally(y))\n",
      "end\n",
      "\n",
      "wrapper()\n"
     ]
    }
   ],
   "source": [
    ";cat bar.jl"
   ]
  },
  {
   "cell_type": "markdown",
   "metadata": {},
   "source": [
    "Next, in terminal, we run the script with `--track-allocation=user` option."
   ]
  },
  {
   "cell_type": "code",
   "execution_count": 48,
   "metadata": {},
   "outputs": [
    {
     "name": "stdout",
     "output_type": "stream",
     "text": [
      "4975.67150640176\n",
      "4975.67150640176\n"
     ]
    }
   ],
   "source": [
    ";julia --track-allocation=user bar.jl"
   ]
  },
  {
   "cell_type": "markdown",
   "metadata": {},
   "source": [
    "The profiler outputs a file `bar.jl.mem`."
   ]
  },
  {
   "cell_type": "code",
   "execution_count": 49,
   "metadata": {},
   "outputs": [
    {
     "name": "stdout",
     "output_type": "stream",
     "text": [
      "        - function tally(x)\n",
      "        0     s = 0\n",
      "        0     for v in x\n",
      "   479984         s += v\n",
      "        -     end\n",
      "        0     s\n",
      "        - end\n",
      "        - \n",
      "        - # call workload from wrapper to avoid misattribution bug\n",
      "        - function wrapper()\n",
      "        0     y = rand(10000)\n",
      "        -     # force compilation\n",
      "        0     println(tally(y))\n",
      "        -     # clear allocation counters\n",
      "        0     Profile.clear_malloc_data()\n",
      "        -     # run compiled workload\n",
      "      192     println(tally(y))\n",
      "        - end\n",
      "        - \n",
      "        - wrapper()\n",
      "        - \n"
     ]
    }
   ],
   "source": [
    ";cat bar.jl.mem"
   ]
  },
  {
   "cell_type": "markdown",
   "metadata": {},
   "source": [
    "We see line 4 is allocating suspicious amount of heap memory. "
   ]
  },
  {
   "cell_type": "markdown",
   "metadata": {},
   "source": [
    "## Type stability\n",
    "\n",
    "The key to writing performant Julia code is to be [**type stable**](https://docs.julialang.org/en/stable/manual/performance-tips/#Write-\"type-stable\"-functions-1), such that `Julia` is able to infer types of all variables and output of a function from the types of input arguments. \n",
    "\n",
    "Is the `tally` function type stable? How to diagnose and fix it?"
   ]
  },
  {
   "cell_type": "code",
   "execution_count": 50,
   "metadata": {},
   "outputs": [
    {
     "name": "stdout",
     "output_type": "stream",
     "text": [
      "Variables:\n",
      "  #self# <optimized out>\n",
      "  x::Array{Float64,1}\n",
      "  v::Float64\n",
      "  #temp#@_4::Int64\n",
      "  s\u001b[1m\u001b[91m::Union{Float64, Int64}\u001b[39m\u001b[22m\n",
      "  #temp#@_6::Core.MethodInstance\n",
      "  #temp#@_7::Float64\n",
      "\n",
      "Body:\n",
      "  begin \n",
      "      s\u001b[1m\u001b[91m::Union{Float64, Int64}\u001b[39m\u001b[22m = 0 # line 3:\n",
      "      #temp#@_4::Int64 = 1\n",
      "      4: \n",
      "      unless (Base.not_int)((#temp#@_4::Int64 === (Base.add_int)((Base.arraylen)(x::Array{Float64,1})::Int64, 1)::Int64)::Bool)::Bool goto 29\n",
      "      SSAValue(2) = (Base.arrayref)(x::Array{Float64,1}, #temp#@_4::Int64)::Float64\n",
      "      SSAValue(3) = (Base.add_int)(#temp#@_4::Int64, 1)::Int64\n",
      "      v::Float64 = SSAValue(2)\n",
      "      #temp#@_4::Int64 = SSAValue(3) # line 4:\n",
      "      unless (s\u001b[1m\u001b[91m::Union{Float64, Int64}\u001b[39m\u001b[22m isa Int64)::Bool goto 14\n",
      "      #temp#@_6::Core.MethodInstance = MethodInstance for +(::Int64, ::Float64)\n",
      "      goto 23\n",
      "      14: \n",
      "      unless (s\u001b[1m\u001b[91m::Union{Float64, Int64}\u001b[39m\u001b[22m isa Float64)::Bool goto 18\n",
      "      #temp#@_6::Core.MethodInstance = MethodInstance for +(::Float64, ::Float64)\n",
      "      goto 23\n",
      "      18: \n",
      "      goto 20\n",
      "      20: \n",
      "      #temp#@_7::Float64 = (s\u001b[1m\u001b[91m::Union{Float64, Int64}\u001b[39m\u001b[22m + v::Float64)::Float64\n",
      "      goto 25\n",
      "      23: \n",
      "      #temp#@_7::Float64 = $(Expr(:invoke, :(#temp#@_6), :(LastMain.+), :(s), :(v)))\n",
      "      25: \n",
      "      s\u001b[1m\u001b[91m::Union{Float64, Int64}\u001b[39m\u001b[22m = #temp#@_7::Float64\n",
      "      27: \n",
      "      goto 4\n",
      "      29:  # line 6:\n",
      "      return s\u001b[1m\u001b[91m::Union{Float64, Int64}\u001b[39m\u001b[22m\n",
      "  end\u001b[1m\u001b[91m::Union{Float64, Int64}\u001b[39m\u001b[22m\n"
     ]
    }
   ],
   "source": [
    "@code_warntype tally(rand(100))"
   ]
  },
  {
   "cell_type": "markdown",
   "metadata": {},
   "source": [
    "In this case, Julia fails to infer the type of the reduction variable `s`, which has to be **boxed** in heap memory at run time.\n",
    "\n",
    "<img src=\"https://www.codeproject.com/KB/dotnet/6importentStepsDotNet/14.jpg\" width=\"400\" align=\"center\"/>\n",
    "\n",
    "<img src=\"https://i-msdn.sec.s-msft.com/dynimg/IC97798.jpeg\" width=\"300\" align=\"center\"/>\n",
    "\n",
    "This is the generated LLVM bitcode, which is unsually long and contains lots of _box_:"
   ]
  },
  {
   "cell_type": "code",
   "execution_count": 51,
   "metadata": {},
   "outputs": [
    {
     "name": "stdout",
     "output_type": "stream",
     "text": [
      "\n",
      "define { i8**, i8 } @julia_tally_63670([8 x i8]* noalias nocapture, i8** dereferenceable(40)) #0 !dbg !5 {\n",
      "top:\n",
      "  %2 = call i8**** @jl_get_ptls_states() #5\n",
      "  %3 = alloca [8 x i8**], align 8\n",
      "  %.sub = getelementptr inbounds [8 x i8**], [8 x i8**]* %3, i64 0, i64 0\n",
      "  %4 = getelementptr [8 x i8**], [8 x i8**]* %3, i64 0, i64 5\n",
      "  %5 = getelementptr [8 x i8**], [8 x i8**]* %3, i64 0, i64 2\n",
      "  %6 = getelementptr [8 x i8**], [8 x i8**]* %3, i64 0, i64 4\n",
      "  %7 = bitcast i8*** %4 to i8*\n",
      "  call void @llvm.memset.p0i8.i32(i8* %7, i8 0, i32 24, i32 8, i1 false)\n",
      "  %8 = bitcast [8 x i8**]* %3 to i64*\n",
      "  %9 = bitcast i8*** %5 to i8*\n",
      "  call void @llvm.memset.p0i8.i64(i8* %9, i8 0, i64 16, i32 8, i1 false)\n",
      "  store i64 12, i64* %8, align 8\n",
      "  %10 = bitcast i8**** %2 to i64*\n",
      "  %11 = load i64, i64* %10, align 8\n",
      "  %12 = getelementptr [8 x i8**], [8 x i8**]* %3, i64 0, i64 1\n",
      "  %13 = bitcast i8*** %12 to i64*\n",
      "  store i64 %11, i64* %13, align 8\n",
      "  store i8*** %.sub, i8**** %2, align 8\n",
      "  store i8** null, i8*** %6, align 8\n",
      "  %14 = getelementptr inbounds i8*, i8** %1, i64 1\n",
      "  %15 = bitcast i8** %14 to i64*\n",
      "  %16 = load i64, i64* %15, align 8\n",
      "  %17 = icmp eq i64 %16, 0\n",
      "  br i1 %17, label %L29, label %if.lr.ph\n",
      "\n",
      "if.lr.ph:                                         ; preds = %top\n",
      "  %18 = getelementptr [8 x i8**], [8 x i8**]* %3, i64 0, i64 3\n",
      "  %19 = getelementptr [8 x i8**], [8 x i8**]* %3, i64 0, i64 7\n",
      "  %20 = getelementptr [8 x i8**], [8 x i8**]* %3, i64 0, i64 6\n",
      "  %21 = getelementptr i8*, i8** %1, i64 3\n",
      "  %22 = bitcast i8** %21 to i64*\n",
      "  %23 = bitcast i8** %1 to double**\n",
      "  %24 = bitcast i8**** %2 to i8*\n",
      "  br label %if\n",
      "\n",
      "if:                                               ; preds = %if.lr.ph, %L25\n",
      "  %.033 = phi i8 [ 1, %if.lr.ph ], [ 2, %L25 ]\n",
      "  %\"#temp#.032\" = phi i64 [ 1, %if.lr.ph ], [ %40, %L25 ]\n",
      "  %s.sroa.0.031 = phi i64 [ 0, %if.lr.ph ], [ %\"#temp#2.sroa.0.0\", %L25 ]\n",
      "  %25 = add i64 %\"#temp#.032\", -1\n",
      "  %26 = load i64, i64* %22, align 8\n",
      "  %27 = icmp ult i64 %25, %26\n",
      "  br i1 %27, label %idxend, label %oob\n",
      "\n",
      "L29.loopexit:                                     ; preds = %L25\n",
      "  br label %L29\n",
      "\n",
      "L29:                                              ; preds = %L29.loopexit, %top\n",
      "  %s.sroa.0.0.lcssa = phi i64 [ 0, %top ], [ %\"#temp#2.sroa.0.0\", %L29.loopexit ]\n",
      "  %.0.lcssa = phi i8 [ 1, %top ], [ 2, %L29.loopexit ]\n",
      "  %trunc16 = trunc i8 %.0.lcssa to i2\n",
      "  switch i2 %trunc16, label %union_move_skip11 [\n",
      "    i2 1, label %union_move13\n",
      "    i2 -2, label %union_move14\n",
      "  ]\n",
      "\n",
      "oob:                                              ; preds = %if\n",
      "  %28 = alloca i64, align 8\n",
      "  store i64 %\"#temp#.032\", i64* %28, align 8\n",
      "  call void @jl_bounds_error_ints(i8** nonnull %1, i64* nonnull %28, i64 1)\n",
      "  unreachable\n",
      "\n",
      "idxend:                                           ; preds = %if\n",
      "  %29 = load double*, double** %23, align 8\n",
      "  %30 = getelementptr double, double* %29, i64 %25\n",
      "  %31 = bitcast double* %30 to i64*\n",
      "  %32 = load i64, i64* %31, align 8\n",
      "  %33 = icmp eq i8 %.033, 1\n",
      "  %. = select i1 %33, i8** inttoptr (i64 4806985488 to i8**), i8** inttoptr (i64 4510039312 to i8**)\n",
      "  store i8** %., i8*** %5, align 8\n",
      "  store i8** inttoptr (i64 4467012040 to i8**), i8*** %4, align 8\n",
      "  %trunc = trunc i8 %.033 to i2\n",
      "  switch i2 %trunc, label %box_union_isboxed [\n",
      "    i2 1, label %box_union\n",
      "    i2 -2, label %box_union4\n",
      "  ]\n",
      "\n",
      "box_union_isboxed:                                ; preds = %idxend\n",
      "  call void @llvm.trap()\n",
      "  unreachable\n",
      "\n",
      "box_union:                                        ; preds = %idxend\n",
      "  %34 = call i8** @jl_box_int64(i64 signext %s.sroa.0.031)\n",
      "  br label %L25\n",
      "\n",
      "box_union4:                                       ; preds = %idxend\n",
      "  %35 = call i8** @jl_gc_pool_alloc(i8* %24, i32 1384, i32 16)\n",
      "  %36 = getelementptr i8*, i8** %35, i64 -1\n",
      "  %37 = bitcast i8** %36 to i8***\n",
      "  store i8** inttoptr (i64 4467333424 to i8**), i8*** %37, align 8\n",
      "  %38 = bitcast i8** %35 to i64*\n",
      "  store i64 %s.sroa.0.031, i64* %38, align 8\n",
      "  br label %L25\n",
      "\n",
      "L25:                                              ; preds = %box_union, %box_union4\n",
      "  %39 = phi i8** [ %34, %box_union ], [ %35, %box_union4 ]\n",
      "  %40 = add i64 %\"#temp#.032\", 1\n",
      "  store i8** %39, i8*** %20, align 8\n",
      "  %41 = call i8** @jl_gc_pool_alloc(i8* %24, i32 1384, i32 16)\n",
      "  %42 = getelementptr i8*, i8** %41, i64 -1\n",
      "  %43 = bitcast i8** %42 to i8***\n",
      "  store i8** inttoptr (i64 4467333424 to i8**), i8*** %43, align 8\n",
      "  %44 = bitcast i8** %41 to i64*\n",
      "  store i64 %32, i64* %44, align 8\n",
      "  store i8** %41, i8*** %19, align 8\n",
      "  %45 = call i8** @jl_invoke(i8** %., i8*** %4, i32 3)\n",
      "  store i8** %45, i8*** %18, align 8\n",
      "  %\"#temp#2.sroa.0.0.in\" = bitcast i8** %45 to i64*\n",
      "  %\"#temp#2.sroa.0.0\" = load i64, i64* %\"#temp#2.sroa.0.0.in\", align 8\n",
      "  %46 = load i64, i64* %15, align 8\n",
      "  %47 = icmp eq i64 %\"#temp#.032\", %46\n",
      "  br i1 %47, label %L29.loopexit, label %if\n",
      "\n",
      "union_move_skip11:                                ; preds = %L29\n",
      "  call void @llvm.trap()\n",
      "  unreachable\n",
      "\n",
      "post_union_move12:                                ; preds = %union_move14, %union_move13\n",
      "  %48 = bitcast [8 x i8]* %0 to i8**\n",
      "  %49 = insertvalue { i8**, i8 } undef, i8** %48, 0\n",
      "  %50 = insertvalue { i8**, i8 } %49, i8 %.0.lcssa, 1\n",
      "  %51 = load i64, i64* %13, align 8\n",
      "  store i64 %51, i64* %10, align 8\n",
      "  ret { i8**, i8 } %50\n",
      "\n",
      "union_move13:                                     ; preds = %L29\n",
      "  %52 = bitcast [8 x i8]* %0 to i64*\n",
      "  store i64 %s.sroa.0.0.lcssa, i64* %52, align 1\n",
      "  br label %post_union_move12\n",
      "\n",
      "union_move14:                                     ; preds = %L29\n",
      "  %53 = bitcast [8 x i8]* %0 to i64*\n",
      "  store i64 %s.sroa.0.0.lcssa, i64* %53, align 1\n",
      "  br label %post_union_move12\n",
      "}\n"
     ]
    }
   ],
   "source": [
    "@code_llvm tally(rand(100))"
   ]
  },
  {
   "cell_type": "markdown",
   "metadata": {},
   "source": [
    "What's the fix?"
   ]
  },
  {
   "cell_type": "code",
   "execution_count": 52,
   "metadata": {},
   "outputs": [
    {
     "data": {
      "text/plain": [
       "tally2 (generic function with 1 method)"
      ]
     },
     "execution_count": 52,
     "metadata": {},
     "output_type": "execute_result"
    }
   ],
   "source": [
    "function tally2(x)\n",
    "    s = zero(eltype(x))\n",
    "    for v in x\n",
    "        s += v\n",
    "    end\n",
    "    s\n",
    "end"
   ]
  },
  {
   "cell_type": "code",
   "execution_count": 53,
   "metadata": {},
   "outputs": [
    {
     "data": {
      "text/plain": [
       "BenchmarkTools.Trial: \n",
       "  memory estimate:  16 bytes\n",
       "  allocs estimate:  1\n",
       "  --------------\n",
       "  minimum time:     11.276 ms (0.00% GC)\n",
       "  median time:      12.042 ms (0.00% GC)\n",
       "  mean time:        12.284 ms (0.00% GC)\n",
       "  maximum time:     20.968 ms (0.00% GC)\n",
       "  --------------\n",
       "  samples:          407\n",
       "  evals/sample:     1"
      ]
     },
     "execution_count": 53,
     "metadata": {},
     "output_type": "execute_result"
    }
   ],
   "source": [
    "@benchmark tally2(a)"
   ]
  },
  {
   "cell_type": "markdown",
   "metadata": {},
   "source": [
    "Much shorter LLVM bitcode:"
   ]
  },
  {
   "cell_type": "code",
   "execution_count": 54,
   "metadata": {},
   "outputs": [
    {
     "name": "stdout",
     "output_type": "stream",
     "text": [
      "\n",
      "define double @julia_tally2_64016(i8** dereferenceable(40)) #0 !dbg !5 {\n",
      "top:\n",
      "  %1 = getelementptr inbounds i8*, i8** %0, i64 1\n",
      "  %2 = bitcast i8** %1 to i64*\n",
      "  %3 = load i64, i64* %2, align 8\n",
      "  %4 = icmp eq i64 %3, 0\n",
      "  br i1 %4, label %L14, label %if.lr.ph\n",
      "\n",
      "if.lr.ph:                                         ; preds = %top\n",
      "  %5 = getelementptr i8*, i8** %0, i64 3\n",
      "  %6 = bitcast i8** %5 to i64*\n",
      "  %7 = load i64, i64* %6, align 8\n",
      "  %8 = bitcast i8** %0 to double**\n",
      "  %9 = load double*, double** %8, align 8\n",
      "  br label %if\n",
      "\n",
      "if:                                               ; preds = %if.lr.ph, %idxend\n",
      "  %s.06 = phi double [ 0.000000e+00, %if.lr.ph ], [ %16, %idxend ]\n",
      "  %\"#temp#.05\" = phi i64 [ 1, %if.lr.ph ], [ %15, %idxend ]\n",
      "  %10 = add i64 %\"#temp#.05\", -1\n",
      "  %11 = icmp ult i64 %10, %7\n",
      "  br i1 %11, label %idxend, label %oob\n",
      "\n",
      "L14.loopexit:                                     ; preds = %idxend\n",
      "  br label %L14\n",
      "\n",
      "L14:                                              ; preds = %L14.loopexit, %top\n",
      "  %s.0.lcssa = phi double [ 0.000000e+00, %top ], [ %16, %L14.loopexit ]\n",
      "  ret double %s.0.lcssa\n",
      "\n",
      "oob:                                              ; preds = %if\n",
      "  %12 = alloca i64, align 8\n",
      "  store i64 %\"#temp#.05\", i64* %12, align 8\n",
      "  call void @jl_bounds_error_ints(i8** nonnull %0, i64* nonnull %12, i64 1)\n",
      "  unreachable\n",
      "\n",
      "idxend:                                           ; preds = %if\n",
      "  %13 = getelementptr double, double* %9, i64 %10\n",
      "  %14 = load double, double* %13, align 8\n",
      "  %15 = add i64 %\"#temp#.05\", 1\n",
      "  %16 = fadd double %s.06, %14\n",
      "  %17 = icmp eq i64 %\"#temp#.05\", %3\n",
      "  br i1 %17, label %L14.loopexit, label %if\n",
      "}\n"
     ]
    }
   ],
   "source": [
    "@code_llvm tally2(a)"
   ]
  },
  {
   "cell_type": "markdown",
   "metadata": {},
   "source": [
    "Let's add further performance boost by `@simd`"
   ]
  },
  {
   "cell_type": "code",
   "execution_count": 1,
   "metadata": {},
   "outputs": [
    {
     "data": {
      "text/plain": [
       "tally3 (generic function with 1 method)"
      ]
     },
     "execution_count": 1,
     "metadata": {},
     "output_type": "execute_result"
    }
   ],
   "source": [
    "function tally3(x)\n",
    "    s = zero(eltype(x))\n",
    "    @simd for v in x\n",
    "        s += v\n",
    "    end\n",
    "    s\n",
    "end"
   ]
  },
  {
   "cell_type": "code",
   "execution_count": 4,
   "metadata": {},
   "outputs": [
    {
     "data": {
      "text/plain": [
       "BenchmarkTools.Trial: \n",
       "  memory estimate:  16 bytes\n",
       "  allocs estimate:  1\n",
       "  --------------\n",
       "  minimum time:     3.683 ms (0.00% GC)\n",
       "  median time:      3.755 ms (0.00% GC)\n",
       "  mean time:        3.835 ms (0.00% GC)\n",
       "  maximum time:     5.136 ms (0.00% GC)\n",
       "  --------------\n",
       "  samples:          1301\n",
       "  evals/sample:     1"
      ]
     },
     "execution_count": 4,
     "metadata": {},
     "output_type": "execute_result"
    }
   ],
   "source": [
    "@benchmark tally3(a)"
   ]
  }
 ],
 "metadata": {
  "kernelspec": {
   "display_name": "Julia 0.6.4",
   "language": "julia",
   "name": "julia-0.6"
  },
  "language_info": {
   "file_extension": ".jl",
   "mimetype": "application/julia",
   "name": "julia",
   "version": "0.6.4"
  },
  "livereveal": {
   "scroll": true,
   "start_slideshow_at": "selected"
  },
  "toc": {
   "colors": {
    "hover_highlight": "#DAA520",
    "running_highlight": "#FF0000",
    "selected_highlight": "#FFD700"
   },
   "moveMenuLeft": true,
   "nav_menu": {
    "height": "512px",
    "width": "252px"
   },
   "navigate_menu": true,
   "number_sections": true,
   "sideBar": true,
   "threshold": 4,
   "toc_cell": true,
   "toc_section_display": "block",
   "toc_window_display": true,
   "widenNotebook": false
  }
 },
 "nbformat": 4,
 "nbformat_minor": 2
}
