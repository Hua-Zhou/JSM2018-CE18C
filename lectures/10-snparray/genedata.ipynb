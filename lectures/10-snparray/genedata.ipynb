{
 "cells": [
  {
   "cell_type": "markdown",
   "metadata": {},
   "source": [
    "# Genetic Data Wrangling Using Julia"
   ]
  },
  {
   "cell_type": "markdown",
   "metadata": {},
   "source": [
    "In this lecture, we do some data wrangling of a genetic data set using Julia. The data set is a modified version of Mendel Option 29 (Ped-GWAS) example."
   ]
  },
  {
   "cell_type": "code",
   "execution_count": null,
   "metadata": {},
   "outputs": [],
   "source": [
    "versioninfo()"
   ]
  },
  {
   "cell_type": "markdown",
   "metadata": {},
   "source": [
    "# Data files\n",
    "\n",
    "We are presented with the following files"
   ]
  },
  {
   "cell_type": "code",
   "execution_count": null,
   "metadata": {},
   "outputs": [],
   "source": [
    ";ls -l Ped29c.in SNP_def29a.in SNP_data29a_missing.bed"
   ]
  },
  {
   "cell_type": "markdown",
   "metadata": {},
   "source": [
    "* **Pedigree file** `Ped29c.in` is directly taken from Mendel Option 29 (Ped-GWAS) example. It contains sample information, similar to the `fam` file in Plink.  \n",
    "* **SNP definition file** `SNP_def29a.in` is directly taken from Mendel Option 29 (Ped-GWAS) example. It contains SNP information, similar to the `bim` file in Plink.    \n",
    "* **SNP binary file** `SNP_data29a_missing.bed` is modified from the original SNP binary file `SNP_data29a.bin` by introducing misssing genotypes. It encodes genotype information in binary format, same as the `bed` file in Plink. "
   ]
  },
  {
   "cell_type": "markdown",
   "metadata": {},
   "source": [
    "Before any data analysis, it's always a good idea to know how the data is generated. Quote from the [Mendel Option 29 (Ped-GWAS) documentation (p294)](https://www.genetics.ucla.edu/software/Mendel_current_doc.pdf#page=294)  \n",
    "\n",
    "> We constructed an example data set, 29a, that uses dense SNP data in binary files. To\n",
    "simulate data with realistic linkage disequilibrium (LD) structure, we took advantage of\n",
    "phased sequence data from chromosome 19 on 85 individuals of northern and western\n",
    "European ancestry (originally from the CEPH sample) made publicly available in the 1000\n",
    "Genomes Project [52]. After we removed markers that were mono-allelic in this set of individuals,\n",
    "253,141 SNPs remained. Almost half of the SNPs have minor allele frequencies\n",
    "(MAF) below 5%. The haplotype pairs attributed to the 85 CEPH members were reassigned\n",
    "to the 85 founders of 27 pedigree structures selected from the Framingham Heart\n",
    "Study (FHS, http://www.framinghamheartstudy.org). The selected Framingham pedigrees\n",
    "were chosen to reflect the kind of pedigrees commonly collected in family-based\n",
    "genetic studies. The 27 pedigrees encompass 212 people, range in size from 1 to 36 people\n",
    "and from 1 to 5 generations, and contain sibships of 1 to 5 children. The genotypes of\n",
    "non-founders were simulated, using Option 17, conditional on the haplotypes imposed on\n",
    "the founders. All genotypes were recorded as unordered for subsequent analyses.\n",
    "\n",
    "Note the original genotype data `SNP_data29a.bin` is complete without missing genotypes. We introduced some missingness in  the `SNP_data29a_missing.bed`."
   ]
  },
  {
   "cell_type": "markdown",
   "metadata": {},
   "source": [
    "# Explore non-genetic data"
   ]
  },
  {
   "cell_type": "markdown",
   "metadata": {},
   "source": [
    "## Import pedigree file\n",
    "\n",
    "The pedigree file `Ped29c.in` contains the sample information. Let's take a look at the first 10 lines of the file."
   ]
  },
  {
   "cell_type": "code",
   "execution_count": null,
   "metadata": {},
   "outputs": [],
   "source": [
    ";head Ped29c.in"
   ]
  },
  {
   "cell_type": "markdown",
   "metadata": {},
   "source": [
    "The columns are: **FamilyID**, **ID**, **FatherID**, **MotherID**, **Sex**, **Proband**, **SimTrait1**, **SimTrait2**, **GroupID**.\n",
    "\n",
    "We use the [`DataFrames.jl`](https://github.com/JuliaData/DataFrames.jl) package to read in this comma separated file."
   ]
  },
  {
   "cell_type": "code",
   "execution_count": null,
   "metadata": {},
   "outputs": [],
   "source": [
    "using DataFrames\n",
    "\n",
    "ped29c = readtable(\"Ped29c.in\", header = false, names = [:famid, :id, :faid, \n",
    "    :moid, :sex, :twin, :simtrait1, :simtrait2, :group])"
   ]
  },
  {
   "cell_type": "markdown",
   "metadata": {},
   "source": [
    "`readtable` function is smart to strip the white spaces in data fields, record missing values, and *guess* the data types of each column."
   ]
  },
  {
   "cell_type": "code",
   "execution_count": null,
   "metadata": {},
   "outputs": [],
   "source": [
    "eltypes(ped29c)"
   ]
  },
  {
   "cell_type": "markdown",
   "metadata": {},
   "source": [
    "## Explore phenotypes\n",
    "\n",
    "There are two traits in the pedigree file. \n",
    "\n",
    "Summary statistics:"
   ]
  },
  {
   "cell_type": "code",
   "execution_count": null,
   "metadata": {},
   "outputs": [],
   "source": [
    "describe(ped29c[[:simtrait1, :simtrait2]])"
   ]
  },
  {
   "cell_type": "markdown",
   "metadata": {},
   "source": [
    "Summary statistics stratified by sex."
   ]
  },
  {
   "cell_type": "code",
   "execution_count": null,
   "metadata": {},
   "outputs": [],
   "source": [
    "by(ped29c, :sex) do df\n",
    "  DataFrame(\n",
    "    n = length(df[:simtrait1]),\n",
    "    mean = round(mean(df[:simtrait1]), 3),\n",
    "    std = round(std(df[:simtrait1]), 3)\n",
    "  )\n",
    "end"
   ]
  },
  {
   "cell_type": "code",
   "execution_count": null,
   "metadata": {},
   "outputs": [],
   "source": [
    "by(ped29c, :sex) do df\n",
    "  DataFrame(\n",
    "    n = length(df[:simtrait2]),\n",
    "    mean = round(mean(df[:simtrait2]), 3),\n",
    "    std = round(std(df[:simtrait2]), 3)\n",
    "  )\n",
    "end"
   ]
  },
  {
   "cell_type": "markdown",
   "metadata": {},
   "source": [
    "Summary statistics stratified by pedigrees:"
   ]
  },
  {
   "cell_type": "code",
   "execution_count": null,
   "metadata": {},
   "outputs": [],
   "source": [
    "by(ped29c, :famid) do df\n",
    "  DataFrame(\n",
    "    n = length(df[:simtrait1]),\n",
    "    mean = round(mean(df[:simtrait1]), 3),\n",
    "    std = round(std(df[:simtrait1]), 3)\n",
    "  )\n",
    "end"
   ]
  },
  {
   "cell_type": "markdown",
   "metadata": {},
   "source": [
    "Graphs always help."
   ]
  },
  {
   "cell_type": "code",
   "execution_count": null,
   "metadata": {},
   "outputs": [],
   "source": [
    "using Gadfly\n",
    "\n",
    "hstack(\n",
    "    plot(ped29c, x = \"sex\", y = \"simtrait1\", Geom.boxplot),\n",
    "    plot(ped29c, x = \"sex\", y = \"simtrait2\", Geom.boxplot)\n",
    ")"
   ]
  },
  {
   "cell_type": "code",
   "execution_count": null,
   "metadata": {},
   "outputs": [],
   "source": [
    "hstack(\n",
    "    plot(ped29c, x = \"simtrait1\", color = \"sex\", Geom.histogram(bincount=20, density=true)),\n",
    "    plot(ped29c, x = \"simtrait2\", color = \"sex\", Geom.histogram(bincount=20, density=true))\n",
    ")"
   ]
  },
  {
   "cell_type": "code",
   "execution_count": null,
   "metadata": {},
   "outputs": [],
   "source": [
    "plot(ped29c, x = \"simtrait1\", y = \"simtrait2\", Geom.histogram2d(xbincount=10, ybincount=10))"
   ]
  },
  {
   "cell_type": "markdown",
   "metadata": {},
   "source": [
    "## Visualize pedigrees\n",
    "\n",
    "It's desirable to visualize the pedigree structures. Although I don't know of any Julia package capable of pedigree drawing, there are a bunch of pedigree drawing software out there. See a list [here](http://www.soph.uab.edu/ssg/linkage/pedigreedrawing). Fortunately Julia makes it very easy to glue with other languages and programs. Here we show how to draw pedigress **within Julia** using the R package `kinship2`.\n",
    "\n",
    "[`RCall.jl`](https://github.com/JuliaInterop/RCall.jl) is the Julia package that enables running R within Julia. Of course, there should be a working R on your computer and the R package `kinship2` is installed, e.g., by R command\n",
    "```r\n",
    "install.packages(\"kinship2\")\n",
    "```\n",
    "\n",
    "Let's first transfer required data to R."
   ]
  },
  {
   "cell_type": "code",
   "execution_count": null,
   "metadata": {},
   "outputs": [],
   "source": [
    "# Pkg.add(\"RCall\")\n",
    "using RCall\n",
    "\n",
    "id    = ped29c[:, :id]\n",
    "dadid = ped29c[:, :faid]\n",
    "momid = ped29c[:, :moid]\n",
    "sex   = ped29c[:, :sex]\n",
    "famid = ped29c[:, :famid]\n",
    "\n",
    "@rput id dadid momid sex famid\n",
    "\n",
    "R\"\"\"\n",
    "# install.packages('kinship2', repos = 'http://cran.us.r-project.org')\n",
    "library(kinship2)\n",
    "\n",
    "ped29c = pedigree(id, dadid, momid, sex, famid = famid)\n",
    "# draw pedigree with id '19'\n",
    "plot(ped29c['19'])\n",
    "\"\"\""
   ]
  },
  {
   "cell_type": "markdown",
   "metadata": {},
   "source": [
    "To print all pedigrees into a ps file, use a loop\n",
    "```julia\n",
    "R\"\"\"\n",
    "# draw all pedigrees in a ps file\n",
    "postscript(\"ped29c.ps\")\n",
    "for (p in 1:20) {\n",
    "    plot(ped29c[p])\n",
    "}\n",
    "postscript()\n",
    "\"\"\"\n",
    "```"
   ]
  },
  {
   "cell_type": "markdown",
   "metadata": {},
   "source": [
    "# Explore genetic data using SnpArrays package"
   ]
  },
  {
   "cell_type": "markdown",
   "metadata": {},
   "source": [
    "## Load SNP binary file as SnpArray\n",
    "\n",
    "To read in and manipulate the SNP binary file, which is same as the Plink bed file, we use the `SnpArrays` package."
   ]
  },
  {
   "cell_type": "code",
   "execution_count": null,
   "metadata": {},
   "outputs": [],
   "source": [
    "using SnpArrays\n",
    "\n",
    "snpbin29c = SnpArray(\"SNP_data29a_missing\"; people = 212, snps = 253141)"
   ]
  },
  {
   "cell_type": "markdown",
   "metadata": {},
   "source": [
    "`SnpArray` is an array of `Tuple{Bool,Bool}` and adopts the same coding as the [Plink binary format](http://pngu.mgh.harvard.edu/~purcell/plink/binary.shtml). If `A1` and `A2` are the two alleles, the coding rule is  \n",
    "\n",
    "| Genotype | SnpArray |  \n",
    "|:---:|:---:|  \n",
    "| A1,A1 | (false,false) |  \n",
    "| A1,A2 | (false,true) |  \n",
    "| A2,A2 | (true,true) |  \n",
    "| missing | (true,false) |  \n",
    "\n",
    "The code `(true,false)` is reserved for missing genotype. Otherwise, the bit `true` represents one copy of allele `A2`. In a two-dimensional `SnpArray`, each row is a person and each column is a SNP."
   ]
  },
  {
   "cell_type": "markdown",
   "metadata": {},
   "source": [
    "## Summary statistics of genotypes\n",
    "\n",
    "`summarize` function computes the following summary statistics of a `SnpArray`:  \n",
    "\n",
    "* `maf`: minor allele frequencies, taking into account of missingness.  \n",
    "* `minor_allele`: a `BitVector` indicating the minor allele for each SNP.   `minor_allele[j]==true` means A1 is the minor allele for SNP j; `minor_allele[j]==false` means A2 is the minor allele for SNP j.  \n",
    "* `missings_by_snp`: number of missing genotypes for each snp.  \n",
    "* `missings_by_person`: number of missing genotypes for each person.  "
   ]
  },
  {
   "cell_type": "code",
   "execution_count": null,
   "metadata": {},
   "outputs": [],
   "source": [
    "@time maf, minor_allele, missings_by_snp, missings_by_person = summarize(snpbin29c);"
   ]
  },
  {
   "cell_type": "markdown",
   "metadata": {},
   "source": [
    "How many missing genotypes in this data set?"
   ]
  },
  {
   "cell_type": "code",
   "execution_count": null,
   "metadata": {},
   "outputs": [],
   "source": [
    "# total number of missing genotypes\n",
    "sum(missings_by_snp), sum(missings_by_person)"
   ]
  },
  {
   "cell_type": "code",
   "execution_count": null,
   "metadata": {},
   "outputs": [],
   "source": [
    "# proportion of missing genotypes\n",
    "sum(missings_by_snp) / length(snpbin29c)"
   ]
  },
  {
   "cell_type": "code",
   "execution_count": null,
   "metadata": {},
   "outputs": [],
   "source": [
    "# minor allele frequencies\n",
    "maf'"
   ]
  },
  {
   "cell_type": "code",
   "execution_count": null,
   "metadata": {},
   "outputs": [],
   "source": [
    "plot(x = maf, Geom.histogram(bincount=30), Guide.XLabel(\"Minor Allele Frequency\"), Guide.YLabel(\"Count\"))"
   ]
  },
  {
   "cell_type": "markdown",
   "metadata": {},
   "source": [
    "## Filtering\n",
    "\n",
    "In almost all analyses, SNPs and individuals with low genotyping success rates are ignored. This filtering step is an important tool for removing likely false positives from association testing, as genotyping failure often occurs preferentially in cases or controls, or is correlated with the quantitative trait. \n",
    "```julia\n",
    "filter(snparray, min_success_rate_per_snp, min_success_rate_per_person)\n",
    "``` \n",
    "does filtering according to the specified success rates for SNPs and people. Default is 0.98 for both."
   ]
  },
  {
   "cell_type": "code",
   "execution_count": null,
   "metadata": {},
   "outputs": [],
   "source": [
    "# filtering SNPs and people to have both success rates above 0.98\n",
    "snp_idx, person_idx = filter(snpbin29c, 0.98, 0.98)"
   ]
  },
  {
   "cell_type": "code",
   "execution_count": null,
   "metadata": {},
   "outputs": [],
   "source": [
    "# summary statistics of the filtered SnpArray\n",
    "snpbin29c_filtered = snpbin29c[person_idx, snp_idx]"
   ]
  },
  {
   "cell_type": "markdown",
   "metadata": {},
   "source": [
    "We see the number of SNPs is reduced from 253,141 to 237,163."
   ]
  },
  {
   "cell_type": "code",
   "execution_count": null,
   "metadata": {
    "collapsed": true
   },
   "outputs": [],
   "source": [
    "_, _, missings_by_snp_filtered, missings_by_person_filtered = summarize(snpbin29c_filtered);"
   ]
  },
  {
   "cell_type": "code",
   "execution_count": null,
   "metadata": {},
   "outputs": [],
   "source": [
    "# minimum SNP genotyping success rate after filtering ≥ 0.98\n",
    "1.0 - maximum(missings_by_snp_filtered) / length(missings_by_person_filtered)"
   ]
  },
  {
   "cell_type": "code",
   "execution_count": null,
   "metadata": {},
   "outputs": [],
   "source": [
    "# minimum individual genotyping success rate after filtering ≥ 0.98\n",
    "1.0 - maximum(missings_by_person_filtered) / length(missings_by_snp_filtered)"
   ]
  },
  {
   "cell_type": "markdown",
   "metadata": {},
   "source": [
    "## Subsetting SnpArray\n",
    "\n",
    "Subsetting a SnpArray is pretty much the same as subsetting a regular array."
   ]
  },
  {
   "cell_type": "code",
   "execution_count": null,
   "metadata": {},
   "outputs": [],
   "source": [
    "# genotypes of the 1st person\n",
    "snpbin29c[1, :]"
   ]
  },
  {
   "cell_type": "code",
   "execution_count": null,
   "metadata": {},
   "outputs": [],
   "source": [
    "# genotypes of the 5th SNP\n",
    "snpbin29c[:, 5]"
   ]
  },
  {
   "cell_type": "code",
   "execution_count": null,
   "metadata": {},
   "outputs": [],
   "source": [
    "# subsetting both persons and SNPs\n",
    "snpbin29c[1:5, 5:10]"
   ]
  },
  {
   "cell_type": "code",
   "execution_count": null,
   "metadata": {},
   "outputs": [],
   "source": [
    "# filter out rare SNPs with MAF < 0.05\n",
    "snpbin29c[:, maf .≥ 0.05]"
   ]
  },
  {
   "cell_type": "code",
   "execution_count": null,
   "metadata": {},
   "outputs": [],
   "source": [
    "# filter out individuals with genotyping success rate < 0.90\n",
    "snpbin29c[missings_by_person / size(snpbin29c, 2) .< 0.1, :]"
   ]
  },
  {
   "cell_type": "markdown",
   "metadata": {},
   "source": [
    "`view()` creates views of subarray without copying data and improve efficiency in many calculations."
   ]
  },
  {
   "cell_type": "code",
   "execution_count": null,
   "metadata": {},
   "outputs": [],
   "source": [
    "mafcommon, = summarize(view(snpbin29c, :, maf .≥ 0.05))\n",
    "mafcommon'"
   ]
  },
  {
   "cell_type": "markdown",
   "metadata": {},
   "source": [
    "## Convert SnpArray to numeric array\n",
    "\n",
    "In most analyses we convert a whole `SnpArray` or slices of it to numeric arrays (matrix of **minor allele counts**) for statistical analysis."
   ]
  },
  {
   "cell_type": "code",
   "execution_count": null,
   "metadata": {},
   "outputs": [],
   "source": [
    "# convert to a matrix of double precision numbers\n",
    "@time snpbin29c_f64 = convert(Matrix{Float64}, snpbin29c)"
   ]
  },
  {
   "cell_type": "markdown",
   "metadata": {},
   "source": [
    "We can see missing genotypes are converted to `NaN` appropriately."
   ]
  },
  {
   "cell_type": "code",
   "execution_count": null,
   "metadata": {},
   "outputs": [],
   "source": [
    "# number of missing genotypes\n",
    "countnz(isnan.(snpbin29c)), countnz(isnan.(snpbin29c_f64))"
   ]
  },
  {
   "cell_type": "markdown",
   "metadata": {},
   "source": [
    "We can also convert genotypes to a sparse matrix."
   ]
  },
  {
   "cell_type": "code",
   "execution_count": null,
   "metadata": {},
   "outputs": [],
   "source": [
    "# convert to SparseMatrixCSC{Float32, UInt32} matrix\n",
    "@time snpbin29c_f32sp = convert(SparseMatrixCSC{Float32, UInt32}, snpbin29c)"
   ]
  },
  {
   "cell_type": "markdown",
   "metadata": {},
   "source": [
    "One can enforce **crude imputation** by setting the optional argument `impute=true`. Imputation is done by generating two random alleles according to the minor allele frequency. This is a neutral but not an optimal strategy, and users should impute missing genotypes by more advanced methods."
   ]
  },
  {
   "cell_type": "code",
   "execution_count": null,
   "metadata": {},
   "outputs": [],
   "source": [
    "snpbin29c_f64impute = convert(Matrix{Float64}, snpbin29c; impute = true)\n",
    "countnz(isnan.(snpbin29c_f64impute))"
   ]
  },
  {
   "cell_type": "markdown",
   "metadata": {},
   "source": [
    "By default `convert()` translates genotypes according to the *additive* SNP model, which essentially counts the number of **minor allele** (0, 1 or 2) per genotype. Other SNP models are *dominant* and *recessive*, both in terms of the **minor allele**. When `A1` is the minor allele, genotypes are translated to real number according to\n",
    "\n",
    "| Genotype | `SnpArray` | `model=:additive` | `model=:dominant` | `model=:recessive` |    \n",
    "|:---:|:---:|:---:|:---:|:---:|  \n",
    "| A1,A1 | (false,false) | 2 | 1 | 1 |  \n",
    "| A1,A2 | (false,true) | 1 | 1 | 0 |  \n",
    "| A2,A2 | (true,true) | 0 | 0 | 0 |  \n",
    "| missing | (true,false) | NaN | NaN | NaN | \n",
    "\n",
    "When `A2` is the minor allele, genotypes are translated according to\n",
    "\n",
    "| Genotype | `SnpArray` | `model=:additive` | `model=:dominant` | `model=:recessive` |    \n",
    "|:---:|:---:|:---:|:---:|:---:|  \n",
    "| A1,A1 | (false,false) | 0 | 0 | 0 |  \n",
    "| A1,A2 | (false,true) | 1 | 1 | 0 |  \n",
    "| A2,A2 | (true,true) | 2 | 1 | 1 |  \n",
    "| missing | (true,false) | NaN | NaN | NaN |"
   ]
  },
  {
   "cell_type": "code",
   "execution_count": null,
   "metadata": {},
   "outputs": [],
   "source": [
    "[convert(Vector{Float64}, snpbin29c[1:10, 5]; model = :additive) convert(Vector{Float64}, snpbin29c[1:10, 5]; model = :dominant) convert(Vector{Float64}, snpbin29c[1:10, 5]; model = :recessive)]"
   ]
  },
  {
   "cell_type": "markdown",
   "metadata": {},
   "source": [
    "By default `convert()` does **not** center and scale genotypes. Setting the optional arguments `center=true, scale=true` centers genotypes at 2MAF and scales them by $[2 \\cdot \\text{MAF} \\cdot (1 - \\text{MAF})]^{-1/2}$. Mono-allelic SNPs (MAF=0) are not scaled."
   ]
  },
  {
   "cell_type": "code",
   "execution_count": null,
   "metadata": {},
   "outputs": [],
   "source": [
    "[convert(Vector{Float64}, snpbin29c[:, 5]) convert(Vector{Float64}, snpbin29c[:, 5]; center = true, scale = true)]"
   ]
  },
  {
   "cell_type": "markdown",
   "metadata": {},
   "source": [
    "`copy!()` is the in-place version of `convert()`. Options such as GWAS loop over SNPs and perform statistical anlaysis for each SNP. This can be achieved by"
   ]
  },
  {
   "cell_type": "code",
   "execution_count": null,
   "metadata": {
    "collapsed": true
   },
   "outputs": [],
   "source": [
    "g = zeros(size(snpbin29c, 1))\n",
    "for j = 1:size(snpbin29c, 1)\n",
    "    copy!(g, snpbin29c[:, j]; model = :additive, impute = true)\n",
    "    # do statistical anlaysis\n",
    "end"
   ]
  },
  {
   "cell_type": "markdown",
   "metadata": {},
   "source": [
    "## Empirical kinship matrix\n",
    "\n",
    "`grm` function computes the empirical kinship matrix using either the genetic relationship matrix, `grm(A, model=:GRM)`, or the method of moment method, `grm(A, model=:MoM)`. \n",
    "\n",
    "!!! note\n",
    "\n",
    "    Missing genotypes are imputed according to minor allele frequencies on the fly.  \n",
    "    \n",
    "\n",
    "By default, grm exlcude SNPs with minor allele frequency below 0.01. This can be changed by the keyword argument `maf_threshold`."
   ]
  },
  {
   "cell_type": "code",
   "execution_count": null,
   "metadata": {},
   "outputs": [],
   "source": [
    "# GRM using all SNPs with maf > 0.01\n",
    "# same as: grm(snpbin29c; method = :GRM, maf_threshold = 0.01)\n",
    "@time grm(snpbin29c)"
   ]
  },
  {
   "cell_type": "code",
   "execution_count": null,
   "metadata": {},
   "outputs": [],
   "source": [
    "# GRM using every other SNP with maf > 0.01\n",
    "@time grm(view(snpbin29c, :, 1:2:size(snpbin29c, 2)))"
   ]
  },
  {
   "cell_type": "code",
   "execution_count": null,
   "metadata": {},
   "outputs": [],
   "source": [
    "# MoM using all SNPs with maf > 0.01\n",
    "grm(snpbin29c; method = :MoM)"
   ]
  },
  {
   "cell_type": "markdown",
   "metadata": {},
   "source": [
    "## Read in SNP definition file\n",
    "\n",
    "The SNP definition file `SNP_def29a.in` contains the SNP information. "
   ]
  },
  {
   "cell_type": "code",
   "execution_count": null,
   "metadata": {},
   "outputs": [],
   "source": [
    ";head SNP_def29a.in"
   ]
  },
  {
   "cell_type": "markdown",
   "metadata": {},
   "source": [
    "We use the Julia base function [`readcsv`](https://docs.julialang.org/en/stable/stdlib/io-network/#Base.DataFmt.readcsv) to read in the SNP definition file in a dataframe. The keyword `skipstart = 2` instructs Julia to skip the first 2 lines."
   ]
  },
  {
   "cell_type": "code",
   "execution_count": null,
   "metadata": {},
   "outputs": [],
   "source": [
    "## columns are: :snpid, :chrom, :pos, :allele1, :allele2, :groupname\n",
    "# snpdef29c = readtable(\"SNP_def29a.in\", skipstart = 2, header = false)\n",
    "snpdef29c = readcsv(\"SNP_def29a.in\", Any; skipstart = 2, header = false)"
   ]
  },
  {
   "cell_type": "markdown",
   "metadata": {},
   "source": [
    "Unlike `readtable` in the DataFrames.jl package, `readcsv` does try to strip white spaces and infer types for each column. However, it is easy to enforce desired types on the read in data."
   ]
  },
  {
   "cell_type": "code",
   "execution_count": null,
   "metadata": {},
   "outputs": [],
   "source": [
    "snpid = map(x -> strip(string(x)), snpdef29c[:, 1])"
   ]
  },
  {
   "cell_type": "code",
   "execution_count": null,
   "metadata": {},
   "outputs": [],
   "source": [
    "# chr = map(x -> string(x), snpdef29c[:, 2])\n",
    "chr = convert(Vector{Int}, snpdef29c[:, 2])"
   ]
  },
  {
   "cell_type": "code",
   "execution_count": null,
   "metadata": {},
   "outputs": [],
   "source": [
    "pos = convert(Vector{Int}, snpdef29c[:, 3])"
   ]
  },
  {
   "cell_type": "markdown",
   "metadata": {},
   "source": [
    "# Explore VCF files using VCFTools.jl\n",
    "\n",
    "VCF is a popular format for genetic data.\n",
    "\n",
    "[VCFTools.jl](https://github.com/OpenMendel/VCFTools.jl) implements some Julia utilities for handling VCF files. The package can be installed by\n",
    "```julia\n",
    "Pkg.clone(\"https://github.com/OpenMendel/VCFTools.jl.git\")\n",
    "```\n",
    "\n",
    "## Example VCF file\n",
    "\n",
    "We will demonstrate using an example VCF file `test.08Jun17.d8b.vcf.gz`, which can be downloaded from this [link](http://faculty.washington.edu/browning/beagle/test.08Jun17.d8b.vcf.gz)."
   ]
  },
  {
   "cell_type": "code",
   "execution_count": null,
   "metadata": {},
   "outputs": [],
   "source": [
    ";ls -l test.08Jun17.d8b.vcf.gz"
   ]
  },
  {
   "cell_type": "markdown",
   "metadata": {},
   "source": [
    "The first 35 lines of the VCF file are"
   ]
  },
  {
   "cell_type": "code",
   "execution_count": null,
   "metadata": {},
   "outputs": [],
   "source": [
    "using VCFTools\n",
    "\n",
    "fh = openvcf(\"test.08Jun17.d8b.vcf.gz\", \"r\")\n",
    "for l in 1:35\n",
    "    println(readline(fh))\n",
    "end\n",
    "close(fh)"
   ]
  },
  {
   "cell_type": "markdown",
   "metadata": {},
   "source": [
    "As in typical VCF files, it has a bunch of meta-information lines, one header line, and then one line for each each marker. In this VCF, genetic data has fields GT (genotype), DS (dosage), and GL (genotype likelihood)."
   ]
  },
  {
   "cell_type": "markdown",
   "metadata": {},
   "source": [
    "## Summary statistics\n",
    "\n",
    "Number of records (markers) in a VCF file."
   ]
  },
  {
   "cell_type": "code",
   "execution_count": null,
   "metadata": {},
   "outputs": [],
   "source": [
    "records = nrecords(\"test.08Jun17.d8b.vcf.gz\")"
   ]
  },
  {
   "cell_type": "markdown",
   "metadata": {},
   "source": [
    "Number of samples (individuals) in a VCF file."
   ]
  },
  {
   "cell_type": "code",
   "execution_count": null,
   "metadata": {},
   "outputs": [],
   "source": [
    "samples = nsamples(\"test.08Jun17.d8b.vcf.gz\")"
   ]
  },
  {
   "cell_type": "markdown",
   "metadata": {},
   "source": [
    "`gtstats` function calculates genotype statistics for each marker with GT field."
   ]
  },
  {
   "cell_type": "code",
   "execution_count": null,
   "metadata": {},
   "outputs": [],
   "source": [
    "@time records, samples, lines, missings_by_sample, missings_by_record, \n",
    "    maf_by_record, minorallele_by_record = gtstats(\"test.08Jun17.d8b.vcf.gz\");"
   ]
  },
  {
   "cell_type": "code",
   "execution_count": null,
   "metadata": {},
   "outputs": [],
   "source": [
    "# number of markers\n",
    "records"
   ]
  },
  {
   "cell_type": "code",
   "execution_count": null,
   "metadata": {},
   "outputs": [],
   "source": [
    "# number of samples (individuals)\n",
    "samples"
   ]
  },
  {
   "cell_type": "code",
   "execution_count": null,
   "metadata": {},
   "outputs": [],
   "source": [
    "# number of markers with GT field\n",
    "lines"
   ]
  },
  {
   "cell_type": "code",
   "execution_count": null,
   "metadata": {},
   "outputs": [],
   "source": [
    "# number of missing genotypes in each sample (individual)\n",
    "missings_by_sample'"
   ]
  },
  {
   "cell_type": "code",
   "execution_count": null,
   "metadata": {},
   "outputs": [],
   "source": [
    "# number of missing genotypes in each marker with GT field\n",
    "missings_by_record'"
   ]
  },
  {
   "cell_type": "code",
   "execution_count": null,
   "metadata": {},
   "outputs": [],
   "source": [
    "# minor allele frequency of each marker with GT field\n",
    "maf_by_record'"
   ]
  },
  {
   "cell_type": "code",
   "execution_count": null,
   "metadata": {},
   "outputs": [],
   "source": [
    "# minor allele of each marker (with GT field): true (REF) or false (ALT)\n",
    "minorallele_by_record'"
   ]
  },
  {
   "cell_type": "markdown",
   "metadata": {},
   "source": [
    "The optional second argument of `gtstats` function specifies an output file or IO stream for genotype statistics per marker. Each line has fields:  \n",
    "- 1-8:  VCF fixed fields (CHROM, POS, ID, REF, ALT, QUAL, FILT, INFO)\n",
    "-   9:  Missing genotype count\n",
    "-  10:  Missing genotype frequency\n",
    "-  11:  ALT allele count\n",
    "-  12:  ALT allele frequency\n",
    "-  13:  Minor allele count             (REF allele vs ALT alleles)\n",
    "-  14:  Minor allele frequency         (REF allele vs ALT alleles)\n",
    "-  15:  HWE P-value                    (REF allele vs ALT alleles)"
   ]
  },
  {
   "cell_type": "code",
   "execution_count": null,
   "metadata": {},
   "outputs": [],
   "source": [
    "# write genotype statistics in file gtstats.out.txt\n",
    "@time gtstats(\"test.08Jun17.d8b.vcf.gz\", \"gtstats.out.txt\");"
   ]
  },
  {
   "cell_type": "code",
   "execution_count": null,
   "metadata": {},
   "outputs": [],
   "source": [
    ";ls -l gtstats.out.txt"
   ]
  },
  {
   "cell_type": "markdown",
   "metadata": {},
   "source": [
    "The output file can be read as a `DataFrame` for further analysis."
   ]
  },
  {
   "cell_type": "code",
   "execution_count": null,
   "metadata": {},
   "outputs": [],
   "source": [
    "using DataFrames\n",
    "\n",
    "gstat = readtable(\"gtstats.out.txt\"; \n",
    "    header = false, \n",
    "    separator = '\\t',\n",
    "    names = [:chr, :pos, :id, :ref, :alt, :qual, :filt, :info, :missings, :missfreq, :nalt, :altfreq, :nminor, :maf, :hwe],\n",
    "    eltypes = [String, Int, String, String, String, String, String, String, Int, Float64, Int, Float64, Int, Float64, Float64]\n",
    ")"
   ]
  },
  {
   "cell_type": "markdown",
   "metadata": {},
   "source": [
    "## Filter data fields in a VCF"
   ]
  },
  {
   "cell_type": "markdown",
   "metadata": {},
   "source": [
    "If we are only interested in the GT data in this VCF file, we can call `filter_genotype` function for filtering.  \n",
    "* The first argument is the source VCF.  \n",
    "* The second argument is the output VCF.  \n",
    "* The third argument is a vector of fields to output."
   ]
  },
  {
   "cell_type": "code",
   "execution_count": null,
   "metadata": {},
   "outputs": [],
   "source": [
    "@time filter_genotype(\"test.08Jun17.d8b.vcf.gz\", \"test.gt.vcf.gz\", [\"GT\"])"
   ]
  },
  {
   "cell_type": "code",
   "execution_count": null,
   "metadata": {},
   "outputs": [],
   "source": [
    ";ls -l test.gt.vcf.gz"
   ]
  },
  {
   "cell_type": "markdown",
   "metadata": {},
   "source": [
    "The first 35 lines of the resultant file are"
   ]
  },
  {
   "cell_type": "code",
   "execution_count": null,
   "metadata": {},
   "outputs": [],
   "source": [
    "fh = openvcf(\"test.gt.vcf.gz\", \"r\")\n",
    "for l in 1:35\n",
    "    println(readline(fh))\n",
    "end\n",
    "close(fh)"
   ]
  },
  {
   "cell_type": "markdown",
   "metadata": {},
   "source": [
    "To extract more than one fields, say GT and DS,"
   ]
  },
  {
   "cell_type": "code",
   "execution_count": null,
   "metadata": {},
   "outputs": [],
   "source": [
    "@time filter_genotype(\"test.08Jun17.d8b.vcf.gz\", \"test.gt.ds.vcf.gz\", [\"GT\", \"DS\"])"
   ]
  },
  {
   "cell_type": "code",
   "execution_count": null,
   "metadata": {},
   "outputs": [],
   "source": [
    ";ls -l test.gt.ds.vcf.gz"
   ]
  },
  {
   "cell_type": "markdown",
   "metadata": {},
   "source": [
    "The first 35 lines of the resultant file are"
   ]
  },
  {
   "cell_type": "code",
   "execution_count": null,
   "metadata": {},
   "outputs": [],
   "source": [
    "fh = openvcf(\"test.gt.ds.vcf.gz\", \"r\")\n",
    "for l in 1:35\n",
    "    println(readline(fh))\n",
    "end\n",
    "close(fh)"
   ]
  },
  {
   "cell_type": "markdown",
   "metadata": {},
   "source": [
    "Note the data fields in the output file is in alphabet order, which may be different from the order in original VCF."
   ]
  },
  {
   "cell_type": "markdown",
   "metadata": {},
   "source": [
    "## Convert GT to numeric arrays\n",
    "\n",
    "There are differnt SNP models. The *additive* SNP model essentially counts the number of **minor allele** (0, 1 or 2) per genotype. Other SNP models are *dominant* and *recessive*, both in terms of the **minor allele**. When `ALT` allele is the minor allele, genotypes are translated to real number according to\n",
    "\n",
    "| Genotype | VCF GT | `model=:additive` | `model=:dominant` | `model=:recessive` |    \n",
    "|:---:|:---:|:---:|:---:|:---:|  \n",
    "| ALT,ALT | 0/0, 0&#124;0 | 2 | 1 | 1 |  \n",
    "| REF,ALT | 0/1, 0&#124;1 | 1 | 1 | 0 |  \n",
    "| REF,REF | 1/1, 1&#124;1 | 0 | 0 | 0 |  \n",
    "| missing | . | Null | Null | Null | \n",
    "\n",
    "When `REF` allele is the minor allele, genotypes are translated according to\n",
    "\n",
    "| Genotype | VCF GT | `model=:additive` | `model=:dominant` | `model=:recessive` |    \n",
    "|:---:|:---:|:---:|:---:|:---:|  \n",
    "| ALT,ALT | 0/0, 0&#124;0 | 0 | 0 | 0 |  \n",
    "| REF,ALT | 0/1, 0&#124;1, 1/0, 1&#124;0 | 1 | 1 | 0 |  \n",
    "| REF,REF | 1/1, 1&#124;1 | 2 | 1 | 1 |  \n",
    "| missing | . | Null | Null | Null |\n",
    "\n",
    "To properly record the missing genotypes, VCFTools convert VCF GT data to `NullableArray`s. Each element of a nullable array `A` is of type `Nullable{T}`. `isnull(A[i, j]) == true` indicates that `A[i, j]` is a missing genotype. See the [NullableArrays.jl](https://github.com/JuliaStats/NullableArrays.jl) package for detailed documentation. "
   ]
  },
  {
   "cell_type": "markdown",
   "metadata": {},
   "source": [
    "Convert GT data in VCF file test.08Jun17.d8b.vcf.gz to a `Nullable{Float64}` array. Impute the missing genotypes according to allele frequency, center the dosages around 2MAF, and scale the dosages by `sqrt(2MAF*(1-MAF))`."
   ]
  },
  {
   "cell_type": "code",
   "execution_count": null,
   "metadata": {},
   "outputs": [],
   "source": [
    "@time A = convert_gt(Float64, \"test.08Jun17.d8b.vcf.gz\"; model = :additive, impute = true, center = true, scale = true)"
   ]
  },
  {
   "cell_type": "markdown",
   "metadata": {},
   "source": [
    "Large VCF files easily generate numeric arrays that cannot fit into computer memory. Many analyses only need to loop over markers or sets of markers. This can be achieved by the `copy_gt!` function.\n",
    "\n",
    "* To loop over all markers in the VCF file test.08Jun17.d8b.vcf.gz:"
   ]
  },
  {
   "cell_type": "code",
   "execution_count": null,
   "metadata": {},
   "outputs": [],
   "source": [
    "using GeneticVariation, NullableArrays, VCFTools\n",
    "\n",
    "# initialize VCF reader\n",
    "people, snps = nsamples(\"test.08Jun17.d8b.vcf.gz\"), nrecords(\"test.08Jun17.d8b.vcf.gz\")\n",
    "reader = VCF.Reader(openvcf(\"test.08Jun17.d8b.vcf.gz\"))\n",
    "# pre-allocate vector for marker data\n",
    "g = NullableArray(zeros(people))\n",
    "for j = 1:snps\n",
    "    copy_gt!(g, reader; model = :additive, impute = true, center = true, scale = true)\n",
    "    # do statistical anlaysis\n",
    "end\n",
    "close(reader)"
   ]
  },
  {
   "cell_type": "markdown",
   "metadata": {},
   "source": [
    "* To loop over markers in windows of size 25:"
   ]
  },
  {
   "cell_type": "code",
   "execution_count": null,
   "metadata": {},
   "outputs": [],
   "source": [
    "using GeneticVariation, NullableArrays, VCFTools\n",
    "\n",
    "# initialize VCF reader\n",
    "people, snps = nsamples(\"test.08Jun17.d8b.vcf.gz\"), nrecords(\"test.08Jun17.d8b.vcf.gz\")\n",
    "reader = VCF.Reader(openvcf(\"test.08Jun17.d8b.vcf.gz\"))\n",
    "# pre-allocate matrix for marker data\n",
    "windowsize = 25\n",
    "g = NullableArray(zeros(people, windowsize))\n",
    "nwindows = ceil(Int, snps / windowsize)\n",
    "for j = 1:nwindows\n",
    "    copy_gt!(g, reader; model = :additive, impute = true, center = true, scale = true)\n",
    "    # do statistical anlaysis\n",
    "end\n",
    "close(reader)"
   ]
  },
  {
   "cell_type": "markdown",
   "metadata": {},
   "source": [
    "As the warning suggests, the last window has less than 25 markers. The remaining columns in the matrix `g` are set to missing values."
   ]
  }
 ],
 "metadata": {
  "kernelspec": {
   "display_name": "Julia 0.6.4",
   "language": "julia",
   "name": "julia-0.6"
  },
  "language_info": {
   "file_extension": ".jl",
   "mimetype": "application/julia",
   "name": "julia",
   "version": "0.6.4"
  },
  "toc": {
   "colors": {
    "hover_highlight": "#DAA520",
    "running_highlight": "#FF0000",
    "selected_highlight": "#FFD700"
   },
   "moveMenuLeft": true,
   "nav_menu": {
    "height": "67px",
    "width": "252px"
   },
   "navigate_menu": true,
   "number_sections": true,
   "sideBar": true,
   "threshold": 4,
   "toc_cell": false,
   "toc_position": {
    "height": "623px",
    "left": "0px",
    "right": "auto",
    "top": "105px",
    "width": "212px"
   },
   "toc_section_display": "block",
   "toc_window_display": true,
   "widenNotebook": false
  }
 },
 "nbformat": 4,
 "nbformat_minor": 2
}
