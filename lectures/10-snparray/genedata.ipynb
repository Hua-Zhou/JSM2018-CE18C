{
 "cells": [
  {
   "cell_type": "markdown",
   "metadata": {},
   "source": [
    "# Genetic Data Wrangling Using Julia"
   ]
  },
  {
   "cell_type": "markdown",
   "metadata": {},
   "source": [
    "In this lecture, we do some data wrangling of a genetic data set using Julia. The data set is a modified version of Mendel Option 29 (Ped-GWAS) example.\n",
    "\n",
    "Machine information."
   ]
  },
  {
   "cell_type": "code",
   "execution_count": 70,
   "metadata": {
    "collapsed": true
   },
   "outputs": [],
   "source": [
    "versioninfo()"
   ]
  },
  {
   "cell_type": "markdown",
   "metadata": {},
   "source": [
    "# Data files\n",
    "\n",
    "We are presented with the following files"
   ]
  },
  {
   "cell_type": "code",
   "execution_count": 1,
   "metadata": {},
   "outputs": [
    {
     "name": "stdout",
     "output_type": "stream",
     "text": [
      "-rw-rw-r--  1 huazhou  staff     18868 Aug 21  2016 Ped29c.in\n",
      "-rw-r--r--  1 huazhou  staff  13416483 Sep 12  2017 SNP_data29a_missing.bed\n",
      "-rw-rw-r--  1 huazhou  staff  11990931 Aug 21  2016 SNP_def29a.in\n"
     ]
    }
   ],
   "source": [
    ";ls -l Ped29c.in SNP_def29a.in SNP_data29a_missing.bed"
   ]
  },
  {
   "cell_type": "markdown",
   "metadata": {},
   "source": [
    "* **Pedigree file** `Ped29c.in` is directly taken from Mendel Option 29 (Ped-GWAS) example. It contains sample information, similar to the `fam` file in Plink.  \n",
    "* **SNP definition file** `SNP_def29a.in` is directly taken from Mendel Option 29 (Ped-GWAS) example. It contains SNP information, similar to the `bim` file in Plink.    \n",
    "* **SNP binary file** `SNP_data29a_missing.bed` is modified from the original SNP binary file `SNP_data29a.bin` by introducing misssing genotypes. It encodes genotype information in binary format, same as the `bed` file in Plink. "
   ]
  },
  {
   "cell_type": "markdown",
   "metadata": {},
   "source": [
    "Before any data analysis, it's always a good idea to know how the data is generated. Quote from the [Mendel Option 29 (Ped-GWAS) documentation (p294)](https://www.genetics.ucla.edu/software/Mendel_current_doc.pdf#page=294)  \n",
    "\n",
    "> We constructed an example data set, 29a, that uses dense SNP data in binary files. To\n",
    "simulate data with realistic linkage disequilibrium (LD) structure, we took advantage of\n",
    "phased sequence data from chromosome 19 on 85 individuals of northern and western\n",
    "European ancestry (originally from the CEPH sample) made publicly available in the 1000\n",
    "Genomes Project [52]. After we removed markers that were mono-allelic in this set of individuals,\n",
    "253,141 SNPs remained. Almost half of the SNPs have minor allele frequencies\n",
    "(MAF) below 5%. The haplotype pairs attributed to the 85 CEPH members were reassigned\n",
    "to the 85 founders of 27 pedigree structures selected from the Framingham Heart\n",
    "Study (FHS, http://www.framinghamheartstudy.org). The selected Framingham pedigrees\n",
    "were chosen to reflect the kind of pedigrees commonly collected in family-based\n",
    "genetic studies. The 27 pedigrees encompass 212 people, range in size from 1 to 36 people\n",
    "and from 1 to 5 generations, and contain sibships of 1 to 5 children. The genotypes of\n",
    "non-founders were simulated, using Option 17, conditional on the haplotypes imposed on\n",
    "the founders. All genotypes were recorded as unordered for subsequent analyses.\n",
    "\n",
    "Note the original genotype data `SNP_data29a.bin` is complete without missing genotypes. We introduced some missingness in  the `SNP_data29a_missing.bed`."
   ]
  },
  {
   "cell_type": "markdown",
   "metadata": {},
   "source": [
    "# Explore non-genetic data"
   ]
  },
  {
   "cell_type": "markdown",
   "metadata": {},
   "source": [
    "## Import pedigree file\n",
    "\n",
    "The pedigree file `Ped29c.in` contains the sample information. Let's take a look at the first 10 lines of the file."
   ]
  },
  {
   "cell_type": "code",
   "execution_count": 2,
   "metadata": {},
   "outputs": [
    {
     "name": "stdout",
     "output_type": "stream",
     "text": [
      "  1       ,  16      ,          ,          ,  F       ,          ,  30.20564,   9.24210,\n",
      "  1       ,  8228    ,          ,          ,  F       ,          ,  35.82143,  15.27458,\n",
      "  1       ,  17008   ,          ,          ,  M       ,          ,  36.05298,  19.50496,\n",
      "  1       ,  9218    ,  17008   ,  16      ,  M       ,          ,  38.96351,  18.98575,\n",
      "  1       ,  3226    ,  9218    ,  8228    ,  F       ,          ,  33.73911,  21.10412,\n",
      "  2       ,  29      ,          ,          ,  F       ,          ,  34.88835,  19.01142,\n",
      "  2       ,  2294    ,          ,          ,  M       ,          ,  37.70105,  19.16556,\n",
      "  2       ,  3416    ,          ,          ,  M       ,          ,  45.13171,  19.84088,\n",
      "  2       ,  17893   ,  2294    ,  29      ,  F       ,          ,  35.15599,  14.14228,\n",
      "  2       ,  6952    ,  3416    ,  17893   ,  M       ,          ,  42.45136,  19.92713,\n"
     ]
    }
   ],
   "source": [
    ";head Ped29c.in"
   ]
  },
  {
   "cell_type": "markdown",
   "metadata": {},
   "source": [
    "The columns are: **FamilyID**, **ID**, **FatherID**, **MotherID**, **Sex**, **Proband**, **SimTrait1**, **SimTrait2**, **GroupID**.\n",
    "\n",
    "We use the [`DataFrames.jl`](https://github.com/JuliaData/DataFrames.jl) package to read in this comma separated file."
   ]
  },
  {
   "cell_type": "code",
   "execution_count": 3,
   "metadata": {},
   "outputs": [
    {
     "data": {
      "text/html": [
       "<table class=\"data-frame\"><thead><tr><th></th><th>famid</th><th>id</th><th>faid</th><th>moid</th><th>sex</th><th>twin</th><th>simtrait1</th><th>simtrait2</th><th>group</th></tr></thead><tbody><tr><th>1</th><td>1</td><td>16</td><td>missing</td><td>missing</td><td>F</td><td>missing</td><td>30.2056</td><td>9.2421</td><td>missing</td></tr><tr><th>2</th><td>1</td><td>8228</td><td>missing</td><td>missing</td><td>F</td><td>missing</td><td>35.8214</td><td>15.2746</td><td>missing</td></tr><tr><th>3</th><td>1</td><td>17008</td><td>missing</td><td>missing</td><td>M</td><td>missing</td><td>36.053</td><td>19.505</td><td>missing</td></tr><tr><th>4</th><td>1</td><td>9218</td><td>17008</td><td>16</td><td>M</td><td>missing</td><td>38.9635</td><td>18.9857</td><td>missing</td></tr><tr><th>5</th><td>1</td><td>3226</td><td>9218</td><td>8228</td><td>F</td><td>missing</td><td>33.7391</td><td>21.1041</td><td>missing</td></tr><tr><th>6</th><td>2</td><td>29</td><td>missing</td><td>missing</td><td>F</td><td>missing</td><td>34.8884</td><td>19.0114</td><td>missing</td></tr><tr><th>7</th><td>2</td><td>2294</td><td>missing</td><td>missing</td><td>M</td><td>missing</td><td>37.7011</td><td>19.1656</td><td>missing</td></tr><tr><th>8</th><td>2</td><td>3416</td><td>missing</td><td>missing</td><td>M</td><td>missing</td><td>45.1317</td><td>19.8409</td><td>missing</td></tr><tr><th>9</th><td>2</td><td>17893</td><td>2294</td><td>29</td><td>F</td><td>missing</td><td>35.156</td><td>14.1423</td><td>missing</td></tr><tr><th>10</th><td>2</td><td>6952</td><td>3416</td><td>17893</td><td>M</td><td>missing</td><td>42.4514</td><td>19.9271</td><td>missing</td></tr><tr><th>11</th><td>2</td><td>14695</td><td>2294</td><td>29</td><td>F</td><td>missing</td><td>35.6426</td><td>17.4191</td><td>missing</td></tr><tr><th>12</th><td>2</td><td>6790</td><td>2294</td><td>29</td><td>M</td><td>missing</td><td>40.6344</td><td>23.6845</td><td>missing</td></tr><tr><th>13</th><td>2</td><td>3916</td><td>2294</td><td>29</td><td>F</td><td>missing</td><td>34.8618</td><td>16.8684</td><td>missing</td></tr><tr><th>14</th><td>3</td><td>39</td><td>missing</td><td>missing</td><td>F</td><td>missing</td><td>37.2552</td><td>16.397</td><td>missing</td></tr><tr><th>15</th><td>3</td><td>4521</td><td>missing</td><td>missing</td><td>F</td><td>missing</td><td>33.0975</td><td>15.3287</td><td>missing</td></tr><tr><th>16</th><td>3</td><td>8366</td><td>missing</td><td>missing</td><td>M</td><td>missing</td><td>37.916</td><td>20.6693</td><td>missing</td></tr><tr><th>17</th><td>3</td><td>16693</td><td>missing</td><td>missing</td><td>F</td><td>missing</td><td>34.839</td><td>17.6651</td><td>missing</td></tr><tr><th>18</th><td>3</td><td>21688</td><td>8366</td><td>16693</td><td>M</td><td>missing</td><td>36.2022</td><td>21.7773</td><td>missing</td></tr><tr><th>19</th><td>3</td><td>25532</td><td>21688</td><td>39</td><td>F</td><td>missing</td><td>30.9314</td><td>17.8042</td><td>missing</td></tr><tr><th>20</th><td>3</td><td>26294</td><td>21688</td><td>39</td><td>M</td><td>missing</td><td>41.5899</td><td>22.0772</td><td>missing</td></tr><tr><th>21</th><td>3</td><td>16795</td><td>21688</td><td>39</td><td>F</td><td>missing</td><td>31.5552</td><td>17.7989</td><td>missing</td></tr><tr><th>22</th><td>3</td><td>17445</td><td>8366</td><td>16693</td><td>M</td><td>missing</td><td>35.5947</td><td>20.0131</td><td>missing</td></tr><tr><th>23</th><td>3</td><td>2039</td><td>17445</td><td>4521</td><td>M</td><td>missing</td><td>36.048</td><td>17.7814</td><td>missing</td></tr><tr><th>24</th><td>3</td><td>2831</td><td>8366</td><td>16693</td><td>M</td><td>missing</td><td>39.1822</td><td>20.747</td><td>missing</td></tr><tr><th>25</th><td>4</td><td>54</td><td>missing</td><td>missing</td><td>F</td><td>missing</td><td>34.7339</td><td>9.88673</td><td>missing</td></tr><tr><th>26</th><td>4</td><td>5072</td><td>missing</td><td>missing</td><td>M</td><td>missing</td><td>37.5677</td><td>14.2164</td><td>missing</td></tr><tr><th>27</th><td>4</td><td>17240</td><td>5072</td><td>54</td><td>F</td><td>missing</td><td>32.9781</td><td>12.9809</td><td>missing</td></tr><tr><th>28</th><td>5</td><td>70</td><td>missing</td><td>missing</td><td>F</td><td>missing</td><td>40.2272</td><td>21.0772</td><td>missing</td></tr><tr><th>29</th><td>5</td><td>24010</td><td>missing</td><td>missing</td><td>M</td><td>missing</td><td>41.7587</td><td>24.1248</td><td>missing</td></tr><tr><th>30</th><td>5</td><td>21999</td><td>24010</td><td>70</td><td>M</td><td>missing</td><td>45.4635</td><td>27.5554</td><td>missing</td></tr><tr><th>&vellip;</th><td>&vellip;</td><td>&vellip;</td><td>&vellip;</td><td>&vellip;</td><td>&vellip;</td><td>&vellip;</td><td>&vellip;</td><td>&vellip;</td><td>&vellip;</td></tr></tbody></table>"
      ],
      "text/plain": [
       "212×9 DataFrames.DataFrame. Omitted printing of 2 columns\n",
       "│ Row │ famid │ id    │ faid    │ moid    │ sex │ twin    │ simtrait1 │\n",
       "├─────┼───────┼───────┼─────────┼─────────┼─────┼─────────┼───────────┤\n",
       "│ 1   │ 1     │ 16    │ \u001b[90mmissing\u001b[39m │ \u001b[90mmissing\u001b[39m │ F   │ \u001b[90mmissing\u001b[39m │ 30.2056   │\n",
       "│ 2   │ 1     │ 8228  │ \u001b[90mmissing\u001b[39m │ \u001b[90mmissing\u001b[39m │ F   │ \u001b[90mmissing\u001b[39m │ 35.8214   │\n",
       "│ 3   │ 1     │ 17008 │ \u001b[90mmissing\u001b[39m │ \u001b[90mmissing\u001b[39m │ M   │ \u001b[90mmissing\u001b[39m │ 36.053    │\n",
       "│ 4   │ 1     │ 9218  │ 17008   │ 16      │ M   │ \u001b[90mmissing\u001b[39m │ 38.9635   │\n",
       "│ 5   │ 1     │ 3226  │ 9218    │ 8228    │ F   │ \u001b[90mmissing\u001b[39m │ 33.7391   │\n",
       "│ 6   │ 2     │ 29    │ \u001b[90mmissing\u001b[39m │ \u001b[90mmissing\u001b[39m │ F   │ \u001b[90mmissing\u001b[39m │ 34.8884   │\n",
       "│ 7   │ 2     │ 2294  │ \u001b[90mmissing\u001b[39m │ \u001b[90mmissing\u001b[39m │ M   │ \u001b[90mmissing\u001b[39m │ 37.7011   │\n",
       "│ 8   │ 2     │ 3416  │ \u001b[90mmissing\u001b[39m │ \u001b[90mmissing\u001b[39m │ M   │ \u001b[90mmissing\u001b[39m │ 45.1317   │\n",
       "│ 9   │ 2     │ 17893 │ 2294    │ 29      │ F   │ \u001b[90mmissing\u001b[39m │ 35.156    │\n",
       "│ 10  │ 2     │ 6952  │ 3416    │ 17893   │ M   │ \u001b[90mmissing\u001b[39m │ 42.4514   │\n",
       "│ 11  │ 2     │ 14695 │ 2294    │ 29      │ F   │ \u001b[90mmissing\u001b[39m │ 35.6426   │\n",
       "⋮\n",
       "│ 201 │ 31    │ 9277  │ 4257    │ 13772   │ M   │ \u001b[90mmissing\u001b[39m │ 40.0522   │\n",
       "│ 202 │ 31    │ 16139 │ 4257    │ 13772   │ M   │ \u001b[90mmissing\u001b[39m │ 39.3161   │\n",
       "│ 203 │ 31    │ 10439 │ 4257    │ 13772   │ M   │ \u001b[90mmissing\u001b[39m │ 41.7913   │\n",
       "│ 204 │ 31    │ 63    │ 17673   │ 19770   │ F   │ \u001b[90mmissing\u001b[39m │ 36.3301   │\n",
       "│ 205 │ 10006 │ 66    │ \u001b[90mmissing\u001b[39m │ \u001b[90mmissing\u001b[39m │ M   │ \u001b[90mmissing\u001b[39m │ 42.9442   │\n",
       "│ 206 │ 10008 │ 92    │ \u001b[90mmissing\u001b[39m │ \u001b[90mmissing\u001b[39m │ M   │ \u001b[90mmissing\u001b[39m │ 39.8927   │\n",
       "│ 207 │ 10014 │ 186   │ \u001b[90mmissing\u001b[39m │ \u001b[90mmissing\u001b[39m │ M   │ \u001b[90mmissing\u001b[39m │ 42.5795   │\n",
       "│ 208 │ 10027 │ 374   │ \u001b[90mmissing\u001b[39m │ \u001b[90mmissing\u001b[39m │ M   │ \u001b[90mmissing\u001b[39m │ 47.8619   │\n",
       "│ 209 │ 10029 │ 434   │ \u001b[90mmissing\u001b[39m │ \u001b[90mmissing\u001b[39m │ M   │ \u001b[90mmissing\u001b[39m │ 41.0531   │\n",
       "│ 210 │ 10033 │ 333   │ \u001b[90mmissing\u001b[39m │ \u001b[90mmissing\u001b[39m │ M   │ \u001b[90mmissing\u001b[39m │ 39.9502   │\n",
       "│ 211 │ 10040 │ 234   │ \u001b[90mmissing\u001b[39m │ \u001b[90mmissing\u001b[39m │ M   │ \u001b[90mmissing\u001b[39m │ 35.4778   │\n",
       "│ 212 │ 10045 │ 789   │ \u001b[90mmissing\u001b[39m │ \u001b[90mmissing\u001b[39m │ M   │ \u001b[90mmissing\u001b[39m │ 44.3932   │"
      ]
     },
     "execution_count": 3,
     "metadata": {},
     "output_type": "execute_result"
    },
    {
     "name": "stderr",
     "output_type": "stream",
     "text": [
      "\u001b[1m\u001b[33mWARNING: \u001b[39m\u001b[22m\u001b[33mreadtable is deprecated, use CSV.read from the CSV package instead\u001b[39m\n",
      "Stacktrace:\n",
      " [1] \u001b[1mdepwarn\u001b[22m\u001b[22m\u001b[1m(\u001b[22m\u001b[22m::String, ::Symbol\u001b[1m)\u001b[22m\u001b[22m at \u001b[1m./deprecated.jl:70\u001b[22m\u001b[22m\n",
      " [2] \u001b[1m#readtable#232\u001b[22m\u001b[22m\u001b[1m(\u001b[22m\u001b[22m::Bool, ::Char, ::Array{Char,1}, ::Char, ::Array{String,1}, ::Array{String,1}, ::Array{String,1}, ::Bool, ::Int64, ::Array{Symbol,1}, ::Array{Any,1}, ::Bool, ::Char, ::Bool, ::Int64, ::Array{Int64,1}, ::Bool, ::Symbol, ::Bool, ::Bool, ::DataFrames.#readtable, ::String\u001b[1m)\u001b[22m\u001b[22m at \u001b[1m/Users/huazhou/.julia/v0.6/DataFrames/src/deprecated.jl:1045\u001b[22m\u001b[22m\n",
      " [3] \u001b[1m(::DataFrames.#kw##readtable)\u001b[22m\u001b[22m\u001b[1m(\u001b[22m\u001b[22m::Array{Any,1}, ::DataFrames.#readtable, ::String\u001b[1m)\u001b[22m\u001b[22m at \u001b[1m./<missing>:0\u001b[22m\u001b[22m\n",
      " [4] \u001b[1minclude_string\u001b[22m\u001b[22m\u001b[1m(\u001b[22m\u001b[22m::String, ::String\u001b[1m)\u001b[22m\u001b[22m at \u001b[1m./loading.jl:522\u001b[22m\u001b[22m\n",
      " [5] \u001b[1mexecute_request\u001b[22m\u001b[22m\u001b[1m(\u001b[22m\u001b[22m::ZMQ.Socket, ::IJulia.Msg\u001b[1m)\u001b[22m\u001b[22m at \u001b[1m/Users/huazhou/.julia/v0.6/IJulia/src/execute_request.jl:180\u001b[22m\u001b[22m\n",
      " [6] \u001b[1m(::Compat.#inner#14{Array{Any,1},IJulia.#execute_request,Tuple{ZMQ.Socket,IJulia.Msg}})\u001b[22m\u001b[22m\u001b[1m(\u001b[22m\u001b[22m\u001b[1m)\u001b[22m\u001b[22m at \u001b[1m/Users/huazhou/.julia/v0.6/Compat/src/Compat.jl:332\u001b[22m\u001b[22m\n",
      " [7] \u001b[1meventloop\u001b[22m\u001b[22m\u001b[1m(\u001b[22m\u001b[22m::ZMQ.Socket\u001b[1m)\u001b[22m\u001b[22m at \u001b[1m/Users/huazhou/.julia/v0.6/IJulia/src/eventloop.jl:8\u001b[22m\u001b[22m\n",
      " [8] \u001b[1m(::IJulia.##15#18)\u001b[22m\u001b[22m\u001b[1m(\u001b[22m\u001b[22m\u001b[1m)\u001b[22m\u001b[22m at \u001b[1m./task.jl:335\u001b[22m\u001b[22m\n",
      "while loading In[3], in expression starting on line 3\n"
     ]
    }
   ],
   "source": [
    "using DataFrames\n",
    "\n",
    "ped29c = readtable(\"Ped29c.in\", header = false, names = [:famid, :id, :faid, \n",
    "    :moid, :sex, :twin, :simtrait1, :simtrait2, :group])"
   ]
  },
  {
   "cell_type": "markdown",
   "metadata": {},
   "source": [
    "`readtable` function is smart to strip the white spaces in data fields, record missing values, and *guess* the data types of each column."
   ]
  },
  {
   "cell_type": "code",
   "execution_count": 4,
   "metadata": {},
   "outputs": [
    {
     "data": {
      "text/plain": [
       "9-element Array{Type,1}:\n",
       " Union{Int64, Missings.Missing}  \n",
       " Union{Int64, Missings.Missing}  \n",
       " Union{Int64, Missings.Missing}  \n",
       " Union{Int64, Missings.Missing}  \n",
       " Union{Missings.Missing, String} \n",
       " Union{Int64, Missings.Missing}  \n",
       " Union{Float64, Missings.Missing}\n",
       " Union{Float64, Missings.Missing}\n",
       " Union{Int64, Missings.Missing}  "
      ]
     },
     "execution_count": 4,
     "metadata": {},
     "output_type": "execute_result"
    }
   ],
   "source": [
    "eltypes(ped29c)"
   ]
  },
  {
   "cell_type": "markdown",
   "metadata": {},
   "source": [
    "## Explore phenotypes\n",
    "\n",
    "There are two traits in the pedigree file. \n",
    "\n",
    "Summary statistics:"
   ]
  },
  {
   "cell_type": "code",
   "execution_count": 5,
   "metadata": {},
   "outputs": [
    {
     "data": {
      "text/html": [
       "<table class=\"data-frame\"><thead><tr><th></th><th>variable</th><th>mean</th><th>min</th><th>median</th><th>max</th><th>nunique</th><th>nmissing</th><th>eltype</th></tr></thead><tbody><tr><th>1</th><td>simtrait1</td><td>37.8602</td><td>29.2403</td><td>37.6538</td><td>47.8619</td><td></td><td>0</td><td>Float64</td></tr><tr><th>2</th><td>simtrait2</td><td>18.472</td><td>9.2421</td><td>18.534</td><td>27.5554</td><td></td><td>0</td><td>Float64</td></tr></tbody></table>"
      ],
      "text/plain": [
       "2×8 DataFrames.DataFrame. Omitted printing of 1 columns\n",
       "│ Row │ variable  │ mean    │ min     │ median  │ max     │ nunique │ nmissing │\n",
       "├─────┼───────────┼─────────┼─────────┼─────────┼─────────┼─────────┼──────────┤\n",
       "│ 1   │ simtrait1 │ 37.8602 │ 29.2403 │ 37.6538 │ 47.8619 │         │ 0        │\n",
       "│ 2   │ simtrait2 │ 18.472  │ 9.2421  │ 18.534  │ 27.5554 │         │ 0        │"
      ]
     },
     "execution_count": 5,
     "metadata": {},
     "output_type": "execute_result"
    }
   ],
   "source": [
    "describe(ped29c[[:simtrait1, :simtrait2]])"
   ]
  },
  {
   "cell_type": "markdown",
   "metadata": {},
   "source": [
    "Summary statistics stratified by sex."
   ]
  },
  {
   "cell_type": "code",
   "execution_count": 6,
   "metadata": {},
   "outputs": [
    {
     "data": {
      "text/html": [
       "<table class=\"data-frame\"><thead><tr><th></th><th>sex</th><th>n</th><th>mean</th><th>std</th></tr></thead><tbody><tr><th>1</th><td>F</td><td>97</td><td>34.403</td><td>2.22</td></tr><tr><th>2</th><td>M</td><td>115</td><td>40.776</td><td>2.728</td></tr></tbody></table>"
      ],
      "text/plain": [
       "2×4 DataFrames.DataFrame\n",
       "│ Row │ sex │ n   │ mean   │ std   │\n",
       "├─────┼─────┼─────┼────────┼───────┤\n",
       "│ 1   │ F   │ 97  │ 34.403 │ 2.22  │\n",
       "│ 2   │ M   │ 115 │ 40.776 │ 2.728 │"
      ]
     },
     "execution_count": 6,
     "metadata": {},
     "output_type": "execute_result"
    }
   ],
   "source": [
    "by(ped29c, :sex) do df\n",
    "  DataFrame(\n",
    "    n = length(df[:simtrait1]),\n",
    "    mean = round(mean(df[:simtrait1]), 3),\n",
    "    std = round(std(df[:simtrait1]), 3)\n",
    "  )\n",
    "end"
   ]
  },
  {
   "cell_type": "code",
   "execution_count": 7,
   "metadata": {},
   "outputs": [
    {
     "data": {
      "text/html": [
       "<table class=\"data-frame\"><thead><tr><th></th><th>sex</th><th>n</th><th>mean</th><th>std</th></tr></thead><tbody><tr><th>1</th><td>F</td><td>97</td><td>16.095</td><td>2.458</td></tr><tr><th>2</th><td>M</td><td>115</td><td>20.477</td><td>2.674</td></tr></tbody></table>"
      ],
      "text/plain": [
       "2×4 DataFrames.DataFrame\n",
       "│ Row │ sex │ n   │ mean   │ std   │\n",
       "├─────┼─────┼─────┼────────┼───────┤\n",
       "│ 1   │ F   │ 97  │ 16.095 │ 2.458 │\n",
       "│ 2   │ M   │ 115 │ 20.477 │ 2.674 │"
      ]
     },
     "execution_count": 7,
     "metadata": {},
     "output_type": "execute_result"
    }
   ],
   "source": [
    "by(ped29c, :sex) do df\n",
    "  DataFrame(\n",
    "    n = length(df[:simtrait2]),\n",
    "    mean = round(mean(df[:simtrait2]), 3),\n",
    "    std = round(std(df[:simtrait2]), 3)\n",
    "  )\n",
    "end"
   ]
  },
  {
   "cell_type": "markdown",
   "metadata": {},
   "source": [
    "Summary statistics stratified by pedigrees:"
   ]
  },
  {
   "cell_type": "code",
   "execution_count": 8,
   "metadata": {},
   "outputs": [
    {
     "data": {
      "text/html": [
       "<table class=\"data-frame\"><thead><tr><th></th><th>famid</th><th>n</th><th>mean</th><th>std</th></tr></thead><tbody><tr><th>1</th><td>1</td><td>5</td><td>34.957</td><td>3.243</td></tr><tr><th>2</th><td>2</td><td>8</td><td>38.308</td><td>3.966</td></tr><tr><th>3</th><td>3</td><td>11</td><td>35.837</td><td>3.19</td></tr><tr><th>4</th><td>4</td><td>3</td><td>35.093</td><td>2.316</td></tr><tr><th>5</th><td>5</td><td>3</td><td>42.483</td><td>2.692</td></tr><tr><th>6</th><td>8</td><td>6</td><td>36.131</td><td>4.304</td></tr><tr><th>7</th><td>10</td><td>4</td><td>35.304</td><td>1.714</td></tr><tr><th>8</th><td>11</td><td>15</td><td>37.874</td><td>3.98</td></tr><tr><th>9</th><td>14</td><td>6</td><td>39.157</td><td>3.612</td></tr><tr><th>10</th><td>17</td><td>23</td><td>38.712</td><td>2.872</td></tr><tr><th>11</th><td>19</td><td>18</td><td>38.41</td><td>4.343</td></tr><tr><th>12</th><td>22</td><td>10</td><td>37.286</td><td>3.188</td></tr><tr><th>13</th><td>23</td><td>18</td><td>37.833</td><td>5.049</td></tr><tr><th>14</th><td>24</td><td>7</td><td>37.877</td><td>5.042</td></tr><tr><th>15</th><td>25</td><td>13</td><td>36.271</td><td>3.489</td></tr><tr><th>16</th><td>27</td><td>7</td><td>37.459</td><td>3.611</td></tr><tr><th>17</th><td>28</td><td>4</td><td>41.304</td><td>4.815</td></tr><tr><th>18</th><td>29</td><td>7</td><td>36.656</td><td>4.122</td></tr><tr><th>19</th><td>31</td><td>36</td><td>37.963</td><td>4.321</td></tr><tr><th>20</th><td>10006</td><td>1</td><td>42.944</td><td>NaN</td></tr><tr><th>21</th><td>10008</td><td>1</td><td>39.893</td><td>NaN</td></tr><tr><th>22</th><td>10014</td><td>1</td><td>42.58</td><td>NaN</td></tr><tr><th>23</th><td>10027</td><td>1</td><td>47.862</td><td>NaN</td></tr><tr><th>24</th><td>10029</td><td>1</td><td>41.053</td><td>NaN</td></tr><tr><th>25</th><td>10033</td><td>1</td><td>39.95</td><td>NaN</td></tr><tr><th>26</th><td>10040</td><td>1</td><td>35.478</td><td>NaN</td></tr><tr><th>27</th><td>10045</td><td>1</td><td>44.393</td><td>NaN</td></tr></tbody></table>"
      ],
      "text/plain": [
       "27×4 DataFrames.DataFrame\n",
       "│ Row │ famid │ n  │ mean   │ std   │\n",
       "├─────┼───────┼────┼────────┼───────┤\n",
       "│ 1   │ 1     │ 5  │ 34.957 │ 3.243 │\n",
       "│ 2   │ 2     │ 8  │ 38.308 │ 3.966 │\n",
       "│ 3   │ 3     │ 11 │ 35.837 │ 3.19  │\n",
       "│ 4   │ 4     │ 3  │ 35.093 │ 2.316 │\n",
       "│ 5   │ 5     │ 3  │ 42.483 │ 2.692 │\n",
       "│ 6   │ 8     │ 6  │ 36.131 │ 4.304 │\n",
       "│ 7   │ 10    │ 4  │ 35.304 │ 1.714 │\n",
       "│ 8   │ 11    │ 15 │ 37.874 │ 3.98  │\n",
       "│ 9   │ 14    │ 6  │ 39.157 │ 3.612 │\n",
       "│ 10  │ 17    │ 23 │ 38.712 │ 2.872 │\n",
       "│ 11  │ 19    │ 18 │ 38.41  │ 4.343 │\n",
       "⋮\n",
       "│ 16  │ 27    │ 7  │ 37.459 │ 3.611 │\n",
       "│ 17  │ 28    │ 4  │ 41.304 │ 4.815 │\n",
       "│ 18  │ 29    │ 7  │ 36.656 │ 4.122 │\n",
       "│ 19  │ 31    │ 36 │ 37.963 │ 4.321 │\n",
       "│ 20  │ 10006 │ 1  │ 42.944 │ NaN   │\n",
       "│ 21  │ 10008 │ 1  │ 39.893 │ NaN   │\n",
       "│ 22  │ 10014 │ 1  │ 42.58  │ NaN   │\n",
       "│ 23  │ 10027 │ 1  │ 47.862 │ NaN   │\n",
       "│ 24  │ 10029 │ 1  │ 41.053 │ NaN   │\n",
       "│ 25  │ 10033 │ 1  │ 39.95  │ NaN   │\n",
       "│ 26  │ 10040 │ 1  │ 35.478 │ NaN   │\n",
       "│ 27  │ 10045 │ 1  │ 44.393 │ NaN   │"
      ]
     },
     "execution_count": 8,
     "metadata": {},
     "output_type": "execute_result"
    }
   ],
   "source": [
    "by(ped29c, :famid) do df\n",
    "  DataFrame(\n",
    "    n = length(df[:simtrait1]),\n",
    "    mean = round(mean(df[:simtrait1]), 3),\n",
    "    std = round(std(df[:simtrait1]), 3)\n",
    "  )\n",
    "end"
   ]
  },
  {
   "cell_type": "markdown",
   "metadata": {},
   "source": [
    "Graphs always help."
   ]
  },
  {
   "cell_type": "code",
   "execution_count": 9,
   "metadata": {},
   "outputs": [
    {
     "name": "stderr",
     "output_type": "stream",
     "text": [
      "\u001b[1m\u001b[36mINFO: \u001b[39m\u001b[22m\u001b[36mPrecompiling module Gadfly.\n",
      "\u001b[39m\u001b[1m\u001b[91mERROR: \u001b[39m\u001b[22mLoadError: LoadError: \u001b[91mUnable to load \n",
      "\n",
      "_jl_libpango (/Users/huazhou/.julia/v0.6/Homebrew/deps/usr/lib/libpango-1.0.dylib)\n",
      "\n",
      "Please re-run Pkg.build(package), and restart Julia.\u001b[39m\n",
      "Stacktrace:\n",
      " [1] \u001b[1minclude_from_node1\u001b[22m\u001b[22m\u001b[1m(\u001b[22m\u001b[22m::String\u001b[1m)\u001b[22m\u001b[22m at \u001b[1m./loading.jl:576\u001b[22m\u001b[22m\n",
      " [2] \u001b[1minclude\u001b[22m\u001b[22m\u001b[1m(\u001b[22m\u001b[22m::String\u001b[1m)\u001b[22m\u001b[22m at \u001b[1m./sysimg.jl:14\u001b[22m\u001b[22m\n",
      " [3] \u001b[1minclude_from_node1\u001b[22m\u001b[22m\u001b[1m(\u001b[22m\u001b[22m::String\u001b[1m)\u001b[22m\u001b[22m at \u001b[1m./loading.jl:576\u001b[22m\u001b[22m\n",
      " [4] \u001b[1minclude\u001b[22m\u001b[22m\u001b[1m(\u001b[22m\u001b[22m::String\u001b[1m)\u001b[22m\u001b[22m at \u001b[1m./sysimg.jl:14\u001b[22m\u001b[22m\n",
      " [5] \u001b[1manonymous\u001b[22m\u001b[22m at \u001b[1m./<missing>:2\u001b[22m\u001b[22m\n",
      "while loading /Users/huazhou/.julia/v0.6/Cairo/src/../deps/deps.jl, in expression starting on line 22\n",
      "while loading /Users/huazhou/.julia/v0.6/Cairo/src/Cairo.jl, in expression starting on line 9\n",
      "\u001b[1m\u001b[91mERROR: \u001b[39m\u001b[22mLoadError: LoadError: \u001b[91mFailed to precompile Cairo to /Users/huazhou/.julia/lib/v0.6/Cairo.ji.\u001b[39m\n",
      "Stacktrace:\n",
      " [1] \u001b[1mcompilecache\u001b[22m\u001b[22m\u001b[1m(\u001b[22m\u001b[22m::String\u001b[1m)\u001b[22m\u001b[22m at \u001b[1m./loading.jl:710\u001b[22m\u001b[22m\n",
      " [2] \u001b[1m_require\u001b[22m\u001b[22m\u001b[1m(\u001b[22m\u001b[22m::Symbol\u001b[1m)\u001b[22m\u001b[22m at \u001b[1m./loading.jl:463\u001b[22m\u001b[22m\n",
      " [3] \u001b[1mrequire\u001b[22m\u001b[22m\u001b[1m(\u001b[22m\u001b[22m::Symbol\u001b[1m)\u001b[22m\u001b[22m at \u001b[1m./loading.jl:405\u001b[22m\u001b[22m\n",
      " [4] \u001b[1minclude_from_node1\u001b[22m\u001b[22m\u001b[1m(\u001b[22m\u001b[22m::String\u001b[1m)\u001b[22m\u001b[22m at \u001b[1m./loading.jl:576\u001b[22m\u001b[22m\n",
      " [5] \u001b[1minclude\u001b[22m\u001b[22m\u001b[1m(\u001b[22m\u001b[22m::String\u001b[1m)\u001b[22m\u001b[22m at \u001b[1m./sysimg.jl:14\u001b[22m\u001b[22m\n",
      " [6] \u001b[1minclude_from_node1\u001b[22m\u001b[22m\u001b[1m(\u001b[22m\u001b[22m::String\u001b[1m)\u001b[22m\u001b[22m at \u001b[1m./loading.jl:576\u001b[22m\u001b[22m\n",
      " [7] \u001b[1minclude\u001b[22m\u001b[22m\u001b[1m(\u001b[22m\u001b[22m::String\u001b[1m)\u001b[22m\u001b[22m at \u001b[1m./sysimg.jl:14\u001b[22m\u001b[22m\n",
      " [8] \u001b[1manonymous\u001b[22m\u001b[22m at \u001b[1m./<missing>:2\u001b[22m\u001b[22m\n",
      "while loading /Users/huazhou/.julia/v0.6/Compose/src/cairo_backends.jl, in expression starting on line 4\n",
      "while loading /Users/huazhou/.julia/v0.6/Compose/src/Compose.jl, in expression starting on line 161\n",
      "\u001b[1m\u001b[91mERROR: \u001b[39m\u001b[22mLoadError: \u001b[91mFailed to precompile Compose to /Users/huazhou/.julia/lib/v0.6/Compose.ji.\u001b[39m\n",
      "Stacktrace:\n",
      " [1] \u001b[1mcompilecache\u001b[22m\u001b[22m\u001b[1m(\u001b[22m\u001b[22m::String\u001b[1m)\u001b[22m\u001b[22m at \u001b[1m./loading.jl:710\u001b[22m\u001b[22m\n",
      " [2] \u001b[1m_require\u001b[22m\u001b[22m\u001b[1m(\u001b[22m\u001b[22m::Symbol\u001b[1m)\u001b[22m\u001b[22m at \u001b[1m./loading.jl:463\u001b[22m\u001b[22m\n",
      " [3] \u001b[1mrequire\u001b[22m\u001b[22m\u001b[1m(\u001b[22m\u001b[22m::Symbol\u001b[1m)\u001b[22m\u001b[22m at \u001b[1m./loading.jl:405\u001b[22m\u001b[22m\n",
      " [4] \u001b[1minclude_from_node1\u001b[22m\u001b[22m\u001b[1m(\u001b[22m\u001b[22m::String\u001b[1m)\u001b[22m\u001b[22m at \u001b[1m./loading.jl:576\u001b[22m\u001b[22m\n",
      " [5] \u001b[1minclude\u001b[22m\u001b[22m\u001b[1m(\u001b[22m\u001b[22m::String\u001b[1m)\u001b[22m\u001b[22m at \u001b[1m./sysimg.jl:14\u001b[22m\u001b[22m\n",
      " [6] \u001b[1manonymous\u001b[22m\u001b[22m at \u001b[1m./<missing>:2\u001b[22m\u001b[22m\n",
      "while loading /Users/huazhou/.julia/v0.6/Gadfly/src/Gadfly.jl, in expression starting on line 7\n"
     ]
    },
    {
     "ename": "LoadError",
     "evalue": "\u001b[91mFailed to precompile Gadfly to /Users/huazhou/.julia/lib/v0.6/Gadfly.ji.\u001b[39m",
     "output_type": "error",
     "traceback": [
      "\u001b[91mFailed to precompile Gadfly to /Users/huazhou/.julia/lib/v0.6/Gadfly.ji.\u001b[39m",
      "",
      "Stacktrace:",
      " [1] \u001b[1mcompilecache\u001b[22m\u001b[22m\u001b[1m(\u001b[22m\u001b[22m::String\u001b[1m)\u001b[22m\u001b[22m at \u001b[1m./loading.jl:710\u001b[22m\u001b[22m",
      " [2] \u001b[1m_require\u001b[22m\u001b[22m\u001b[1m(\u001b[22m\u001b[22m::Symbol\u001b[1m)\u001b[22m\u001b[22m at \u001b[1m./loading.jl:497\u001b[22m\u001b[22m",
      " [3] \u001b[1mrequire\u001b[22m\u001b[22m\u001b[1m(\u001b[22m\u001b[22m::Symbol\u001b[1m)\u001b[22m\u001b[22m at \u001b[1m./loading.jl:405\u001b[22m\u001b[22m",
      " [4] \u001b[1minclude_string\u001b[22m\u001b[22m\u001b[1m(\u001b[22m\u001b[22m::String, ::String\u001b[1m)\u001b[22m\u001b[22m at \u001b[1m./loading.jl:522\u001b[22m\u001b[22m"
     ]
    }
   ],
   "source": [
    "using Gadfly\n",
    "\n",
    "hstack(\n",
    "    plot(ped29c, x = \"sex\", y = \"simtrait1\", Geom.boxplot),\n",
    "    plot(ped29c, x = \"sex\", y = \"simtrait2\", Geom.boxplot)\n",
    ")"
   ]
  },
  {
   "cell_type": "code",
   "execution_count": 10,
   "metadata": {},
   "outputs": [
    {
     "ename": "LoadError",
     "evalue": "\u001b[91mUndefVarError: hstack not defined\u001b[39m",
     "output_type": "error",
     "traceback": [
      "\u001b[91mUndefVarError: hstack not defined\u001b[39m",
      "",
      "Stacktrace:",
      " [1] \u001b[1minclude_string\u001b[22m\u001b[22m\u001b[1m(\u001b[22m\u001b[22m::String, ::String\u001b[1m)\u001b[22m\u001b[22m at \u001b[1m./loading.jl:522\u001b[22m\u001b[22m"
     ]
    }
   ],
   "source": [
    "hstack(\n",
    "    plot(ped29c, x = \"simtrait1\", color = \"sex\", Geom.histogram(bincount=20, density=true)),\n",
    "    plot(ped29c, x = \"simtrait2\", color = \"sex\", Geom.histogram(bincount=20, density=true))\n",
    ")"
   ]
  },
  {
   "cell_type": "code",
   "execution_count": 11,
   "metadata": {},
   "outputs": [
    {
     "ename": "LoadError",
     "evalue": "\u001b[91mUndefVarError: plot not defined\u001b[39m",
     "output_type": "error",
     "traceback": [
      "\u001b[91mUndefVarError: plot not defined\u001b[39m",
      "",
      "Stacktrace:",
      " [1] \u001b[1minclude_string\u001b[22m\u001b[22m\u001b[1m(\u001b[22m\u001b[22m::String, ::String\u001b[1m)\u001b[22m\u001b[22m at \u001b[1m./loading.jl:522\u001b[22m\u001b[22m"
     ]
    }
   ],
   "source": [
    "plot(ped29c, x = \"simtrait1\", y = \"simtrait2\", Geom.histogram2d(xbincount=10, ybincount=10))"
   ]
  },
  {
   "cell_type": "markdown",
   "metadata": {},
   "source": [
    "## Visualize pedigrees\n",
    "\n",
    "It's desirable to visualize the pedigree structures. Although I don't know of any Julia package capable of pedigree drawing, there are a bunch of pedigree drawing software out there. See a list [here](http://www.soph.uab.edu/ssg/linkage/pedigreedrawing). Fortunately Julia makes it very easy to glue with other languages and programs. Here we show how to draw pedigress **within Julia** using the R package `kinship2`.\n",
    "\n",
    "[`RCall.jl`](https://github.com/JuliaInterop/RCall.jl) is the Julia package that enables running R within Julia. Of course, there should be a working R on your computer and the R package `kinship2` is installed, e.g., by R command\n",
    "```r\n",
    "install.packages(\"kinship2\")\n",
    "```\n",
    "\n",
    "Let's first transfer required data to R."
   ]
  },
  {
   "cell_type": "code",
   "execution_count": 13,
   "metadata": {},
   "outputs": [
    {
     "data": {
      "image/png": "[encoded data removed]"
     },
     "metadata": {},
     "output_type": "display_data"
    },
    {
     "data": {
      "text/plain": [
       "RCall.RObject{RCall.VecSxp}\n",
       "$plist\n",
       "$plist$n\n",
       "[1] 2 7 9\n",
       "\n",
       "$plist$nid\n",
       "     [,1] [,2] [,3] [,4] [,5] [,6] [,7] [,8] [,9]\n",
       "[1,]    2    1    0    0    0    0    0    0    0\n",
       "[2,]    5    6    9   10    4   15    3    0    0\n",
       "[3,]    7    8   11   12   13   14   16   17   18\n",
       "\n",
       "$plist$pos\n",
       "          [,1]     [,2]     [,3]     [,4]     [,5]    [,6]    [,7] [,8] [,9]\n",
       "[1,] 2.6890638 3.689064 0.000000 0.000000 0.000000 0.00000 0.00000    0    0\n",
       "[2,] 0.2818386 1.281839 2.281839 3.281839 4.281839 5.91074 6.91074    0    0\n",
       "[3,] 0.0000000 1.000000 2.000000 3.000000 4.000000 5.00000 6.00000    7    8\n",
       "\n",
       "$plist$fam\n",
       "     [,1] [,2] [,3] [,4] [,5] [,6] [,7] [,8] [,9]\n",
       "[1,]    0    0    0    0    0    0    0    0    0\n",
       "[2,]    0    1    1    1    0    1    0    0    0\n",
       "[3,]    1    1    4    4    4    4    6    6    6\n",
       "\n",
       "$plist$spouse\n",
       "     [,1] [,2] [,3] [,4] [,5] [,6] [,7] [,8] [,9]\n",
       "[1,]    1    0    0    0    0    0    0    0    0\n",
       "[2,]    1    0    0    1    0    1    0    0    0\n",
       "[3,]    0    0    0    0    0    0    0    0    0\n",
       "\n",
       "\n",
       "$x\n",
       " [1] 3.6890638 2.6890638 6.9107397 4.2818386 0.2818386 1.2818386 0.0000000\n",
       " [8] 1.0000000 2.2818386 3.2818386 2.0000000 3.0000000 4.0000000 5.0000000\n",
       "[15] 5.9107397 6.0000000 7.0000000 8.0000000\n",
       "\n",
       "$y\n",
       " [1] 1 1 2 2 2 2 3 3 2 2 3 3 3 3 2 3 3 3\n",
       "\n",
       "$boxw\n",
       "[1] 0.4298893\n",
       "\n",
       "$boxh\n",
       "[1] 0.1972577\n",
       "\n",
       "$call\n",
       "plot.pedigree(x = ped29c[\"19\"])\n",
       "\n"
      ]
     },
     "execution_count": 13,
     "metadata": {},
     "output_type": "execute_result"
    },
    {
     "name": "stderr",
     "output_type": "stream",
     "text": [
      "\u001b[1m\u001b[33mWARNING: \u001b[39m\u001b[22m\u001b[33mRCall.jl: Loading required package: Matrix\n",
      "Loading required package: quadprog\u001b[39m\n"
     ]
    }
   ],
   "source": [
    "# Pkg.add(\"RCall\")\n",
    "using RCall\n",
    "\n",
    "id    = ped29c[:, :id]\n",
    "dadid = ped29c[:, :faid]\n",
    "momid = ped29c[:, :moid]\n",
    "sex   = ped29c[:, :sex]\n",
    "famid = ped29c[:, :famid]\n",
    "\n",
    "@rput id dadid momid sex famid\n",
    "\n",
    "R\"\"\"\n",
    "# install.packages('kinship2', repos = 'http://cran.us.r-project.org')\n",
    "library(kinship2)\n",
    "\n",
    "ped29c = pedigree(id, dadid, momid, sex, famid = famid)\n",
    "# draw pedigree with id '19'\n",
    "plot(ped29c['19'])\n",
    "\"\"\""
   ]
  },
  {
   "cell_type": "markdown",
   "metadata": {},
   "source": [
    "To print all pedigrees into a ps file, use a loop\n",
    "```julia\n",
    "R\"\"\"\n",
    "# draw all pedigrees in a ps file\n",
    "postscript(\"ped29c.ps\")\n",
    "for (p in 1:20) {\n",
    "    plot(ped29c[p])\n",
    "}\n",
    "postscript()\n",
    "\"\"\"\n",
    "```"
   ]
  },
  {
   "cell_type": "markdown",
   "metadata": {},
   "source": [
    "# Explore genetic data using SnpArrays package"
   ]
  },
  {
   "cell_type": "markdown",
   "metadata": {},
   "source": [
    "## Load SNP binary file as SnpArray\n",
    "\n",
    "To read in and manipulate the SNP binary file, which is same as the Plink bed file, we use the `SnpArrays` package."
   ]
  },
  {
   "cell_type": "code",
   "execution_count": 14,
   "metadata": {},
   "outputs": [
    {
     "data": {
      "text/plain": [
       "212×253141 SnpArrays.SnpArray{2}:\n",
       " (true, true)  (true, true)   …  (true, true)    (false, false)\n",
       " (true, true)  (true, true)      (true, true)    (false, false)\n",
       " (true, true)  (true, true)      (true, true)    (false, false)\n",
       " (true, true)  (true, true)      (true, true)    (false, false)\n",
       " (true, true)  (true, true)      (true, true)    (false, false)\n",
       " (true, true)  (true, true)   …  (false, false)  (true, true)  \n",
       " (true, true)  (false, true)     (false, false)  (true, true)  \n",
       " (true, true)  (true, true)      (false, false)  (true, true)  \n",
       " (true, true)  (false, true)     (false, false)  (true, true)  \n",
       " (true, true)  (false, true)     (false, false)  (true, true)  \n",
       " (true, true)  (false, true)  …  (false, false)  (true, true)  \n",
       " (true, true)  (true, true)      (false, false)  (true, true)  \n",
       " (true, true)  (false, true)     (false, false)  (true, true)  \n",
       " ⋮                            ⋱                  ⋮             \n",
       " (true, true)  (true, true)   …  (true, true)    (false, false)\n",
       " (true, true)  (true, true)      (false, true)   (false, true) \n",
       " (true, true)  (true, true)      (true, true)    (false, false)\n",
       " (true, true)  (false, true)     (false, false)  (true, true)  \n",
       " (true, true)  (true, true)      (true, true)    (false, false)\n",
       " (true, true)  (true, true)   …  (false, true)   (false, false)\n",
       " (true, true)  (true, true)      (false, true)   (false, true) \n",
       " (true, true)  (true, true)      (true, true)    (false, false)\n",
       " (true, true)  (false, true)     (false, true)   (false, true) \n",
       " (true, true)  (true, true)      (true, true)    (false, false)\n",
       " (true, true)  (true, true)   …  (true, true)    (false, false)\n",
       " (true, true)  (true, true)      (false, true)   (false, true) "
      ]
     },
     "execution_count": 14,
     "metadata": {},
     "output_type": "execute_result"
    },
    {
     "name": "stderr",
     "output_type": "stream",
     "text": [
      "\u001b[1m\u001b[36mINFO: \u001b[39m\u001b[22m\u001b[36mv1.0 BED file detected\n",
      "\u001b[39m"
     ]
    }
   ],
   "source": [
    "using SnpArrays\n",
    "\n",
    "snpbin29c = SnpArray(\"SNP_data29a_missing\"; people = 212, snps = 253141)"
   ]
  },
  {
   "cell_type": "markdown",
   "metadata": {},
   "source": [
    "`SnpArray` is an array of `Tuple{Bool,Bool}` and adopts the same coding as the [Plink binary format](http://pngu.mgh.harvard.edu/~purcell/plink/binary.shtml). If `A1` and `A2` are the two alleles, the coding rule is  \n",
    "\n",
    "| Genotype | SnpArray |  \n",
    "|:---:|:---:|  \n",
    "| A1,A1 | (false,false) |  \n",
    "| A1,A2 | (false,true) |  \n",
    "| A2,A2 | (true,true) |  \n",
    "| missing | (true,false) |  \n",
    "\n",
    "The code `(true,false)` is reserved for missing genotype. Otherwise, the bit `true` represents one copy of allele `A2`. In a two-dimensional `SnpArray`, each row is a person and each column is a SNP."
   ]
  },
  {
   "cell_type": "markdown",
   "metadata": {},
   "source": [
    "## Summary statistics of genotypes\n",
    "\n",
    "`summarize` function computes the following summary statistics of a `SnpArray`:  \n",
    "\n",
    "* `maf`: minor allele frequencies, taking into account of missingness.  \n",
    "* `minor_allele`: a `BitVector` indicating the minor allele for each SNP.   `minor_allele[j]==true` means A1 is the minor allele for SNP j; `minor_allele[j]==false` means A2 is the minor allele for SNP j.  \n",
    "* `missings_by_snp`: number of missing genotypes for each snp.  \n",
    "* `missings_by_person`: number of missing genotypes for each person.  "
   ]
  },
  {
   "cell_type": "code",
   "execution_count": 15,
   "metadata": {},
   "outputs": [
    {
     "name": "stdout",
     "output_type": "stream",
     "text": [
      "  0.368566 seconds (20.23 k allocations: 4.815 MiB)\n"
     ]
    }
   ],
   "source": [
    "@time maf, minor_allele, missings_by_snp, missings_by_person = summarize(snpbin29c);"
   ]
  },
  {
   "cell_type": "markdown",
   "metadata": {},
   "source": [
    "How many missing genotypes in this data set?"
   ]
  },
  {
   "cell_type": "code",
   "execution_count": 16,
   "metadata": {},
   "outputs": [
    {
     "data": {
      "text/plain": [
       "(536722, 536722)"
      ]
     },
     "execution_count": 16,
     "metadata": {},
     "output_type": "execute_result"
    }
   ],
   "source": [
    "# total number of missing genotypes\n",
    "sum(missings_by_snp), sum(missings_by_person)"
   ]
  },
  {
   "cell_type": "code",
   "execution_count": 17,
   "metadata": {},
   "outputs": [
    {
     "data": {
      "text/plain": [
       "0.010001175420693651"
      ]
     },
     "execution_count": 17,
     "metadata": {},
     "output_type": "execute_result"
    }
   ],
   "source": [
    "# proportion of missing genotypes\n",
    "sum(missings_by_snp) / length(snpbin29c)"
   ]
  },
  {
   "cell_type": "code",
   "execution_count": 18,
   "metadata": {},
   "outputs": [
    {
     "data": {
      "text/plain": [
       "1×253141 RowVector{Float64,Array{Float64,1}}:\n",
       " 0.0167464  0.0825472  0.00943396  0.0861244  …  0.217703  0.28066  0.278302"
      ]
     },
     "execution_count": 18,
     "metadata": {},
     "output_type": "execute_result"
    }
   ],
   "source": [
    "# minor allele frequencies\n",
    "maf'"
   ]
  },
  {
   "cell_type": "code",
   "execution_count": 19,
   "metadata": {},
   "outputs": [
    {
     "ename": "LoadError",
     "evalue": "\u001b[91mUndefVarError: plot not defined\u001b[39m",
     "output_type": "error",
     "traceback": [
      "\u001b[91mUndefVarError: plot not defined\u001b[39m",
      "",
      "Stacktrace:",
      " [1] \u001b[1minclude_string\u001b[22m\u001b[22m\u001b[1m(\u001b[22m\u001b[22m::String, ::String\u001b[1m)\u001b[22m\u001b[22m at \u001b[1m./loading.jl:522\u001b[22m\u001b[22m"
     ]
    }
   ],
   "source": [
    "plot(x = maf, Geom.histogram(bincount=30), Guide.XLabel(\"Minor Allele Frequency\"), Guide.YLabel(\"Count\"))"
   ]
  },
  {
   "cell_type": "markdown",
   "metadata": {},
   "source": [
    "## Filtering\n",
    "\n",
    "In almost all analyses, SNPs and individuals with low genotyping success rates are ignored. This filtering step is an important tool for removing likely false positives from association testing, as genotyping failure often occurs preferentially in cases or controls, or is correlated with the quantitative trait. \n",
    "```julia\n",
    "filter(snparray, min_success_rate_per_snp, min_success_rate_per_person)\n",
    "``` \n",
    "does filtering according to the specified success rates for SNPs and people. Default is 0.98 for both."
   ]
  },
  {
   "cell_type": "code",
   "execution_count": 20,
   "metadata": {},
   "outputs": [
    {
     "data": {
      "text/plain": [
       "(Bool[true, true, true, true, true, true, true, true, true, true  …  true, true, true, true, true, true, true, true, true, true], Bool[true, true, true, true, true, true, true, true, true, true  …  true, true, true, true, true, true, true, true, true, true])"
      ]
     },
     "execution_count": 20,
     "metadata": {},
     "output_type": "execute_result"
    }
   ],
   "source": [
    "# filtering SNPs and people to have both success rates above 0.98\n",
    "snp_idx, person_idx = filter(snpbin29c, 0.98, 0.98)"
   ]
  },
  {
   "cell_type": "code",
   "execution_count": 21,
   "metadata": {},
   "outputs": [
    {
     "data": {
      "text/plain": [
       "212×237163 SnpArrays.SnpArray{2}:\n",
       " (true, true)  (true, true)   …  (true, true)    (false, false)\n",
       " (true, true)  (true, true)      (true, true)    (false, false)\n",
       " (true, true)  (true, true)      (true, true)    (false, false)\n",
       " (true, true)  (true, true)      (true, true)    (false, false)\n",
       " (true, true)  (true, true)      (true, true)    (false, false)\n",
       " (true, true)  (true, true)   …  (false, false)  (true, true)  \n",
       " (true, true)  (false, true)     (false, false)  (true, true)  \n",
       " (true, true)  (true, true)      (false, false)  (true, true)  \n",
       " (true, true)  (false, true)     (false, false)  (true, true)  \n",
       " (true, true)  (false, true)     (false, false)  (true, true)  \n",
       " (true, true)  (false, true)  …  (false, false)  (true, true)  \n",
       " (true, true)  (true, true)      (false, false)  (true, true)  \n",
       " (true, true)  (false, true)     (false, false)  (true, true)  \n",
       " ⋮                            ⋱                                \n",
       " (true, true)  (true, true)   …  (true, true)    (false, false)\n",
       " (true, true)  (true, true)      (false, true)   (false, true) \n",
       " (true, true)  (true, true)      (true, true)    (false, false)\n",
       " (true, true)  (false, true)     (false, false)  (true, true)  \n",
       " (true, true)  (true, true)      (true, true)    (false, false)\n",
       " (true, true)  (true, true)   …  (false, true)   (false, false)\n",
       " (true, true)  (true, true)      (false, true)   (false, true) \n",
       " (true, true)  (true, true)      (true, true)    (false, false)\n",
       " (true, true)  (false, true)     (false, true)   (false, true) \n",
       " (true, true)  (true, true)      (true, true)    (false, false)\n",
       " (true, true)  (true, true)   …  (true, true)    (false, false)\n",
       " (true, true)  (true, true)      (false, true)   (false, true) "
      ]
     },
     "execution_count": 21,
     "metadata": {},
     "output_type": "execute_result"
    }
   ],
   "source": [
    "# summary statistics of the filtered SnpArray\n",
    "snpbin29c_filtered = snpbin29c[person_idx, snp_idx]"
   ]
  },
  {
   "cell_type": "markdown",
   "metadata": {},
   "source": [
    "We see the number of SNPs is reduced from 253,141 to 237,163."
   ]
  },
  {
   "cell_type": "code",
   "execution_count": 22,
   "metadata": {
    "collapsed": true
   },
   "outputs": [],
   "source": [
    "_, _, missings_by_snp_filtered, missings_by_person_filtered = summarize(snpbin29c_filtered);"
   ]
  },
  {
   "cell_type": "code",
   "execution_count": 23,
   "metadata": {},
   "outputs": [
    {
     "data": {
      "text/plain": [
       "0.9811320754716981"
      ]
     },
     "execution_count": 23,
     "metadata": {},
     "output_type": "execute_result"
    }
   ],
   "source": [
    "# minimum SNP genotyping success rate after filtering ≥ 0.98\n",
    "1.0 - maximum(missings_by_snp_filtered) / length(missings_by_person_filtered)"
   ]
  },
  {
   "cell_type": "code",
   "execution_count": 24,
   "metadata": {},
   "outputs": [
    {
     "data": {
      "text/plain": [
       "0.9906182667616786"
      ]
     },
     "execution_count": 24,
     "metadata": {},
     "output_type": "execute_result"
    }
   ],
   "source": [
    "# minimum individual genotyping success rate after filtering ≥ 0.98\n",
    "1.0 - maximum(missings_by_person_filtered) / length(missings_by_snp_filtered)"
   ]
  },
  {
   "cell_type": "markdown",
   "metadata": {},
   "source": [
    "## Subsetting SnpArray\n",
    "\n",
    "Subsetting a SnpArray is pretty much the same as subsetting a regular array."
   ]
  },
  {
   "cell_type": "code",
   "execution_count": 25,
   "metadata": {},
   "outputs": [
    {
     "data": {
      "text/plain": [
       "253141-element SnpArrays.SnpArray{1}:\n",
       " (true, true)  \n",
       " (true, true)  \n",
       " (false, false)\n",
       " (true, true)  \n",
       " (true, true)  \n",
       " (true, true)  \n",
       " (false, false)\n",
       " (true, true)  \n",
       " (true, true)  \n",
       " (false, false)\n",
       " (false, true) \n",
       " (false, false)\n",
       " (true, true)  \n",
       " ⋮             \n",
       " (true, true)  \n",
       " (false, false)\n",
       " (false, true) \n",
       " (false, true) \n",
       " (false, true) \n",
       " (false, true) \n",
       " (false, true) \n",
       " (false, true) \n",
       " (false, false)\n",
       " (false, false)\n",
       " (true, true)  \n",
       " (false, false)"
      ]
     },
     "execution_count": 25,
     "metadata": {},
     "output_type": "execute_result"
    }
   ],
   "source": [
    "# genotypes of the 1st person\n",
    "snpbin29c[1, :]"
   ]
  },
  {
   "cell_type": "code",
   "execution_count": 26,
   "metadata": {},
   "outputs": [
    {
     "data": {
      "text/plain": [
       "212-element SnpArrays.SnpArray{1}:\n",
       " (true, true) \n",
       " (false, true)\n",
       " (true, true) \n",
       " (true, true) \n",
       " (true, true) \n",
       " (true, true) \n",
       " (true, true) \n",
       " (true, true) \n",
       " (true, true) \n",
       " (true, true) \n",
       " (true, true) \n",
       " (true, true) \n",
       " (true, true) \n",
       " ⋮            \n",
       " (true, true) \n",
       " (true, true) \n",
       " (true, true) \n",
       " (false, true)\n",
       " (false, true)\n",
       " (true, true) \n",
       " (false, true)\n",
       " (true, true) \n",
       " (true, true) \n",
       " (true, true) \n",
       " (true, true) \n",
       " (true, true) "
      ]
     },
     "execution_count": 26,
     "metadata": {},
     "output_type": "execute_result"
    }
   ],
   "source": [
    "# genotypes of the 5th SNP\n",
    "snpbin29c[:, 5]"
   ]
  },
  {
   "cell_type": "code",
   "execution_count": 27,
   "metadata": {},
   "outputs": [
    {
     "data": {
      "text/plain": [
       "5×6 SnpArrays.SnpArray{2}:\n",
       " (true, true)   (true, true)  (false, false)  …  (true, true)  (false, false)\n",
       " (false, true)  (true, true)  (false, false)     (true, true)  (false, false)\n",
       " (true, true)   (true, true)  (false, false)     (true, true)  (false, false)\n",
       " (true, true)   (true, true)  (false, false)     (true, true)  (false, false)\n",
       " (true, true)   (true, true)  (false, false)     (true, true)  (false, false)"
      ]
     },
     "execution_count": 27,
     "metadata": {},
     "output_type": "execute_result"
    }
   ],
   "source": [
    "# subsetting both persons and SNPs\n",
    "snpbin29c[1:5, 5:10]"
   ]
  },
  {
   "cell_type": "code",
   "execution_count": 28,
   "metadata": {},
   "outputs": [
    {
     "data": {
      "text/plain": [
       "212×138493 SnpArrays.SnpArray{2}:\n",
       " (true, true)   (true, true)   …  (true, true)    (false, false)\n",
       " (true, true)   (false, true)     (true, true)    (false, false)\n",
       " (true, true)   (true, true)      (true, true)    (false, false)\n",
       " (true, true)   (true, true)      (true, true)    (false, false)\n",
       " (true, true)   (true, true)      (true, true)    (false, false)\n",
       " (true, true)   (true, true)   …  (false, false)  (true, true)  \n",
       " (false, true)  (true, true)      (false, false)  (true, true)  \n",
       " (true, true)   (true, true)      (false, false)  (true, true)  \n",
       " (false, true)  (true, true)      (false, false)  (true, true)  \n",
       " (false, true)  (true, true)      (false, false)  (true, true)  \n",
       " (false, true)  (true, true)   …  (false, false)  (true, true)  \n",
       " (true, true)   (true, true)      (false, false)  (true, true)  \n",
       " (false, true)  (true, true)      (false, false)  (true, true)  \n",
       " ⋮                             ⋱                                \n",
       " (true, true)   (true, true)   …  (true, true)    (false, false)\n",
       " (true, true)   (true, true)      (false, true)   (false, true) \n",
       " (true, true)   (true, true)      (true, true)    (false, false)\n",
       " (false, true)  (false, true)     (false, false)  (true, true)  \n",
       " (true, true)   (false, true)     (true, true)    (false, false)\n",
       " (true, true)   (true, true)   …  (false, true)   (false, false)\n",
       " (true, true)   (false, true)     (false, true)   (false, true) \n",
       " (true, true)   (true, true)      (true, true)    (false, false)\n",
       " (false, true)  (true, true)      (false, true)   (false, true) \n",
       " (true, true)   (true, true)      (true, true)    (false, false)\n",
       " (true, true)   (true, true)   …  (true, true)    (false, false)\n",
       " (true, true)   (true, true)      (false, true)   (false, true) "
      ]
     },
     "execution_count": 28,
     "metadata": {},
     "output_type": "execute_result"
    }
   ],
   "source": [
    "# filter out rare SNPs with MAF < 0.05\n",
    "snpbin29c[:, maf .≥ 0.05]"
   ]
  },
  {
   "cell_type": "code",
   "execution_count": 29,
   "metadata": {},
   "outputs": [
    {
     "data": {
      "text/plain": [
       "212×253141 SnpArrays.SnpArray{2}:\n",
       " (true, true)  (true, true)   …  (true, true)    (false, false)\n",
       " (true, true)  (true, true)      (true, true)    (false, false)\n",
       " (true, true)  (true, true)      (true, true)    (false, false)\n",
       " (true, true)  (true, true)      (true, true)    (false, false)\n",
       " (true, true)  (true, true)      (true, true)    (false, false)\n",
       " (true, true)  (true, true)   …  (false, false)  (true, true)  \n",
       " (true, true)  (false, true)     (false, false)  (true, true)  \n",
       " (true, true)  (true, true)      (false, false)  (true, true)  \n",
       " (true, true)  (false, true)     (false, false)  (true, true)  \n",
       " (true, true)  (false, true)     (false, false)  (true, true)  \n",
       " (true, true)  (false, true)  …  (false, false)  (true, true)  \n",
       " (true, true)  (true, true)      (false, false)  (true, true)  \n",
       " (true, true)  (false, true)     (false, false)  (true, true)  \n",
       " ⋮                            ⋱                  ⋮             \n",
       " (true, true)  (true, true)   …  (true, true)    (false, false)\n",
       " (true, true)  (true, true)      (false, true)   (false, true) \n",
       " (true, true)  (true, true)      (true, true)    (false, false)\n",
       " (true, true)  (false, true)     (false, false)  (true, true)  \n",
       " (true, true)  (true, true)      (true, true)    (false, false)\n",
       " (true, true)  (true, true)   …  (false, true)   (false, false)\n",
       " (true, true)  (true, true)      (false, true)   (false, true) \n",
       " (true, true)  (true, true)      (true, true)    (false, false)\n",
       " (true, true)  (false, true)     (false, true)   (false, true) \n",
       " (true, true)  (true, true)      (true, true)    (false, false)\n",
       " (true, true)  (true, true)   …  (true, true)    (false, false)\n",
       " (true, true)  (true, true)      (false, true)   (false, true) "
      ]
     },
     "execution_count": 29,
     "metadata": {},
     "output_type": "execute_result"
    }
   ],
   "source": [
    "# filter out individuals with genotyping success rate < 0.90\n",
    "snpbin29c[missings_by_person / size(snpbin29c, 2) .< 0.1, :]"
   ]
  },
  {
   "cell_type": "markdown",
   "metadata": {},
   "source": [
    "`view()` creates views of subarray without copying data and improve efficiency in many calculations."
   ]
  },
  {
   "cell_type": "code",
   "execution_count": 30,
   "metadata": {},
   "outputs": [
    {
     "data": {
      "text/plain": [
       "1×138493 RowVector{Float64,Array{Float64,1}}:\n",
       " 0.0825472  0.0861244  0.0853081  0.0592417  …  0.217703  0.28066  0.278302"
      ]
     },
     "execution_count": 30,
     "metadata": {},
     "output_type": "execute_result"
    }
   ],
   "source": [
    "mafcommon, = summarize(view(snpbin29c, :, maf .≥ 0.05))\n",
    "mafcommon'"
   ]
  },
  {
   "cell_type": "markdown",
   "metadata": {},
   "source": [
    "## Convert SnpArray to numeric array\n",
    "\n",
    "In most analyses we convert a whole `SnpArray` or slices of it to numeric arrays (matrix of **minor allele counts**) for statistical analysis."
   ]
  },
  {
   "cell_type": "code",
   "execution_count": 31,
   "metadata": {},
   "outputs": [
    {
     "data": {
      "text/plain": [
       "212×253141 Array{Float64,2}:\n",
       " 0.0  0.0  0.0  0.0  0.0  0.0    0.0  …    1.0    1.0  0.0  0.0  0.0  0.0\n",
       " 0.0  0.0  0.0  1.0  1.0  0.0    0.0       0.0    0.0  0.0  0.0  0.0  0.0\n",
       " 0.0  0.0  0.0  0.0  0.0  0.0    0.0       2.0    1.0  0.0  0.0  0.0  0.0\n",
       " 0.0  0.0  0.0  0.0  0.0  0.0    0.0       1.0    0.0  0.0  0.0  0.0  0.0\n",
       " 0.0  0.0  0.0  0.0  0.0  0.0    0.0       0.0    0.0  0.0  0.0  0.0  0.0\n",
       " 0.0  0.0  0.0  0.0  0.0  0.0    0.0  …    0.0    2.0  0.0  0.0  2.0  2.0\n",
       " 0.0  1.0  0.0  0.0  0.0  0.0    0.0       1.0    0.0  0.0  2.0  2.0  2.0\n",
       " 0.0  0.0  0.0  0.0  0.0  0.0    0.0       1.0    0.0  0.0  2.0  2.0  2.0\n",
       " 0.0  1.0  0.0  0.0  0.0  0.0    0.0     NaN      1.0  0.0  1.0  2.0  2.0\n",
       " 0.0  1.0  0.0  0.0  0.0  0.0    0.0       2.0    0.0  0.0  2.0  2.0  2.0\n",
       " 0.0  1.0  0.0  0.0  0.0  0.0    0.0  …    0.0    1.0  0.0  1.0  2.0  2.0\n",
       " 0.0  0.0  0.0  0.0  0.0  0.0  NaN         0.0    1.0  0.0  1.0  2.0  2.0\n",
       " 0.0  1.0  0.0  0.0  0.0  0.0    0.0       1.0    1.0  0.0  1.0  2.0  2.0\n",
       " ⋮                        ⋮           ⋱    ⋮                          ⋮  \n",
       " 0.0  0.0  0.0  0.0  0.0  0.0    0.0  …    0.0    0.0  0.0  0.0  0.0  0.0\n",
       " 0.0  0.0  0.0  0.0  0.0  0.0    0.0       0.0  NaN    0.0  1.0  1.0  1.0\n",
       " 0.0  0.0  0.0  0.0  0.0  0.0    0.0       0.0    1.0  0.0  0.0  0.0  0.0\n",
       " 0.0  1.0  0.0  1.0  1.0  0.0    0.0       1.0    0.0  0.0  2.0  2.0  2.0\n",
       " 0.0  0.0  0.0  1.0  1.0  0.0    0.0       1.0    0.0  0.0  0.0  0.0  0.0\n",
       " 0.0  0.0  0.0  0.0  0.0  0.0    0.0  …    1.0    0.0  0.0  1.0  1.0  0.0\n",
       " 0.0  0.0  0.0  1.0  1.0  0.0    0.0       1.0    0.0  0.0  0.0  1.0  1.0\n",
       " 0.0  0.0  0.0  0.0  0.0  0.0  NaN         0.0    0.0  0.0  0.0  0.0  0.0\n",
       " 0.0  1.0  0.0  0.0  0.0  0.0    0.0       1.0    0.0  0.0  0.0  1.0  1.0\n",
       " 0.0  0.0  0.0  0.0  0.0  0.0    0.0       0.0    0.0  0.0  0.0  0.0  0.0\n",
       " 0.0  0.0  0.0  0.0  0.0  0.0    0.0  …    1.0    0.0  0.0  0.0  0.0  0.0\n",
       " 0.0  0.0  0.0  0.0  0.0  0.0    0.0       0.0    0.0  0.0  1.0  1.0  1.0"
      ]
     },
     "execution_count": 31,
     "metadata": {},
     "output_type": "execute_result"
    },
    {
     "name": "stdout",
     "output_type": "stream",
     "text": [
      "  1.525680 seconds (865.81 k allocations: 472.697 MiB, 13.06% gc time)\n"
     ]
    }
   ],
   "source": [
    "# convert to a matrix of double precision numbers\n",
    "@time snpbin29c_f64 = convert(Matrix{Float64}, snpbin29c)"
   ]
  },
  {
   "cell_type": "markdown",
   "metadata": {},
   "source": [
    "We can see missing genotypes are converted to `NaN` appropriately."
   ]
  },
  {
   "cell_type": "code",
   "execution_count": 32,
   "metadata": {},
   "outputs": [
    {
     "data": {
      "text/plain": [
       "(536722, 536722)"
      ]
     },
     "execution_count": 32,
     "metadata": {},
     "output_type": "execute_result"
    }
   ],
   "source": [
    "# number of missing genotypes\n",
    "countnz(isnan.(snpbin29c)), countnz(isnan.(snpbin29c_f64))"
   ]
  },
  {
   "cell_type": "markdown",
   "metadata": {},
   "source": [
    "We can also convert genotypes to a sparse matrix."
   ]
  },
  {
   "cell_type": "code",
   "execution_count": 33,
   "metadata": {},
   "outputs": [
    {
     "data": {
      "text/plain": [
       "212×253141 SparseMatrixCSC{Float32,UInt32} with 12173883 stored entries:\n",
       "  [113   ,      1]  =  1.0\n",
       "  [118   ,      1]  =  1.0\n",
       "  [119   ,      1]  =  1.0\n",
       "  [120   ,      1]  =  1.0\n",
       "  [121   ,      1]  =  1.0\n",
       "  [123   ,      1]  =  1.0\n",
       "  [125   ,      1]  =  1.0\n",
       "  [7     ,      2]  =  1.0\n",
       "  [9     ,      2]  =  1.0\n",
       "  [10    ,      2]  =  1.0\n",
       "  ⋮\n",
       "  [190   , 253141]  =  1.0\n",
       "  [193   , 253141]  =  1.0\n",
       "  [194   , 253141]  =  1.0\n",
       "  [197   , 253141]  =  1.0\n",
       "  [198   , 253141]  =  2.0\n",
       "  [199   , 253141]  =  1.0\n",
       "  [202   , 253141]  =  1.0\n",
       "  [204   , 253141]  =  2.0\n",
       "  [207   , 253141]  =  1.0\n",
       "  [209   , 253141]  =  1.0\n",
       "  [212   , 253141]  =  1.0"
      ]
     },
     "execution_count": 33,
     "metadata": {},
     "output_type": "execute_result"
    }
   ],
   "source": [
    "# convert to SparseMatrixCSC{Float32, UInt32} matrix\n",
    "@time snpbin29c_f32sp = convert(SparseMatrixCSC{Float32, UInt32}, snpbin29c)"
   ]
  },
  {
   "cell_type": "markdown",
   "metadata": {},
   "source": [
    "One can enforce **crude imputation** by setting the optional argument `impute=true`. Imputation is done by generating two random alleles according to the minor allele frequency. This is a neutral but not an optimal strategy, and users should impute missing genotypes by more advanced methods."
   ]
  },
  {
   "cell_type": "code",
   "execution_count": 34,
   "metadata": {},
   "outputs": [
    {
     "data": {
      "text/plain": [
       "0"
      ]
     },
     "execution_count": 34,
     "metadata": {},
     "output_type": "execute_result"
    },
    {
     "name": "stdout",
     "output_type": "stream",
     "text": [
      "  1.347064 seconds (302.21 k allocations: 144.884 MiB, 1.75% gc time)\n"
     ]
    }
   ],
   "source": [
    "snpbin29c_f64impute = convert(Matrix{Float64}, snpbin29c; impute = true)\n",
    "countnz(isnan.(snpbin29c_f64impute))"
   ]
  },
  {
   "cell_type": "markdown",
   "metadata": {},
   "source": [
    "By default `convert()` translates genotypes according to the *additive* SNP model, which essentially counts the number of **minor allele** (0, 1 or 2) per genotype. Other SNP models are *dominant* and *recessive*, both in terms of the **minor allele**. When `A1` is the minor allele, genotypes are translated to real number according to\n",
    "\n",
    "| Genotype | `SnpArray` | `model=:additive` | `model=:dominant` | `model=:recessive` |    \n",
    "|:---:|:---:|:---:|:---:|:---:|  \n",
    "| A1,A1 | (false,false) | 2 | 1 | 1 |  \n",
    "| A1,A2 | (false,true) | 1 | 1 | 0 |  \n",
    "| A2,A2 | (true,true) | 0 | 0 | 0 |  \n",
    "| missing | (true,false) | NaN | NaN | NaN | \n",
    "\n",
    "When `A2` is the minor allele, genotypes are translated according to\n",
    "\n",
    "| Genotype | `SnpArray` | `model=:additive` | `model=:dominant` | `model=:recessive` |    \n",
    "|:---:|:---:|:---:|:---:|:---:|  \n",
    "| A1,A1 | (false,false) | 0 | 0 | 0 |  \n",
    "| A1,A2 | (false,true) | 1 | 1 | 0 |  \n",
    "| A2,A2 | (true,true) | 2 | 1 | 1 |  \n",
    "| missing | (true,false) | NaN | NaN | NaN |"
   ]
  },
  {
   "cell_type": "code",
   "execution_count": 35,
   "metadata": {},
   "outputs": [
    {
     "data": {
      "text/plain": [
       "10×3 Array{Float64,2}:\n",
       " 0.0  0.0  0.0\n",
       " 1.0  1.0  0.0\n",
       " 0.0  0.0  0.0\n",
       " 0.0  0.0  0.0\n",
       " 0.0  0.0  0.0\n",
       " 0.0  0.0  0.0\n",
       " 0.0  0.0  0.0\n",
       " 0.0  0.0  0.0\n",
       " 0.0  0.0  0.0\n",
       " 0.0  0.0  0.0"
      ]
     },
     "execution_count": 35,
     "metadata": {},
     "output_type": "execute_result"
    }
   ],
   "source": [
    "[convert(Vector{Float64}, snpbin29c[1:10, 5]; model = :additive) convert(Vector{Float64}, snpbin29c[1:10, 5]; model = :dominant) convert(Vector{Float64}, snpbin29c[1:10, 5]; model = :recessive)]"
   ]
  },
  {
   "cell_type": "markdown",
   "metadata": {},
   "source": [
    "By default `convert()` does **not** center and scale genotypes. Setting the optional arguments `center=true, scale=true` centers genotypes at 2MAF and scales them by $[2 \\cdot \\text{MAF} \\cdot (1 - \\text{MAF})]^{-1/2}$. Mono-allelic SNPs (MAF=0) are not scaled."
   ]
  },
  {
   "cell_type": "code",
   "execution_count": 36,
   "metadata": {},
   "outputs": [
    {
     "data": {
      "text/plain": [
       "212×2 Array{Float64,2}:\n",
       " 0.0  -0.431889\n",
       " 1.0   2.09946 \n",
       " 0.0  -0.431889\n",
       " 0.0  -0.431889\n",
       " 0.0  -0.431889\n",
       " 0.0  -0.431889\n",
       " 0.0  -0.431889\n",
       " 0.0  -0.431889\n",
       " 0.0  -0.431889\n",
       " 0.0  -0.431889\n",
       " 0.0  -0.431889\n",
       " 0.0  -0.431889\n",
       " 0.0  -0.431889\n",
       " ⋮             \n",
       " 0.0  -0.431889\n",
       " 0.0  -0.431889\n",
       " 0.0  -0.431889\n",
       " 1.0   2.09946 \n",
       " 1.0   2.09946 \n",
       " 0.0  -0.431889\n",
       " 1.0   2.09946 \n",
       " 0.0  -0.431889\n",
       " 0.0  -0.431889\n",
       " 0.0  -0.431889\n",
       " 0.0  -0.431889\n",
       " 0.0  -0.431889"
      ]
     },
     "execution_count": 36,
     "metadata": {},
     "output_type": "execute_result"
    }
   ],
   "source": [
    "[convert(Vector{Float64}, snpbin29c[:, 5]) convert(Vector{Float64}, snpbin29c[:, 5]; center = true, scale = true)]"
   ]
  },
  {
   "cell_type": "markdown",
   "metadata": {},
   "source": [
    "`copy!()` is the in-place version of `convert()`. Options such as GWAS loop over SNPs and perform statistical anlaysis for each SNP. This can be achieved by"
   ]
  },
  {
   "cell_type": "code",
   "execution_count": 37,
   "metadata": {
    "collapsed": true
   },
   "outputs": [],
   "source": [
    "g = zeros(size(snpbin29c, 1))\n",
    "for j = 1:size(snpbin29c, 1)\n",
    "    copy!(g, snpbin29c[:, j]; model = :additive, impute = true)\n",
    "    # do statistical anlaysis\n",
    "end"
   ]
  },
  {
   "cell_type": "markdown",
   "metadata": {},
   "source": [
    "## Empirical kinship matrix\n",
    "\n",
    "`grm` function computes the empirical kinship matrix using either the genetic relationship matrix, `grm(A, model=:GRM)`, or the method of moment method, `grm(A, model=:MoM)`. \n",
    "\n",
    "!!! note\n",
    "\n",
    "    Missing genotypes are imputed according to minor allele frequencies on the fly.  \n",
    "    \n",
    "\n",
    "By default, grm exlcude SNPs with minor allele frequency below 0.01. This can be changed by the keyword argument `maf_threshold`."
   ]
  },
  {
   "cell_type": "code",
   "execution_count": 38,
   "metadata": {},
   "outputs": [
    {
     "data": {
      "text/plain": [
       "212×212 Array{Float64,2}:\n",
       "  0.489216      0.00430479    0.00972634   …   0.0186021     0.000280103\n",
       "  0.00430479    0.514616     -0.0184286       -0.0210257    -0.0158659  \n",
       "  0.00972634   -0.0184286     0.488812        -0.0142704    -0.00394685 \n",
       "  0.237699     -0.00233292    0.261724         0.00220617   -0.00347567 \n",
       "  0.122718      0.25948       0.118353        -0.0117126    -0.00651172 \n",
       " -0.0119808    -0.000116513  -0.00326495   …  -0.000572576   0.0100085  \n",
       " -0.0116259     0.00776616   -0.0089349       -0.0103113     0.000358587\n",
       " -0.0135931    -0.00687429   -0.00993126      -0.0113643    -0.00289315 \n",
       " -0.0109984     0.004424     -0.0113784       -0.0242187    -0.00707814 \n",
       " -0.0125495    -0.00553273   -0.0121301       -0.00556905   -0.0101538  \n",
       " -0.0127842     0.00953044    0.00100688   …  -0.00415399    0.0120567  \n",
       " -0.0119547     0.00283785   -0.00734521      -0.0102494     0.00506417 \n",
       " -0.0228409    -0.00253701   -0.0103766        0.000324724   0.0156729  \n",
       "  ⋮                                        ⋱   ⋮                        \n",
       "  0.00051225   -0.00793027   -0.0132628    …   0.00193935   -0.0189193  \n",
       "  0.00308894    0.00119423   -0.0136218       -0.000936087   0.0041167  \n",
       " -0.0130754    -0.0240165    -0.00389527      -0.0166928    -0.0116853  \n",
       " -0.0158972    -0.0140001    -0.0131009       -0.022418      9.53994e-5 \n",
       " -0.00210167    0.0116789    -0.00308607      -0.00311013   -0.0029923  \n",
       "  0.00325575   -0.00176114   -0.00349184   …   0.0234046     0.0218348  \n",
       " -0.0130659    -0.00696441    0.000313259     -0.0115985     0.00745547 \n",
       "  0.0130057     0.0145302     0.0141509        0.00502642    0.00978868 \n",
       " -0.00762659   -0.00260651    0.0223406        0.00672295   -0.0154474  \n",
       "  0.000360476  -0.0138548     0.0105211        0.00482527    0.00887318 \n",
       "  0.0186021    -0.0210257    -0.0142704    …   0.55582       0.0370089  \n",
       "  0.000280103  -0.0158659    -0.00394685       0.0370089     0.502968   "
      ]
     },
     "execution_count": 38,
     "metadata": {},
     "output_type": "execute_result"
    }
   ],
   "source": [
    "# GRM using all SNPs with maf > 0.01\n",
    "# same as: grm(snpbin29c; method = :GRM, maf_threshold = 0.01)\n",
    "@time grm(snpbin29c)"
   ]
  },
  {
   "cell_type": "code",
   "execution_count": 39,
   "metadata": {},
   "outputs": [
    {
     "name": "stdout",
     "output_type": "stream",
     "text": [
      "  1.751252 seconds (748.98 k allocations: 376.119 MiB, 0.94% gc time)\n"
     ]
    },
    {
     "data": {
      "text/plain": [
       "212×212 Array{Float64,2}:\n",
       "  0.492524      0.0034593     0.00831293   …   0.0197826    -0.000970022\n",
       "  0.0034593     0.51717      -0.0192525       -0.0226823    -0.0158729  \n",
       "  0.00831293   -0.0192525     0.488356        -0.014646     -0.00462821 \n",
       "  0.237801     -0.00362177    0.260912         0.00116747   -0.00470483 \n",
       "  0.121904      0.257268      0.118455        -0.0127174    -0.00678337 \n",
       " -0.0122234     0.00161573   -0.00402736   …  -0.000109864   0.0102046  \n",
       " -0.0131553     0.00816671   -0.00846253      -0.0107756     0.00292801 \n",
       " -0.012487     -0.006166     -0.0105293       -0.0116448    -0.00253754 \n",
       " -0.0114752     0.00571864   -0.0106549       -0.0243717    -0.00657008 \n",
       " -0.012875     -0.00345958   -0.0115046       -0.00651311   -0.0094507  \n",
       " -0.0133111     0.0110571     0.000585942  …  -0.00375205    0.0144102  \n",
       " -0.0142645     0.00272741   -0.00668676      -0.0105297     0.0066566  \n",
       " -0.0239554    -0.00120488   -0.0101325        0.00137747    0.0195634  \n",
       "  ⋮                                        ⋱   ⋮                        \n",
       "  0.000286599  -0.00867367   -0.0142636    …   0.00244394   -0.0189137  \n",
       "  0.00355083    0.000156179  -0.0159826        0.00017415    0.00306219 \n",
       " -0.0116683    -0.0245182    -0.00475325      -0.0165561    -0.0117075  \n",
       " -0.0157848    -0.0135691    -0.0134875       -0.0224465    -0.000670239\n",
       " -0.000568524   0.00940608   -0.00271422      -0.00159936   -0.00206423 \n",
       "  0.00231492   -0.00162265   -0.00369499   …   0.0241445     0.0228457  \n",
       " -0.0140576    -0.00700398    0.00192339      -0.0122199     0.00831013 \n",
       "  0.0137316     0.015878      0.0144899        0.00541263    0.0103463  \n",
       " -0.00777765   -0.00214397    0.0235848        0.00724374   -0.014915   \n",
       " -0.000205408  -0.0144749     0.0110156        0.00438734    0.00912    \n",
       "  0.0197826    -0.0226823    -0.014646     …   0.55745       0.0374384  \n",
       " -0.000970022  -0.0158729    -0.00462821       0.0374384     0.507694   "
      ]
     },
     "execution_count": 39,
     "metadata": {},
     "output_type": "execute_result"
    }
   ],
   "source": [
    "# GRM using every other SNP with maf > 0.01\n",
    "@time grm(view(snpbin29c, :, 1:2:size(snpbin29c, 2)))"
   ]
  },
  {
   "cell_type": "code",
   "execution_count": 40,
   "metadata": {},
   "outputs": [
    {
     "data": {
      "text/plain": [
       "212×212 Array{Float64,2}:\n",
       "  0.506411     0.00392433    0.0241699    …  -0.0079929    0.00257322 \n",
       "  0.00392433   0.507562     -0.0165112       -0.0583429   -0.0185062  \n",
       "  0.0241699   -0.0165112     0.504205        -0.0490751   -0.000129002\n",
       "  0.237677    -0.0192557     0.26243         -0.0440296   -0.0187912  \n",
       "  0.10872      0.236294      0.112731        -0.0687718   -0.0168385  \n",
       " -0.00575512   0.00437822    0.00617267   …  -0.0287662    0.0210982  \n",
       " -0.0169335    0.00805156   -0.00741234      -0.0448529   -0.00217678 \n",
       " -0.0115712   -0.00222956   -0.0129012       -0.0384351    0.00104267 \n",
       " -0.00350678   0.0152821     0.004811        -0.0556196    0.00868489 \n",
       " -0.0178729   -0.0103785    -0.0165112       -0.0403774   -0.0165957  \n",
       " -0.0194246   -0.000551224   0.00425156   …  -0.0511863    0.007091   \n",
       " -0.00407678   0.00835767    0.00674267      -0.0394801    0.0142899  \n",
       " -0.0266446    0.006046     -0.00616678      -0.0293257    0.0171716  \n",
       "  ⋮                                       ⋱   ⋮                       \n",
       "  0.00256267   0.00720711   -0.00889012   …  -0.0119512   -0.014189   \n",
       "  0.001676     0.00195044   -0.020459        -0.0342974    0.000356554\n",
       " -0.00726456  -0.0177885     0.00834712      -0.0433963   -0.0081829  \n",
       " -0.0213985   -0.0143157    -0.0231085       -0.0587124   -0.00678956 \n",
       "  0.00371322   0.0207921     0.00345989      -0.0307718   -0.000646224\n",
       " -0.0103468   -0.021504     -0.0150757    …  -0.0238685    0.000873777\n",
       " -0.0205962   -0.0114023    -0.00531178      -0.0551446    0.000958221\n",
       "  0.0248243    0.0245816     0.024191        -0.0178518    0.0251516  \n",
       " -0.018749    -0.0184851     0.0234205       -0.0361551   -0.030624   \n",
       "  0.00203489  -0.00953401    0.0213516       -0.0242274    0.0209505  \n",
       " -0.0079929   -0.0583429    -0.0490751    …   0.500711     0.00336489 \n",
       "  0.00257322  -0.0185062    -0.000129002      0.00336489   0.494378   "
      ]
     },
     "execution_count": 40,
     "metadata": {},
     "output_type": "execute_result"
    },
    {
     "name": "stdout",
     "output_type": "stream",
     "text": [
      "  0.882744 seconds (381.27 k allocations: 188.390 MiB, 3.17% gc time)\n"
     ]
    }
   ],
   "source": [
    "# MoM using all SNPs with maf > 0.01\n",
    "grm(snpbin29c; method = :MoM)"
   ]
  },
  {
   "cell_type": "markdown",
   "metadata": {},
   "source": [
    "## Read in SNP definition file\n",
    "\n",
    "The SNP definition file `SNP_def29a.in` contains the SNP information. "
   ]
  },
  {
   "cell_type": "code",
   "execution_count": 41,
   "metadata": {},
   "outputs": [
    {
     "name": "stdout",
     "output_type": "stream",
     "text": [
      "    3.00  = FILE FORMAT VERSION NUMBER.\n",
      " \n",
      "rs3020701       ,19,           90974,   1,   2\n",
      "rs56343121      ,19,           91106,   1,   2\n",
      "rs143501051     ,19,           93542,   1,   2\n",
      "rs56182540      ,19,           95981,   1,   2\n",
      "rs7260412       ,19,          105021,   1,   2\n",
      "rs11669393      ,19,          107866,   1,   2\n",
      "rs181646587     ,19,          107894,   1,   2\n",
      "rs8106297       ,19,          107958,   1,   2\n"
     ]
    }
   ],
   "source": [
    ";head SNP_def29a.in"
   ]
  },
  {
   "cell_type": "markdown",
   "metadata": {},
   "source": [
    "We use the Julia base function [`readcsv`](https://docs.julialang.org/en/stable/stdlib/io-network/#Base.DataFmt.readcsv) to read in the SNP definition file in a dataframe. The keyword `skipstart = 2` instructs Julia to skip the first 2 lines."
   ]
  },
  {
   "cell_type": "code",
   "execution_count": 42,
   "metadata": {},
   "outputs": [
    {
     "data": {
      "text/plain": [
       "253141×6 Array{Any,2}:\n",
       " \"rs3020701       \"  19     90974  1  2  \"\"\n",
       " \"rs56343121      \"  19     91106  1  2  \"\"\n",
       " \"rs143501051     \"  19     93542  1  2  \"\"\n",
       " \"rs56182540      \"  19     95981  1  2  \"\"\n",
       " \"rs7260412       \"  19    105021  1  2  \"\"\n",
       " \"rs11669393      \"  19    107866  1  2  \"\"\n",
       " \"rs181646587     \"  19    107894  1  2  \"\"\n",
       " \"rs8106297       \"  19    107958  1  2  \"\"\n",
       " \"rs8106302       \"  19    107962  1  2  \"\"\n",
       " \"rs183568620     \"  19    107987  1  2  \"\"\n",
       " \"rs186451972     \"  19    108003  1  2  \"\"\n",
       " \"rs189699222     \"  19    108032  1  2  \"\"\n",
       " \"rs182902214     \"  19    108090  1  2  \"\"\n",
       " ⋮                                       ⋮ \n",
       " \"rs188169422     \"  19  59116080  1  2  \"\"\n",
       " \"rs144587467     \"  19  59117729  1  2  \"\"\n",
       " \"rs139879509     \"  19  59117949  1  2  \"\"\n",
       " \"rs143250448     \"  19  59117982  1  2  \"\"\n",
       " \"rs145384750     \"  19  59118028  1  2  \"\"\n",
       " \"rs149215836     \"  19  59118040  1  2  \"\"\n",
       " \"rs139221927     \"  19  59118044  1  2  \"\"\n",
       " \"rs181848453     \"  19  59118114  1  2  \"\"\n",
       " \"rs138318162     \"  19  59118148  1  2  \"\"\n",
       " \"rs186913222     \"  19  59118616  1  2  \"\"\n",
       " \"rs141816674     \"  19  59118779  1  2  \"\"\n",
       " \"rs150801216     \"  19  59118783  1  2  \"\""
      ]
     },
     "execution_count": 42,
     "metadata": {},
     "output_type": "execute_result"
    }
   ],
   "source": [
    "## columns are: :snpid, :chrom, :pos, :allele1, :allele2, :groupname\n",
    "# snpdef29c = readtable(\"SNP_def29a.in\", skipstart = 2, header = false)\n",
    "snpdef29c = readcsv(\"SNP_def29a.in\", Any; skipstart = 2, header = false)"
   ]
  },
  {
   "cell_type": "markdown",
   "metadata": {},
   "source": [
    "Unlike `readtable` in the DataFrames.jl package, `readcsv` does try to strip white spaces and infer types for each column. However, it is easy to enforce desired types on the read in data."
   ]
  },
  {
   "cell_type": "code",
   "execution_count": 43,
   "metadata": {},
   "outputs": [
    {
     "data": {
      "text/plain": [
       "253141-element Array{AbstractString,1}:\n",
       " \"rs3020701\"  \n",
       " \"rs56343121\" \n",
       " \"rs143501051\"\n",
       " \"rs56182540\" \n",
       " \"rs7260412\"  \n",
       " \"rs11669393\" \n",
       " \"rs181646587\"\n",
       " \"rs8106297\"  \n",
       " \"rs8106302\"  \n",
       " \"rs183568620\"\n",
       " \"rs186451972\"\n",
       " \"rs189699222\"\n",
       " \"rs182902214\"\n",
       " ⋮            \n",
       " \"rs188169422\"\n",
       " \"rs144587467\"\n",
       " \"rs139879509\"\n",
       " \"rs143250448\"\n",
       " \"rs145384750\"\n",
       " \"rs149215836\"\n",
       " \"rs139221927\"\n",
       " \"rs181848453\"\n",
       " \"rs138318162\"\n",
       " \"rs186913222\"\n",
       " \"rs141816674\"\n",
       " \"rs150801216\""
      ]
     },
     "execution_count": 43,
     "metadata": {},
     "output_type": "execute_result"
    }
   ],
   "source": [
    "snpid = map(x -> strip(string(x)), snpdef29c[:, 1])"
   ]
  },
  {
   "cell_type": "code",
   "execution_count": 44,
   "metadata": {},
   "outputs": [
    {
     "data": {
      "text/plain": [
       "253141-element Array{Int64,1}:\n",
       " 19\n",
       " 19\n",
       " 19\n",
       " 19\n",
       " 19\n",
       " 19\n",
       " 19\n",
       " 19\n",
       " 19\n",
       " 19\n",
       " 19\n",
       " 19\n",
       " 19\n",
       "  ⋮\n",
       " 19\n",
       " 19\n",
       " 19\n",
       " 19\n",
       " 19\n",
       " 19\n",
       " 19\n",
       " 19\n",
       " 19\n",
       " 19\n",
       " 19\n",
       " 19"
      ]
     },
     "execution_count": 44,
     "metadata": {},
     "output_type": "execute_result"
    }
   ],
   "source": [
    "# chr = map(x -> string(x), snpdef29c[:, 2])\n",
    "chr = convert(Vector{Int}, snpdef29c[:, 2])"
   ]
  },
  {
   "cell_type": "code",
   "execution_count": 45,
   "metadata": {},
   "outputs": [
    {
     "data": {
      "text/plain": [
       "253141-element Array{Int64,1}:\n",
       "    90974\n",
       "    91106\n",
       "    93542\n",
       "    95981\n",
       "   105021\n",
       "   107866\n",
       "   107894\n",
       "   107958\n",
       "   107962\n",
       "   107987\n",
       "   108003\n",
       "   108032\n",
       "   108090\n",
       "        ⋮\n",
       " 59116080\n",
       " 59117729\n",
       " 59117949\n",
       " 59117982\n",
       " 59118028\n",
       " 59118040\n",
       " 59118044\n",
       " 59118114\n",
       " 59118148\n",
       " 59118616\n",
       " 59118779\n",
       " 59118783"
      ]
     },
     "execution_count": 45,
     "metadata": {},
     "output_type": "execute_result"
    }
   ],
   "source": [
    "pos = convert(Vector{Int}, snpdef29c[:, 3])"
   ]
  },
  {
   "cell_type": "markdown",
   "metadata": {},
   "source": [
    "# Explore VCF files using VCFTools.jl\n",
    "\n",
    "VCF is a popular format for genetic data.\n",
    "\n",
    "[VCFTools.jl](https://github.com/OpenMendel/VCFTools.jl) implements some Julia utilities for handling VCF files. The package can be installed by\n",
    "```julia\n",
    "Pkg.clone(\"https://github.com/OpenMendel/VCFTools.jl.git\")\n",
    "```\n",
    "\n",
    "## Example VCF file\n",
    "\n",
    "We will demonstrate using an example VCF file `test.08Jun17.d8b.vcf.gz`, which can be downloaded from this [link](http://faculty.washington.edu/browning/beagle/test.08Jun17.d8b.vcf.gz)."
   ]
  },
  {
   "cell_type": "code",
   "execution_count": 46,
   "metadata": {},
   "outputs": [
    {
     "name": "stdout",
     "output_type": "stream",
     "text": [
      "-rw-r--r--  1 huazhou  staff  876514 Aug 25  2017 test.08Jun17.d8b.vcf.gz\n"
     ]
    }
   ],
   "source": [
    ";ls -l test.08Jun17.d8b.vcf.gz"
   ]
  },
  {
   "cell_type": "markdown",
   "metadata": {},
   "source": [
    "The first 35 lines of the VCF file are"
   ]
  },
  {
   "cell_type": "code",
   "execution_count": 47,
   "metadata": {},
   "outputs": [
    {
     "name": "stdout",
     "output_type": "stream",
     "text": [
      "##fileformat=VCFv4.1\n",
      "##INFO=<ID=LDAF,Number=1,Type=Float,Description=\"MLE Allele Frequency Accounting for LD\">\n",
      "##INFO=<ID=AVGPOST,Number=1,Type=Float,Description=\"Average posterior probability from MaCH/Thunder\">\n",
      "##INFO=<ID=RSQ,Number=1,Type=Float,Description=\"Genotype imputation quality from MaCH/Thunder\">\n",
      "##INFO=<ID=ERATE,Number=1,Type=Float,Description=\"Per-marker Mutation rate from MaCH/Thunder\">\n",
      "##INFO=<ID=THETA,Number=1,Type=Float,Description=\"Per-marker Transition rate from MaCH/Thunder\">\n",
      "##INFO=<ID=CIEND,Number=2,Type=Integer,Description=\"Confidence interval around END for imprecise variants\">\n",
      "##INFO=<ID=CIPOS,Number=2,Type=Integer,Description=\"Confidence interval around POS for imprecise variants\">\n",
      "##INFO=<ID=END,Number=1,Type=Integer,Description=\"End position of the variant described in this record\">\n",
      "##INFO=<ID=HOMLEN,Number=.,Type=Integer,Description=\"Length of base pair identical micro-homology at event breakpoints\">\n",
      "##INFO=<ID=HOMSEQ,Number=.,Type=String,Description=\"Sequence of base pair identical micro-homology at event breakpoints\">\n",
      "##INFO=<ID=SVLEN,Number=1,Type=Integer,Description=\"Difference in length between REF and ALT alleles\">\n",
      "##INFO=<ID=SVTYPE,Number=1,Type=String,Description=\"Type of structural variant\">\n",
      "##INFO=<ID=AC,Number=.,Type=Integer,Description=\"Alternate Allele Count\">\n",
      "##INFO=<ID=AN,Number=1,Type=Integer,Description=\"Total Allele Count\">\n",
      "##ALT=<ID=DEL,Description=\"Deletion\">\n",
      "##FORMAT=<ID=GT,Number=1,Type=String,Description=\"Genotype\">\n",
      "##FORMAT=<ID=DS,Number=1,Type=Float,Description=\"Genotype dosage from MaCH/Thunder\">\n",
      "##FORMAT=<ID=GL,Number=.,Type=Float,Description=\"Genotype Likelihoods\">\n",
      "##INFO=<ID=AA,Number=1,Type=String,Description=\"Ancestral Allele, ftp://ftp.1000genomes.ebi.ac.uk/vol1/ftp/pilot_data/technical/reference/ancestral_alignments/README\">\n",
      "##INFO=<ID=AF,Number=1,Type=Float,Description=\"Global Allele Frequency based on AC/AN\">\n",
      "##INFO=<ID=AMR_AF,Number=1,Type=Float,Description=\"Allele Frequency for samples from AMR based on AC/AN\">\n",
      "##INFO=<ID=ASN_AF,Number=1,Type=Float,Description=\"Allele Frequency for samples from ASN based on AC/AN\">\n",
      "##INFO=<ID=AFR_AF,Number=1,Type=Float,Description=\"Allele Frequency for samples from AFR based on AC/AN\">\n",
      "##INFO=<ID=EUR_AF,Number=1,Type=Float,Description=\"Allele Frequency for samples from EUR based on AC/AN\">\n",
      "##INFO=<ID=VT,Number=1,Type=String,Description=\"indicates what type of variant the line represents\">\n",
      "##INFO=<ID=SNPSOURCE,Number=.,Type=String,Description=\"indicates if a snp was called when analysing the low coverage or exome alignment data\">\n",
      "##reference=GRCh37\n",
      "##reference=GRCh37\n",
      "#CHROM\tPOS\tID\tREF\tALT\tQUAL\tFILTER\tINFO\tFORMAT\tHG00096\tHG00097\tHG00099\tHG00100\tHG00101\tHG00102\tHG00103\tHG00104\tHG00106\tHG00108\tHG00109\tHG00110\tHG00111\tHG00112\tHG00113\tHG00114\tHG00116\tHG00117\tHG00118\tHG00119\tHG00120\tHG00121\tHG00122\tHG00123\tHG00124\tHG00125\tHG00126\tHG00127\tHG00128\tHG00129\tHG00130\tHG00131\tHG00133\tHG00134\tHG00135\tHG00136\tHG00137\tHG00138\tHG00139\tHG00140\tHG00141\tHG00142\tHG00143\tHG00146\tHG00148\tHG00149\tHG00150\tHG00151\tHG00152\tHG00154\tHG00155\tHG00156\tHG00158\tHG00159\tHG00160\tHG00171\tHG00173\tHG00174\tHG00176\tHG00177\tHG00178\tHG00179\tHG00180\tHG00182\tHG00183\tHG00185\tHG00186\tHG00187\tHG00188\tHG00189\tHG00190\tHG00231\tHG00232\tHG00233\tHG00234\tHG00235\tHG00236\tHG00237\tHG00238\tHG00239\tHG00240\tHG00242\tHG00243\tHG00244\tHG00245\tHG00246\tHG00247\tHG00249\tHG00250\tHG00251\tHG00252\tHG00253\tHG00254\tHG00255\tHG00256\tHG00257\tHG00258\tHG00259\tHG00260\tHG00261\tHG00262\tHG00263\tHG00264\tHG00265\tHG00266\tHG00267\tHG00268\tHG00269\tHG00270\tHG00271\tHG00272\tHG00273\tHG00274\tHG00275\tHG00276\tHG00277\tHG00278\tHG00280\tHG00281\tHG00282\tHG00284\tHG00285\tHG00306\tHG00309\tHG00310\tHG00311\tHG00312\tHG00313\tHG00315\tHG00318\tHG00319\tHG00320\tHG00321\tHG00323\tHG00324\tHG00325\tHG00326\tHG00327\tHG00328\tHG00329\tHG00330\tHG00331\tHG00332\tHG00334\tHG00335\tHG00336\tHG00337\tHG00338\tHG00339\tHG00341\tHG00342\tHG00343\tHG00344\tHG00345\tHG00346\tHG00349\tHG00350\tHG00351\tHG00353\tHG00355\tHG00356\tHG00357\tHG00358\tHG00359\tHG00360\tHG00361\tHG00362\tHG00364\tHG00366\tHG00367\tHG00369\tHG00372\tHG00373\tHG00375\tHG00376\tHG00377\tHG00378\tHG00381\tHG00382\tHG00383\tHG00384\tHG00403\tHG00404\tHG00406\tHG00407\tHG00418\tHG00419\tHG00421\tHG00422\tHG00427\tHG00428\n",
      "22\t20000086\trs138720731\tT\tC\t100\tPASS\tAC=7;RSQ=0.8454;AVGPOST=0.9983;AA=T;AN=2184;LDAF=0.0040;THETA=0.0001;VT=SNP;SNPSOURCE=LOWCOV;ERATE=0.0003;AF=0.0032;AFR_AF=0.01\tGT:DS:GL\t0/0:0.000:-0.03,-1.19,-5.00\t0/0:0.000:-0.04,-1.05,-5.00\t0/0:0.000:-0.07,-0.85,-5.00\t0/0:0.000:-0.03,-1.18,-5.00\t0/0:0.000:-0.06,-0.87,-5.00\t0/0:0.000:-0.03,-1.14,-5.00\t0/0:0.000:-0.06,-0.90,-5.00\t0/0:0.000:-0.23,-0.45,-1.28\t0/0:0.000:-0.03,-1.20,-5.00\t0/0:0.000:-0.48,-0.48,-0.48\t0/0:0.000:-0.11,-0.65,-4.40\t0/0:0.000:-0.48,-0.48,-0.48\t0/0:0.000:-0.06,-0.91,-5.00\t0/0:0.000:-0.18,-0.47,-2.54\t0/0:0.000:-0.48,-0.48,-0.48\t0/0:0.000:-0.06,-0.90,-5.00\t0/0:0.000:-0.01,-1.74,-5.00\t0/0:0.000:-0.00,-3.66,-5.00\t0/0:0.000:-0.48,-0.48,-0.48\t0/0:0.000:-0.00,-2.53,-5.00\t0/0:0.000:-0.09,-0.73,-5.00\t0/0:0.000:-0.48,-0.48,-0.48\t0/0:0.000:-0.48,-0.48,-0.48\t0/0:0.000:-0.00,-3.11,-5.00\t0/0:0.000:-0.06,-0.89,-5.00\t0/0:0.000:-0.09,-0.71,-4.10\t0/0:0.000:-0.11,-0.65,-4.40\t0/0:0.000:-0.18,-0.47,-2.34\t0/0:0.000:-0.22,-0.45,-1.32\t0/0:0.000:-0.02,-1.29,-5.00\t0/0:0.000:-0.03,-1.15,-5.00\t0/0:0.000:-0.02,-1.45,-5.00\t0/0:0.000:-0.00,-3.34,-5.00\t0/0:0.000:-0.12,-0.61,-3.19\t0/0:0.000:-0.11,-0.67,-4.40\t0/0:0.000:-0.05,-0.99,-5.00\t0/0:0.000:-0.18,-0.48,-2.15\t0/0:0.000:-0.01,-1.47,-5.00\t0/0:0.000:-0.10,-0.67,-3.62\t0/0:0.000:-0.03,-1.14,-5.00\t0/0:0.000:-0.09,-0.73,-4.40\t0/0:0.000:-0.07,-0.84,-4.40\t0/0:0.000:-0.18,-0.48,-2.46\t0/0:0.000:-0.0292813,-1.18575,-5\t0/0:0.000:-0.48,-0.48,-0.48\t0/0:0.000:-0.01,-1.67,-5.00\t0/0:0.000:-0.18,-0.47,-2.40\t0/0:0.000:-0.03,-1.25,-5.00\t0/0:0.000:-0.11,-0.66,-3.44\t0/0:0.000:-0.09,-0.73,-4.70\t0/0:0.000:-0.0418663,-1.03687,-4.39794\t0/0:0.000:-0.08,-0.79,-3.14\t0/0:0.000:-0.00,-2.30,-5.00\t0/0:0.000:-0.00,-2.54,-5.00\t0/0:0.000:-0.03,-1.21,-5.00\t0/0:0.000:-0.06,-0.86,-5.00\t0/0:0.000:-0.09,-0.71,-4.70\t0/0:0.000:-0.01,-1.49,-5.00\t0/0:0.000:-0.01,-1.88,-5.00\t0/0:0.000:-0.09,-0.71,-4.70\t0/0:0.000:-0.03,-1.19,-5.00\t0/0:0.000:-0.10,-0.67,-4.40\t0/0:0.000:-0.01,-1.51,-5.00\t0/0:0.000:-0.02,-1.40,-5.00\t0/0:0.000:-0.03,-1.17,-5.00\t0/0:0.000:-0.05,-0.93,-5.00\t0/0:0.000:-0.01,-1.48,-5.00\t0/0:0.000:-0.00,-2.02,-5.00\t0/0:0.000:-0.03,-1.18,-5.00\t0/0:0.000:-0.02,-1.46,-5.00\t0/0:0.000:-0.03,-1.17,-5.00\t0/0:0.050:-0.18,-0.47,-2.73\t0/0:0.000:-0.17,-0.49,-2.97\t0/0:0.000:-0.10,-0.68,-4.40\t0/0:0.000:-0.05,-0.99,-5.00\t0/0:0.000:-0.12,-0.62,-3.38\t0/0:0.000:-0.00,-2.06,-5.00\t0/0:0.000:-0.16,-0.51,-2.66\t0/0:0.000:-0.11,-0.64,-4.22\t0/0:0.000:-0.03,-1.22,-5.00\t0/0:0.000:-0.01,-1.64,-5.00\t0/0:0.000:-0.00,-2.85,-5.00\t0/0:0.000:-0.02,-1.38,-5.00\t0/0:0.000:-0.05,-0.94,-5.00\t0/0:0.000:-0.0311436,-1.15989,-5\t0/0:0.000:-0.36,-0.42,-0.73\t0/0:0.000:-0.01,-1.88,-5.00\t0/0:0.000:-0.05,-0.92,-5.00\t0/0:0.000:-0.03,-1.16,-5.00\t0/0:0.000:-0.04,-1.04,-5.00\t0/0:0.000:-0.13,-0.59,-5.00\t0/0:0.000:-0.02,-1.36,-5.00\t0/0:0.000:-0.16,-0.51,-2.36\t0/0:0.000:-0.02,-1.31,-5.00\t0/0:0.000:-0.03,-1.19,-5.00\t0/0:0.000:-0.03,-1.17,-5.00\t0/0:0.000:-0.00,-4.40,-5.00\t0/0:0.000:-0.03,-1.16,-5.00\t0/0:0.000:-0.09,-0.73,-3.70\t0/0:0.000:-0.19,-0.47,-1.77\t0/0:0.000:-0.00,-3.32,-5.00\t0/0:0.000:-0.17,-0.51,-2.00\t0/0:0.000:-0.00,-2.17,-5.00\t0/0:0.000:-0.00,-2.91,-5.00\t0/0:0.000:-0.10,-0.71,-4.10\t0/0:0.000:-0.03,-1.12,-5.00\t0/0:0.000:-0.48,-0.48,-0.48\t0/0:0.000:-0.01,-1.67,-5.00\t0/0:0.000:-0.00,-2.09,-5.00\t0/0:0.000:-0.04,-1.09,-5.00\t0/0:0.000:-0.01,-1.48,-5.00\t0/0:0.000:-0.02,-1.41,-5.00\t0/0:0.000:-0.10,-0.69,-3.80\t0/0:0.000:-0.01,-1.54,-5.00\t0/0:0.000:-0.03,-1.16,-5.00\t0/0:0.000:-0.09,-0.73,-4.70\t0/0:0.000:-0.09,-0.74,-4.70\t0/0:0.000:-0.06,-0.92,-5.00\t0/0:0.000:-0.05,-0.97,-5.00\t0/0:0.000:-0.08,-0.78,-5.00\t0/0:0.000:-0.06,-0.92,-5.00\t0/0:0.000:-0.10,-0.67,-4.40\t0/0:0.000:-0.01,-1.71,-5.00\t0/0:0.000:-0.03,-1.20,-5.00\t0/0:0.000:-0.02,-1.26,-5.00\t0/0:0.000:-0.04,-1.10,-5.00\t0/0:0.000:-0.02,-1.27,-5.00\t0/0:0.000:-0.48,-0.48,-0.48\t0/0:0.000:-0.01,-1.47,-5.00\t0/0:0.000:-0.00,-2.00,-5.00\t0/0:0.000:-0.10,-0.67,-4.22\t0/0:0.050:-0.18,-0.47,-2.34\t0/0:0.000:-0.05,-1.00,-5.00\t0/0:0.000:-0.11,-0.65,-3.85\t0/0:0.000:-0.10,-0.68,-4.70\t0/0:0.000:-0.48,-0.48,-0.48\t0/0:0.000:-0.08,-0.76,-5.00\t0/0:0.000:-0.19,-0.47,-2.14\t0/0:0.000:-0.00,-1.99,-5.00\t0/0:0.000:-0.18,-0.47,-2.46\t0/0:0.000:-0.09,-0.74,-4.40\t0/0:0.450:-0.05,-0.94,-5.00\t0/0:0.000:-0.48,-0.48,-0.48\t0/0:0.000:-0.10,-0.69,-4.70\t0/0:0.000:-0.01,-1.50,-5.00\t0/0:0.000:-0.18,-0.47,-2.34\t0/0:0.000:-0.03,-1.17,-5.00\t0/0:0.000:-0.06,-0.88,-5.00\t0/0:0.000:-0.02,-1.41,-5.00\t0/0:0.000:-0.06,-0.88,-5.00\t0/0:0.000:-0.18,-0.47,-1.95\t0/0:0.000:-0.19,-0.46,-2.17\t0/0:0.000:-0.03,-1.13,-5.00\t0/0:0.000:-0.03,-1.18,-5.00\t0/0:0.000:-0.18,-0.48,-2.23\t0/0:0.000:-0.23,-0.45,-1.31\t0/0:0.000:-0.11,-0.64,-3.92\t0/0:0.000:-0.03,-1.17,-5.00\t0/0:0.000:-0.03,-1.22,-5.00\t0/0:0.000:-0.11,-0.66,-4.22\t0/0:0.000:-0.12,-0.61,-2.38\t0/0:0.000:-0.03,-1.22,-5.00\t0/0:0.000:-0.40,-0.45,-0.60\t0/0:0.000:-0.00,-2.98,-5.00\t0/0:0.000:-0.13,-0.59,-2.09\t0/0:0.000:-0.02,-1.37,-5.00\t0/0:0.000:-0.477139,-0.477113,-0.477113\t0/0:0.000:-0.04,-1.10,-5.00\t0/0:0.000:-0.03,-1.23,-5.00\t0/0:0.000:-0.01,-1.51,-5.00\t0/0:0.000:-0.01,-1.67,-5.00\t0/0:0.000:-0.08,-0.75,-4.40\t0/0:0.000:-0.03,-1.23,-5.00\t0/0:0.000:-0.10,-0.69,-4.40\t0/0:0.000:-0.12,-0.63,-3.92\t0/0:0.000:-0.01,-1.74,-5.00\t0/0:0.000:-0.48,-0.48,-0.48\t0/0:0.000:-0.19,-0.46,-2.60\t0/0:0.000:-0.19,-0.46,-2.62\t0/0:0.000:-0.11,-0.65,-4.70\t0/0:0.000:-0.11,-0.66,-4.70\t0/0:0.050:-0.18,-0.49,-2.04\t0/0:0.050:-0.10,-0.67,-4.40\t0/0:0.000:-0.01,-1.62,-5.00\t0/0:0.000:-0.48,-0.48,-0.48\t0/0:0.000:-0.23,-0.41,-1.51\t0/0:0.000:-0.18,-0.48,-2.18\t0/0:0.000:-0.03,-1.17,-5.00\t0/0:0.000:-0.10,-0.68,-4.10\t0/0:0.000:-0.03,-1.24,-5.00\t0/0:0.000:-0.18,-0.48,-2.14\n",
      "22\t20000146\trs73387790\tG\tA\t100\tPASS\tLDAF=0.0169;RSQ=0.9482;THETA=0.0004;AA=G;AN=2184;AVGPOST=0.9972;VT=SNP;SNPSOURCE=LOWCOV;AC=36;ERATE=0.0003;AF=0.02;AFR_AF=0.07;EUR_AF=0.0013\tGT:DS:GL\t0/0:0.000:-0.00,-2.68,-5.00\t0/0:0.000:-0.07,-0.82,-5.00\t0/0:0.000:-0.13,-0.60,-3.05\t0/0:0.000:-0.03,-1.24,-5.00\t0/0:0.000:-0.18,-0.47,-3.08\t0/0:0.000:-0.06,-0.90,-5.00\t0/0:0.000:-0.01,-1.48,-5.00\t0/0:0.000:-0.48,-0.48,-0.48\t0/0:0.000:-0.16,-0.51,-2.63\t0/0:0.000:-0.01,-1.76,-5.00\t0/0:0.000:-0.10,-0.67,-5.00\t0/0:0.000:-0.48,-0.48,-0.48\t0/0:0.000:-0.11,-0.66,-4.40\t0/0:0.000:-0.10,-0.69,-4.70\t0/0:0.000:-0.48,-0.48,-0.48\t0/0:0.000:-0.18,-0.47,-2.30\t0/0:0.000:-0.00,-2.80,-5.00\t0/0:0.000:-0.00,-2.02,-5.00\t0/0:0.000:-0.48,-0.48,-0.48\t0/0:0.000:-0.01,-1.49,-5.00\t0/0:0.000:-0.01,-1.76,-5.00\t0/0:0.000:-0.48,-0.48,-0.48\t0/0:0.000:-0.48,-0.48,-0.48\t0/0:0.000:-0.02,-1.40,-5.00\t0/0:0.000:-0.00,-2.09,-5.00\t0/0:0.000:-0.10,-0.70,-4.10\t0/0:0.000:-0.22,-0.46,-1.27\t0/0:0.000:-0.18,-0.48,-2.39\t0/0:0.000:-0.48,-0.48,-0.48\t0/0:0.000:-0.19,-0.47,-2.27\t0/0:0.000:-0.07,-0.85,-5.00\t0/0:0.000:-0.00,-2.53,-5.00\t0/0:0.000:-0.00,-2.83,-5.00\t0/0:0.000:-0.22,-0.46,-1.24\t0/0:0.000:-0.19,-0.46,-2.27\t0/0:0.000:-0.10,-0.68,-4.40\t0/0:0.000:-0.09,-0.73,-4.22\t0/0:0.000:-0.03,-1.19,-5.00\t0/0:0.000:-0.15,-0.55,-2.64\t0/0:0.000:-0.05,-0.97,-5.00\t0/0:0.000:-0.08,-0.76,-4.70\t0/0:0.000:-0.01,-1.49,-5.00\t0/0:0.000:-0.06,-0.86,-5.00\t0/0:0.000:-0.029681,-1.18006,-5\t0/0:0.000:-0.48,-0.48,-0.48\t0/0:0.000:-0.18,-0.48,-2.33\t0/0:0.000:-0.10,-0.70,-4.70\t0/0:0.000:-0.00,-2.04,-5.00\t0/0:0.000:-0.03,-1.24,-5.00\t0/0:0.000:-0.10,-0.69,-4.40\t0/0:0.000:-0.0843997,-0.755377,-3.00877\t0/0:0.000:-0.21,-0.47,-1.33\t0/0:0.000:-0.00,-3.22,-5.00\t0/0:0.000:-0.00,-3.70,-5.00\t0/0:0.000:-0.05,-0.96,-5.00\t0/0:0.000:-0.03,-1.21,-5.00\t0/0:0.000:-0.01,-1.47,-5.00\t0/0:0.000:-0.01,-1.86,-5.00\t0/0:0.000:-0.05,-0.97,-5.00\t0/0:0.000:-0.06,-0.90,-5.00\t0/0:0.000:-0.01,-1.51,-5.00\t0/0:0.000:-0.03,-1.25,-5.00\t0/0:0.000:-0.01,-1.92,-5.00\t0/0:0.000:-0.00,-2.58,-5.00\t0/0:0.000:-0.06,-0.89,-5.00\t0/0:0.000:-0.05,-1.00,-5.00\t0/0:0.000:-0.05,-0.95,-5.00\t0/0:0.000:-0.01,-1.72,-5.00\t0/0:0.000:-0.00,-2.25,-5.00\t0/0:0.000:-0.02,-1.43,-5.00\t0/0:0.000:-0.18,-0.48,-2.03\t0/0:0.000:-0.18,-0.47,-2.72\t0/0:0.000:-0.09,-0.72,-4.70\t0/0:0.000:-0.18,-0.47,-2.42\t0/0:0.000:-0.19,-0.46,-2.20\t0/0:0.000:-0.24,-0.44,-1.19\t0/0:0.000:-0.01,-1.75,-5.00\t0/0:0.000:-0.01,-1.48,-5.00\t0/0:0.000:-0.19,-0.46,-2.27\t0/0:0.000:-0.05,-0.99,-5.00\t0/0:0.000:-0.06,-0.87,-5.00\t0/0:0.000:-0.00,-3.40,-5.00\t0/0:0.000:-0.10,-0.68,-4.70\t0/0:0.000:-0.01,-1.72,-5.00\t0/0:0.000:-0.0148341,-1.47392,-5\t0/0:0.000:-0.05,-0.95,-5.00\t0/0:0.000:-0.03,-1.16,-5.00\t0/0:0.000:-0.04,-1.03,-5.00\t0/0:0.000:-0.02,-1.46,-5.00\t0/0:0.000:-0.09,-0.73,-4.40\t0/0:0.000:-0.02,-1.46,-5.00\t0/0:0.000:-0.02,-1.26,-5.00\t0/0:0.000:-0.03,-1.25,-5.00\t0/0:0.000:-0.19,-0.45,-2.12\t0/0:0.000:-0.01,-1.50,-5.00\t0/0:0.000:-0.05,-0.96,-5.00\t0/0:0.000:-0.00,-4.70,-5.00\t0/0:0.000:-0.13,-0.58,-3.06\t0/0:0.000:-0.48,-0.48,-0.48\t0/0:0.000:-0.17,-0.51,-2.09\t0/0:0.000:-0.00,-2.29,-5.00\t0/0:0.000:-0.38,-0.43,-0.67\t0/0:0.000:-0.00,-2.81,-5.00\t0/0:0.000:-0.00,-3.25,-5.00\t0/0:0.000:-0.22,-0.46,-1.26\t0/0:0.000:-0.03,-1.17,-5.00\t0/0:0.000:-0.03,-1.21,-5.00\t0/0:0.000:-0.01,-1.50,-5.00\t0/0:0.000:-0.01,-1.54,-5.00\t0/0:0.000:-0.48,-0.48,-0.48\t0/0:0.000:-0.00,-2.04,-5.00\t0/0:0.000:-0.05,-0.93,-5.00\t0/0:0.000:-0.10,-0.68,-3.70\t0/0:0.000:-0.09,-0.72,-5.00\t0/0:0.000:-0.01,-1.77,-5.00\t0/0:0.000:-0.05,-0.93,-5.00\t0/0:0.000:-0.01,-1.51,-5.00\t0/0:0.000:-0.16,-0.51,-2.74\t0/0:0.000:-0.10,-0.69,-4.40\t0/0:0.000:-0.18,-0.48,-2.26\t0/0:0.000:-0.18,-0.48,-2.37\t0/0:0.000:-0.18,-0.48,-2.27\t0/0:0.000:-0.00,-2.58,-5.00\t0/0:0.000:-0.05,-0.93,-5.00\t0/0:0.000:-0.03,-1.19,-5.00\t0/0:0.000:-0.00,-2.34,-5.00\t0/0:0.000:-0.03,-1.23,-5.00\t0/0:0.000:-0.10,-0.69,-4.40\t0/0:0.000:-0.08,-0.78,-4.70\t0/0:0.000:-0.05,-0.95,-5.00\t0/0:0.000:-0.03,-1.22,-5.00\t0/0:0.000:-0.18,-0.48,-2.36\t0/0:0.000:-0.01,-1.53,-5.00\t0/0:0.000:-0.18,-0.48,-2.25\t0/0:0.000:-0.10,-0.68,-4.70\t0/0:0.000:-0.09,-0.73,-5.00\t0/0:0.000:-0.02,-1.41,-5.00\t0/0:0.000:-0.05,-0.93,-5.00\t0/0:0.000:-0.03,-1.22,-5.00\t0/0:0.000:-0.18,-0.47,-2.41\t0/0:0.000:-0.09,-0.73,-4.40\t0/0:0.000:-0.00,-2.00,-5.00\t0/0:0.000:-0.19,-0.46,-2.19\t0/0:0.000:-0.03,-1.20,-5.00\t0/0:0.000:-0.05,-0.98,-5.00\t0/0:0.000:-0.18,-0.47,-2.31\t0/0:0.000:-0.09,-0.73,-4.10\t0/0:0.000:-0.48,-0.48,-0.48\t0/0:0.000:-0.10,-0.67,-3.66\t0/0:0.000:-0.12,-0.63,-4.70\t0/0:0.000:-0.16,-0.51,-2.28\t0/0:0.000:-0.02,-1.46,-5.00\t0/0:0.000:-0.01,-1.75,-5.00\t0/0:0.000:-0.05,-0.95,-5.00\t0/0:0.000:-0.10,-0.68,-4.22\t0/0:0.000:-0.05,-0.95,-5.00\t0/0:0.000:-0.12,-0.62,-3.08\t0/0:0.000:-0.19,-0.45,-2.25\t0/0:0.000:-0.01,-1.77,-5.00\t0/0:0.000:-0.13,-0.60,-2.15\t0/0:0.000:-0.48,-0.48,-0.48\t0/0:0.000:-0.06,-0.92,-5.00\t0/0:0.000:-0.04,-1.05,-5.00\t0/0:0.000:-0.19,-0.46,-2.30\t0/0:0.000:-0.19,-0.46,-2.28\t0/0:0.000:-0.01,-1.48,-5.00\t0/0:0.000:-0.190265,-0.457324,-2.2321\t0/0:0.000:-0.23,-0.46,-1.21\t0/0:0.000:-0.01,-1.50,-5.00\t0/0:0.000:-0.00,-2.44,-5.00\t0/0:0.000:-0.01,-1.73,-5.00\t0/0:0.000:-0.01,-1.53,-5.00\t0/0:0.000:-0.05,-0.96,-5.00\t0/0:0.000:-0.05,-0.94,-5.00\t0/0:0.000:-0.19,-0.46,-2.62\t0/0:0.000:-0.00,-2.25,-5.00\t0/0:0.000:-0.19,-0.46,-2.23\t0/0:0.000:-0.11,-0.65,-4.70\t0/0:0.000:-0.18,-0.46,-2.68\t0/0:0.000:-0.11,-0.66,-4.40\t0/0:0.000:-0.19,-0.46,-2.43\t0/0:0.000:-0.18,-0.49,-2.00\t0/0:0.000:-0.06,-0.92,-5.00\t0/0:0.000:-0.20,-0.45,-2.05\t0/0:0.000:-0.48,-0.48,-0.48\t0/0:0.000:-0.03,-1.18,-5.00\t0/0:0.000:-0.10,-0.68,-4.00\t0/0:0.000:-0.03,-1.20,-5.00\t0/0:0.000:-0.10,-0.69,-4.22\t0/0:0.000:-0.11,-0.65,-4.40\t0/0:0.000:-0.11,-0.67,-3.85\n"
     ]
    },
    {
     "name": "stdout",
     "output_type": "stream",
     "text": [
      "22\t20000199\trs183293480\tA\tC\t100\tPASS\tLDAF=0.0009;THETA=0.0004;AN=2184;AVGPOST=0.9990;VT=SNP;AA=A;RSQ=0.6274;SNPSOURCE=LOWCOV;AC=1;ERATE=0.0003;AF=0.0005;EUR_AF=0.0013\tGT:DS:GL\t0/0:0.000:-0.00,-2.04,-5.00\t0/0:0.000:-0.07,-0.82,-3.47\t0/0:0.000:-0.07,-0.83,-5.00\t0/0:0.000:-0.03,-1.12,-5.00\t0/0:0.000:-0.11,-0.64,-4.10\t0/0:0.000:-0.12,-0.62,-3.85\t0/0:0.000:-0.01,-1.47,-5.00\t0/0:0.000:-0.01,-1.54,-5.00\t0/0:0.000:-0.10,-0.70,-4.70\t0/0:0.000:-0.03,-1.18,-5.00\t0/0:0.000:-0.16,-0.50,-3.30\t0/0:0.000:-0.48,-0.48,-0.48\t0/0:0.000:-0.03,-1.20,-5.00\t0/0:0.000:-0.10,-0.70,-5.00\t0/0:0.000:-0.19,-0.46,-2.46\t0/0:0.000:-0.16,-0.51,-2.67\t0/0:0.000:-0.00,-2.57,-5.00\t0/0:0.000:-0.00,-2.85,-5.00\t0/0:0.000:-0.48,-0.48,-0.48\t0/0:0.000:-0.00,-2.55,-5.00\t0/0:0.000:-0.00,-2.02,-5.00\t0/0:0.050:-0.48,-0.48,-0.48\t0/0:0.000:-0.23,-0.46,-1.24\t0/0:0.000:-0.02,-1.45,-5.00\t0/0:0.000:-0.10,-0.68,-4.40\t0/0:0.000:-0.06,-0.88,-5.00\t0/0:0.000:-0.13,-0.61,-2.23\t0/0:0.000:-0.05,-0.94,-5.00\t0/0:0.000:-0.26,-0.43,-1.11\t0/0:0.000:-0.04,-1.01,-5.00\t0/0:0.000:-0.12,-0.62,-3.28\t0/0:0.000:-0.00,-2.27,-5.00\t0/0:0.000:-0.00,-2.42,-5.00\t0/0:0.000:-0.04,-1.08,-5.00\t0/0:0.000:-0.06,-0.88,-5.00\t0/0:0.000:-0.04,-1.03,-5.00\t0/0:0.000:-0.10,-0.70,-4.10\t0/0:0.000:-0.18,-0.48,-2.22\t0/0:0.000:-0.02,-1.41,-5.00\t0/0:0.000:-0.03,-1.19,-5.00\t0/0:0.000:-0.14,-0.57,-2.12\t0/0:0.000:-0.10,-0.69,-4.70\t0/0:0.000:-0.12,-0.62,-2.28\t0/0:0.000:-0.0149779,-1.4698,-5\t0/0:0.000:-0.10,-0.70,-4.70\t0/0:0.000:-0.06,-0.89,-5.00\t0/0:0.000:-0.39,-0.23,-2.25\t0/0:0.000:-0.00,-3.40,-5.00\t0/0:0.000:-0.07,-0.86,-4.40\t0/0:0.000:-0.18,-0.48,-2.35\t0/0:0.000:-0.00967891,-1.65679,-5\t0/0:0.000:-0.22,-0.46,-1.24\t0/0:0.000:-0.00,-2.27,-5.00\t0/0:0.000:-0.00,-3.12,-5.00\t0/0:0.000:-0.01,-1.73,-5.00\t0/0:0.000:-0.02,-1.39,-5.00\t0/0:0.000:-0.10,-0.70,-4.70\t0/0:0.000:-0.03,-1.23,-5.00\t0/0:0.000:-0.09,-0.72,-4.10\t0/0:0.000:-0.10,-0.71,-4.70\t0/0:0.000:-0.02,-1.45,-5.00\t0/0:0.000:-0.04,-1.11,-5.00\t0/0:0.000:-0.03,-1.14,-5.00\t0/0:0.000:-0.00,-2.42,-5.00\t0/0:0.000:-0.05,-0.94,-5.00\t0/0:0.000:-0.05,-0.95,-5.00\t0/0:0.000:-0.11,-0.65,-3.85\t0/0:0.000:-0.05,-0.95,-5.00\t0/0:0.000:-0.01,-1.72,-5.00\t0/0:0.000:-0.00,-2.08,-5.00\t0/0:0.000:-0.03,-1.20,-5.00\t0/0:0.000:-0.05,-0.94,-5.00\t0/0:0.000:-0.16,-0.52,-2.11\t0/0:0.000:-0.10,-0.69,-4.70\t0/0:0.000:-0.44,-0.46,-0.54\t0/0:0.000:-0.07,-0.83,-5.00\t0/0:0.000:-0.16,-0.51,-2.42\t0/0:0.000:-0.18,-0.48,-2.30\t0/0:0.000:-0.19,-0.46,-2.27\t0/0:0.000:-0.06,-0.89,-5.00\t0/0:0.000:-0.06,-0.88,-5.00\t0/0:0.000:-0.00,-3.15,-5.00\t0/0:0.000:-0.12,-0.61,-4.10\t0/0:0.000:-0.06,-0.91,-5.00\t0/0:0.000:-0.00935928,-1.67121,-5\t0/0:0.000:-0.18,-0.48,-2.13\t0/0:0.000:-0.07,-0.85,-5.00\t0/0:0.000:-0.03,-1.19,-5.00\t0/0:0.000:-0.03,-1.15,-5.00\t0/0:0.000:-0.09,-0.71,-4.70\t0/0:0.000:-0.19,-0.46,-2.52\t0/0:0.000:-0.03,-1.20,-5.00\t0/0:0.000:-0.09,-0.73,-4.10\t0/0:0.000:-0.11,-0.64,-4.40\t0/0:0.000:-0.03,-1.21,-5.00\t0/0:0.000:-0.19,-0.47,-1.83\t0/0:0.000:-0.00,-2.76,-5.00\t0/0:0.000:-0.09,-0.73,-3.92\t0/0:0.000:-0.15,-0.55,-2.43\t0/0:0.000:-0.18,-0.48,-1.89\t0/0:0.000:-0.00,-3.18,-5.00\t0/0:0.000:-0.48,-0.48,-0.48\t0/0:0.000:-0.02,-1.43,-5.00\t0/0:0.000:-0.22,-0.40,-5.00\t0/0:0.000:-0.07,-0.84,-4.70\t0/0:0.000:-0.03,-1.22,-5.00\t0/0:0.000:-0.10,-0.69,-3.85\t0/0:0.000:-0.01,-1.84,-5.00\t0/0:0.000:-0.00,-3.07,-5.00\t0/0:0.000:-0.10,-0.69,-3.85\t0/0:0.000:-0.06,-0.91,-5.00\t0/0:0.000:-0.10,-0.68,-4.70\t0/0:0.000:-0.10,-0.69,-3.80\t0/0:0.000:-0.48,-0.18,-4.10\t0/0:0.000:-0.02,-1.47,-5.00\t0/0:0.000:-0.05,-0.94,-5.00\t0/0:0.000:-0.03,-1.22,-5.00\t0/0:0.000:-0.18,-0.48,-2.34\t0/0:0.000:-0.05,-0.95,-5.00\t0/0:0.000:-0.48,-0.48,-0.48\t0/0:0.000:-0.18,-0.48,-2.37\t0/0:0.000:-0.10,-0.70,-4.40\t0/0:0.000:-0.00,-2.44,-5.00\t0/0:0.000:-0.01,-1.78,-5.00\t0/0:0.000:-0.00,-2.06,-5.00\t0/0:0.000:-0.00,-2.28,-5.00\t0/0:0.000:-0.06,-0.92,-5.00\t0/0:0.000:-0.03,-1.24,-5.00\t0/0:0.000:-0.01,-1.51,-5.00\t0/0:0.000:-0.05,-0.95,-5.00\t0/0:0.000:-0.02,-1.46,-5.00\t0/0:0.000:-0.05,-0.94,-5.00\t0/0:0.000:-0.11,-0.64,-4.70\t0/0:0.000:-0.19,-0.46,-2.54\t0/0:0.000:-0.02,-1.38,-5.00\t0/0:0.000:-0.48,-0.48,-0.48\t0/0:0.000:-0.06,-0.92,-5.00\t0/0:0.000:-0.48,-0.48,-0.48\t0/0:0.000:-0.02,-1.26,-5.00\t0/0:0.000:-0.18,-0.47,-2.47\t0/0:0.000:-0.16,-0.51,-2.43\t0/0:0.000:-0.01,-1.73,-5.00\t0/0:0.000:-0.19,-0.46,-2.79\t0/0:0.000:-0.06,-0.91,-5.00\t0/0:0.000:-0.03,-1.20,-5.00\t0/0:0.000:-0.18,-0.48,-2.35\t0/0:0.000:-0.03,-1.21,-5.00\t0/0:0.000:-0.05,-0.93,-5.00\t0/0:0.000:-0.03,-1.18,-5.00\t0/0:0.000:-0.19,-0.46,-2.72\t0/0:0.000:-0.02,-1.45,-5.00\t0/0:0.000:-0.16,-0.51,-2.71\t0/0:0.000:-0.01,-1.80,-5.00\t0/0:0.000:-0.10,-0.69,-3.66\t0/0:0.000:-0.10,-0.69,-4.22\t0/0:0.000:-0.23,-0.44,-1.26\t0/0:0.000:-0.19,-0.46,-2.12\t0/0:0.000:-0.04,-1.07,-5.00\t0/0:0.000:-0.03,-1.23,-5.00\t0/0:0.000:-0.48,-0.48,-0.48\t0/0:0.000:-0.19,-0.46,-2.20\t0/0:0.000:-0.05,-0.95,-5.00\t0/0:0.000:-0.11,-0.65,-3.44\t0/0:0.000:-0.05,-1.00,-5.00\t0/0:0.000:-0.03,-1.17,-5.00\t0/0:0.000:-0.01,-1.77,-5.00\t0/0:0.000:-0.189687,-0.458221,-2.2426\t0/0:0.000:-0.01,-1.79,-5.00\t0/0:0.050:-0.24,-0.42,-1.39\t0/0:0.000:-0.19,-0.45,-4.70\t0/0:0.000:-0.00,-2.15,-5.00\t0/0:0.000:-0.05,-0.97,-5.00\t0/0:0.000:-0.18,-0.48,-2.23\t0/0:0.000:-0.00,-2.11,-5.00\t0/0:0.000:-0.11,-0.66,-4.70\t0/0:0.000:-0.01,-1.59,-5.00\t0/0:0.000:-0.48,-0.48,-0.48\t0/0:0.000:-0.18,-0.46,-2.63\t0/0:0.000:-0.11,-0.66,-5.00\t0/0:0.000:-0.48,-0.48,-0.48\t0/0:0.000:-0.19,-0.46,-2.43\t0/0:0.000:-0.19,-0.47,-1.84\t0/0:0.000:-0.48,-0.48,-0.48\t0/0:0.000:-0.19,-0.46,-2.21\t0/0:0.000:-0.48,-0.48,-0.48\t0/0:0.000:-0.01,-1.82,-5.00\t0/0:0.000:-0.05,-0.99,-5.00\t0/0:0.000:-0.05,-0.94,-5.00\t0/0:0.000:-0.03,-1.22,-5.00\t0/0:0.000:-0.00,-2.26,-5.00\t0/0:0.000:-0.10,-0.69,-4.00\n",
      "22\t20000291\trs185807825\tG\tT\t100\tPASS\tERATE=0.0005;AVGPOST=0.9983;AA=G;AN=2184;LDAF=0.0015;VT=SNP;SNPSOURCE=LOWCOV;RSQ=0.5564;AC=2;THETA=0.0003;AF=0.0009;ASN_AF=0.0035\tGT:DS:GL\t0/0:0.000:-0.00,-2.06,-5.00\t0/0:0.000:-0.07,-0.83,-5.00\t0/0:0.000:-0.02,-1.27,-5.00\t0/0:0.000:-0.01,-1.77,-5.00\t0/0:0.000:-0.19,-0.45,-2.14\t0/0:0.000:-0.11,-0.66,-5.00\t0/0:0.000:-0.03,-1.17,-5.00\t0/0:0.000:-0.02,-1.33,-5.00\t0/0:0.000:-0.18,-0.48,-2.43\t0/0:0.000:-0.05,-0.93,-5.00\t0/0:0.000:-0.18,-0.46,-2.76\t0/0:0.000:-0.48,-0.48,-0.48\t0/0:0.000:-0.03,-1.15,-5.00\t0/0:0.000:-0.07,-0.83,-4.40\t0/0:0.000:-0.02,-1.33,-5.00\t0/0:0.000:-0.10,-0.68,-4.40\t0/0:0.000:-0.00,-2.28,-5.00\t0/0:0.000:-0.01,-1.83,-5.00\t0/0:0.000:-0.13,-0.61,-2.24\t0/0:0.000:-0.00,-3.70,-5.00\t0/0:0.000:-0.00,-2.21,-5.00\t0/0:0.000:-0.48,-0.48,-0.48\t0/0:0.000:-0.22,-0.46,-1.25\t0/0:0.000:-0.00,-2.81,-5.00\t0/0:0.000:-0.02,-1.44,-5.00\t0/0:0.000:-0.06,-0.92,-5.00\t0/0:0.000:-0.08,-0.79,-3.21\t0/0:0.000:-0.01,-1.72,-5.00\t0/0:0.000:-0.21,-0.46,-1.42\t0/0:0.000:-0.08,-0.79,-4.40\t0/0:0.000:-0.04,-1.06,-5.00\t0/0:0.000:-0.02,-1.42,-5.00\t0/0:0.000:-0.00,-3.85,-5.00\t0/0:0.000:-0.07,-0.83,-5.00\t0/0:0.000:-0.01,-1.80,-5.00\t0/0:0.000:-0.11,-0.66,-4.40\t0/0:0.000:-0.01,-1.48,-5.00\t0/0:0.000:-0.01,-1.47,-5.00\t0/0:0.000:-0.05,-0.94,-5.00\t0/0:0.000:-0.19,-0.46,-2.54\t0/0:0.000:-0.03,-1.22,-5.00\t0/0:0.000:-0.05,-1.00,-5.00\t0/0:0.000:-0.13,-0.60,-2.19\t0/0:0.000:-0.0021071,-2.31515,-5\t0/0:0.000:-0.10,-0.68,-4.40\t0/0:0.000:-0.10,-0.68,-4.22\t0/0:0.000:-0.05,-0.93,-5.00\t0/0:0.000:-0.00,-3.38,-5.00\t0/0:0.000:-0.06,-0.90,-5.00\t0/0:0.000:-0.20,-0.45,-1.99\t0/0:0.000:-0.0193877,-1.35992,-5\t0/0:0.000:-0.02,-1.28,-5.00\t0/0:0.000:-0.00,-2.46,-5.00\t0/0:0.000:-0.00,-2.75,-5.00\t0/0:0.000:-0.18,-0.47,-2.36\t0/0:0.000:-0.10,-0.68,-4.00\t0/0:0.000:-0.02,-1.34,-5.00\t0/0:0.000:-0.00,-3.27,-5.00\t0/0:0.250:-0.03,-1.19,-5.00\t0/0:0.000:-0.07,-0.84,-5.00\t0/0:0.000:-0.01,-1.52,-5.00\t0/0:0.000:-0.11,-0.65,-3.40\t0/0:0.000:-0.10,-0.70,-4.70\t0/0:0.000:-0.03,-1.19,-5.00\t0/0:0.000:-0.03,-1.23,-5.00\t0/0:0.000:-0.06,-0.92,-5.00\t0/0:0.000:-0.00,-1.99,-5.00\t0/0:0.000:-0.01,-1.61,-5.00\t0/0:0.000:-0.01,-1.48,-5.00\t0/0:0.000:-0.10,-0.69,-4.22\t0/0:0.000:-0.01,-1.49,-5.00\t0/0:0.000:-0.01,-1.59,-5.00\t0/0:0.000:-0.10,-0.69,-3.36\t0/0:0.000:-0.01,-1.48,-5.00\t0/0:0.000:-0.08,-0.77,-4.10\t0/0:0.000:-0.05,-1.00,-5.00\t0/0:0.000:-0.10,-0.67,-3.80\t0/0:0.000:-0.03,-1.19,-5.00\t0/0:0.000:-0.06,-0.86,-5.00\t0/0:0.000:-0.06,-0.92,-5.00\t0/0:0.000:-0.11,-0.66,-4.70\t0/0:0.000:-0.00,-2.68,-5.00\t0/0:0.000:-0.05,-0.93,-5.00\t0/0:0.000:-0.01,-1.84,-5.00\t0/0:0.000:-0.0293556,-1.18469,-5\t0/0:0.000:-0.48,-0.48,-0.48\t0/0:0.000:-0.19,-0.46,-2.37\t0/0:0.000:-0.10,-0.68,-4.10\t0/0:0.000:-0.05,-0.97,-5.00\t0/0:0.000:-0.03,-1.20,-5.00\t0/0:0.000:-0.06,-0.91,-5.00\t0/0:0.000:-0.18,-0.48,-2.06\t0/0:0.000:-0.06,-0.87,-5.00\t0/0:0.000:-0.03,-1.13,-5.00\t0/0:0.000:-0.03,-1.24,-5.00\t0/0:0.000:-0.05,-0.94,-5.00\t0/0:0.000:-0.00,-3.85,-5.00\t0/0:0.000:-0.48,-0.48,-0.48\t0/0:0.000:-0.07,-0.83,-4.40\t0/0:0.000:-0.48,-0.48,-0.48\t0/0:0.000:-0.00,-2.82,-5.00\t0/0:0.000:-0.08,-0.76,-3.80\t0/0:0.000:-0.00,-3.47,-5.00\t0/0:0.000:-0.03,-1.18,-5.00\t0/0:0.000:-0.11,-0.65,-3.59\t0/0:0.000:-0.03,-1.20,-5.00\t0/0:0.000:-0.02,-1.43,-5.00\t0/0:0.000:-0.00,-2.73,-5.00\t0/0:0.000:-0.06,-0.86,-4.22\t0/0:0.000:-0.14,-0.57,-2.84\t0/0:0.000:-0.01,-1.50,-5.00\t0/0:0.000:-0.02,-1.45,-5.00\t0/0:0.000:-0.01,-1.76,-5.00\t0/0:0.000:-0.02,-1.46,-5.00\t0/0:0.000:-0.01,-1.79,-5.00\t0/0:0.000:-0.06,-0.90,-5.00\t0/0:0.000:-0.01,-1.87,-5.00\t0/0:0.000:-0.01,-1.50,-5.00\t0/0:0.000:-0.03,-1.21,-5.00\t0/0:0.000:-0.08,-0.79,-5.00\t0/0:0.000:-0.06,-0.91,-5.00\t0/0:0.000:-0.48,-0.48,-0.48\t0/0:0.000:-0.00,-2.89,-5.00\t0/0:0.000:-0.02,-1.46,-5.00\t0/0:0.000:-0.20,-0.44,-2.07\t0/0:0.000:-0.00,-2.65,-5.00\t0/0:0.000:-0.02,-1.27,-5.00\t0/0:0.000:-0.03,-1.21,-5.00\t0/0:0.000:-0.01,-1.79,-5.00\t0/0:0.000:-0.05,-0.95,-5.00\t0/0:0.000:-0.10,-0.68,-4.70\t0/0:0.000:-0.35,-0.41,-0.78\t0/0:0.000:-0.09,-0.75,-3.70\t0/0:0.000:-0.05,-0.98,-5.00\t0/0:0.000:-0.05,-0.97,-5.00\t0/0:0.000:-0.05,-0.93,-5.00\t0/0:0.000:-0.08,-0.77,-5.00\t0/0:0.000:-0.04,-1.03,-5.00\t0/0:0.000:-0.02,-1.47,-5.00\t0/0:0.000:-0.03,-1.16,-5.00\t0/0:0.000:-0.01,-1.57,-5.00\t0/0:0.000:-0.06,-0.89,-5.00\t0/0:0.000:-0.06,-0.90,-5.00\t0/0:0.000:-0.00,-2.30,-5.00\t0/0:0.000:-0.05,-0.98,-5.00\t0/0:0.000:-0.10,-0.69,-4.40\t0/0:0.000:-0.01,-1.50,-5.00\t0/0:0.000:-0.06,-0.87,-5.00\t0/0:0.000:-0.16,-0.51,-2.37\t0/0:0.000:-0.19,-0.46,-2.23\t0/0:0.050:-0.27,-0.34,-3.22\t0/0:0.000:-0.48,-0.48,-0.48\t0/0:0.000:-0.08,-0.77,-4.40\t0/0:0.000:-0.05,-0.94,-5.00\t0/0:0.000:-0.05,-0.99,-5.00\t0/0:0.000:-0.07,-0.82,-5.00\t0/0:0.000:-0.12,-0.61,-2.91\t0/0:0.000:-0.00,-1.98,-5.00\t0/0:0.000:-0.03,-1.21,-5.00\t0/0:0.000:-0.07,-0.82,-5.00\t0/0:0.000:-0.48,-0.48,-0.48\t0/0:0.000:-0.01,-1.49,-5.00\t0/0:0.000:-0.12,-0.61,-3.15\t0/0:0.000:-0.00,-2.08,-5.00\t0/0:0.000:-0.02,-1.33,-5.00\t0/0:0.000:-0.01,-1.74,-5.00\t0/0:0.050:-0.11227,-0.642561,-4.22185\t0/0:0.000:-0.22,-0.46,-1.28\t0/0:0.000:-0.10,-0.70,-4.10\t0/0:0.000:-0.10,-0.67,-3.62\t0/0:0.000:-0.03,-1.18,-5.00\t0/0:0.000:-0.03,-1.24,-5.00\t0/0:0.000:-0.10,-0.70,-4.10\t0/0:0.000:-0.01,-1.80,-5.00\t0/0:0.000:-0.48,-0.48,-0.48\t0/0:0.000:-0.02,-1.47,-5.00\t0/0:0.000:-0.06,-0.88,-5.00\t0/0:0.000:-0.03,-1.13,-5.00\t0/0:0.000:-0.48,-0.48,-0.48\t0/0:0.000:-0.18,-0.46,-2.69\t0/0:0.000:-0.03,-1.13,-5.00\t0/0:0.000:-0.48,-0.48,-0.48\t0/0:0.000:-0.18,-0.48,-2.41\t0/0:0.000:-0.18,-0.47,-2.85\t0/0:0.050:-0.48,-0.48,-0.48\t0/0:0.000:-0.08,-0.76,-4.70\t0/0:0.000:-0.10,-0.69,-4.00\t0/0:0.000:-0.11,-0.65,-3.62\t0/0:0.000:-0.48,-0.48,-0.48\t0/0:0.000:-0.01,-1.70,-5.00\t0/0:0.000:-0.00,-2.57,-5.00\n"
     ]
    }
   ],
   "source": [
    "using VCFTools\n",
    "\n",
    "fh = openvcf(\"test.08Jun17.d8b.vcf.gz\", \"r\")\n",
    "for l in 1:35\n",
    "    println(readline(fh))\n",
    "end\n",
    "close(fh)"
   ]
  },
  {
   "cell_type": "markdown",
   "metadata": {},
   "source": [
    "As in typical VCF files, it has a bunch of meta-information lines, one header line, and then one line for each each marker. In this VCF, genetic data has fields GT (genotype), DS (dosage), and GL (genotype likelihood)."
   ]
  },
  {
   "cell_type": "markdown",
   "metadata": {},
   "source": [
    "## Summary statistics\n",
    "\n",
    "Number of records (markers) in a VCF file."
   ]
  },
  {
   "cell_type": "code",
   "execution_count": 48,
   "metadata": {},
   "outputs": [
    {
     "data": {
      "text/html": [
       "1356"
      ],
      "text/plain": [
       "1356"
      ]
     },
     "execution_count": 48,
     "metadata": {},
     "output_type": "execute_result"
    },
    {
     "name": "stdout",
     "output_type": "stream",
     "text": [
      "22\t20000428\trs55902548\tG\tT\t100\tPASS\tAC=323;AVGPOST=0.9983;AA=G;AN=2184;VT=SNP;RSQ=0.9949;LDAF=0.1473;SNPSOURCE=LOWCOV;ERATE=0.0003;THETA=0.0003;AF=0.15;ASN_AF=0.0017;AMR_AF=0.15;AFR_AF=0.31;EUR_AF=0.15\tGT:DS:GL\t1/0:1.000:-5.00,0.00,-5.00\t0/0:0.000:-0.35,-0.43,-0.73\t0/1:1.000:-1.81,-0.01,-2.95\t0/0:0.000:-0.01,-1.79,-5.00\t0/0:0.000:-0.06,-0.86,-5.00\t1/0:1.000:-0.19,-0.46,-2.18\t0/0:0.000:-0.10,-0.68,-5.00\t0/1:1.000:-4.40,-0.03,-1.12\t0/1:1.000:-5.00,-0.69,-0.10\t0/0:0.000:-0.10,-0.69,-4.70\t0/0:0.000:-0.48,-0.48,-0.48\t0/1:1.000:-5.00,-0.01,-1.77\t0/0:0.000:-0.18,-0.48,-2.57\t0/0:0.000:-0.02,-1.31,-5.00\t0/0:0.000:-0.11,-0.65,-4.70\t0/0:0.000:-0.10,-0.68,-4.70\t0/0:0.000:-0.01,-1.72,-5.00\t1/0:1.000:-5.00,0.00,-5.00\t1/0:1.000:-1.38,-0.02,-2.61\t0/1:1.000:-5.00,-1.40,-0.02\t0/0:0.000:-0.00,-2.97,-5.00\t0/0:0.000:-0.19,-0.47,-2.15\t0/0:0.000:-0.44,-0.46,-0.54\t0/0:0.000:-0.00,-2.52,-5.00\t0/0:0.000:-0.05,-0.93,-5.00\t0/0:0.000:-0.01,-1.77,-5.00\t0/1:0.750:-0.22,-0.46,-1.26\t0/0:0.000:-0.03,-1.19,-5.00\t0/0:0.000:-0.21,-0.46,-1.42\t0/0:0.000:-0.19,-0.45,-2.20\t0/0:0.000:-0.12,-0.63,-3.36\t0/0:0.000:-0.00,-2.54,-5.00\t0/0:0.000:-0.00,-2.88,-5.00\t1/0:1.000:-2.10,-0.00,-4.00\t1/0:1.250:-5.00,-1.62,-0.01\t0/1:1.000:-3.06,-0.47,-0.18\t0/1:1.000:-5.00,-0.87,-0.06\t1/1:2.000:-5.00,-0.84,-0.07\t0/0:0.000:-0.05,-0.95,-5.00\t0/0:0.000:-0.02,-1.46,-5.00\t0/0:0.000:-0.14,-0.58,-2.17\t0/0:0.000:-0.01,-1.77,-5.00\t0/0:0.000:-0.06,-0.91,-5.00\t1/0:1.000:-5,0,-5\t0/0:0.000:-0.05,-0.95,-5.00\t1/0:1.000:-4.70,-0.70,-0.10\t0/0:0.000:-0.09,-0.72,-4.70\t0/0:0.000:-0.01,-1.54,-5.00\t1/1:2.000:-5.00,-0.68,-0.10\t0/0:0.000:-0.18,-0.48,-2.33\t0/0:0.000:-0.00465443,-1.97224,-5\t0/0:0.000:-0.48,-0.48,-0.48\t1/0:1.000:-5.00,-0.93,-0.05\t0/0:0.000:-0.00,-2.82,-5.00\t1/1:2.000:-5.00,-1.67,-0.01\t0/0:0.000:-0.05,-0.95,-5.00\t1/0:1.000:-5.00,-0.87,-0.06\t0/0:0.000:-0.01,-1.78,-5.00\t0/0:0.000:-0.01,-1.83,-5.00\t0/1:1.000:-5.00,-0.00,-3.70\t0/1:0.950:-0.15,-0.53,-2.39\t0/0:0.000:-0.09,-0.71,-4.70\t0/0:0.000:-0.18,-0.48,-2.56\t0/0:0.000:-0.00,-2.60,-5.00\t0/0:0.000:-0.01,-1.49,-5.00\t0/0:0.000:-0.48,-0.48,-0.48\t0/0:0.000:-0.04,-1.09,-5.00\t0/0:0.000:-0.00,-2.40,-5.00\t0/0:0.000:-0.06,-0.92,-5.00\t0/0:0.000:-0.01,-1.54,-5.00\t0/0:0.000:-0.02,-1.45,-5.00\t0/0:0.000:-0.01,-1.84,-5.00\t0/1:1.000:-2.39,-0.30,-0.31\t0/0:0.000:-0.03,-1.20,-5.00\t0/0:0.000:-0.11,-0.64,-3.44\t0/0:0.000:-0.02,-1.42,-5.00\t0/0:0.000:-0.01,-1.76,-5.00\t0/0:0.000:-0.03,-1.17,-5.00\t0/1:1.000:-5.00,-0.03,-1.18\t0/0:0.000:-0.03,-1.21,-5.00\t0/0:0.000:-0.10,-0.70,-5.00\t0/1:1.000:-5.00,0.00,-5.00\t0/0:0.000:-0.01,-1.58,-5.00\t0/1:1.000:-5.00,0.00,-5.00\t1/0:1.000:-5,-5.21375e-05,-3.92082\t0/0:0.000:-0.05,-0.92,-5.00\t0/0:0.000:-0.02,-1.45,-5.00\t0/1:1.000:-5.00,-0.00,-4.22\t0/0:0.000:-0.09,-0.73,-4.22\t0/0:0.000:-0.00,-2.03,-5.00\t0/0:0.000:-0.03,-1.20,-5.00\t0/0:0.000:-0.03,-1.19,-5.00\t0/0:0.000:-0.18,-0.48,-2.03\t0/0:0.000:-0.01,-1.59,-5.00\t0/0:0.000:-0.37,-0.42,-0.71\t0/0:0.000:-0.02,-1.45,-5.00\t0/0:0.000:-0.00,-3.36,-5.00\t1/0:1.000:-3.85,-0.05,-0.94\t1/0:1.000:-5.00,-0.84,-0.07\t1/0:1.000:-0.06,-0.90,-5.00\t0/0:0.000:-0.00,-2.56,-5.00\t0/0:0.000:-0.19,-0.47,-1.73\t0/0:0.000:-0.06,-0.90,-5.00\t0/0:0.000:-0.00,-3.74,-5.00\t0/0:0.000:-0.22,-0.46,-1.26\t1/0:1.000:-5.00,-0.00,-3.92\t0/0:0.000:-0.10,-0.69,-3.85\t0/0:0.000:-0.00,-2.76,-5.00\t0/0:0.000:-0.01,-1.70,-5.00\t0/0:0.000:-0.02,-1.46,-5.00\t0/0:0.000:-0.06,-0.92,-5.00\t0/0:0.000:-0.01,-1.73,-5.00\t0/0:0.000:-0.05,-1.00,-5.00\t1/0:1.000:-2.32,-0.01,-1.58\t0/1:0.950:-0.09,-0.73,-4.70\t0/1:1.000:-2.25,-0.02,-1.52\t0/0:0.000:-0.01,-1.50,-5.00\t0/0:0.000:-0.10,-0.70,-4.40\t0/0:0.000:-0.05,-0.99,-5.00\t0/0:0.000:-0.03,-1.19,-5.00\t0/0:0.000:-0.03,-1.25,-5.00\t0/0:0.000:-0.10,-0.67,-4.10\t0/1:1.000:-5.00,-0.00,-4.22\t0/0:0.000:-0.18,-0.48,-2.02\t0/0:0.000:-0.05,-0.94,-5.00\t0/0:0.000:-0.00,-4.70,-5.00\t0/0:0.000:-0.03,-1.23,-5.00\t0/0:0.000:-0.05,-0.93,-5.00\t0/0:0.000:-0.03,-1.20,-5.00\t1/0:1.000:-0.37,-0.24,-2.87\t0/0:0.000:-0.05,-0.94,-5.00\t0/0:0.000:-0.18,-0.48,-2.36\t0/0:0.000:-0.18,-0.48,-1.83\t0/0:0.000:-0.18,-0.48,-2.23\t0/0:0.000:-0.01,-1.78,-5.00\t0/0:0.000:-0.06,-0.90,-5.00\t0/0:0.000:-0.07,-0.82,-5.00\t0/0:0.000:-0.10,-0.70,-4.70\t0/0:0.000:-0.01,-1.48,-5.00\t0/0:0.000:-0.02,-1.46,-5.00\t0/0:0.000:-0.18,-0.48,-2.11\t0/0:0.000:-0.10,-0.69,-4.70\t0/0:0.000:-0.18,-0.47,-2.84\t0/0:0.000:-0.03,-1.21,-5.00\t1/0:1.000:-4.40,-0.00,-4.70\t0/1:0.800:-0.03,-1.20,-5.00\t0/0:0.000:-0.05,-0.98,-5.00\t0/0:0.000:-0.10,-0.68,-3.70\t0/0:0.000:-0.10,-0.67,-5.00\t0/0:0.000:-0.48,-0.48,-0.48\t0/0:0.000:-0.10,-0.68,-3.59\t0/0:0.000:-0.02,-1.26,-5.00\t0/0:0.000:-0.48,-0.48,-0.48\t0/0:0.000:-0.01,-1.80,-5.00\t1/0:1.000:-5.00,-0.66,-0.11\t0/0:0.000:-0.12,-0.61,-2.49\t1/1:2.000:-5.00,-1.30,-0.02\t0/0:0.000:-0.04,-1.07,-5.00\t0/0:0.000:-0.18,-0.48,-2.19\t0/0:0.000:-0.07,-0.85,-5.00\t1/0:1.000:-2.07,-0.04,-1.10\t0/1:1.000:-0.09,-0.74,-4.70\t0/1:1.000:-5.00,-0.00,-2.47\t0/0:0.000:-0.02,-1.26,-5.00\t1/0:1.000:-2.25,-0.01,-1.55\t0/0:0.000:-0.00,-3.17,-5.00\t0/0:0.000:-0.203967,-0.438136,-1.99396\t0/0:0.000:-0.12,-0.62,-3.18\t0/0:0.000:-0.03,-1.19,-5.00\t0/0:0.000:-0.01,-1.66,-5.00\t1/0:1.000:-5.00,-0.00,-3.74\t1/0:1.000:-1.43,-0.02,-4.70\t0/0:0.000:-0.05,-0.96,-5.00\t0/0:0.000:-0.09,-0.74,-4.70\t0/0:0.000:-0.48,-0.48,-0.48\t1/0:1.000:-5.00,-0.18,-0.47\t0/0:0.000:-0.17,-0.50,-2.70\t0/1:1.000:-5.00,-0.00,-3.80\t0/1:1.000:-2.22,-0.01,-1.97\t0/1:1.000:-5.00,-0.67,-0.10\t0/0:0.000:-0.21,-0.43,-2.01\t0/0:0.000:-0.19,-0.47,-1.83\t0/0:0.000:-0.10,-0.69,-4.40\t0/0:0.000:-0.11,-0.64,-4.10\t0/0:0.000:-0.18,-0.47,-2.80\t0/0:0.000:-0.01,-1.47,-5.00\t0/0:0.000:-0.22,-0.43,-1.61\t0/0:0.000:-0.02,-1.47,-5.00\t0/0:0.000:-0.01,-1.70,-5.00\t0/0:0.000:-0.05,-0.97,-5.00\t0/0:0.000:-0.02,-1.28,-5.00\n"
     ]
    },
    {
     "name": "stderr",
     "output_type": "stream",
     "text": [
      "WARNING: Method definition ==(Base.Nullable{S}, Base.Nullable{T}) in module Base at nullable.jl:238 overwritten in module NullableArrays at /Users/huazhou/.julia/v0.6/NullableArrays/src/operators.jl:99.\n"
     ]
    }
   ],
   "source": [
    "records = nrecords(\"test.08Jun17.d8b.vcf.gz\")"
   ]
  },
  {
   "cell_type": "markdown",
   "metadata": {},
   "source": [
    "Number of samples (individuals) in a VCF file."
   ]
  },
  {
   "cell_type": "code",
   "execution_count": 49,
   "metadata": {},
   "outputs": [
    {
     "data": {
      "text/html": [
       "191"
      ],
      "text/plain": [
       "191"
      ]
     },
     "execution_count": 49,
     "metadata": {},
     "output_type": "execute_result"
    }
   ],
   "source": [
    "samples = nsamples(\"test.08Jun17.d8b.vcf.gz\")"
   ]
  },
  {
   "cell_type": "markdown",
   "metadata": {},
   "source": [
    "`gtstats` function calculates genotype statistics for each marker with GT field."
   ]
  },
  {
   "cell_type": "code",
   "execution_count": 50,
   "metadata": {},
   "outputs": [
    {
     "name": "stdout",
     "output_type": "stream",
     "text": [
      "  1.818660 seconds (2.85 M allocations: 236.561 MiB, 3.98% gc time)\n"
     ]
    }
   ],
   "source": [
    "@time records, samples, lines, missings_by_sample, missings_by_record, \n",
    "    maf_by_record, minorallele_by_record = gtstats(\"test.08Jun17.d8b.vcf.gz\");"
   ]
  },
  {
   "cell_type": "code",
   "execution_count": 51,
   "metadata": {},
   "outputs": [
    {
     "data": {
      "text/html": [
       "1356"
      ],
      "text/plain": [
       "1356"
      ]
     },
     "execution_count": 51,
     "metadata": {},
     "output_type": "execute_result"
    }
   ],
   "source": [
    "# number of markers\n",
    "records"
   ]
  },
  {
   "cell_type": "code",
   "execution_count": 52,
   "metadata": {},
   "outputs": [
    {
     "data": {
      "text/html": [
       "191"
      ],
      "text/plain": [
       "191"
      ]
     },
     "execution_count": 52,
     "metadata": {},
     "output_type": "execute_result"
    }
   ],
   "source": [
    "# number of samples (individuals)\n",
    "samples"
   ]
  },
  {
   "cell_type": "code",
   "execution_count": 53,
   "metadata": {},
   "outputs": [
    {
     "data": {
      "text/html": [
       "1356"
      ],
      "text/plain": [
       "1356"
      ]
     },
     "execution_count": 53,
     "metadata": {},
     "output_type": "execute_result"
    }
   ],
   "source": [
    "# number of markers with GT field\n",
    "lines"
   ]
  },
  {
   "cell_type": "code",
   "execution_count": 54,
   "metadata": {},
   "outputs": [
    {
     "data": {
      "text/plain": [
       "1×191 RowVector{Int64,Array{Int64,1}}:\n",
       " 0  0  0  0  0  0  0  0  0  0  0  0  0  …  0  0  0  0  0  0  0  0  0  0  0  0"
      ]
     },
     "execution_count": 54,
     "metadata": {},
     "output_type": "execute_result"
    }
   ],
   "source": [
    "# number of missing genotypes in each sample (individual)\n",
    "missings_by_sample'"
   ]
  },
  {
   "cell_type": "code",
   "execution_count": 55,
   "metadata": {},
   "outputs": [
    {
     "data": {
      "text/plain": [
       "1×1356 RowVector{Int64,Array{Int64,1}}:\n",
       " 0  0  0  0  0  0  0  0  0  0  0  0  0  …  0  0  0  0  0  0  0  0  0  0  0  0"
      ]
     },
     "execution_count": 55,
     "metadata": {},
     "output_type": "execute_result"
    }
   ],
   "source": [
    "# number of missing genotypes in each marker with GT field\n",
    "missings_by_record'"
   ]
  },
  {
   "cell_type": "code",
   "execution_count": 56,
   "metadata": {},
   "outputs": [
    {
     "data": {
      "text/plain": [
       "1×1356 RowVector{Float64,Array{Float64,1}}:\n",
       " 0.0  0.0  0.0  0.0  0.146597  0.0  …  0.0  0.0  0.0706806  0.0706806  0.0"
      ]
     },
     "execution_count": 56,
     "metadata": {},
     "output_type": "execute_result"
    }
   ],
   "source": [
    "# minor allele frequency of each marker with GT field\n",
    "maf_by_record'"
   ]
  },
  {
   "cell_type": "code",
   "execution_count": 57,
   "metadata": {},
   "outputs": [
    {
     "data": {
      "text/plain": [
       "1×1356 RowVector{Bool,Array{Bool,1}}:\n",
       " true  true  true  true  true  true  …  true  true  true  true  true  true"
      ]
     },
     "execution_count": 57,
     "metadata": {},
     "output_type": "execute_result"
    }
   ],
   "source": [
    "# minor allele of each marker (with GT field): true (REF) or false (ALT)\n",
    "minorallele_by_record'"
   ]
  },
  {
   "cell_type": "markdown",
   "metadata": {},
   "source": [
    "The optional second argument of `gtstats` function specifies an output file or IO stream for genotype statistics per marker. Each line has fields:  \n",
    "- 1-8:  VCF fixed fields (CHROM, POS, ID, REF, ALT, QUAL, FILT, INFO)\n",
    "-   9:  Missing genotype count\n",
    "-  10:  Missing genotype frequency\n",
    "-  11:  ALT allele count\n",
    "-  12:  ALT allele frequency\n",
    "-  13:  Minor allele count             (REF allele vs ALT alleles)\n",
    "-  14:  Minor allele frequency         (REF allele vs ALT alleles)\n",
    "-  15:  HWE P-value                    (REF allele vs ALT alleles)"
   ]
  },
  {
   "cell_type": "code",
   "execution_count": 58,
   "metadata": {},
   "outputs": [
    {
     "name": "stdout",
     "output_type": "stream",
     "text": [
      "  0.307867 seconds (1.41 M allocations: 160.867 MiB, 10.76% gc time)\n"
     ]
    }
   ],
   "source": [
    "# write genotype statistics in file gtstats.out.txt\n",
    "@time gtstats(\"test.08Jun17.d8b.vcf.gz\", \"gtstats.out.txt\");"
   ]
  },
  {
   "cell_type": "code",
   "execution_count": 59,
   "metadata": {},
   "outputs": [
    {
     "name": "stdout",
     "output_type": "stream",
     "text": [
      "-rw-r--r--  1 huazhou  staff  303087 Jul 26 20:43 gtstats.out.txt\n"
     ]
    }
   ],
   "source": [
    ";ls -l gtstats.out.txt"
   ]
  },
  {
   "cell_type": "markdown",
   "metadata": {},
   "source": [
    "The output file can be read as a `DataFrame` for further analysis."
   ]
  },
  {
   "cell_type": "code",
   "execution_count": 60,
   "metadata": {},
   "outputs": [
    {
     "data": {
      "text/html": [
       "<table class=\"data-frame\"><thead><tr><th></th><th>chr</th><th>pos</th><th>id</th><th>ref</th><th>alt</th><th>qual</th><th>filt</th><th>info</th><th>missings</th><th>missfreq</th><th>nalt</th><th>altfreq</th><th>nminor</th><th>maf</th><th>hwe</th></tr></thead><tbody><tr><th>1</th><td>22</td><td>20000086</td><td>rs138720731</td><td>T</td><td>C</td><td>100</td><td>PASS</td><td>AC=7;RSQ=0.8454;AVGPOST=0.9983;AA=T;AN=2184;LDAF=0.0040;THETA=0.0001;VT=SNP;SNPSOURCE=LOWCOV;ERATE=0.0003;AF=0.0032;AFR_AF=0.01</td><td>0</td><td>0.0</td><td>382</td><td>1.0</td><td>382</td><td>0.0</td><td>1.0</td></tr><tr><th>2</th><td>22</td><td>20000146</td><td>rs73387790</td><td>G</td><td>A</td><td>100</td><td>PASS</td><td>LDAF=0.0169;RSQ=0.9482;THETA=0.0004;AA=G;AN=2184;AVGPOST=0.9972;VT=SNP;SNPSOURCE=LOWCOV;AC=36;ERATE=0.0003;AF=0.02;AFR_AF=0.07;EUR_AF=0.0013</td><td>0</td><td>0.0</td><td>382</td><td>1.0</td><td>382</td><td>0.0</td><td>1.0</td></tr><tr><th>3</th><td>22</td><td>20000199</td><td>rs183293480</td><td>A</td><td>C</td><td>100</td><td>PASS</td><td>LDAF=0.0009;THETA=0.0004;AN=2184;AVGPOST=0.9990;VT=SNP;AA=A;RSQ=0.6274;SNPSOURCE=LOWCOV;AC=1;ERATE=0.0003;AF=0.0005;EUR_AF=0.0013</td><td>0</td><td>0.0</td><td>382</td><td>1.0</td><td>382</td><td>0.0</td><td>1.0</td></tr><tr><th>4</th><td>22</td><td>20000291</td><td>rs185807825</td><td>G</td><td>T</td><td>100</td><td>PASS</td><td>ERATE=0.0005;AVGPOST=0.9983;AA=G;AN=2184;LDAF=0.0015;VT=SNP;SNPSOURCE=LOWCOV;RSQ=0.5564;AC=2;THETA=0.0003;AF=0.0009;ASN_AF=0.0035</td><td>0</td><td>0.0</td><td>382</td><td>1.0</td><td>382</td><td>0.0</td><td>1.0</td></tr><tr><th>5</th><td>22</td><td>20000428</td><td>rs55902548</td><td>G</td><td>T</td><td>100</td><td>PASS</td><td>AC=323;AVGPOST=0.9983;AA=G;AN=2184;VT=SNP;RSQ=0.9949;LDAF=0.1473;SNPSOURCE=LOWCOV;ERATE=0.0003;THETA=0.0003;AF=0.15;ASN_AF=0.0017;AMR_AF=0.15;AFR_AF=0.31;EUR_AF=0.15</td><td>0</td><td>0.0</td><td>326</td><td>0.853403</td><td>326</td><td>0.146597</td><td>0.997074</td></tr><tr><th>6</th><td>22</td><td>20000683</td><td>rs142720028</td><td>A</td><td>G</td><td>100</td><td>PASS</td><td>AVGPOST=0.9985;AN=2184;LDAF=0.0015;VT=SNP;RSQ=0.5718;AA=A;SNPSOURCE=LOWCOV;THETA=0.0007;ERATE=0.0003;AC=2;AF=0.0009;AFR_AF=0.0041</td><td>0</td><td>0.0</td><td>382</td><td>1.0</td><td>382</td><td>0.0</td><td>1.0</td></tr><tr><th>7</th><td>22</td><td>20000771</td><td>rs114690707</td><td>A</td><td>C</td><td>100</td><td>PASS</td><td>ERATE=0.0004;AC=28;AN=2184;RSQ=0.9857;VT=SNP;AA=A;LDAF=0.0130;SNPSOURCE=LOWCOV;AVGPOST=0.9995;THETA=0.0003;AF=0.01;AMR_AF=0.01;AFR_AF=0.05</td><td>0</td><td>0.0</td><td>382</td><td>1.0</td><td>382</td><td>0.0</td><td>1.0</td></tr><tr><th>8</th><td>22</td><td>20000793</td><td>rs189842693</td><td>T</td><td>C</td><td>100</td><td>PASS</td><td>ERATE=0.0004;RSQ=0.7411;AA=T;AN=2184;AVGPOST=0.9981;AC=6;VT=SNP;SNPSOURCE=LOWCOV;LDAF=0.0031;THETA=0.0003;AF=0.0027;ASN_AF=0.0035;EUR_AF=0.01</td><td>0</td><td>0.0</td><td>379</td><td>0.992147</td><td>379</td><td>0.0078534</td><td>0.990452</td></tr><tr><th>9</th><td>22</td><td>20000810</td><td>rs147349046</td><td>C</td><td>T</td><td>100</td><td>PASS</td><td>AA=C;AVGPOST=0.9994;AC=28;AN=2184;VT=SNP;RSQ=0.9802;SNPSOURCE=LOWCOV;ERATE=0.0003;LDAF=0.0128;THETA=0.0003;AF=0.01;AMR_AF=0.01;AFR_AF=0.05</td><td>0</td><td>0.0</td><td>382</td><td>1.0</td><td>382</td><td>0.0</td><td>1.0</td></tr><tr><th>10</th><td>22</td><td>20000814</td><td>rs183154520</td><td>T</td><td>C</td><td>100</td><td>PASS</td><td>ERATE=0.0004;AVGPOST=0.9985;THETA=0.0002;AA=T;AN=2184;RSQ=0.4507;VT=SNP;SNPSOURCE=LOWCOV;AC=1;LDAF=0.0012;AF=0.0005;AMR_AF=0.0028</td><td>0</td><td>0.0</td><td>382</td><td>1.0</td><td>382</td><td>0.0</td><td>1.0</td></tr><tr><th>11</th><td>22</td><td>20000864</td><td>rs187930998</td><td>G</td><td>A</td><td>100</td><td>PASS</td><td>AC=7;THETA=0.0014;AA=g;AN=2184;LDAF=0.0037;RSQ=0.8089;VT=SNP;SNPSOURCE=LOWCOV;ERATE=0.0006;AVGPOST=0.9982;AF=0.0032;ASN_AF=0.01</td><td>0</td><td>0.0</td><td>381</td><td>0.997382</td><td>381</td><td>0.0026178</td><td>0.99895</td></tr><tr><th>12</th><td>22</td><td>20000882</td><td>rs148068532</td><td>C</td><td>G</td><td>100</td><td>PASS</td><td>THETA=0.0004;AN=2184;AC=8;VT=SNP;RSQ=0.9358;AA=c;LDAF=0.0038;SNPSOURCE=LOWCOV;ERATE=0.0003;AVGPOST=0.9995;AF=0.0037;AMR_AF=0.0028;AFR_AF=0.01</td><td>0</td><td>0.0</td><td>382</td><td>1.0</td><td>382</td><td>0.0</td><td>1.0</td></tr><tr><th>13</th><td>22</td><td>20000950</td><td>rs1978233</td><td>T</td><td>G</td><td>100</td><td>PASS</td><td>ERATE=0.0005;AA=G;AN=2184;AC=2157;VT=SNP;SNPSOURCE=LOWCOV;RSQ=0.8667;LDAF=0.9857;AVGPOST=0.9950;THETA=0.0003;AF=0.99;ASN_AF=1.00;AMR_AF=0.98;AFR_AF=1.00;EUR_AF=0.97</td><td>0</td><td>0.0</td><td>13</td><td>0.0340314</td><td>369</td><td>0.0340314</td><td>0.00329789</td></tr><tr><th>14</th><td>22</td><td>20000975</td><td>rs141800233</td><td>G</td><td>A</td><td>100</td><td>PASS</td><td>ERATE=0.0004;AVGPOST=0.9994;AA=G;AN=2184;THETA=0.0005;VT=SNP;RSQ=0.9593;AC=15;SNPSOURCE=LOWCOV;LDAF=0.0069;AF=0.01;AMR_AF=0.0028;AFR_AF=0.03</td><td>0</td><td>0.0</td><td>382</td><td>1.0</td><td>382</td><td>0.0</td><td>1.0</td></tr><tr><th>15</th><td>22</td><td>20001001</td><td>rs192051979</td><td>T</td><td>C</td><td>100</td><td>PASS</td><td>LDAF=0.0027;RSQ=0.6246;AA=T;AN=2184;VT=SNP;ERATE=0.0008;AVGPOST=0.9973;SNPSOURCE=LOWCOV;AC=4;THETA=0.0003;AF=0.0018;ASN_AF=0.01;AMR_AF=0.0028</td><td>0</td><td>0.0</td><td>382</td><td>1.0</td><td>382</td><td>0.0</td><td>1.0</td></tr><tr><th>16</th><td>22</td><td>20001006</td><td>rs2079702</td><td>G</td><td>A</td><td>100</td><td>PASS</td><td>ERATE=0.0004;RSQ=0.9917;LDAF=0.8452;THETA=0.0004;AN=2184;AVGPOST=0.9972;VT=SNP;AA=A;AC=1847;SNPSOURCE=LOWCOV;AF=0.85;ASN_AF=0.61;AMR_AF=0.83;AFR_AF=0.99;EUR_AF=0.94</td><td>0</td><td>0.0</td><td>38</td><td>0.0994764</td><td>344</td><td>0.0994764</td><td>0.42152</td></tr><tr><th>17</th><td>22</td><td>20001016</td><td>rs183256914</td><td>C</td><td>T</td><td>100</td><td>PASS</td><td>AA=C;AN=2184;LDAF=0.0054;AC=6;VT=SNP;ERATE=0.0011;RSQ=0.5737;SNPSOURCE=LOWCOV;THETA=0.0003;AVGPOST=0.9940;AF=0.0027;AMR_AF=0.01;EUR_AF=0.0013</td><td>0</td><td>0.0</td><td>381</td><td>0.997382</td><td>381</td><td>0.0026178</td><td>0.99895</td></tr><tr><th>18</th><td>22</td><td>20001157</td><td>rs150580380</td><td>G</td><td>A</td><td>100</td><td>PASS</td><td>THETA=0.0002;AA=G;AN=2184;VT=SNP;LDAF=0.0020;SNPSOURCE=LOWCOV;AC=1;AVGPOST=0.9968;ERATE=0.0006;RSQ=0.3659;AF=0.0005;ASN_AF=0.0017</td><td>0</td><td>0.0</td><td>382</td><td>1.0</td><td>382</td><td>0.0</td><td>1.0</td></tr><tr><th>19</th><td>22</td><td>20001159</td><td>rs139570132</td><td>C</td><td>T</td><td>100</td><td>PASS</td><td>ERATE=0.0004;AA=C;THETA=0.0002;AC=28;RSQ=0.9466;AN=2184;AVGPOST=0.9981;VT=SNP;SNPSOURCE=LOWCOV;LDAF=0.0135;AF=0.01;AMR_AF=0.01;AFR_AF=0.05</td><td>0</td><td>0.0</td><td>382</td><td>1.0</td><td>382</td><td>0.0</td><td>1.0</td></tr><tr><th>20</th><td>22</td><td>20001219</td><td>rs143369598</td><td>G</td><td>C</td><td>100</td><td>PASS</td><td>AC=7;AVGPOST=0.9963;THETA=0.0002;AA=G;AN=2184;LDAF=0.0040;VT=SNP;SNPSOURCE=LOWCOV;RSQ=0.6315;ERATE=0.0003;AF=0.0032;ASN_AF=0.01;EUR_AF=0.0026</td><td>0</td><td>0.0</td><td>379</td><td>0.992147</td><td>379</td><td>0.0078534</td><td>0.990452</td></tr><tr><th>21</th><td>22</td><td>20001333</td><td>rs5993894</td><td>C</td><td>T</td><td>100</td><td>PASS</td><td>ERATE=0.0004;AA=C;AN=2184;LDAF=0.0528;VT=SNP;AVGPOST=0.9980;SNPSOURCE=LOWCOV;RSQ=0.9854;AC=114;THETA=0.0003;AF=0.05;AMR_AF=0.02;AFR_AF=0.21</td><td>0</td><td>0.0</td><td>382</td><td>1.0</td><td>382</td><td>0.0</td><td>1.0</td></tr><tr><th>22</th><td>22</td><td>20001434</td><td>rs146344141</td><td>C</td><td>T</td><td>100</td><td>PASS</td><td>AA=C;THETA=0.0004;AN=2184;VT=SNP;LDAF=0.0101;RSQ=0.9081;SNPSOURCE=LOWCOV;AC=21;ERATE=0.0003;AVGPOST=0.9974;AF=0.01;ASN_AF=0.0017;AMR_AF=0.01;EUR_AF=0.02</td><td>0</td><td>0.0</td><td>375</td><td>0.981675</td><td>375</td><td>0.0183246</td><td>0.946938</td></tr><tr><th>23</th><td>22</td><td>20001455</td><td>rs188666449</td><td>G</td><td>A</td><td>100</td><td>PASS</td><td>AVGPOST=0.9986;THETA=0.0004;AA=G;AN=2184;VT=SNP;LDAF=0.0011;SNPSOURCE=LOWCOV;AC=1;RSQ=0.4222;ERATE=0.0003;AF=0.0005;ASN_AF=0.0017</td><td>0</td><td>0.0</td><td>382</td><td>1.0</td><td>382</td><td>0.0</td><td>1.0</td></tr><tr><th>24</th><td>22</td><td>20001521</td><td>rs139601437</td><td>C</td><td>A</td><td>100</td><td>PASS</td><td>ERATE=0.0005;AA=C;AN=2184;RSQ=0.5048;LDAF=0.0010;VT=SNP;THETA=0.0006;AVGPOST=0.9989;SNPSOURCE=LOWCOV;AC=1;AF=0.0005;AFR_AF=0.0020</td><td>0</td><td>0.0</td><td>382</td><td>1.0</td><td>382</td><td>0.0</td><td>1.0</td></tr><tr><th>25</th><td>22</td><td>20001587</td><td>rs71788814</td><td>CAG</td><td>C</td><td>530</td><td>PASS</td><td>AA=CAG;ERATE=0.0005;AN=2184;AVGPOST=0.9952;VT=INDEL;RSQ=0.9665;LDAF=0.0519;AC=114;THETA=0.0003;AF=0.05;AMR_AF=0.03;AFR_AF=0.21;EUR_AF=0.0013</td><td>0</td><td>0.0</td><td>382</td><td>1.0</td><td>382</td><td>0.0</td><td>1.0</td></tr><tr><th>26</th><td>22</td><td>20001600</td><td>rs144217522</td><td>T</td><td>A</td><td>100</td><td>PASS</td><td>ERATE=0.0004;AC=28;AA=T;AN=2184;RSQ=0.9560;VT=SNP;THETA=0.0011;LDAF=0.0126;SNPSOURCE=LOWCOV;AVGPOST=0.9984;AF=0.01;AMR_AF=0.01;AFR_AF=0.05</td><td>0</td><td>0.0</td><td>382</td><td>1.0</td><td>382</td><td>0.0</td><td>1.0</td></tr><tr><th>27</th><td>22</td><td>20001655</td><td>rs192606530</td><td>G</td><td>A</td><td>100</td><td>PASS</td><td>ERATE=0.0004;THETA=0.0002;AA=G;AN=2184;RSQ=0.5888;LDAF=0.0018;VT=SNP;SNPSOURCE=LOWCOV;AC=2;AVGPOST=0.9982;AF=0.0009;AMR_AF=0.01</td><td>0</td><td>0.0</td><td>382</td><td>1.0</td><td>382</td><td>0.0</td><td>1.0</td></tr><tr><th>28</th><td>22</td><td>20001822</td><td>rs111598545</td><td>A</td><td>G</td><td>100</td><td>PASS</td><td>RSQ=0.9768;THETA=0.0004;AN=2184;VT=SNP;AVGPOST=0.9976;LDAF=0.0418;AA=A;SNPSOURCE=LOWCOV;ERATE=0.0003;AC=91;AF=0.04;ASN_AF=0.01;AMR_AF=0.05;AFR_AF=0.08;EUR_AF=0.04</td><td>0</td><td>0.0</td><td>373</td><td>0.97644</td><td>373</td><td>0.0235602</td><td>0.911459</td></tr><tr><th>29</th><td>22</td><td>20002011</td><td>rs184950746</td><td>C</td><td>T</td><td>100</td><td>PASS</td><td>ERATE=0.0004;AA=C;AVGPOST=0.9994;AN=2184;RSQ=0.6434;THETA=0.0005;VT=SNP;SNPSOURCE=LOWCOV;AC=1;LDAF=0.0008;AF=0.0005;AMR_AF=0.0028</td><td>0</td><td>0.0</td><td>382</td><td>1.0</td><td>382</td><td>0.0</td><td>1.0</td></tr><tr><th>30</th><td>22</td><td>20002207</td><td>rs142461772</td><td>G</td><td>A</td><td>100</td><td>PASS</td><td>AA=G;AN=2184;AC=6;VT=SNP;AVGPOST=0.9989;LDAF=0.0029;SNPSOURCE=LOWCOV;ERATE=0.0003;THETA=0.0003;RSQ=0.8802;AF=0.0027;AFR_AF=0.01</td><td>0</td><td>0.0</td><td>382</td><td>1.0</td><td>382</td><td>0.0</td><td>1.0</td></tr><tr><th>&vellip;</th><td>&vellip;</td><td>&vellip;</td><td>&vellip;</td><td>&vellip;</td><td>&vellip;</td><td>&vellip;</td><td>&vellip;</td><td>&vellip;</td><td>&vellip;</td><td>&vellip;</td><td>&vellip;</td><td>&vellip;</td><td>&vellip;</td><td>&vellip;</td><td>&vellip;</td></tr></tbody></table>"
      ],
      "text/plain": [
       "1356×15 DataFrames.DataFrame. Omitted printing of 8 columns\n",
       "│ Row  │ chr │ pos      │ id          │ ref │ alt │ qual │ filt │\n",
       "├──────┼─────┼──────────┼─────────────┼─────┼─────┼──────┼──────┤\n",
       "│ 1    │ 22  │ 20000086 │ rs138720731 │ T   │ C   │ 100  │ PASS │\n",
       "│ 2    │ 22  │ 20000146 │ rs73387790  │ G   │ A   │ 100  │ PASS │\n",
       "│ 3    │ 22  │ 20000199 │ rs183293480 │ A   │ C   │ 100  │ PASS │\n",
       "│ 4    │ 22  │ 20000291 │ rs185807825 │ G   │ T   │ 100  │ PASS │\n",
       "│ 5    │ 22  │ 20000428 │ rs55902548  │ G   │ T   │ 100  │ PASS │\n",
       "│ 6    │ 22  │ 20000683 │ rs142720028 │ A   │ G   │ 100  │ PASS │\n",
       "│ 7    │ 22  │ 20000771 │ rs114690707 │ A   │ C   │ 100  │ PASS │\n",
       "│ 8    │ 22  │ 20000793 │ rs189842693 │ T   │ C   │ 100  │ PASS │\n",
       "│ 9    │ 22  │ 20000810 │ rs147349046 │ C   │ T   │ 100  │ PASS │\n",
       "│ 10   │ 22  │ 20000814 │ rs183154520 │ T   │ C   │ 100  │ PASS │\n",
       "│ 11   │ 22  │ 20000864 │ rs187930998 │ G   │ A   │ 100  │ PASS │\n",
       "⋮\n",
       "│ 1345 │ 22  │ 20099343 │ rs185145783 │ T   │ G   │ 100  │ PASS │\n",
       "│ 1346 │ 22  │ 20099375 │ rs113501572 │ C   │ T   │ 100  │ PASS │\n",
       "│ 1347 │ 22  │ 20099406 │ rs41281429  │ G   │ C   │ 100  │ PASS │\n",
       "│ 1348 │ 22  │ 20099579 │ rs145947632 │ CCA │ C   │ 92   │ PASS │\n",
       "│ 1349 │ 22  │ 20099654 │ rs9605066   │ C   │ T   │ 100  │ PASS │\n",
       "│ 1350 │ 22  │ 20099659 │ rs142467695 │ C   │ T   │ 100  │ PASS │\n",
       "│ 1351 │ 22  │ 20099660 │ rs74605905  │ C   │ T   │ 100  │ PASS │\n",
       "│ 1352 │ 22  │ 20099674 │ rs145967409 │ T   │ C   │ 100  │ PASS │\n",
       "│ 1353 │ 22  │ 20099716 │ rs139838034 │ C   │ G   │ 100  │ PASS │\n",
       "│ 1354 │ 22  │ 20099752 │ rs73389792  │ G   │ T   │ 100  │ PASS │\n",
       "│ 1355 │ 22  │ 20099891 │ rs1048659   │ C   │ G   │ 100  │ PASS │\n",
       "│ 1356 │ 22  │ 20099941 │ rs113958995 │ T   │ A   │ 100  │ PASS │"
      ]
     },
     "execution_count": 60,
     "metadata": {},
     "output_type": "execute_result"
    },
    {
     "name": "stderr",
     "output_type": "stream",
     "text": [
      "\u001b[1m\u001b[33mWARNING: \u001b[39m\u001b[22m\u001b[33mreadtable is deprecated, use CSV.read from the CSV package instead\u001b[39m\n",
      "Stacktrace:\n",
      " [1] \u001b[1mdepwarn\u001b[22m\u001b[22m\u001b[1m(\u001b[22m\u001b[22m::String, ::Symbol\u001b[1m)\u001b[22m\u001b[22m at \u001b[1m./deprecated.jl:70\u001b[22m\u001b[22m\n",
      " [2] \u001b[1m#readtable#232\u001b[22m\u001b[22m\u001b[1m(\u001b[22m\u001b[22m::Bool, ::Char, ::Array{Char,1}, ::Char, ::Array{String,1}, ::Array{String,1}, ::Array{String,1}, ::Bool, ::Int64, ::Array{Symbol,1}, ::Array{DataType,1}, ::Bool, ::Char, ::Bool, ::Int64, ::Array{Int64,1}, ::Bool, ::Symbol, ::Bool, ::Bool, ::DataFrames.#readtable, ::String\u001b[1m)\u001b[22m\u001b[22m at \u001b[1m/Users/huazhou/.julia/v0.6/DataFrames/src/deprecated.jl:1045\u001b[22m\u001b[22m\n",
      " [3] \u001b[1m(::DataFrames.#kw##readtable)\u001b[22m\u001b[22m\u001b[1m(\u001b[22m\u001b[22m::Array{Any,1}, ::DataFrames.#readtable, ::String\u001b[1m)\u001b[22m\u001b[22m at \u001b[1m./<missing>:0\u001b[22m\u001b[22m\n",
      " [4] \u001b[1minclude_string\u001b[22m\u001b[22m\u001b[1m(\u001b[22m\u001b[22m::String, ::String\u001b[1m)\u001b[22m\u001b[22m at \u001b[1m./loading.jl:522\u001b[22m\u001b[22m\n",
      " [5] \u001b[1minclude_string\u001b[22m\u001b[22m\u001b[1m(\u001b[22m\u001b[22m::Module, ::String, ::String\u001b[1m)\u001b[22m\u001b[22m at \u001b[1m/Users/huazhou/.julia/v0.6/Compat/src/Compat.jl:88\u001b[22m\u001b[22m\n",
      " [6] \u001b[1mexecute_request\u001b[22m\u001b[22m\u001b[1m(\u001b[22m\u001b[22m::ZMQ.Socket, ::IJulia.Msg\u001b[1m)\u001b[22m\u001b[22m at \u001b[1m/Users/huazhou/.julia/v0.6/IJulia/src/execute_request.jl:180\u001b[22m\u001b[22m\n",
      " [7] \u001b[1m(::Compat.#inner#14{Array{Any,1},IJulia.#execute_request,Tuple{ZMQ.Socket,IJulia.Msg}})\u001b[22m\u001b[22m\u001b[1m(\u001b[22m\u001b[22m\u001b[1m)\u001b[22m\u001b[22m at \u001b[1m/Users/huazhou/.julia/v0.6/Compat/src/Compat.jl:332\u001b[22m\u001b[22m\n",
      " [8] \u001b[1meventloop\u001b[22m\u001b[22m\u001b[1m(\u001b[22m\u001b[22m::ZMQ.Socket\u001b[1m)\u001b[22m\u001b[22m at \u001b[1m/Users/huazhou/.julia/v0.6/IJulia/src/eventloop.jl:8\u001b[22m\u001b[22m\n",
      " [9] \u001b[1m(::IJulia.##15#18)\u001b[22m\u001b[22m\u001b[1m(\u001b[22m\u001b[22m\u001b[1m)\u001b[22m\u001b[22m at \u001b[1m./task.jl:335\u001b[22m\u001b[22m\n",
      "while loading In[60], in expression starting on line 3\n"
     ]
    }
   ],
   "source": [
    "using DataFrames\n",
    "\n",
    "gstat = readtable(\"gtstats.out.txt\"; \n",
    "    header = false, \n",
    "    separator = '\\t',\n",
    "    names = [:chr, :pos, :id, :ref, :alt, :qual, :filt, :info, :missings, :missfreq, :nalt, :altfreq, :nminor, :maf, :hwe],\n",
    "    eltypes = [String, Int, String, String, String, String, String, String, Int, Float64, Int, Float64, Int, Float64, Float64]\n",
    ")"
   ]
  },
  {
   "cell_type": "markdown",
   "metadata": {},
   "source": [
    "## Filter data fields in a VCF"
   ]
  },
  {
   "cell_type": "markdown",
   "metadata": {},
   "source": [
    "If we are only interested in the GT data in this VCF file, we can call `filter_genotype` function for filtering.  \n",
    "* The first argument is the source VCF.  \n",
    "* The second argument is the output VCF.  \n",
    "* The third argument is a vector of fields to output."
   ]
  },
  {
   "cell_type": "code",
   "execution_count": 61,
   "metadata": {},
   "outputs": [],
   "source": [
    "@time filter_genotype(\"test.08Jun17.d8b.vcf.gz\", \"test.gt.vcf.gz\", [\"GT\"])"
   ]
  },
  {
   "cell_type": "code",
   "execution_count": 62,
   "metadata": {},
   "outputs": [
    {
     "name": "stdout",
     "output_type": "stream",
     "text": [
      "  1.385339 seconds (5.44 M allocations: 437.482 MiB, 8.01% gc time)\n",
      "-rw-r--r--  1 huazhou  staff  71055 Jul 26 20:43 test.gt.vcf.gz\n"
     ]
    }
   ],
   "source": [
    ";ls -l test.gt.vcf.gz"
   ]
  },
  {
   "cell_type": "markdown",
   "metadata": {},
   "source": [
    "The first 35 lines of the resultant file are"
   ]
  },
  {
   "cell_type": "code",
   "execution_count": 63,
   "metadata": {},
   "outputs": [
    {
     "name": "stdout",
     "output_type": "stream",
     "text": [
      "##fileformat=VCFv4.1\n",
      "##INFO=<ID=LDAF,Number=1,Type=Float,Description=\"MLE Allele Frequency Accounting for LD\">\n",
      "##INFO=<ID=AVGPOST,Number=1,Type=Float,Description=\"Average posterior probability from MaCH/Thunder\">\n",
      "##INFO=<ID=RSQ,Number=1,Type=Float,Description=\"Genotype imputation quality from MaCH/Thunder\">\n",
      "##INFO=<ID=ERATE,Number=1,Type=Float,Description=\"Per-marker Mutation rate from MaCH/Thunder\">\n",
      "##INFO=<ID=THETA,Number=1,Type=Float,Description=\"Per-marker Transition rate from MaCH/Thunder\">\n",
      "##INFO=<ID=CIEND,Number=2,Type=Integer,Description=\"Confidence interval around END for imprecise variants\">\n",
      "##INFO=<ID=CIPOS,Number=2,Type=Integer,Description=\"Confidence interval around POS for imprecise variants\">\n",
      "##INFO=<ID=END,Number=1,Type=Integer,Description=\"End position of the variant described in this record\">\n",
      "##INFO=<ID=HOMLEN,Number=.,Type=Integer,Description=\"Length of base pair identical micro-homology at event breakpoints\">\n",
      "##INFO=<ID=HOMSEQ,Number=.,Type=String,Description=\"Sequence of base pair identical micro-homology at event breakpoints\">\n",
      "##INFO=<ID=SVLEN,Number=1,Type=Integer,Description=\"Difference in length between REF and ALT alleles\">\n",
      "##INFO=<ID=SVTYPE,Number=1,Type=String,Description=\"Type of structural variant\">\n",
      "##INFO=<ID=AC,Number=.,Type=Integer,Description=\"Alternate Allele Count\">\n",
      "##INFO=<ID=AN,Number=1,Type=Integer,Description=\"Total Allele Count\">\n",
      "##ALT=<ID=DEL,Description=\"Deletion\">\n",
      "##FORMAT=<ID=GT,Number=1,Type=String,Description=\"Genotype\">\n",
      "##FORMAT=<ID=DS,Number=1,Type=Float,Description=\"Genotype dosage from MaCH/Thunder\">\n",
      "##FORMAT=<ID=GL,Number=.,Type=Float,Description=\"Genotype Likelihoods\">\n",
      "##INFO=<ID=AA,Number=1,Type=String,Description=\"Ancestral Allele, ftp://ftp.1000genomes.ebi.ac.uk/vol1/ftp/pilot_data/technical/reference/ancestral_alignments/README\">\n",
      "##INFO=<ID=AF,Number=1,Type=Float,Description=\"Global Allele Frequency based on AC/AN\">\n",
      "##INFO=<ID=AMR_AF,Number=1,Type=Float,Description=\"Allele Frequency for samples from AMR based on AC/AN\">\n",
      "##INFO=<ID=ASN_AF,Number=1,Type=Float,Description=\"Allele Frequency for samples from ASN based on AC/AN\">\n",
      "##INFO=<ID=AFR_AF,Number=1,Type=Float,Description=\"Allele Frequency for samples from AFR based on AC/AN\">\n",
      "##INFO=<ID=EUR_AF,Number=1,Type=Float,Description=\"Allele Frequency for samples from EUR based on AC/AN\">\n",
      "##INFO=<ID=VT,Number=1,Type=String,Description=\"indicates what type of variant the line represents\">\n",
      "##INFO=<ID=SNPSOURCE,Number=.,Type=String,Description=\"indicates if a snp was called when analysing the low coverage or exome alignment data\">\n",
      "##reference=GRCh37\n",
      "##reference=GRCh37\n",
      "#CHROM\tPOS\tID\tREF\tALT\tQUAL\tFILTER\tINFO\tFORMAT\tHG00096\tHG00097\tHG00099\tHG00100\tHG00101\tHG00102\tHG00103\tHG00104\tHG00106\tHG00108\tHG00109\tHG00110\tHG00111\tHG00112\tHG00113\tHG00114\tHG00116\tHG00117\tHG00118\tHG00119\tHG00120\tHG00121\tHG00122\tHG00123\tHG00124\tHG00125\tHG00126\tHG00127\tHG00128\tHG00129\tHG00130\tHG00131\tHG00133\tHG00134\tHG00135\tHG00136\tHG00137\tHG00138\tHG00139\tHG00140\tHG00141\tHG00142\tHG00143\tHG00146\tHG00148\tHG00149\tHG00150\tHG00151\tHG00152\tHG00154\tHG00155\tHG00156\tHG00158\tHG00159\tHG00160\tHG00171\tHG00173\tHG00174\tHG00176\tHG00177\tHG00178\tHG00179\tHG00180\tHG00182\tHG00183\tHG00185\tHG00186\tHG00187\tHG00188\tHG00189\tHG00190\tHG00231\tHG00232\tHG00233\tHG00234\tHG00235\tHG00236\tHG00237\tHG00238\tHG00239\tHG00240\tHG00242\tHG00243\tHG00244\tHG00245\tHG00246\tHG00247\tHG00249\tHG00250\tHG00251\tHG00252\tHG00253\tHG00254\tHG00255\tHG00256\tHG00257\tHG00258\tHG00259\tHG00260\tHG00261\tHG00262\tHG00263\tHG00264\tHG00265\tHG00266\tHG00267\tHG00268\tHG00269\tHG00270\tHG00271\tHG00272\tHG00273\tHG00274\tHG00275\tHG00276\tHG00277\tHG00278\tHG00280\tHG00281\tHG00282\tHG00284\tHG00285\tHG00306\tHG00309\tHG00310\tHG00311\tHG00312\tHG00313\tHG00315\tHG00318\tHG00319\tHG00320\tHG00321\tHG00323\tHG00324\tHG00325\tHG00326\tHG00327\tHG00328\tHG00329\tHG00330\tHG00331\tHG00332\tHG00334\tHG00335\tHG00336\tHG00337\tHG00338\tHG00339\tHG00341\tHG00342\tHG00343\tHG00344\tHG00345\tHG00346\tHG00349\tHG00350\tHG00351\tHG00353\tHG00355\tHG00356\tHG00357\tHG00358\tHG00359\tHG00360\tHG00361\tHG00362\tHG00364\tHG00366\tHG00367\tHG00369\tHG00372\tHG00373\tHG00375\tHG00376\tHG00377\tHG00378\tHG00381\tHG00382\tHG00383\tHG00384\tHG00403\tHG00404\tHG00406\tHG00407\tHG00418\tHG00419\tHG00421\tHG00422\tHG00427\tHG00428\n",
      "22\t20000086\trs138720731\tT\tC\t100\tPASS\tAC=7;RSQ=0.8454;AVGPOST=0.9983;AA=T;AN=2184;LDAF=0.0040;THETA=0.0001;VT=SNP;SNPSOURCE=LOWCOV;ERATE=0.0003;AF=0.0032;AFR_AF=0.01\tGT\t0/0\t0/0\t0/0\t0/0\t0/0\t0/0\t0/0\t0/0\t0/0\t0/0\t0/0\t0/0\t0/0\t0/0\t0/0\t0/0\t0/0\t0/0\t0/0\t0/0\t0/0\t0/0\t0/0\t0/0\t0/0\t0/0\t0/0\t0/0\t0/0\t0/0\t0/0\t0/0\t0/0\t0/0\t0/0\t0/0\t0/0\t0/0\t0/0\t0/0\t0/0\t0/0\t0/0\t0/0\t0/0\t0/0\t0/0\t0/0\t0/0\t0/0\t0/0\t0/0\t0/0\t0/0\t0/0\t0/0\t0/0\t0/0\t0/0\t0/0\t0/0\t0/0\t0/0\t0/0\t0/0\t0/0\t0/0\t0/0\t0/0\t0/0\t0/0\t0/0\t0/0\t0/0\t0/0\t0/0\t0/0\t0/0\t0/0\t0/0\t0/0\t0/0\t0/0\t0/0\t0/0\t0/0\t0/0\t0/0\t0/0\t0/0\t0/0\t0/0\t0/0\t0/0\t0/0\t0/0\t0/0\t0/0\t0/0\t0/0\t0/0\t0/0\t0/0\t0/0\t0/0\t0/0\t0/0\t0/0\t0/0\t0/0\t0/0\t0/0\t0/0\t0/0\t0/0\t0/0\t0/0\t0/0\t0/0\t0/0\t0/0\t0/0\t0/0\t0/0\t0/0\t0/0\t0/0\t0/0\t0/0\t0/0\t0/0\t0/0\t0/0\t0/0\t0/0\t0/0\t0/0\t0/0\t0/0\t0/0\t0/0\t0/0\t0/0\t0/0\t0/0\t0/0\t0/0\t0/0\t0/0\t0/0\t0/0\t0/0\t0/0\t0/0\t0/0\t0/0\t0/0\t0/0\t0/0\t0/0\t0/0\t0/0\t0/0\t0/0\t0/0\t0/0\t0/0\t0/0\t0/0\t0/0\t0/0\t0/0\t0/0\t0/0\t0/0\t0/0\t0/0\t0/0\t0/0\t0/0\t0/0\t0/0\t0/0\t0/0\t0/0\t0/0\t0/0\t0/0\t0/0\t0/0\t0/0\n",
      "22\t20000146\trs73387790\tG\tA\t100\tPASS\tLDAF=0.0169;RSQ=0.9482;THETA=0.0004;AA=G;AN=2184;AVGPOST=0.9972;VT=SNP;SNPSOURCE=LOWCOV;AC=36;ERATE=0.0003;AF=0.02;AFR_AF=0.07;EUR_AF=0.0013\tGT\t0/0\t0/0\t0/0\t0/0\t0/0\t0/0\t0/0\t0/0\t0/0\t0/0\t0/0\t0/0\t0/0\t0/0\t0/0\t0/0\t0/0\t0/0\t0/0\t0/0\t0/0\t0/0\t0/0\t0/0\t0/0\t0/0\t0/0\t0/0\t0/0\t0/0\t0/0\t0/0\t0/0\t0/0\t0/0\t0/0\t0/0\t0/0\t0/0\t0/0\t0/0\t0/0\t0/0\t0/0\t0/0\t0/0\t0/0\t0/0\t0/0\t0/0\t0/0\t0/0\t0/0\t0/0\t0/0\t0/0\t0/0\t0/0\t0/0\t0/0\t0/0\t0/0\t0/0\t0/0\t0/0\t0/0\t0/0\t0/0\t0/0\t0/0\t0/0\t0/0\t0/0\t0/0\t0/0\t0/0\t0/0\t0/0\t0/0\t0/0\t0/0\t0/0\t0/0\t0/0\t0/0\t0/0\t0/0\t0/0\t0/0\t0/0\t0/0\t0/0\t0/0\t0/0\t0/0\t0/0\t0/0\t0/0\t0/0\t0/0\t0/0\t0/0\t0/0\t0/0\t0/0\t0/0\t0/0\t0/0\t0/0\t0/0\t0/0\t0/0\t0/0\t0/0\t0/0\t0/0\t0/0\t0/0\t0/0\t0/0\t0/0\t0/0\t0/0\t0/0\t0/0\t0/0\t0/0\t0/0\t0/0\t0/0\t0/0\t0/0\t0/0\t0/0\t0/0\t0/0\t0/0\t0/0\t0/0\t0/0\t0/0\t0/0\t0/0\t0/0\t0/0\t0/0\t0/0\t0/0\t0/0\t0/0\t0/0\t0/0\t0/0\t0/0\t0/0\t0/0\t0/0\t0/0\t0/0\t0/0\t0/0\t0/0\t0/0\t0/0\t0/0\t0/0\t0/0\t0/0\t0/0\t0/0\t0/0\t0/0\t0/0\t0/0\t0/0\t0/0\t0/0\t0/0\t0/0\t0/0\t0/0\t0/0\t0/0\t0/0\t0/0\t0/0\t0/0\t0/0\t0/0\t0/0\t0/0\n",
      "22\t20000199\trs183293480\tA\tC\t100\tPASS\tLDAF=0.0009;THETA=0.0004;AN=2184;AVGPOST=0.9990;VT=SNP;AA=A;RSQ=0.6274;SNPSOURCE=LOWCOV;AC=1;ERATE=0.0003;AF=0.0005;EUR_AF=0.0013\tGT\t0/0\t0/0\t0/0\t0/0\t0/0\t0/0\t0/0\t0/0\t0/0\t0/0\t0/0\t0/0\t0/0\t0/0\t0/0\t0/0\t0/0\t0/0\t0/0\t0/0\t0/0\t0/0\t0/0\t0/0\t0/0\t0/0\t0/0\t0/0\t0/0\t0/0\t0/0\t0/0\t0/0\t0/0\t0/0\t0/0\t0/0\t0/0\t0/0\t0/0\t0/0\t0/0\t0/0\t0/0\t0/0\t0/0\t0/0\t0/0\t0/0\t0/0\t0/0\t0/0\t0/0\t0/0\t0/0\t0/0\t0/0\t0/0\t0/0\t0/0\t0/0\t0/0\t0/0\t0/0\t0/0\t0/0\t0/0\t0/0\t0/0\t0/0\t0/0\t0/0\t0/0\t0/0\t0/0\t0/0\t0/0\t0/0\t0/0\t0/0\t0/0\t0/0\t0/0\t0/0\t0/0\t0/0\t0/0\t0/0\t0/0\t0/0\t0/0\t0/0\t0/0\t0/0\t0/0\t0/0\t0/0\t0/0\t0/0\t0/0\t0/0\t0/0\t0/0\t0/0\t0/0\t0/0\t0/0\t0/0\t0/0\t0/0\t0/0\t0/0\t0/0\t0/0\t0/0\t0/0\t0/0\t0/0\t0/0\t0/0\t0/0\t0/0\t0/0\t0/0\t0/0\t0/0\t0/0\t0/0\t0/0\t0/0\t0/0\t0/0\t0/0\t0/0\t0/0\t0/0\t0/0\t0/0\t0/0\t0/0\t0/0\t0/0\t0/0\t0/0\t0/0\t0/0\t0/0\t0/0\t0/0\t0/0\t0/0\t0/0\t0/0\t0/0\t0/0\t0/0\t0/0\t0/0\t0/0\t0/0\t0/0\t0/0\t0/0\t0/0\t0/0\t0/0\t0/0\t0/0\t0/0\t0/0\t0/0\t0/0\t0/0\t0/0\t0/0\t0/0\t0/0\t0/0\t0/0\t0/0\t0/0\t0/0\t0/0\t0/0\t0/0\t0/0\t0/0\t0/0\t0/0\t0/0\t0/0\n",
      "22\t20000291\trs185807825\tG\tT\t100\tPASS\tERATE=0.0005;AVGPOST=0.9983;AA=G;AN=2184;LDAF=0.0015;VT=SNP;SNPSOURCE=LOWCOV;RSQ=0.5564;AC=2;THETA=0.0003;AF=0.0009;ASN_AF=0.0035\tGT\t0/0\t0/0\t0/0\t0/0\t0/0\t0/0\t0/0\t0/0\t0/0\t0/0\t0/0\t0/0\t0/0\t0/0\t0/0\t0/0\t0/0\t0/0\t0/0\t0/0\t0/0\t0/0\t0/0\t0/0\t0/0\t0/0\t0/0\t0/0\t0/0\t0/0\t0/0\t0/0\t0/0\t0/0\t0/0\t0/0\t0/0\t0/0\t0/0\t0/0\t0/0\t0/0\t0/0\t0/0\t0/0\t0/0\t0/0\t0/0\t0/0\t0/0\t0/0\t0/0\t0/0\t0/0\t0/0\t0/0\t0/0\t0/0\t0/0\t0/0\t0/0\t0/0\t0/0\t0/0\t0/0\t0/0\t0/0\t0/0\t0/0\t0/0\t0/0\t0/0\t0/0\t0/0\t0/0\t0/0\t0/0\t0/0\t0/0\t0/0\t0/0\t0/0\t0/0\t0/0\t0/0\t0/0\t0/0\t0/0\t0/0\t0/0\t0/0\t0/0\t0/0\t0/0\t0/0\t0/0\t0/0\t0/0\t0/0\t0/0\t0/0\t0/0\t0/0\t0/0\t0/0\t0/0\t0/0\t0/0\t0/0\t0/0\t0/0\t0/0\t0/0\t0/0\t0/0\t0/0\t0/0\t0/0\t0/0\t0/0\t0/0\t0/0\t0/0\t0/0\t0/0\t0/0\t0/0\t0/0\t0/0\t0/0\t0/0\t0/0\t0/0\t0/0\t0/0\t0/0\t0/0\t0/0\t0/0\t0/0\t0/0\t0/0\t0/0\t0/0\t0/0\t0/0\t0/0\t0/0\t0/0\t0/0\t0/0\t0/0\t0/0\t0/0\t0/0\t0/0\t0/0\t0/0\t0/0\t0/0\t0/0\t0/0\t0/0\t0/0\t0/0\t0/0\t0/0\t0/0\t0/0\t0/0\t0/0\t0/0\t0/0\t0/0\t0/0\t0/0\t0/0\t0/0\t0/0\t0/0\t0/0\t0/0\t0/0\t0/0\t0/0\t0/0\t0/0\t0/0\t0/0\t0/0\t0/0\n",
      "22\t20000428\trs55902548\tG\tT\t100\tPASS\tAC=323;AVGPOST=0.9983;AA=G;AN=2184;VT=SNP;RSQ=0.9949;LDAF=0.1473;SNPSOURCE=LOWCOV;ERATE=0.0003;THETA=0.0003;AF=0.15;ASN_AF=0.0017;AMR_AF=0.15;AFR_AF=0.31;EUR_AF=0.15\tGT\t1/0\t0/0\t0/1\t0/0\t0/0\t1/0\t0/0\t0/1\t0/1\t0/0\t0/0\t0/1\t0/0\t0/0\t0/0\t0/0\t0/0\t1/0\t1/0\t0/1\t0/0\t0/0\t0/0\t0/0\t0/0\t0/0\t0/1\t0/0\t0/0\t0/0\t0/0\t0/0\t0/0\t1/0\t1/0\t0/1\t0/1\t1/1\t0/0\t0/0\t0/0\t0/0\t0/0\t1/0\t0/0\t1/0\t0/0\t0/0\t1/1\t0/0\t0/0\t0/0\t1/0\t0/0\t1/1\t0/0\t1/0\t0/0\t0/0\t0/1\t0/1\t0/0\t0/0\t0/0\t0/0\t0/0\t0/0\t0/0\t0/0\t0/0\t0/0\t0/0\t0/1\t0/0\t0/0\t0/0\t0/0\t0/0\t0/1\t0/0\t0/0\t0/1\t0/0\t0/1\t1/0\t0/0\t0/0\t0/1\t0/0\t0/0\t0/0\t0/0\t0/0\t0/0\t0/0\t0/0\t0/0\t1/0\t1/0\t1/0\t0/0\t0/0\t0/0\t0/0\t0/0\t1/0\t0/0\t0/0\t0/0\t0/0\t0/0\t0/0\t0/0\t1/0\t0/1\t0/1\t0/0\t0/0\t0/0\t0/0\t0/0\t0/0\t0/1\t0/0\t0/0\t0/0\t0/0\t0/0\t0/0\t1/0\t0/0\t0/0\t0/0\t0/0\t0/0\t0/0\t0/0\t0/0\t0/0\t0/0\t0/0\t0/0\t0/0\t0/0\t1/0\t0/1\t0/0\t0/0\t0/0\t0/0\t0/0\t0/0\t0/0\t0/0\t1/0\t0/0\t1/1\t0/0\t0/0\t0/0\t1/0\t0/1\t0/1\t0/0\t1/0\t0/0\t0/0\t0/0\t0/0\t0/0\t1/0\t1/0\t0/0\t0/0\t0/0\t1/0\t0/0\t0/1\t0/1\t0/1\t0/0\t0/0\t0/0\t0/0\t0/0\t0/0\t0/0\t0/0\t0/0\t0/0\t0/0\n"
     ]
    }
   ],
   "source": [
    "fh = openvcf(\"test.gt.vcf.gz\", \"r\")\n",
    "for l in 1:35\n",
    "    println(readline(fh))\n",
    "end\n",
    "close(fh)"
   ]
  },
  {
   "cell_type": "markdown",
   "metadata": {},
   "source": [
    "To extract more than one fields, say GT and DS,"
   ]
  },
  {
   "cell_type": "code",
   "execution_count": 64,
   "metadata": {},
   "outputs": [],
   "source": [
    "@time filter_genotype(\"test.08Jun17.d8b.vcf.gz\", \"test.gt.ds.vcf.gz\", [\"GT\", \"DS\"])"
   ]
  },
  {
   "cell_type": "code",
   "execution_count": 65,
   "metadata": {},
   "outputs": [
    {
     "name": "stdout",
     "output_type": "stream",
     "text": [
      "  0.552230 seconds (6.35 M allocations: 478.549 MiB, 24.71% gc time)\n",
      "-rw-r--r--  1 huazhou  staff  113566 Jul 26 20:43 test.gt.ds.vcf.gz\n"
     ]
    }
   ],
   "source": [
    ";ls -l test.gt.ds.vcf.gz"
   ]
  },
  {
   "cell_type": "markdown",
   "metadata": {},
   "source": [
    "The first 35 lines of the resultant file are"
   ]
  },
  {
   "cell_type": "code",
   "execution_count": 66,
   "metadata": {},
   "outputs": [
    {
     "name": "stdout",
     "output_type": "stream",
     "text": [
      "##fileformat=VCFv4.1\n",
      "##INFO=<ID=LDAF,Number=1,Type=Float,Description=\"MLE Allele Frequency Accounting for LD\">\n",
      "##INFO=<ID=AVGPOST,Number=1,Type=Float,Description=\"Average posterior probability from MaCH/Thunder\">\n",
      "##INFO=<ID=RSQ,Number=1,Type=Float,Description=\"Genotype imputation quality from MaCH/Thunder\">\n",
      "##INFO=<ID=ERATE,Number=1,Type=Float,Description=\"Per-marker Mutation rate from MaCH/Thunder\">\n",
      "##INFO=<ID=THETA,Number=1,Type=Float,Description=\"Per-marker Transition rate from MaCH/Thunder\">\n",
      "##INFO=<ID=CIEND,Number=2,Type=Integer,Description=\"Confidence interval around END for imprecise variants\">\n",
      "##INFO=<ID=CIPOS,Number=2,Type=Integer,Description=\"Confidence interval around POS for imprecise variants\">\n",
      "##INFO=<ID=END,Number=1,Type=Integer,Description=\"End position of the variant described in this record\">\n",
      "##INFO=<ID=HOMLEN,Number=.,Type=Integer,Description=\"Length of base pair identical micro-homology at event breakpoints\">\n",
      "##INFO=<ID=HOMSEQ,Number=.,Type=String,Description=\"Sequence of base pair identical micro-homology at event breakpoints\">\n",
      "##INFO=<ID=SVLEN,Number=1,Type=Integer,Description=\"Difference in length between REF and ALT alleles\">\n",
      "##INFO=<ID=SVTYPE,Number=1,Type=String,Description=\"Type of structural variant\">\n",
      "##INFO=<ID=AC,Number=.,Type=Integer,Description=\"Alternate Allele Count\">\n",
      "##INFO=<ID=AN,Number=1,Type=Integer,Description=\"Total Allele Count\">\n",
      "##ALT=<ID=DEL,Description=\"Deletion\">\n",
      "##FORMAT=<ID=GT,Number=1,Type=String,Description=\"Genotype\">\n",
      "##FORMAT=<ID=DS,Number=1,Type=Float,Description=\"Genotype dosage from MaCH/Thunder\">\n",
      "##FORMAT=<ID=GL,Number=.,Type=Float,Description=\"Genotype Likelihoods\">\n",
      "##INFO=<ID=AA,Number=1,Type=String,Description=\"Ancestral Allele, ftp://ftp.1000genomes.ebi.ac.uk/vol1/ftp/pilot_data/technical/reference/ancestral_alignments/README\">\n",
      "##INFO=<ID=AF,Number=1,Type=Float,Description=\"Global Allele Frequency based on AC/AN\">\n",
      "##INFO=<ID=AMR_AF,Number=1,Type=Float,Description=\"Allele Frequency for samples from AMR based on AC/AN\">\n",
      "##INFO=<ID=ASN_AF,Number=1,Type=Float,Description=\"Allele Frequency for samples from ASN based on AC/AN\">\n",
      "##INFO=<ID=AFR_AF,Number=1,Type=Float,Description=\"Allele Frequency for samples from AFR based on AC/AN\">\n",
      "##INFO=<ID=EUR_AF,Number=1,Type=Float,Description=\"Allele Frequency for samples from EUR based on AC/AN\">\n",
      "##INFO=<ID=VT,Number=1,Type=String,Description=\"indicates what type of variant the line represents\">\n",
      "##INFO=<ID=SNPSOURCE,Number=.,Type=String,Description=\"indicates if a snp was called when analysing the low coverage or exome alignment data\">\n",
      "##reference=GRCh37\n",
      "##reference=GRCh37\n",
      "#CHROM\tPOS\tID\tREF\tALT\tQUAL\tFILTER\tINFO\tFORMAT\tHG00096\tHG00097\tHG00099\tHG00100\tHG00101\tHG00102\tHG00103\tHG00104\tHG00106\tHG00108\tHG00109\tHG00110\tHG00111\tHG00112\tHG00113\tHG00114\tHG00116\tHG00117\tHG00118\tHG00119\tHG00120\tHG00121\tHG00122\tHG00123\tHG00124\tHG00125\tHG00126\tHG00127\tHG00128\tHG00129\tHG00130\tHG00131\tHG00133\tHG00134\tHG00135\tHG00136\tHG00137\tHG00138\tHG00139\tHG00140\tHG00141\tHG00142\tHG00143\tHG00146\tHG00148\tHG00149\tHG00150\tHG00151\tHG00152\tHG00154\tHG00155\tHG00156\tHG00158\tHG00159\tHG00160\tHG00171\tHG00173\tHG00174\tHG00176\tHG00177\tHG00178\tHG00179\tHG00180\tHG00182\tHG00183\tHG00185\tHG00186\tHG00187\tHG00188\tHG00189\tHG00190\tHG00231\tHG00232\tHG00233\tHG00234\tHG00235\tHG00236\tHG00237\tHG00238\tHG00239\tHG00240\tHG00242\tHG00243\tHG00244\tHG00245\tHG00246\tHG00247\tHG00249\tHG00250\tHG00251\tHG00252\tHG00253\tHG00254\tHG00255\tHG00256\tHG00257\tHG00258\tHG00259\tHG00260\tHG00261\tHG00262\tHG00263\tHG00264\tHG00265\tHG00266\tHG00267\tHG00268\tHG00269\tHG00270\tHG00271\tHG00272\tHG00273\tHG00274\tHG00275\tHG00276\tHG00277\tHG00278\tHG00280\tHG00281\tHG00282\tHG00284\tHG00285\tHG00306\tHG00309\tHG00310\tHG00311\tHG00312\tHG00313\tHG00315\tHG00318\tHG00319\tHG00320\tHG00321\tHG00323\tHG00324\tHG00325\tHG00326\tHG00327\tHG00328\tHG00329\tHG00330\tHG00331\tHG00332\tHG00334\tHG00335\tHG00336\tHG00337\tHG00338\tHG00339\tHG00341\tHG00342\tHG00343\tHG00344\tHG00345\tHG00346\tHG00349\tHG00350\tHG00351\tHG00353\tHG00355\tHG00356\tHG00357\tHG00358\tHG00359\tHG00360\tHG00361\tHG00362\tHG00364\tHG00366\tHG00367\tHG00369\tHG00372\tHG00373\tHG00375\tHG00376\tHG00377\tHG00378\tHG00381\tHG00382\tHG00383\tHG00384\tHG00403\tHG00404\tHG00406\tHG00407\tHG00418\tHG00419\tHG00421\tHG00422\tHG00427\tHG00428\n",
      "22\t20000086\trs138720731\tT\tC\t100\tPASS\tAC=7;RSQ=0.8454;AVGPOST=0.9983;AA=T;AN=2184;LDAF=0.0040;THETA=0.0001;VT=SNP;SNPSOURCE=LOWCOV;ERATE=0.0003;AF=0.0032;AFR_AF=0.01\tDS:GT\t0.000:0/0\t0.000:0/0\t0.000:0/0\t0.000:0/0\t0.000:0/0\t0.000:0/0\t0.000:0/0\t0.000:0/0\t0.000:0/0\t0.000:0/0\t0.000:0/0\t0.000:0/0\t0.000:0/0\t0.000:0/0\t0.000:0/0\t0.000:0/0\t0.000:0/0\t0.000:0/0\t0.000:0/0\t0.000:0/0\t0.000:0/0\t0.000:0/0\t0.000:0/0\t0.000:0/0\t0.000:0/0\t0.000:0/0\t0.000:0/0\t0.000:0/0\t0.000:0/0\t0.000:0/0\t0.000:0/0\t0.000:0/0\t0.000:0/0\t0.000:0/0\t0.000:0/0\t0.000:0/0\t0.000:0/0\t0.000:0/0\t0.000:0/0\t0.000:0/0\t0.000:0/0\t0.000:0/0\t0.000:0/0\t0.000:0/0\t0.000:0/0\t0.000:0/0\t0.000:0/0\t0.000:0/0\t0.000:0/0\t0.000:0/0\t0.000:0/0\t0.000:0/0\t0.000:0/0\t0.000:0/0\t0.000:0/0\t0.000:0/0\t0.000:0/0\t0.000:0/0\t0.000:0/0\t0.000:0/0\t0.000:0/0\t0.000:0/0\t0.000:0/0\t0.000:0/0\t0.000:0/0\t0.000:0/0\t0.000:0/0\t0.000:0/0\t0.000:0/0\t0.000:0/0\t0.000:0/0\t0.050:0/0\t0.000:0/0\t0.000:0/0\t0.000:0/0\t0.000:0/0\t0.000:0/0\t0.000:0/0\t0.000:0/0\t0.000:0/0\t0.000:0/0\t0.000:0/0\t0.000:0/0\t0.000:0/0\t0.000:0/0\t0.000:0/0\t0.000:0/0\t0.000:0/0\t0.000:0/0\t0.000:0/0\t0.000:0/0\t0.000:0/0\t0.000:0/0\t0.000:0/0\t0.000:0/0\t0.000:0/0\t0.000:0/0\t0.000:0/0\t0.000:0/0\t0.000:0/0\t0.000:0/0\t0.000:0/0\t0.000:0/0\t0.000:0/0\t0.000:0/0\t0.000:0/0\t0.000:0/0\t0.000:0/0\t0.000:0/0\t0.000:0/0\t0.000:0/0\t0.000:0/0\t0.000:0/0\t0.000:0/0\t0.000:0/0\t0.000:0/0\t0.000:0/0\t0.000:0/0\t0.000:0/0\t0.000:0/0\t0.000:0/0\t0.000:0/0\t0.000:0/0\t0.000:0/0\t0.000:0/0\t0.000:0/0\t0.000:0/0\t0.000:0/0\t0.000:0/0\t0.000:0/0\t0.000:0/0\t0.050:0/0\t0.000:0/0\t0.000:0/0\t0.000:0/0\t0.000:0/0\t0.000:0/0\t0.000:0/0\t0.000:0/0\t0.000:0/0\t0.000:0/0\t0.450:0/0\t0.000:0/0\t0.000:0/0\t0.000:0/0\t0.000:0/0\t0.000:0/0\t0.000:0/0\t0.000:0/0\t0.000:0/0\t0.000:0/0\t0.000:0/0\t0.000:0/0\t0.000:0/0\t0.000:0/0\t0.000:0/0\t0.000:0/0\t0.000:0/0\t0.000:0/0\t0.000:0/0\t0.000:0/0\t0.000:0/0\t0.000:0/0\t0.000:0/0\t0.000:0/0\t0.000:0/0\t0.000:0/0\t0.000:0/0\t0.000:0/0\t0.000:0/0\t0.000:0/0\t0.000:0/0\t0.000:0/0\t0.000:0/0\t0.000:0/0\t0.000:0/0\t0.000:0/0\t0.000:0/0\t0.000:0/0\t0.000:0/0\t0.000:0/0\t0.050:0/0\t0.050:0/0\t0.000:0/0\t0.000:0/0\t0.000:0/0\t0.000:0/0\t0.000:0/0\t0.000:0/0\t0.000:0/0\t0.000:0/0\n",
      "22\t20000146\trs73387790\tG\tA\t100\tPASS\tLDAF=0.0169;RSQ=0.9482;THETA=0.0004;AA=G;AN=2184;AVGPOST=0.9972;VT=SNP;SNPSOURCE=LOWCOV;AC=36;ERATE=0.0003;AF=0.02;AFR_AF=0.07;EUR_AF=0.0013\tDS:GT\t0.000:0/0\t0.000:0/0\t0.000:0/0\t0.000:0/0\t0.000:0/0\t0.000:0/0\t0.000:0/0\t0.000:0/0\t0.000:0/0\t0.000:0/0\t0.000:0/0\t0.000:0/0\t0.000:0/0\t0.000:0/0\t0.000:0/0\t0.000:0/0\t0.000:0/0\t0.000:0/0\t0.000:0/0\t0.000:0/0\t0.000:0/0\t0.000:0/0\t0.000:0/0\t0.000:0/0\t0.000:0/0\t0.000:0/0\t0.000:0/0\t0.000:0/0\t0.000:0/0\t0.000:0/0\t0.000:0/0\t0.000:0/0\t0.000:0/0\t0.000:0/0\t0.000:0/0\t0.000:0/0\t0.000:0/0\t0.000:0/0\t0.000:0/0\t0.000:0/0\t0.000:0/0\t0.000:0/0\t0.000:0/0\t0.000:0/0\t0.000:0/0\t0.000:0/0\t0.000:0/0\t0.000:0/0\t0.000:0/0\t0.000:0/0\t0.000:0/0\t0.000:0/0\t0.000:0/0\t0.000:0/0\t0.000:0/0\t0.000:0/0\t0.000:0/0\t0.000:0/0\t0.000:0/0\t0.000:0/0\t0.000:0/0\t0.000:0/0\t0.000:0/0\t0.000:0/0\t0.000:0/0\t0.000:0/0\t0.000:0/0\t0.000:0/0\t0.000:0/0\t0.000:0/0\t0.000:0/0\t0.000:0/0\t0.000:0/0\t0.000:0/0\t0.000:0/0\t0.000:0/0\t0.000:0/0\t0.000:0/0\t0.000:0/0\t0.000:0/0\t0.000:0/0\t0.000:0/0\t0.000:0/0\t0.000:0/0\t0.000:0/0\t0.000:0/0\t0.000:0/0\t0.000:0/0\t0.000:0/0\t0.000:0/0\t0.000:0/0\t0.000:0/0\t0.000:0/0\t0.000:0/0\t0.000:0/0\t0.000:0/0\t0.000:0/0\t0.000:0/0\t0.000:0/0\t0.000:0/0\t0.000:0/0\t0.000:0/0\t0.000:0/0\t0.000:0/0\t0.000:0/0\t0.000:0/0\t0.000:0/0\t0.000:0/0\t0.000:0/0\t0.000:0/0\t0.000:0/0\t0.000:0/0\t0.000:0/0\t0.000:0/0\t0.000:0/0\t0.000:0/0\t0.000:0/0\t0.000:0/0\t0.000:0/0\t0.000:0/0\t0.000:0/0\t0.000:0/0\t0.000:0/0\t0.000:0/0\t0.000:0/0\t0.000:0/0\t0.000:0/0\t0.000:0/0\t0.000:0/0\t0.000:0/0\t0.000:0/0\t0.000:0/0\t0.000:0/0\t0.000:0/0\t0.000:0/0\t0.000:0/0\t0.000:0/0\t0.000:0/0\t0.000:0/0\t0.000:0/0\t0.000:0/0\t0.000:0/0\t0.000:0/0\t0.000:0/0\t0.000:0/0\t0.000:0/0\t0.000:0/0\t0.000:0/0\t0.000:0/0\t0.000:0/0\t0.000:0/0\t0.000:0/0\t0.000:0/0\t0.000:0/0\t0.000:0/0\t0.000:0/0\t0.000:0/0\t0.000:0/0\t0.000:0/0\t0.000:0/0\t0.000:0/0\t0.000:0/0\t0.000:0/0\t0.000:0/0\t0.000:0/0\t0.000:0/0\t0.000:0/0\t0.000:0/0\t0.000:0/0\t0.000:0/0\t0.000:0/0\t0.000:0/0\t0.000:0/0\t0.000:0/0\t0.000:0/0\t0.000:0/0\t0.000:0/0\t0.000:0/0\t0.000:0/0\t0.000:0/0\t0.000:0/0\t0.000:0/0\t0.000:0/0\t0.000:0/0\t0.000:0/0\t0.000:0/0\t0.000:0/0\t0.000:0/0\t0.000:0/0\t0.000:0/0\t0.000:0/0\n",
      "22\t20000199\trs183293480\tA\tC\t100\tPASS\tLDAF=0.0009;THETA=0.0004;AN=2184;AVGPOST=0.9990;VT=SNP;AA=A;RSQ=0.6274;SNPSOURCE=LOWCOV;AC=1;ERATE=0.0003;AF=0.0005;EUR_AF=0.0013\tDS:GT\t0.000:0/0\t0.000:0/0\t0.000:0/0\t0.000:0/0\t0.000:0/0\t0.000:0/0\t0.000:0/0\t0.000:0/0\t0.000:0/0\t0.000:0/0\t0.000:0/0\t0.000:0/0\t0.000:0/0\t0.000:0/0\t0.000:0/0\t0.000:0/0\t0.000:0/0\t0.000:0/0\t0.000:0/0\t0.000:0/0\t0.000:0/0\t0.050:0/0\t0.000:0/0\t0.000:0/0\t0.000:0/0\t0.000:0/0\t0.000:0/0\t0.000:0/0\t0.000:0/0\t0.000:0/0\t0.000:0/0\t0.000:0/0\t0.000:0/0\t0.000:0/0\t0.000:0/0\t0.000:0/0\t0.000:0/0\t0.000:0/0\t0.000:0/0\t0.000:0/0\t0.000:0/0\t0.000:0/0\t0.000:0/0\t0.000:0/0\t0.000:0/0\t0.000:0/0\t0.000:0/0\t0.000:0/0\t0.000:0/0\t0.000:0/0\t0.000:0/0\t0.000:0/0\t0.000:0/0\t0.000:0/0\t0.000:0/0\t0.000:0/0\t0.000:0/0\t0.000:0/0\t0.000:0/0\t0.000:0/0\t0.000:0/0\t0.000:0/0\t0.000:0/0\t0.000:0/0\t0.000:0/0\t0.000:0/0\t0.000:0/0\t0.000:0/0\t0.000:0/0\t0.000:0/0\t0.000:0/0\t0.000:0/0\t0.000:0/0\t0.000:0/0\t0.000:0/0\t0.000:0/0\t0.000:0/0\t0.000:0/0\t0.000:0/0\t0.000:0/0\t0.000:0/0\t0.000:0/0\t0.000:0/0\t0.000:0/0\t0.000:0/0\t0.000:0/0\t0.000:0/0\t0.000:0/0\t0.000:0/0\t0.000:0/0\t0.000:0/0\t0.000:0/0\t0.000:0/0\t0.000:0/0\t0.000:0/0\t0.000:0/0\t0.000:0/0\t0.000:0/0\t0.000:0/0\t0.000:0/0\t0.000:0/0\t0.000:0/0\t0.000:0/0\t0.000:0/0\t0.000:0/0\t0.000:0/0\t0.000:0/0\t0.000:0/0\t0.000:0/0\t0.000:0/0\t0.000:0/0\t0.000:0/0\t0.000:0/0\t0.000:0/0\t0.000:0/0\t0.000:0/0\t0.000:0/0\t0.000:0/0\t0.000:0/0\t0.000:0/0\t0.000:0/0\t0.000:0/0\t0.000:0/0\t0.000:0/0\t0.000:0/0\t0.000:0/0\t0.000:0/0\t0.000:0/0\t0.000:0/0\t0.000:0/0\t0.000:0/0\t0.000:0/0\t0.000:0/0\t0.000:0/0\t0.000:0/0\t0.000:0/0\t0.000:0/0\t0.000:0/0\t0.000:0/0\t0.000:0/0\t0.000:0/0\t0.000:0/0\t0.000:0/0\t0.000:0/0\t0.000:0/0\t0.000:0/0\t0.000:0/0\t0.000:0/0\t0.000:0/0\t0.000:0/0\t0.000:0/0\t0.000:0/0\t0.000:0/0\t0.000:0/0\t0.000:0/0\t0.000:0/0\t0.000:0/0\t0.000:0/0\t0.000:0/0\t0.000:0/0\t0.000:0/0\t0.000:0/0\t0.000:0/0\t0.000:0/0\t0.000:0/0\t0.000:0/0\t0.000:0/0\t0.000:0/0\t0.050:0/0\t0.000:0/0\t0.000:0/0\t0.000:0/0\t0.000:0/0\t0.000:0/0\t0.000:0/0\t0.000:0/0\t0.000:0/0\t0.000:0/0\t0.000:0/0\t0.000:0/0\t0.000:0/0\t0.000:0/0\t0.000:0/0\t0.000:0/0\t0.000:0/0\t0.000:0/0\t0.000:0/0\t0.000:0/0\t0.000:0/0\t0.000:0/0\t0.000:0/0\n"
     ]
    },
    {
     "name": "stdout",
     "output_type": "stream",
     "text": [
      "22\t20000291\trs185807825\tG\tT\t100\tPASS\tERATE=0.0005;AVGPOST=0.9983;AA=G;AN=2184;LDAF=0.0015;VT=SNP;SNPSOURCE=LOWCOV;RSQ=0.5564;AC=2;THETA=0.0003;AF=0.0009;ASN_AF=0.0035\tDS:GT\t0.000:0/0\t0.000:0/0\t0.000:0/0\t0.000:0/0\t0.000:0/0\t0.000:0/0\t0.000:0/0\t0.000:0/0\t0.000:0/0\t0.000:0/0\t0.000:0/0\t0.000:0/0\t0.000:0/0\t0.000:0/0\t0.000:0/0\t0.000:0/0\t0.000:0/0\t0.000:0/0\t0.000:0/0\t0.000:0/0\t0.000:0/0\t0.000:0/0\t0.000:0/0\t0.000:0/0\t0.000:0/0\t0.000:0/0\t0.000:0/0\t0.000:0/0\t0.000:0/0\t0.000:0/0\t0.000:0/0\t0.000:0/0\t0.000:0/0\t0.000:0/0\t0.000:0/0\t0.000:0/0\t0.000:0/0\t0.000:0/0\t0.000:0/0\t0.000:0/0\t0.000:0/0\t0.000:0/0\t0.000:0/0\t0.000:0/0\t0.000:0/0\t0.000:0/0\t0.000:0/0\t0.000:0/0\t0.000:0/0\t0.000:0/0\t0.000:0/0\t0.000:0/0\t0.000:0/0\t0.000:0/0\t0.000:0/0\t0.000:0/0\t0.000:0/0\t0.000:0/0\t0.250:0/0\t0.000:0/0\t0.000:0/0\t0.000:0/0\t0.000:0/0\t0.000:0/0\t0.000:0/0\t0.000:0/0\t0.000:0/0\t0.000:0/0\t0.000:0/0\t0.000:0/0\t0.000:0/0\t0.000:0/0\t0.000:0/0\t0.000:0/0\t0.000:0/0\t0.000:0/0\t0.000:0/0\t0.000:0/0\t0.000:0/0\t0.000:0/0\t0.000:0/0\t0.000:0/0\t0.000:0/0\t0.000:0/0\t0.000:0/0\t0.000:0/0\t0.000:0/0\t0.000:0/0\t0.000:0/0\t0.000:0/0\t0.000:0/0\t0.000:0/0\t0.000:0/0\t0.000:0/0\t0.000:0/0\t0.000:0/0\t0.000:0/0\t0.000:0/0\t0.000:0/0\t0.000:0/0\t0.000:0/0\t0.000:0/0\t0.000:0/0\t0.000:0/0\t0.000:0/0\t0.000:0/0\t0.000:0/0\t0.000:0/0\t0.000:0/0\t0.000:0/0\t0.000:0/0\t0.000:0/0\t0.000:0/0\t0.000:0/0\t0.000:0/0\t0.000:0/0\t0.000:0/0\t0.000:0/0\t0.000:0/0\t0.000:0/0\t0.000:0/0\t0.000:0/0\t0.000:0/0\t0.000:0/0\t0.000:0/0\t0.000:0/0\t0.000:0/0\t0.000:0/0\t0.000:0/0\t0.000:0/0\t0.000:0/0\t0.000:0/0\t0.000:0/0\t0.000:0/0\t0.000:0/0\t0.000:0/0\t0.000:0/0\t0.000:0/0\t0.000:0/0\t0.000:0/0\t0.000:0/0\t0.000:0/0\t0.000:0/0\t0.000:0/0\t0.000:0/0\t0.000:0/0\t0.000:0/0\t0.000:0/0\t0.000:0/0\t0.000:0/0\t0.050:0/0\t0.000:0/0\t0.000:0/0\t0.000:0/0\t0.000:0/0\t0.000:0/0\t0.000:0/0\t0.000:0/0\t0.000:0/0\t0.000:0/0\t0.000:0/0\t0.000:0/0\t0.000:0/0\t0.000:0/0\t0.000:0/0\t0.000:0/0\t0.050:0/0\t0.000:0/0\t0.000:0/0\t0.000:0/0\t0.000:0/0\t0.000:0/0\t0.000:0/0\t0.000:0/0\t0.000:0/0\t0.000:0/0\t0.000:0/0\t0.000:0/0\t0.000:0/0\t0.000:0/0\t0.000:0/0\t0.000:0/0\t0.000:0/0\t0.000:0/0\t0.050:0/0\t0.000:0/0\t0.000:0/0\t0.000:0/0\t0.000:0/0\t0.000:0/0\t0.000:0/0\n",
      "22\t20000428\trs55902548\tG\tT\t100\tPASS\tAC=323;AVGPOST=0.9983;AA=G;AN=2184;VT=SNP;RSQ=0.9949;LDAF=0.1473;SNPSOURCE=LOWCOV;ERATE=0.0003;THETA=0.0003;AF=0.15;ASN_AF=0.0017;AMR_AF=0.15;AFR_AF=0.31;EUR_AF=0.15\tDS:GT\t1.000:1/0\t0.000:0/0\t1.000:0/1\t0.000:0/0\t0.000:0/0\t1.000:1/0\t0.000:0/0\t1.000:0/1\t1.000:0/1\t0.000:0/0\t0.000:0/0\t1.000:0/1\t0.000:0/0\t0.000:0/0\t0.000:0/0\t0.000:0/0\t0.000:0/0\t1.000:1/0\t1.000:1/0\t1.000:0/1\t0.000:0/0\t0.000:0/0\t0.000:0/0\t0.000:0/0\t0.000:0/0\t0.000:0/0\t0.750:0/1\t0.000:0/0\t0.000:0/0\t0.000:0/0\t0.000:0/0\t0.000:0/0\t0.000:0/0\t1.000:1/0\t1.250:1/0\t1.000:0/1\t1.000:0/1\t2.000:1/1\t0.000:0/0\t0.000:0/0\t0.000:0/0\t0.000:0/0\t0.000:0/0\t1.000:1/0\t0.000:0/0\t1.000:1/0\t0.000:0/0\t0.000:0/0\t2.000:1/1\t0.000:0/0\t0.000:0/0\t0.000:0/0\t1.000:1/0\t0.000:0/0\t2.000:1/1\t0.000:0/0\t1.000:1/0\t0.000:0/0\t0.000:0/0\t1.000:0/1\t0.950:0/1\t0.000:0/0\t0.000:0/0\t0.000:0/0\t0.000:0/0\t0.000:0/0\t0.000:0/0\t0.000:0/0\t0.000:0/0\t0.000:0/0\t0.000:0/0\t0.000:0/0\t1.000:0/1\t0.000:0/0\t0.000:0/0\t0.000:0/0\t0.000:0/0\t0.000:0/0\t1.000:0/1\t0.000:0/0\t0.000:0/0\t1.000:0/1\t0.000:0/0\t1.000:0/1\t1.000:1/0\t0.000:0/0\t0.000:0/0\t1.000:0/1\t0.000:0/0\t0.000:0/0\t0.000:0/0\t0.000:0/0\t0.000:0/0\t0.000:0/0\t0.000:0/0\t0.000:0/0\t0.000:0/0\t1.000:1/0\t1.000:1/0\t1.000:1/0\t0.000:0/0\t0.000:0/0\t0.000:0/0\t0.000:0/0\t0.000:0/0\t1.000:1/0\t0.000:0/0\t0.000:0/0\t0.000:0/0\t0.000:0/0\t0.000:0/0\t0.000:0/0\t0.000:0/0\t1.000:1/0\t0.950:0/1\t1.000:0/1\t0.000:0/0\t0.000:0/0\t0.000:0/0\t0.000:0/0\t0.000:0/0\t0.000:0/0\t1.000:0/1\t0.000:0/0\t0.000:0/0\t0.000:0/0\t0.000:0/0\t0.000:0/0\t0.000:0/0\t1.000:1/0\t0.000:0/0\t0.000:0/0\t0.000:0/0\t0.000:0/0\t0.000:0/0\t0.000:0/0\t0.000:0/0\t0.000:0/0\t0.000:0/0\t0.000:0/0\t0.000:0/0\t0.000:0/0\t0.000:0/0\t0.000:0/0\t1.000:1/0\t0.800:0/1\t0.000:0/0\t0.000:0/0\t0.000:0/0\t0.000:0/0\t0.000:0/0\t0.000:0/0\t0.000:0/0\t0.000:0/0\t1.000:1/0\t0.000:0/0\t2.000:1/1\t0.000:0/0\t0.000:0/0\t0.000:0/0\t1.000:1/0\t1.000:0/1\t1.000:0/1\t0.000:0/0\t1.000:1/0\t0.000:0/0\t0.000:0/0\t0.000:0/0\t0.000:0/0\t0.000:0/0\t1.000:1/0\t1.000:1/0\t0.000:0/0\t0.000:0/0\t0.000:0/0\t1.000:1/0\t0.000:0/0\t1.000:0/1\t1.000:0/1\t1.000:0/1\t0.000:0/0\t0.000:0/0\t0.000:0/0\t0.000:0/0\t0.000:0/0\t0.000:0/0\t0.000:0/0\t0.000:0/0\t0.000:0/0\t0.000:0/0\t0.000:0/0\n"
     ]
    }
   ],
   "source": [
    "fh = openvcf(\"test.gt.ds.vcf.gz\", \"r\")\n",
    "for l in 1:35\n",
    "    println(readline(fh))\n",
    "end\n",
    "close(fh)"
   ]
  },
  {
   "cell_type": "markdown",
   "metadata": {},
   "source": [
    "Note the data fields in the output file is in alphabet order, which may be different from the order in original VCF."
   ]
  },
  {
   "cell_type": "markdown",
   "metadata": {},
   "source": [
    "## Convert GT to numeric arrays\n",
    "\n",
    "There are differnt SNP models. The *additive* SNP model essentially counts the number of **minor allele** (0, 1 or 2) per genotype. Other SNP models are *dominant* and *recessive*, both in terms of the **minor allele**. When `ALT` allele is the minor allele, genotypes are translated to real number according to\n",
    "\n",
    "| Genotype | VCF GT | `model=:additive` | `model=:dominant` | `model=:recessive` |    \n",
    "|:---:|:---:|:---:|:---:|:---:|  \n",
    "| ALT,ALT | 0/0, 0&#124;0 | 2 | 1 | 1 |  \n",
    "| REF,ALT | 0/1, 0&#124;1 | 1 | 1 | 0 |  \n",
    "| REF,REF | 1/1, 1&#124;1 | 0 | 0 | 0 |  \n",
    "| missing | . | Null | Null | Null | \n",
    "\n",
    "When `REF` allele is the minor allele, genotypes are translated according to\n",
    "\n",
    "| Genotype | VCF GT | `model=:additive` | `model=:dominant` | `model=:recessive` |    \n",
    "|:---:|:---:|:---:|:---:|:---:|  \n",
    "| ALT,ALT | 0/0, 0&#124;0 | 0 | 0 | 0 |  \n",
    "| REF,ALT | 0/1, 0&#124;1, 1/0, 1&#124;0 | 1 | 1 | 0 |  \n",
    "| REF,REF | 1/1, 1&#124;1 | 2 | 1 | 1 |  \n",
    "| missing | . | Null | Null | Null |\n",
    "\n",
    "To properly record the missing genotypes, VCFTools convert VCF GT data to `NullableArray`s. Each element of a nullable array `A` is of type `Nullable{T}`. `isnull(A[i, j]) == true` indicates that `A[i, j]` is a missing genotype. See the [NullableArrays.jl](https://github.com/JuliaStats/NullableArrays.jl) package for detailed documentation. "
   ]
  },
  {
   "cell_type": "markdown",
   "metadata": {},
   "source": [
    "Convert GT data in VCF file test.08Jun17.d8b.vcf.gz to a `Nullable{Float64}` array. Impute the missing genotypes according to allele frequency, center the dosages around 2MAF, and scale the dosages by `sqrt(2MAF*(1-MAF))`."
   ]
  },
  {
   "cell_type": "code",
   "execution_count": 67,
   "metadata": {},
   "outputs": [
    {
     "data": {
      "text/plain": [
       "191×1356 NullableArrays.NullableArray{Float64,2}:\n",
       " 0.0  0.0  0.0  0.0  1.41301    0.0  …  0.0  0.0  -0.390016  -0.390016  0.0\n",
       " 0.0  0.0  0.0  0.0  -0.586138  0.0     0.0  0.0  -0.390016  -0.390016  0.0\n",
       " 0.0  0.0  0.0  0.0  1.41301    0.0     0.0  0.0  -0.390016  -0.390016  0.0\n",
       " 0.0  0.0  0.0  0.0  -0.586138  0.0     0.0  0.0  -0.390016  -0.390016  0.0\n",
       " 0.0  0.0  0.0  0.0  -0.586138  0.0     0.0  0.0  -0.390016  -0.390016  0.0\n",
       " 0.0  0.0  0.0  0.0  1.41301    0.0  …  0.0  0.0  -0.390016  -0.390016  0.0\n",
       " 0.0  0.0  0.0  0.0  -0.586138  0.0     0.0  0.0  2.36899    2.36899    0.0\n",
       " 0.0  0.0  0.0  0.0  1.41301    0.0     0.0  0.0  -0.390016  -0.390016  0.0\n",
       " 0.0  0.0  0.0  0.0  1.41301    0.0     0.0  0.0  -0.390016  -0.390016  0.0\n",
       " 0.0  0.0  0.0  0.0  -0.586138  0.0     0.0  0.0  -0.390016  -0.390016  0.0\n",
       " 0.0  0.0  0.0  0.0  -0.586138  0.0  …  0.0  0.0  2.36899    2.36899    0.0\n",
       " 0.0  0.0  0.0  0.0  1.41301    0.0     0.0  0.0  -0.390016  -0.390016  0.0\n",
       " 0.0  0.0  0.0  0.0  -0.586138  0.0     0.0  0.0  2.36899    2.36899    0.0\n",
       " ⋮                              ⋮    ⋱                                  ⋮  \n",
       " 0.0  0.0  0.0  0.0  1.41301    0.0     0.0  0.0  2.36899    2.36899    0.0\n",
       " 0.0  0.0  0.0  0.0  -0.586138  0.0  …  0.0  0.0  -0.390016  -0.390016  0.0\n",
       " 0.0  0.0  0.0  0.0  -0.586138  0.0     0.0  0.0  -0.390016  -0.390016  0.0\n",
       " 0.0  0.0  0.0  0.0  -0.586138  0.0     0.0  0.0  -0.390016  -0.390016  0.0\n",
       " 0.0  0.0  0.0  0.0  -0.586138  0.0     0.0  0.0  -0.390016  -0.390016  0.0\n",
       " 0.0  0.0  0.0  0.0  -0.586138  0.0     0.0  0.0  -0.390016  -0.390016  0.0\n",
       " 0.0  0.0  0.0  0.0  -0.586138  0.0  …  0.0  0.0  -0.390016  -0.390016  0.0\n",
       " 0.0  0.0  0.0  0.0  -0.586138  0.0     0.0  0.0  -0.390016  -0.390016  0.0\n",
       " 0.0  0.0  0.0  0.0  -0.586138  0.0     0.0  0.0  -0.390016  -0.390016  0.0\n",
       " 0.0  0.0  0.0  0.0  -0.586138  0.0     0.0  0.0  -0.390016  -0.390016  0.0\n",
       " 0.0  0.0  0.0  0.0  -0.586138  0.0     0.0  0.0  -0.390016  -0.390016  0.0\n",
       " 0.0  0.0  0.0  0.0  -0.586138  0.0  …  0.0  0.0  -0.390016  -0.390016  0.0"
      ]
     },
     "execution_count": 67,
     "metadata": {},
     "output_type": "execute_result"
    },
    {
     "name": "stdout",
     "output_type": "stream",
     "text": [
      "  0.466995 seconds (1.76 M allocations: 160.060 MiB, 9.81% gc time)\n"
     ]
    }
   ],
   "source": [
    "@time A = convert_gt(Float64, \"test.08Jun17.d8b.vcf.gz\"; model = :additive, impute = true, center = true, scale = true)"
   ]
  },
  {
   "cell_type": "markdown",
   "metadata": {},
   "source": [
    "Large VCF files easily generate numeric arrays that cannot fit into computer memory. Many analyses only need to loop over markers or sets of markers. This can be achieved by the `copy_gt!` function.\n",
    "\n",
    "* To loop over all markers in the VCF file test.08Jun17.d8b.vcf.gz:"
   ]
  },
  {
   "cell_type": "code",
   "execution_count": 68,
   "metadata": {},
   "outputs": [],
   "source": [
    "using GeneticVariation, NullableArrays, VCFTools\n",
    "\n",
    "# initialize VCF reader\n",
    "people, snps = nsamples(\"test.08Jun17.d8b.vcf.gz\"), nrecords(\"test.08Jun17.d8b.vcf.gz\")\n",
    "reader = VCF.Reader(openvcf(\"test.08Jun17.d8b.vcf.gz\"))\n",
    "# pre-allocate vector for marker data\n",
    "g = NullableArray(zeros(people))\n",
    "for j = 1:snps\n",
    "    copy_gt!(g, reader; model = :additive, impute = true, center = true, scale = true)\n",
    "    # do statistical anlaysis\n",
    "end\n",
    "close(reader)"
   ]
  },
  {
   "cell_type": "markdown",
   "metadata": {},
   "source": [
    "* To loop over markers in windows of size 25:"
   ]
  },
  {
   "cell_type": "code",
   "execution_count": 69,
   "metadata": {},
   "outputs": [
    {
     "name": "stderr",
     "output_type": "stream",
     "text": [
      "\u001b[1m\u001b[33mWARNING: \u001b[39m\u001b[22m\u001b[33mOnly 7 records left in reader; columns 8-25 are set to missing values\u001b[39m\n"
     ]
    }
   ],
   "source": [
    "using GeneticVariation, NullableArrays, VCFTools\n",
    "\n",
    "# initialize VCF reader\n",
    "people, snps = nsamples(\"test.08Jun17.d8b.vcf.gz\"), nrecords(\"test.08Jun17.d8b.vcf.gz\")\n",
    "reader = VCF.Reader(openvcf(\"test.08Jun17.d8b.vcf.gz\"))\n",
    "# pre-allocate matrix for marker data\n",
    "windowsize = 25\n",
    "g = NullableArray(zeros(people, windowsize))\n",
    "nwindows = ceil(Int, snps / windowsize)\n",
    "for j = 1:nwindows\n",
    "    copy_gt!(g, reader; model = :additive, impute = true, center = true, scale = true)\n",
    "    # do statistical anlaysis\n",
    "end\n",
    "close(reader)"
   ]
  },
  {
   "cell_type": "markdown",
   "metadata": {},
   "source": [
    "As the warning suggests, the last window has less than 25 markers. The remaining columns in the matrix `g` are set to missing values."
   ]
  }
 ],
 "metadata": {
  "kernelspec": {
   "display_name": "Julia 0.6.4",
   "language": "julia",
   "name": "julia-0.6"
  },
  "language_info": {
   "file_extension": ".jl",
   "mimetype": "application/julia",
   "name": "julia",
   "version": "0.6.4"
  },
  "toc": {
   "colors": {
    "hover_highlight": "#DAA520",
    "running_highlight": "#FF0000",
    "selected_highlight": "#FFD700"
   },
   "moveMenuLeft": true,
   "nav_menu": {
    "height": "67px",
    "width": "252px"
   },
   "navigate_menu": true,
   "number_sections": true,
   "sideBar": true,
   "threshold": 4,
   "toc_cell": false,
   "toc_position": {
    "height": "623px",
    "left": "0px",
    "right": "auto",
    "top": "105px",
    "width": "212px"
   },
   "toc_section_display": "block",
   "toc_window_display": true,
   "widenNotebook": false
  }
 },
 "nbformat": 4,
 "nbformat_minor": 2
}
