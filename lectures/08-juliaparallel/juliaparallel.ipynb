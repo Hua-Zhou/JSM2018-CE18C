{
 "cells": [
  {
   "cell_type": "markdown",
   "metadata": {
    "toc": "true"
   },
   "source": [
    "# Table of Contents\n",
    " <p><div class=\"lev1 toc-item\"><a href=\"#Parallel-Computing-in-Julia\" data-toc-modified-id=\"Parallel-Computing-in-Julia-1\"><span class=\"toc-item-num\">1&nbsp;&nbsp;</span>Parallel Computing in Julia</a></div><div class=\"lev2 toc-item\"><a href=\"#Start-Julia-with-multiple-workers/processes\" data-toc-modified-id=\"Start-Julia-with-multiple-workers/processes-11\"><span class=\"toc-item-num\">1.1&nbsp;&nbsp;</span>Start Julia with multiple workers/processes</a></div><div class=\"lev2 toc-item\"><a href=\"#addprocs(),--rmprocs(),-and-@everywhere\" data-toc-modified-id=\"addprocs(),--rmprocs(),-and-@everywhere-12\"><span class=\"toc-item-num\">1.2&nbsp;&nbsp;</span><code>addprocs()</code>,  <code>rmprocs()</code>, and <code>@everywhere</code></a></div><div class=\"lev2 toc-item\"><a href=\"#remotecall(),-@spawn\" data-toc-modified-id=\"remotecall(),-@spawn-13\"><span class=\"toc-item-num\">1.3&nbsp;&nbsp;</span><code>remotecall()</code>, <code>@spawn</code></a></div><div class=\"lev2 toc-item\"><a href=\"#Running-a-function-everywhere\" data-toc-modified-id=\"Running-a-function-everywhere-14\"><span class=\"toc-item-num\">1.4&nbsp;&nbsp;</span>Running a function everywhere</a></div><div class=\"lev2 toc-item\"><a href=\"#@parallel-and-pmap()\" data-toc-modified-id=\"@parallel-and-pmap()-15\"><span class=\"toc-item-num\">1.5&nbsp;&nbsp;</span><code>@parallel</code> and <code>pmap()</code></a></div><div class=\"lev2 toc-item\"><a href=\"#Benchmark:-find-pi\" data-toc-modified-id=\"Benchmark:-find-pi-16\"><span class=\"toc-item-num\">1.6&nbsp;&nbsp;</span>Benchmark: find pi</a></div><div class=\"lev2 toc-item\"><a href=\"#Using-pmap()-to-run-a-serial-program-on-multiple-processors-with-different-arguments-to-the-function\" data-toc-modified-id=\"Using-pmap()-to-run-a-serial-program-on-multiple-processors-with-different-arguments-to-the-function-17\"><span class=\"toc-item-num\">1.7&nbsp;&nbsp;</span>Using <code>pmap()</code> to run a serial program on multiple processors with different arguments to the function</a></div><div class=\"lev2 toc-item\"><a href=\"#When-to-use-pmap()\" data-toc-modified-id=\"When-to-use-pmap()-18\"><span class=\"toc-item-num\">1.8&nbsp;&nbsp;</span>When to use <code>pmap()</code></a></div><div class=\"lev2 toc-item\"><a href=\"#Shared-arrays\" data-toc-modified-id=\"Shared-arrays-19\"><span class=\"toc-item-num\">1.9&nbsp;&nbsp;</span>Shared arrays</a></div><div class=\"lev2 toc-item\"><a href=\"#Parallel-reduction\" data-toc-modified-id=\"Parallel-reduction-110\"><span class=\"toc-item-num\">1.10&nbsp;&nbsp;</span>Parallel reduction</a></div><div class=\"lev2 toc-item\"><a href=\"#Distributed-arrays\" data-toc-modified-id=\"Distributed-arrays-111\"><span class=\"toc-item-num\">1.11&nbsp;&nbsp;</span>Distributed arrays</a></div>"
   ]
  },
  {
   "cell_type": "markdown",
   "metadata": {},
   "source": [
    "# Parallel Computing in Julia\n",
    "\n",
    "This lecture goes over some fundamentals of parallel computing in Julia.\n",
    "\n",
    "Machine information:"
   ]
  },
  {
   "cell_type": "code",
   "execution_count": 1,
   "metadata": {},
   "outputs": [
    {
     "name": "stdout",
     "output_type": "stream",
     "text": [
      "Julia Version 0.6.4\n",
      "Commit 9d11f62bcb (2018-07-09 19:09 UTC)\n",
      "Platform Info:\n",
      "  OS: macOS (x86_64-apple-darwin14.5.0)\n",
      "  CPU: Intel(R) Core(TM) i7-6920HQ CPU @ 2.90GHz\n",
      "  WORD_SIZE: 64\n",
      "  BLAS: libopenblas (USE64BITINT DYNAMIC_ARCH NO_AFFINITY Haswell MAX_THREADS=16)\n",
      "  LAPACK: libopenblas64_\n",
      "  LIBM: libopenlibm\n",
      "  LLVM: libLLVM-3.9.1 (ORCJIT, skylake)\n"
     ]
    }
   ],
   "source": [
    "versioninfo()"
   ]
  },
  {
   "cell_type": "markdown",
   "metadata": {},
   "source": [
    "## Start Julia with multiple workers/processes\n",
    "\n",
    "The command\n",
    "```bash\n",
    "julia -p 4\n",
    "```\n",
    "will start Julia with 4 workers on a single machine.\n",
    "\n",
    "In cluster, we may for instance create a file named `$HOME/machinefile2servers` and add the name of both servers, one line for each processes meaning if you want to run two process per server you have to repeat the server name twice:\n",
    "```\n",
    "server1\n",
    "server1\n",
    "server2\n",
    "server2\n",
    "```\n",
    "Then the command\n",
    "```bash\n",
    "julia --machinefile $HOME/machinefile2servers\n",
    "```\n",
    "will run a 4 processor job, 2 on server1 and and 2 on server2."
   ]
  },
  {
   "cell_type": "markdown",
   "metadata": {},
   "source": [
    "## `addprocs()`,  `rmprocs()`, and `@everywhere`"
   ]
  },
  {
   "cell_type": "code",
   "execution_count": 2,
   "metadata": {},
   "outputs": [
    {
     "name": "stdout",
     "output_type": "stream",
     "text": [
      "BS-HUAZHOU-LAP.local\n"
     ]
    }
   ],
   "source": [
    "run(`hostname`)"
   ]
  },
  {
   "cell_type": "code",
   "execution_count": 3,
   "metadata": {},
   "outputs": [
    {
     "data": {
      "text/plain": [
       "1-element Array{Int64,1}:\n",
       " 1"
      ]
     },
     "execution_count": 3,
     "metadata": {},
     "output_type": "execute_result"
    }
   ],
   "source": [
    "workers()"
   ]
  },
  {
   "cell_type": "code",
   "execution_count": 4,
   "metadata": {},
   "outputs": [
    {
     "name": "stdout",
     "output_type": "stream",
     "text": [
      "1"
     ]
    }
   ],
   "source": [
    "print(myid())"
   ]
  },
  {
   "cell_type": "code",
   "execution_count": 5,
   "metadata": {},
   "outputs": [
    {
     "name": "stdout",
     "output_type": "stream",
     "text": [
      "1"
     ]
    }
   ],
   "source": [
    "@everywhere print(myid())"
   ]
  },
  {
   "cell_type": "code",
   "execution_count": 6,
   "metadata": {},
   "outputs": [
    {
     "data": {
      "text/plain": [
       "3-element Array{Int64,1}:\n",
       " 2\n",
       " 3\n",
       " 4"
      ]
     },
     "execution_count": 6,
     "metadata": {},
     "output_type": "execute_result"
    }
   ],
   "source": [
    "addprocs(3)"
   ]
  },
  {
   "cell_type": "code",
   "execution_count": 7,
   "metadata": {},
   "outputs": [
    {
     "name": "stdout",
     "output_type": "stream",
     "text": [
      "1\n",
      "\tFrom worker 3:\t3\n",
      "\tFrom worker 2:\t2\n",
      "\tFrom worker 4:\t4\n"
     ]
    }
   ],
   "source": [
    "@everywhere println(myid())"
   ]
  },
  {
   "cell_type": "code",
   "execution_count": 8,
   "metadata": {},
   "outputs": [
    {
     "name": "stdout",
     "output_type": "stream",
     "text": [
      "BS-HUAZHOU-LAP.local\n",
      "\tFrom worker 2:\tBS-HUAZHOU-LAP.local\n",
      "\tFrom worker 3:\tBS-HUAZHOU-LAP.local\n",
      "\tFrom worker 4:\tBS-HUAZHOU-LAP.local\n"
     ]
    }
   ],
   "source": [
    "@everywhere run(`hostname`)"
   ]
  },
  {
   "cell_type": "code",
   "execution_count": 10,
   "metadata": {},
   "outputs": [
    {
     "data": {
      "text/plain": [
       "Task (queued) @0x0000000128587850"
      ]
     },
     "execution_count": 10,
     "metadata": {},
     "output_type": "execute_result"
    }
   ],
   "source": [
    "rmprocs(2) # remove worker 2"
   ]
  },
  {
   "cell_type": "code",
   "execution_count": 11,
   "metadata": {},
   "outputs": [
    {
     "name": "stdout",
     "output_type": "stream",
     "text": [
      "(nworkers(), nprocs(), Sys.CPU_CORES) = (2, 3, 8)\n"
     ]
    }
   ],
   "source": [
    "@show nworkers(), nprocs(), Sys.CPU_CORES;"
   ]
  },
  {
   "cell_type": "code",
   "execution_count": 12,
   "metadata": {},
   "outputs": [
    {
     "name": "stdout",
     "output_type": "stream",
     "text": [
      "search: "
     ]
    },
    {
     "data": {
      "text/markdown": [
       "```\n",
       "nworkers()\n",
       "```\n",
       "\n",
       "Get the number of available worker processes. This is one less than `nprocs()`. Equal to `nprocs()` if `nprocs() == 1`.\n"
      ],
      "text/plain": [
       "```\n",
       "nworkers()\n",
       "```\n",
       "\n",
       "Get the number of available worker processes. This is one less than `nprocs()`. Equal to `nprocs()` if `nprocs() == 1`.\n"
      ]
     },
     "execution_count": 12,
     "metadata": {},
     "output_type": "execute_result"
    },
    {
     "name": "stdout",
     "output_type": "stream",
     "text": [
      "\u001b[1mn\u001b[22m\u001b[1mw\u001b[22m\u001b[1mo\u001b[22m\u001b[1mr\u001b[22m\u001b[1mk\u001b[22m\u001b[1me\u001b[22m\u001b[1mr\u001b[22m\u001b[1ms\u001b[22m i\u001b[1mn\u001b[22mit_\u001b[1mw\u001b[22m\u001b[1mo\u001b[22m\u001b[1mr\u001b[22m\u001b[1mk\u001b[22m\u001b[1me\u001b[22m\u001b[1mr\u001b[22m\n",
      "\n"
     ]
    }
   ],
   "source": [
    "?nworkers"
   ]
  },
  {
   "cell_type": "code",
   "execution_count": 13,
   "metadata": {},
   "outputs": [
    {
     "data": {
      "text/markdown": [
       "```\n",
       "nprocs()\n",
       "```\n",
       "\n",
       "Get the number of available processes.\n"
      ],
      "text/plain": [
       "```\n",
       "nprocs()\n",
       "```\n",
       "\n",
       "Get the number of available processes.\n"
      ]
     },
     "execution_count": 13,
     "metadata": {},
     "output_type": "execute_result"
    },
    {
     "name": "stdout",
     "output_type": "stream",
     "text": [
      "search: \u001b[1mn\u001b[22m\u001b[1mp\u001b[22m\u001b[1mr\u001b[22m\u001b[1mo\u001b[22m\u001b[1mc\u001b[22m\u001b[1ms\u001b[22m\n",
      "\n"
     ]
    }
   ],
   "source": [
    "?nprocs"
   ]
  },
  {
   "cell_type": "markdown",
   "metadata": {},
   "source": [
    "## `remotecall()`, `@spawn`"
   ]
  },
  {
   "cell_type": "code",
   "execution_count": 14,
   "metadata": {},
   "outputs": [
    {
     "name": "stdout",
     "output_type": "stream",
     "text": [
      "1\n",
      "\tFrom worker 3:\t3\n",
      "\tFrom worker 4:\t4\n"
     ]
    }
   ],
   "source": [
    "@everywhere println(myid())"
   ]
  },
  {
   "cell_type": "markdown",
   "metadata": {},
   "source": [
    "`remotecall()`: first argument is the function name, second argument is the processor id, the remaining are arguments"
   ]
  },
  {
   "cell_type": "code",
   "execution_count": 15,
   "metadata": {},
   "outputs": [
    {
     "data": {
      "text/plain": [
       "Future(3, 1, 13, Nullable{Any}())"
      ]
     },
     "execution_count": 15,
     "metadata": {},
     "output_type": "execute_result"
    }
   ],
   "source": [
    "# rand(4, 4) on worker 3\n",
    "r = remotecall(rand, 3, 4, 4) # lazy evaluation"
   ]
  },
  {
   "cell_type": "markdown",
   "metadata": {},
   "source": [
    "Bring value of `r` from the remote processor to the master"
   ]
  },
  {
   "cell_type": "code",
   "execution_count": 17,
   "metadata": {},
   "outputs": [
    {
     "data": {
      "text/plain": [
       "4×4 Array{Float64,2}:\n",
       " 0.337651  0.253399  0.815344   0.169948\n",
       " 0.338217  0.972971  0.204617   0.277488\n",
       " 0.319419  0.716606  0.130429   0.734783\n",
       " 0.261039  0.602682  0.0303147  0.887243"
      ]
     },
     "execution_count": 17,
     "metadata": {},
     "output_type": "execute_result"
    }
   ],
   "source": [
    "# bring to master\n",
    "fetch(r)"
   ]
  },
  {
   "cell_type": "markdown",
   "metadata": {},
   "source": [
    "Bring the index(1,1) of `r` to the master"
   ]
  },
  {
   "cell_type": "code",
   "execution_count": 18,
   "metadata": {},
   "outputs": [
    {
     "data": {
      "text/plain": [
       "0.3376511424739894"
      ]
     },
     "execution_count": 18,
     "metadata": {},
     "output_type": "execute_result"
    }
   ],
   "source": [
    "remotecall_fetch(getindex, 3, r, 1, 1)"
   ]
  },
  {
   "cell_type": "markdown",
   "metadata": {},
   "source": [
    "`@spawn` is similar to remotecall, Julia will choose the process number randomly."
   ]
  },
  {
   "cell_type": "code",
   "execution_count": 19,
   "metadata": {},
   "outputs": [
    {
     "data": {
      "text/plain": [
       "Future(3, 1, 16, Nullable{Any}())"
      ]
     },
     "execution_count": 19,
     "metadata": {},
     "output_type": "execute_result"
    }
   ],
   "source": [
    "r = @spawn rand(2, 2)"
   ]
  },
  {
   "cell_type": "code",
   "execution_count": 20,
   "metadata": {},
   "outputs": [
    {
     "data": {
      "text/plain": [
       "2×2 Array{Float64,2}:\n",
       " 0.238268  0.471547\n",
       " 0.990627  0.282843"
      ]
     },
     "execution_count": 20,
     "metadata": {},
     "output_type": "execute_result"
    }
   ],
   "source": [
    "fetch(r)"
   ]
  },
  {
   "cell_type": "markdown",
   "metadata": {},
   "source": [
    "`@spawnat` can choose the processor number to execute. In this case we are adding 1 to value of r on processor 2."
   ]
  },
  {
   "cell_type": "code",
   "execution_count": 21,
   "metadata": {},
   "outputs": [
    {
     "data": {
      "text/plain": [
       "Future(3, 1, 18, Nullable{Any}())"
      ]
     },
     "execution_count": 21,
     "metadata": {},
     "output_type": "execute_result"
    }
   ],
   "source": [
    "s = @spawnat 3 1 .+ fetch(r)"
   ]
  },
  {
   "cell_type": "code",
   "execution_count": 22,
   "metadata": {
    "collapsed": true
   },
   "outputs": [],
   "source": [
    "@everywhere p = 5  # forces the assignment of p = 5 on all processors"
   ]
  },
  {
   "cell_type": "code",
   "execution_count": 23,
   "metadata": {},
   "outputs": [
    {
     "name": "stdout",
     "output_type": "stream",
     "text": [
      "ID 1: 0.713622 5\n",
      "\tFrom worker 3:\tID 3: 0.681542 5\n",
      "\tFrom worker 4:\tID 4: 0.183807 5\n"
     ]
    }
   ],
   "source": [
    "@everywhere println(@sprintf(\"ID %d: %f %d\", myid(), rand(), p))"
   ]
  },
  {
   "cell_type": "code",
   "execution_count": 24,
   "metadata": {},
   "outputs": [
    {
     "name": "stdout",
     "output_type": "stream",
     "text": [
      "huazhou\n",
      "\tFrom worker 4:\thuazhou\n",
      "\tFrom worker 3:\thuazhou\n"
     ]
    }
   ],
   "source": [
    "@everywhere run(`whoami`)"
   ]
  },
  {
   "cell_type": "code",
   "execution_count": 25,
   "metadata": {},
   "outputs": [
    {
     "name": "stdout",
     "output_type": "stream",
     "text": [
      "\tFrom worker 4:\tBS-HUAZHOU-LAP.local\n",
      "\tFrom worker 3:\tBS-HUAZHOU-LAP.local\n",
      "BS-HUAZHOU-LAP.local\n"
     ]
    }
   ],
   "source": [
    "@everywhere run(`hostname`)"
   ]
  },
  {
   "cell_type": "markdown",
   "metadata": {},
   "source": [
    "## Running a function everywhere\n",
    "\n",
    "Let's define a function."
   ]
  },
  {
   "cell_type": "code",
   "execution_count": 26,
   "metadata": {},
   "outputs": [
    {
     "data": {
      "text/plain": [
       "count_heads (generic function with 1 method)"
      ]
     },
     "execution_count": 26,
     "metadata": {},
     "output_type": "execute_result"
    }
   ],
   "source": [
    "# purposefully left out @everywhere\n",
    "function count_heads(n)\n",
    "    println(\"My process id is $(myid())\")\n",
    "    c::Int = 0\n",
    "    for i in 1:n\n",
    "        c += rand(Bool)\n",
    "    end\n",
    "    c\n",
    "end"
   ]
  },
  {
   "cell_type": "code",
   "execution_count": 27,
   "metadata": {},
   "outputs": [
    {
     "data": {
      "text/plain": [
       "Future(4, 1, 27, Nullable{Any}())"
      ]
     },
     "execution_count": 27,
     "metadata": {},
     "output_type": "execute_result"
    }
   ],
   "source": [
    "a = @spawn count_heads(100000000)"
   ]
  },
  {
   "cell_type": "code",
   "execution_count": 28,
   "metadata": {},
   "outputs": [
    {
     "data": {
      "text/plain": [
       "Future(3, 1, 28, Nullable{Any}())"
      ]
     },
     "execution_count": 28,
     "metadata": {},
     "output_type": "execute_result"
    }
   ],
   "source": [
    "b = @spawn count_heads(100000000)"
   ]
  },
  {
   "cell_type": "code",
   "execution_count": 29,
   "metadata": {},
   "outputs": [
    {
     "ename": "LoadError",
     "evalue": "\u001b[91mOn worker 4:\n\u001b[91mUndefVarError: #count_heads not defined\u001b[39m\ndeserialize_datatype at ./serialize.jl:973\nhandle_deserialize at ./serialize.jl:677\ndeserialize at ./serialize.jl:637\nhandle_deserialize at ./serialize.jl:684\ndeserialize_global_from_main at ./distributed/clusterserialize.jl:154\nforeach at ./abstractarray.jl:1733\ndeserialize at ./distributed/clusterserialize.jl:56\nhandle_deserialize at ./serialize.jl:726\ndeserialize at ./serialize.jl:637\nhandle_deserialize at ./serialize.jl:681\ndeserialize at ./serialize.jl:637\nhandle_deserialize at ./serialize.jl:684\ndeserialize_msg at ./distributed/messages.jl:98\nmessage_handler_loop at ./distributed/process_messages.jl:161\nprocess_tcp_streams at ./distributed/process_messages.jl:118\n#99 at ./event.jl:73\u001b[39m",
     "output_type": "error",
     "traceback": [
      "\u001b[91mOn worker 4:\n\u001b[91mUndefVarError: #count_heads not defined\u001b[39m\ndeserialize_datatype at ./serialize.jl:973\nhandle_deserialize at ./serialize.jl:677\ndeserialize at ./serialize.jl:637\nhandle_deserialize at ./serialize.jl:684\ndeserialize_global_from_main at ./distributed/clusterserialize.jl:154\nforeach at ./abstractarray.jl:1733\ndeserialize at ./distributed/clusterserialize.jl:56\nhandle_deserialize at ./serialize.jl:726\ndeserialize at ./serialize.jl:637\nhandle_deserialize at ./serialize.jl:681\ndeserialize at ./serialize.jl:637\nhandle_deserialize at ./serialize.jl:684\ndeserialize_msg at ./distributed/messages.jl:98\nmessage_handler_loop at ./distributed/process_messages.jl:161\nprocess_tcp_streams at ./distributed/process_messages.jl:118\n#99 at ./event.jl:73\u001b[39m",
      "",
      "Stacktrace:",
      " [1] \u001b[1m#remotecall_fetch#141\u001b[22m\u001b[22m\u001b[1m(\u001b[22m\u001b[22m::Array{Any,1}, ::Function, ::Function, ::Base.Distributed.Worker, ::Base.Distributed.RRID, ::Vararg{Any,N} where N\u001b[1m)\u001b[22m\u001b[22m at \u001b[1m./distributed/remotecall.jl:359\u001b[22m\u001b[22m",
      " [2] \u001b[1mremotecall_fetch\u001b[22m\u001b[22m\u001b[1m(\u001b[22m\u001b[22m::Function, ::Base.Distributed.Worker, ::Base.Distributed.RRID, ::Vararg{Any,N} where N\u001b[1m)\u001b[22m\u001b[22m at \u001b[1m./distributed/remotecall.jl:351\u001b[22m\u001b[22m",
      " [3] \u001b[1m#remotecall_fetch#144\u001b[22m\u001b[22m\u001b[1m(\u001b[22m\u001b[22m::Array{Any,1}, ::Function, ::Function, ::Int64, ::Base.Distributed.RRID, ::Vararg{Any,N} where N\u001b[1m)\u001b[22m\u001b[22m at \u001b[1m./distributed/remotecall.jl:372\u001b[22m\u001b[22m",
      " [4] \u001b[1mcall_on_owner\u001b[22m\u001b[22m\u001b[1m(\u001b[22m\u001b[22m::Function, ::Future\u001b[1m)\u001b[22m\u001b[22m at \u001b[1m./distributed/remotecall.jl:445\u001b[22m\u001b[22m",
      " [5] \u001b[1mfetch\u001b[22m\u001b[22m\u001b[1m(\u001b[22m\u001b[22m::Future\u001b[1m)\u001b[22m\u001b[22m at \u001b[1m./distributed/remotecall.jl:465\u001b[22m\u001b[22m"
     ]
    }
   ],
   "source": [
    "fetch(a) + fetch(b)"
   ]
  },
  {
   "cell_type": "markdown",
   "metadata": {},
   "source": [
    "## `@parallel` and `pmap()`"
   ]
  },
  {
   "cell_type": "code",
   "execution_count": 30,
   "metadata": {
    "collapsed": true
   },
   "outputs": [],
   "source": [
    "@everywhere begin\n",
    "    function parallel_func(idx)\n",
    "        workernum = myid() - 1 \n",
    "        sleep(workernum) # sleep for wokernum seconds\n",
    "        println(\"job $idx\")\n",
    "    end\n",
    "end"
   ]
  },
  {
   "cell_type": "code",
   "execution_count": 31,
   "metadata": {},
   "outputs": [
    {
     "data": {
      "text/plain": [
       "2-element Array{Future,1}:\n",
       " Future(4, 1, 32, #NULL)\n",
       " Future(3, 1, 33, #NULL)"
      ]
     },
     "execution_count": 31,
     "metadata": {},
     "output_type": "execute_result"
    },
    {
     "name": "stdout",
     "output_type": "stream",
     "text": [
      "\tFrom worker 3:\tjob 7\n",
      "\tFrom worker 4:\tjob 1\n",
      "\tFrom worker 3:\tjob 8\n",
      "\tFrom worker 3:\tjob 9\n",
      "\tFrom worker 4:\tjob 2\n",
      "\tFrom worker 3:\tjob 10\n",
      "\tFrom worker 4:\tjob 3\n",
      "\tFrom worker 3:\tjob 11\n",
      "\tFrom worker 3:\tjob 12\n",
      "\tFrom worker 4:\tjob 4\n",
      "\tFrom worker 4:\tjob 5\n",
      "\tFrom worker 4:\tjob 6\n"
     ]
    }
   ],
   "source": [
    "# The run below will have equal number of processors involved\n",
    "@parallel for idx in 1:12\n",
    "    parallel_func(idx)\n",
    "end"
   ]
  },
  {
   "cell_type": "code",
   "execution_count": 32,
   "metadata": {},
   "outputs": [
    {
     "name": "stdout",
     "output_type": "stream",
     "text": [
      "\tFrom worker 3:\tjob 2\n",
      "\tFrom worker 4:\tjob 1\n",
      "\tFrom worker 3:\tjob 4\n",
      "\tFrom worker 4:\tjob 5\n",
      "\tFrom worker 3:\tjob 6\n",
      "\tFrom worker 3:\tjob 8\n",
      "\tFrom worker 4:\tjob 7\n",
      "\tFrom worker 3:\tjob 9\n",
      "\tFrom worker 4:\tjob 10\n",
      "\tFrom worker 3:\tjob 11\n",
      "\tFrom worker 3:\tjob 3\n"
     ]
    },
    {
     "data": {
      "text/plain": [
       "12-element Array{Void,1}:\n",
       " nothing\n",
       " nothing\n",
       " nothing\n",
       " nothing\n",
       " nothing\n",
       " nothing\n",
       " nothing\n",
       " nothing\n",
       " nothing\n",
       " nothing\n",
       " nothing\n",
       " nothing"
      ]
     },
     "execution_count": 32,
     "metadata": {},
     "output_type": "execute_result"
    },
    {
     "name": "stdout",
     "output_type": "stream",
     "text": [
      "\tFrom worker 4:\tjob 12\n"
     ]
    }
   ],
   "source": [
    "# The run below will have unequal number of processors involved\n",
    "pmap(parallel_func, 1:12)"
   ]
  },
  {
   "cell_type": "markdown",
   "metadata": {},
   "source": [
    "## Benchmark: find pi"
   ]
  },
  {
   "cell_type": "code",
   "execution_count": 33,
   "metadata": {},
   "outputs": [
    {
     "data": {
      "text/plain": [
       "3.141656276"
      ]
     },
     "execution_count": 33,
     "metadata": {},
     "output_type": "execute_result"
    },
    {
     "name": "stdout",
     "output_type": "stream",
     "text": [
      "  7.068100 seconds (84 allocations: 6.107 KiB)\n"
     ]
    }
   ],
   "source": [
    "function findpi(n)\n",
    "     inside = 0\n",
    "     for i in 1:n\n",
    "         x, y = rand(), rand()\n",
    "         if (x^2 + y^2 <= 1)\n",
    "            inside += 1\n",
    "         end\n",
    "   end\n",
    "   4 * inside / n\n",
    "end\n",
    "\n",
    "findpi(10) # compile\n",
    "@time findpi(1_000_000_000)"
   ]
  },
  {
   "cell_type": "code",
   "execution_count": 34,
   "metadata": {},
   "outputs": [
    {
     "data": {
      "text/plain": [
       "3.141606868"
      ]
     },
     "execution_count": 34,
     "metadata": {},
     "output_type": "execute_result"
    },
    {
     "name": "stdout",
     "output_type": "stream",
     "text": [
      "  2.052556 seconds (104.31 k allocations: 5.497 MiB, 0.39% gc time)\n"
     ]
    }
   ],
   "source": [
    "function parallel_findpi(n)\n",
    "    inside =  @parallel (+) for i in 1:n\n",
    "        x, y = rand(), rand()\n",
    "        x^2 + y^2 <= 1 ? 1 : 0\n",
    "     end\n",
    "     4 * inside / n\n",
    "end\n",
    "\n",
    "@time parallel_findpi(1_000_000_000)"
   ]
  },
  {
   "cell_type": "markdown",
   "metadata": {},
   "source": [
    "## Using `pmap()` to run a serial program on multiple processors with different arguments to the function"
   ]
  },
  {
   "cell_type": "code",
   "execution_count": 35,
   "metadata": {},
   "outputs": [
    {
     "name": "stdout",
     "output_type": "stream",
     "text": [
      "My process id is 1\n",
      "My process id is 1\n",
      "My process id is 1\n",
      "My process id is 1\n"
     ]
    },
    {
     "name": "stderr",
     "output_type": "stream",
     "text": [
      "\u001b[1m\u001b[36mINFO: \u001b[39m\u001b[22m\u001b[36mSerial\n",
      "\u001b[39m"
     ]
    },
    {
     "name": "stdout",
     "output_type": "stream",
     "text": [
      "[5.0, 6.40312, 7.81025, 9.21954]\n"
     ]
    },
    {
     "name": "stderr",
     "output_type": "stream",
     "text": [
      "\u001b[1m\u001b[36mINFO: \u001b[39m\u001b[22m\u001b[36mParallel\n",
      "\u001b[39m"
     ]
    },
    {
     "name": "stdout",
     "output_type": "stream",
     "text": [
      "\tFrom worker 3:\tMy process id is 3\n",
      "\tFrom worker 3:\tMy process id is 3\n",
      "\tFrom worker 3:\tMy process id is 3\n",
      "\tFrom worker 4:\tMy process id is 4\n",
      "[5.0, 6.40312, 7.81025, 9.21954]\n"
     ]
    }
   ],
   "source": [
    "x_value = [3, 4, 5, 6]\n",
    "y_value = [4, 5, 6, 7]\n",
    "\n",
    "@everywhere function hypot(x, y)\n",
    "    println(\"My process id is $(myid())\")\n",
    "    x, y = abs(x), abs(y)\n",
    "    if x > y\n",
    "        r = y / x\n",
    "        return x * sqrt(1 + r * r)\n",
    "    end\n",
    "    if y == 0\n",
    "        return zero(x)\n",
    "    end\n",
    "    r = x / y\n",
    "    return y * sqrt(1 + r * r)\n",
    "end\n",
    "\n",
    "info(\"Serial\")\n",
    "Results = map(hypot, x_value, y_value)\n",
    "println(Results)\n",
    "\n",
    "info(\"Parallel\")\n",
    "Results = pmap(hypot, x_value, y_value)\n",
    "println(Results)"
   ]
  },
  {
   "cell_type": "markdown",
   "metadata": {},
   "source": [
    "## When to use `pmap()`\n",
    "\n",
    "This example demonstrates when to use `pmap()`. If the function has not much work to do, serial version is going to be faster than parallel."
   ]
  },
  {
   "cell_type": "code",
   "execution_count": 36,
   "metadata": {
    "collapsed": true
   },
   "outputs": [],
   "source": [
    "@everywhere function NotMuchToDo(x::Int64)\n",
    "    return x^2 + x + 1.0\n",
    "end\n",
    "\n",
    "@everywhere function LotToDo(x::Int64)\n",
    "    a = 1.0\n",
    "    for i in 1:1000\n",
    "        for j in 1:5000\n",
    "            a += asinh(i + j) + acosh(i + j)\n",
    "        end\n",
    "    end\n",
    "    return a\n",
    "end"
   ]
  },
  {
   "cell_type": "code",
   "execution_count": 37,
   "metadata": {},
   "outputs": [
    {
     "name": "stderr",
     "output_type": "stream",
     "text": [
      "\u001b[1m\u001b[36mINFO: \u001b[39m\u001b[22m\u001b[36mPrecompilation\n",
      "\u001b[39m\u001b[1m\u001b[36mINFO: \u001b[39m\u001b[22m\u001b[36mTiming LotToDo function\n",
      "\u001b[39m"
     ]
    },
    {
     "name": "stdout",
     "output_type": "stream",
     "text": [
      " 23.554665 seconds (9 allocations: 1.156 KiB)\n",
      " 11.983971 seconds (9.47 k allocations: 326.984 KiB)\n",
      "  0.000015 seconds (9 allocations: 8.219 KiB)\n"
     ]
    },
    {
     "name": "stderr",
     "output_type": "stream",
     "text": [
      "\u001b[1m\u001b[36mINFO: \u001b[39m\u001b[22m\u001b[36mTiming NotMuchToDo function\n",
      "\u001b[39m"
     ]
    },
    {
     "name": "stdout",
     "output_type": "stream",
     "text": [
      "  0.084692 seconds (92.21 k allocations: 2.765 MiB)\n"
     ]
    }
   ],
   "source": [
    "info(\"Precompilation\")\n",
    "map(NotMuchToDo, 1:1000)\n",
    "pmap(NotMuchToDo, 1:1000)\n",
    "map(LotToDo, 1:100)\n",
    "pmap(LotToDo, 1:100)\n",
    "info(\"Timing LotToDo function\")\n",
    "@time map(LotToDo, 1:100)\n",
    "@time pmap(LotToDo, 1:100)\n",
    "info(\"Timing NotMuchToDo function\")\n",
    "@time map(NotMuchToDo, 1:1000)\n",
    "@time pmap(NotMuchToDo, 1:1000);"
   ]
  },
  {
   "cell_type": "markdown",
   "metadata": {},
   "source": [
    "## Shared arrays\n",
    "\n",
    "This function will print all 0.0 for `a`. That is because `a` at processor 2 has a different memory address from master."
   ]
  },
  {
   "cell_type": "code",
   "execution_count": 38,
   "metadata": {},
   "outputs": [
    {
     "data": {
      "text/plain": [
       "10-element Array{Float64,1}:\n",
       " 0.0\n",
       " 0.0\n",
       " 0.0\n",
       " 0.0\n",
       " 0.0\n",
       " 0.0\n",
       " 0.0\n",
       " 0.0\n",
       " 0.0\n",
       " 0.0"
      ]
     },
     "execution_count": 38,
     "metadata": {},
     "output_type": "execute_result"
    }
   ],
   "source": [
    "a = zeros(10)\n",
    "@parallel for i in 1:10\n",
    "    a[i] = i\n",
    "end\n",
    "a"
   ]
  },
  {
   "cell_type": "code",
   "execution_count": 39,
   "metadata": {},
   "outputs": [
    {
     "data": {
      "text/plain": [
       "10-element SharedArray{Float64,1}:\n",
       "  1.0\n",
       "  2.0\n",
       "  3.0\n",
       "  4.0\n",
       "  5.0\n",
       "  6.0\n",
       "  7.0\n",
       "  8.0\n",
       "  9.0\n",
       " 10.0"
      ]
     },
     "execution_count": 39,
     "metadata": {},
     "output_type": "execute_result"
    }
   ],
   "source": [
    "a = SharedArray{Float64}(10)\n",
    "@parallel for i in 1:10\n",
    "    a[i] = i\n",
    "end\n",
    "a"
   ]
  },
  {
   "cell_type": "code",
   "execution_count": 40,
   "metadata": {},
   "outputs": [
    {
     "name": "stdout",
     "output_type": "stream",
     "text": [
      "3\n"
     ]
    },
    {
     "name": "stderr",
     "output_type": "stream",
     "text": [
      "\u001b[1m\u001b[36mINFO: \u001b[39m\u001b[22m\u001b[36mCalling @parallel\n",
      "\u001b[39m"
     ]
    },
    {
     "name": "stdout",
     "output_type": "stream",
     "text": [
      "\tFrom worker 4:\tjob 1\n",
      "\tFrom worker 4:\tjob 2\n",
      "\tFrom worker 4:\tjob 3\n",
      "\tFrom worker 4:\tjob 4\n",
      "\tFrom worker 4:\tjob 5\n",
      "\tFrom worker 4:\tjob 6\n",
      "\tFrom worker 3:\tjob 7\n",
      "\tFrom worker 3:\tjob 8\n",
      "\tFrom worker 3:\tjob 9\n",
      "\tFrom worker 3:\tjob 10\n",
      "\tFrom worker 3:\tjob 11\n",
      "\tFrom worker 3:\tjob 12\n",
      "1 5 11 19 29 41 55 71 89 109 131 155  \n",
      "\tFrom worker 4:\tjob 1\n",
      "\tFrom worker 3:\tjob 2\n",
      "\tFrom worker 4:\tjob 3\n",
      "\tFrom worker 3:\tjob 4\n",
      "\tFrom worker 4:\tjob 5\n",
      "\tFrom worker 3:\tjob 6\n",
      "\tFrom worker 4:\tjob 7\n",
      "\tFrom worker 3:\tjob 8\n",
      "\tFrom worker 4:\tjob 9\n",
      "\tFrom worker 3:\tjob 10\n",
      "\tFrom worker 4:\tjob 11\n",
      "\tFrom worker 3:\tjob 12\n"
     ]
    },
    {
     "name": "stderr",
     "output_type": "stream",
     "text": [
      "\u001b[1m\u001b[36mINFO: \u001b[39m\u001b[22m\u001b[36mCalling pmap()\n",
      "\u001b[39m"
     ]
    },
    {
     "name": "stdout",
     "output_type": "stream",
     "text": [
      "[1, 5, 11, 19, 29, 41, 55, 71, 89, 109, 131, 155]\n"
     ]
    }
   ],
   "source": [
    "println(nprocs())\n",
    "\n",
    "@everywhere function parallel_func(idx)\n",
    "    println(\"job $idx\")\n",
    "    a = idx^2 + idx - 1\n",
    "    return a\n",
    "end\n",
    "\n",
    "result = SharedArray{Int64}(12)\n",
    "for idx in 1:12\n",
    "    result[idx] = 0\n",
    "end\n",
    "\n",
    "info(\"Calling @parallel\")\n",
    "@sync @parallel for idx in 1:12\n",
    "    result[idx] = parallel_func(idx)\n",
    "end\n",
    "\n",
    "for idx in 1:12\n",
    "    print(result[idx], ' ')\n",
    "end\n",
    "println(\" \");\n",
    "\n",
    "info(\"Calling pmap()\")\n",
    "result = pmap(parallel_func, 1:12)\n",
    "println(result)"
   ]
  },
  {
   "cell_type": "markdown",
   "metadata": {},
   "source": [
    "## Parallel reduction"
   ]
  },
  {
   "cell_type": "code",
   "execution_count": 41,
   "metadata": {},
   "outputs": [
    {
     "data": {
      "text/plain": [
       "193007.31449180908"
      ]
     },
     "execution_count": 41,
     "metadata": {},
     "output_type": "execute_result"
    }
   ],
   "source": [
    "@everywhere f(x) = x^2 + 1\n",
    "a = randn(1000)\n",
    "@parallel (+) for i in 1:100000\n",
    "    f(a[rand(1:end)])\n",
    "end"
   ]
  },
  {
   "cell_type": "markdown",
   "metadata": {},
   "source": [
    "## Distributed arrays"
   ]
  },
  {
   "cell_type": "code",
   "execution_count": 42,
   "metadata": {},
   "outputs": [
    {
     "name": "stdout",
     "output_type": "stream",
     "text": [
      "\tFrom worker 3:\tx ^ 2 = 1\n",
      "\tFrom worker 3:\tx ^ 2 = 4\n",
      "\tFrom worker 3:\tx ^ 2 = 9\n",
      "\tFrom worker 3:\tx ^ 2 = 16\n",
      "\tFrom worker 3:\tx ^ 2 = 25\n",
      "\tFrom worker 4:\tx ^ 2 = 36\n",
      "\tFrom worker 4:\tx ^ 2 = 49\n",
      "\tFrom worker 4:\tx ^ 2 = 64\n",
      "\tFrom worker 4:\tx ^ 2 = 81\n",
      "\tFrom worker 4:\tx ^ 2 = 100\n"
     ]
    }
   ],
   "source": [
    "@everywhere using DistributedArrays\n",
    "\n",
    "dzeros(2, 2, 4)\n",
    "dones(1, 100)\n",
    "drand(2, 2, 4)\n",
    "drandn(2, 2, 4)\n",
    "dfill(2, 2, 4)\n",
    "\n",
    "x = @DArray [@show x^2 for x in 1:10];"
   ]
  },
  {
   "cell_type": "code",
   "execution_count": 43,
   "metadata": {},
   "outputs": [
    {
     "name": "stdout",
     "output_type": "stream",
     "text": [
      "remotecall_fetch(localpart, 1, dist_arr) = Array{Float64}(0,0)\n",
      "remotecall_fetch(localpart, 3, dist_arr) = [0.0980812 0.284683 0.566077 0.596142; 0.459033 0.229338 0.546003 0.690822; 0.210434 0.651551 0.0159821 0.331547; 0.281235 0.175543 0.669213 0.18372; 0.470449 0.358349 0.0383332 0.0737577; 0.448361 0.76366 0.078924 0.394335; 0.88439 0.247884 0.218447 0.740899; 0.590145 0.424563 0.167459 0.931794]\n",
      "remotecall_fetch(localpart, 4, dist_arr) = [0.373489 0.863888 0.0439293 0.418687; 0.517911 0.949794 0.924607 0.215549; 0.921827 0.853144 0.57837 0.37949; 0.266037 0.96486 0.268734 0.22419; 0.547293 0.142171 0.458552 0.348344; 0.793807 0.65928 0.995266 0.0301769; 0.133989 0.0444707 0.852576 0.939462; 0.326645 0.00111411 0.313047 0.324609]\n"
     ]
    }
   ],
   "source": [
    "arr = rand(8, 8)\n",
    "dist_arr = distribute(arr)\n",
    "\n",
    "@show remotecall_fetch(localpart, 1, dist_arr)\n",
    "@show remotecall_fetch(localpart, 3, dist_arr)\n",
    "@show remotecall_fetch(localpart, 4, dist_arr);"
   ]
  },
  {
   "cell_type": "code",
   "execution_count": 44,
   "metadata": {},
   "outputs": [
    {
     "name": "stdout",
     "output_type": "stream",
     "text": [
      "remotecall_fetch(localindexes, 1, dist_arr) = (1:0, 1:0)\n",
      "remotecall_fetch(localindexes, 3, dist_arr) = (1:8, 1:4)\n",
      "remotecall_fetch(localindexes, 4, dist_arr) = (1:8, 5:8)\n"
     ]
    }
   ],
   "source": [
    "@show remotecall_fetch(localindexes, 1, dist_arr)\n",
    "@show remotecall_fetch(localindexes, 3, dist_arr)\n",
    "@show remotecall_fetch(localindexes, 4, dist_arr);"
   ]
  }
 ],
 "metadata": {
  "kernelspec": {
   "display_name": "Julia 0.6.4",
   "language": "julia",
   "name": "julia-0.6"
  },
  "language_info": {
   "file_extension": ".jl",
   "mimetype": "application/julia",
   "name": "julia",
   "version": "0.6.4"
  },
  "toc": {
   "colors": {
    "hover_highlight": "#DAA520",
    "running_highlight": "#FF0000",
    "selected_highlight": "#FFD700"
   },
   "moveMenuLeft": true,
   "nav_menu": {
    "height": "30px",
    "width": "252px"
   },
   "navigate_menu": true,
   "number_sections": true,
   "sideBar": true,
   "threshold": 4,
   "toc_cell": true,
   "toc_section_display": "block",
   "toc_window_display": true,
   "widenNotebook": false
  }
 },
 "nbformat": 4,
 "nbformat_minor": 2
}
